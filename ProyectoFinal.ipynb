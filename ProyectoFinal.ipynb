{
  "nbformat": 4,
  "nbformat_minor": 0,
  "metadata": {
    "colab": {
      "provenance": []
    },
    "kernelspec": {
      "name": "python3",
      "display_name": "Python 3"
    },
    "language_info": {
      "name": "python"
    }
  },
  "cells": [
    {
      "cell_type": "markdown",
      "source": [
        "# <font color=green>**Universidad Nacional Autónoma de México**\n",
        "# <font color=green>**Facultad de Ciencias, semestre 2023-1**\n",
        "# <font color=greenn> **Proyecto Final** \n",
        "\n",
        "### <font color=green> **Elaboró:**\n",
        "\n",
        "\n",
        "*   <font color=greenn> Olvera Trejo Alberto\n",
        "*   <font color=greenn> Ramos López Gabriela\n",
        "\n"
      ],
      "metadata": {
        "id": "-BDSCk44Z-17"
      }
    },
    {
      "cell_type": "code",
      "source": [
        "#Importamos todas las librerias a usar\n",
        "import numpy as np\n",
        "from sympy import *\n",
        "import sympy as sym\n",
        "import matplotlib.pyplot as plt\n",
        "from more_itertools import sort_together\n",
        "from IPython.display import display, Latex\n",
        "import plotly.graph_objects as go\n",
        "from math import sqrt\n",
        "import pandas as pd"
      ],
      "metadata": {
        "id": "8hFduVze4FvS"
      },
      "execution_count": null,
      "outputs": []
    },
    {
      "cell_type": "markdown",
      "source": [
        "### <font color=greenn> **Interpolación Polinomial**\n",
        "\n",
        "**Ejercicio 1.** Se conoce como subocupación laboral a la situación en que personas de 15 y más años de edad que tienen la necesidad y disponibilidad de ofertar más horas de trabajo de lo que su ocupación actual les permite (INEGI)”. Ahora bien, el archivo “porcentaje-subocupacion” muestra la tasa o porcentaje de subocupación en México por trimestre desde el año 2006 hasta la actualidad. Con esta información realiza lo siguiente:\n",
        "\n",
        "*   Elabora un programa que genere un polinomio $P(x)$ que interpole los datos mencionados\n"
      ],
      "metadata": {
        "id": "9ATdCm3tbL4n"
      }
    },
    {
      "cell_type": "code",
      "execution_count": null,
      "metadata": {
        "id": "XOBvuyl_Z1iM"
      },
      "outputs": [],
      "source": [
        "def polLagrange(X, Y):\n",
        "  n = len(X)\n",
        "\n",
        "  #Construimos los multiplicadores\n",
        "  list_multi = []\n",
        "  \n",
        "  #Creamos el simbolo x\n",
        "  x = symbols('x')\n",
        "  for i in range(n):\n",
        "    multi = 1\n",
        "    for j in range(n):\n",
        "      if i != j:\n",
        "        multi = multi * ((x - X[j])/(X[i] - X[j]))\n",
        "\n",
        "      #Lo agragamos a la lista\n",
        "    list_multi.append(multi)\n",
        "\n",
        "  #Creamos el polinomio\n",
        "  polinomio = 0\n",
        "  for i in range(n):\n",
        "    polinomio += Y[i]*list_multi[i]\n",
        "\n",
        "  #Titulo de la grafica\n",
        "  latexpol =f'$P(x) = {latex(polinomio)}$'\n",
        "  print(\"***Polinomio\\n\")\n",
        "  # display(Latex(latexpol))\n",
        "\n",
        "  #Graficamos\n",
        "  xgraf = np.linspace(0, len(X) - 1, len(X))\n",
        "  ygraf = [float(polinomio.subs(x, xi)) for xi in xgraf]\n",
        "\n",
        "  fig = go.Figure()\n",
        "\n",
        "  fig.add_trace(\n",
        "      go.Scatter(x = xgraf, y = ygraf, mode = 'lines',\n",
        "                 marker=dict(color=\"LightSeaGreen\"), name = 'P(x)')\n",
        "      )\n",
        "\n",
        "  fig.add_trace(\n",
        "      go.Scatter(x = X, y = Y, mode = 'markers',\n",
        "                 marker=dict(size=10, color=\"MediumPurple\"), name = 'Puntos dados')\n",
        "      )\n",
        "  fig.update_layout(title_text=\"Polinomio de Lagrange\",\n",
        "                  title_font_size=30)\n",
        "  fig.show()"
      ]
    },
    {
      "cell_type": "code",
      "source": [
        "# Cargamos los datos con Pandas\n",
        "subocupacion_ruta = 'https://raw.githubusercontent.com/Alberto0410/Proyecto-Final-An-lisis-Num-rico/main/porcentaje-subocupacion.csv'\n",
        "subocupacion = pd.read_csv(subocupacion_ruta, encoding='latin-1')\n",
        "\n",
        "#Limpiamos los datos\n",
        "subocupacion = subocupacion.iloc[:,:2]\n",
        "subocupacion = subocupacion[:-7]\n",
        "\n",
        "#Tomamos los datos que nos interesan (2006 - 2022)\n",
        "subocup = subocupacion.drop([0, 1, 2, 3])\n",
        "\n",
        "#Asociamos a cada trimestre un numero empezando con 0\n",
        "trim_num = [i for i in range(len(subocup))]\n",
        "subocup['Num de trimestre'] = trim_num\n",
        "\n",
        "#Mostramos los primeros datos\n",
        "subocup.head()"
      ],
      "metadata": {
        "colab": {
          "base_uri": "https://localhost:8080/",
          "height": 206
        },
        "id": "n6ZbZX6du1at",
        "outputId": "4498f610-9dfd-485b-b2eb-a07de1a928e5"
      },
      "execution_count": null,
      "outputs": [
        {
          "output_type": "execute_result",
          "data": {
            "text/plain": [
              "  Periodos  Indicadores economicos de coyuntura  Num de trimestre\n",
              "4  2006/01                             5.947211                 0\n",
              "5  2006/02                             6.151413                 1\n",
              "6  2006/03                             8.316103                 2\n",
              "7  2006/04                             7.120753                 3\n",
              "8  2007/01                             7.559234                 4"
            ],
            "text/html": [
              "\n",
              "  <div id=\"df-4300288c-8328-42ad-a6a7-ec6cdf821c13\">\n",
              "    <div class=\"colab-df-container\">\n",
              "      <div>\n",
              "<style scoped>\n",
              "    .dataframe tbody tr th:only-of-type {\n",
              "        vertical-align: middle;\n",
              "    }\n",
              "\n",
              "    .dataframe tbody tr th {\n",
              "        vertical-align: top;\n",
              "    }\n",
              "\n",
              "    .dataframe thead th {\n",
              "        text-align: right;\n",
              "    }\n",
              "</style>\n",
              "<table border=\"1\" class=\"dataframe\">\n",
              "  <thead>\n",
              "    <tr style=\"text-align: right;\">\n",
              "      <th></th>\n",
              "      <th>Periodos</th>\n",
              "      <th>Indicadores economicos de coyuntura</th>\n",
              "      <th>Num de trimestre</th>\n",
              "    </tr>\n",
              "  </thead>\n",
              "  <tbody>\n",
              "    <tr>\n",
              "      <th>4</th>\n",
              "      <td>2006/01</td>\n",
              "      <td>5.947211</td>\n",
              "      <td>0</td>\n",
              "    </tr>\n",
              "    <tr>\n",
              "      <th>5</th>\n",
              "      <td>2006/02</td>\n",
              "      <td>6.151413</td>\n",
              "      <td>1</td>\n",
              "    </tr>\n",
              "    <tr>\n",
              "      <th>6</th>\n",
              "      <td>2006/03</td>\n",
              "      <td>8.316103</td>\n",
              "      <td>2</td>\n",
              "    </tr>\n",
              "    <tr>\n",
              "      <th>7</th>\n",
              "      <td>2006/04</td>\n",
              "      <td>7.120753</td>\n",
              "      <td>3</td>\n",
              "    </tr>\n",
              "    <tr>\n",
              "      <th>8</th>\n",
              "      <td>2007/01</td>\n",
              "      <td>7.559234</td>\n",
              "      <td>4</td>\n",
              "    </tr>\n",
              "  </tbody>\n",
              "</table>\n",
              "</div>\n",
              "      <button class=\"colab-df-convert\" onclick=\"convertToInteractive('df-4300288c-8328-42ad-a6a7-ec6cdf821c13')\"\n",
              "              title=\"Convert this dataframe to an interactive table.\"\n",
              "              style=\"display:none;\">\n",
              "        \n",
              "  <svg xmlns=\"http://www.w3.org/2000/svg\" height=\"24px\"viewBox=\"0 0 24 24\"\n",
              "       width=\"24px\">\n",
              "    <path d=\"M0 0h24v24H0V0z\" fill=\"none\"/>\n",
              "    <path d=\"M18.56 5.44l.94 2.06.94-2.06 2.06-.94-2.06-.94-.94-2.06-.94 2.06-2.06.94zm-11 1L8.5 8.5l.94-2.06 2.06-.94-2.06-.94L8.5 2.5l-.94 2.06-2.06.94zm10 10l.94 2.06.94-2.06 2.06-.94-2.06-.94-.94-2.06-.94 2.06-2.06.94z\"/><path d=\"M17.41 7.96l-1.37-1.37c-.4-.4-.92-.59-1.43-.59-.52 0-1.04.2-1.43.59L10.3 9.45l-7.72 7.72c-.78.78-.78 2.05 0 2.83L4 21.41c.39.39.9.59 1.41.59.51 0 1.02-.2 1.41-.59l7.78-7.78 2.81-2.81c.8-.78.8-2.07 0-2.86zM5.41 20L4 18.59l7.72-7.72 1.47 1.35L5.41 20z\"/>\n",
              "  </svg>\n",
              "      </button>\n",
              "      \n",
              "  <style>\n",
              "    .colab-df-container {\n",
              "      display:flex;\n",
              "      flex-wrap:wrap;\n",
              "      gap: 12px;\n",
              "    }\n",
              "\n",
              "    .colab-df-convert {\n",
              "      background-color: #E8F0FE;\n",
              "      border: none;\n",
              "      border-radius: 50%;\n",
              "      cursor: pointer;\n",
              "      display: none;\n",
              "      fill: #1967D2;\n",
              "      height: 32px;\n",
              "      padding: 0 0 0 0;\n",
              "      width: 32px;\n",
              "    }\n",
              "\n",
              "    .colab-df-convert:hover {\n",
              "      background-color: #E2EBFA;\n",
              "      box-shadow: 0px 1px 2px rgba(60, 64, 67, 0.3), 0px 1px 3px 1px rgba(60, 64, 67, 0.15);\n",
              "      fill: #174EA6;\n",
              "    }\n",
              "\n",
              "    [theme=dark] .colab-df-convert {\n",
              "      background-color: #3B4455;\n",
              "      fill: #D2E3FC;\n",
              "    }\n",
              "\n",
              "    [theme=dark] .colab-df-convert:hover {\n",
              "      background-color: #434B5C;\n",
              "      box-shadow: 0px 1px 3px 1px rgba(0, 0, 0, 0.15);\n",
              "      filter: drop-shadow(0px 1px 2px rgba(0, 0, 0, 0.3));\n",
              "      fill: #FFFFFF;\n",
              "    }\n",
              "  </style>\n",
              "\n",
              "      <script>\n",
              "        const buttonEl =\n",
              "          document.querySelector('#df-4300288c-8328-42ad-a6a7-ec6cdf821c13 button.colab-df-convert');\n",
              "        buttonEl.style.display =\n",
              "          google.colab.kernel.accessAllowed ? 'block' : 'none';\n",
              "\n",
              "        async function convertToInteractive(key) {\n",
              "          const element = document.querySelector('#df-4300288c-8328-42ad-a6a7-ec6cdf821c13');\n",
              "          const dataTable =\n",
              "            await google.colab.kernel.invokeFunction('convertToInteractive',\n",
              "                                                     [key], {});\n",
              "          if (!dataTable) return;\n",
              "\n",
              "          const docLinkHtml = 'Like what you see? Visit the ' +\n",
              "            '<a target=\"_blank\" href=https://colab.research.google.com/notebooks/data_table.ipynb>data table notebook</a>'\n",
              "            + ' to learn more about interactive tables.';\n",
              "          element.innerHTML = '';\n",
              "          dataTable['output_type'] = 'display_data';\n",
              "          await google.colab.output.renderOutput(dataTable, element);\n",
              "          const docLink = document.createElement('div');\n",
              "          docLink.innerHTML = docLinkHtml;\n",
              "          element.appendChild(docLink);\n",
              "        }\n",
              "      </script>\n",
              "    </div>\n",
              "  </div>\n",
              "  "
            ]
          },
          "metadata": {},
          "execution_count": 3
        }
      ]
    },
    {
      "cell_type": "markdown",
      "source": [
        "*   Grafica el polinomio interpolante y los datos de desocupación\n"
      ],
      "metadata": {
        "id": "hngAO3G546dK"
      }
    },
    {
      "cell_type": "code",
      "source": [
        "x = subocup.values[0:, 2].astype(float)\n",
        "y = subocup.values[0:, 1].astype(float)\n",
        "\n",
        "polLagrange(x, y)"
      ],
      "metadata": {
        "colab": {
          "base_uri": "https://localhost:8080/",
          "height": 577
        },
        "id": "uwPK0dY-z9Fs",
        "outputId": "5fbdcf26-ee28-4f66-bc0a-8ce5bc0c3392"
      },
      "execution_count": null,
      "outputs": [
        {
          "output_type": "stream",
          "name": "stdout",
          "text": [
            "***Polinomio\n",
            "\n"
          ]
        },
        {
          "output_type": "display_data",
          "data": {
            "text/html": [
              "<html>\n",
              "<head><meta charset=\"utf-8\" /></head>\n",
              "<body>\n",
              "    <div>            <script src=\"https://cdnjs.cloudflare.com/ajax/libs/mathjax/2.7.5/MathJax.js?config=TeX-AMS-MML_SVG\"></script><script type=\"text/javascript\">if (window.MathJax) {MathJax.Hub.Config({SVG: {font: \"STIX-Web\"}});}</script>                <script type=\"text/javascript\">window.PlotlyConfig = {MathJaxConfig: 'local'};</script>\n",
              "        <script src=\"https://cdn.plot.ly/plotly-2.8.3.min.js\"></script>                <div id=\"33363e20-e673-4433-ab50-8a8f0bc6f8bc\" class=\"plotly-graph-div\" style=\"height:525px; width:100%;\"></div>            <script type=\"text/javascript\">                                    window.PLOTLYENV=window.PLOTLYENV || {};                                    if (document.getElementById(\"33363e20-e673-4433-ab50-8a8f0bc6f8bc\")) {                    Plotly.newPlot(                        \"33363e20-e673-4433-ab50-8a8f0bc6f8bc\",                        [{\"marker\":{\"color\":\"LightSeaGreen\"},\"mode\":\"lines\",\"name\":\"P(x)\",\"x\":[0.0,1.0,2.0,3.0,4.0,5.0,6.0,7.0,8.0,9.0,10.0,11.0,12.0,13.0,14.0,15.0,16.0,17.0,18.0,19.0,20.0,21.0,22.0,23.0,24.0,25.0,26.0,27.0,28.0,29.0,30.0,31.0,32.0,33.0,34.0,35.0,36.0,37.0,38.0,39.0,40.0,41.0,42.0,43.0,44.0,45.0,46.0,47.0,48.0,49.0,50.0,51.0,52.0,53.0,54.0,55.0,56.0,57.0,58.0,59.0,60.0,61.0,62.0,63.0,64.0,65.0,66.0],\"y\":[5.9472105289999995,6.1514129519999905,8.316103199999972,7.120752918999985,7.55923422999999,7.036836653999986,7.022332961999989,7.253765814999989,6.4665828199999895,6.959594458,6.8650902929999855,7.307148536999984,7.8431121319999875,11.142131479999982,8.77518024999998,8.999525640999982,9.263833225999988,8.92819667199998,8.54705286699999,7.778417994999987,8.076773170999981,8.271601650999987,8.83098440399997,9.148113775999981,8.52400547799999,8.823233252999978,8.591603428999983,8.20006359499999,8.200648642999985,8.486141356999989,8.372595256999999,8.36618495099999,8.382128888999999,8.090682760999979,7.98209836499999,8.124985192999983,8.127469142999994,8.181244518999987,8.387992000999995,8.666470751999992,8.009768066999985,7.723312088000006,7.552789244999986,7.154826077000007,7.25163695099998,7.013176643,6.803405548999998,6.940756873999956,6.862003401000014,6.845027495999993,6.780876771999969,6.895056409999989,6.927982244999998,7.452630009999997,7.523496783999993,7.845249701999986,8.631191877999985,24.942520609999978,16.65073102999994,15.4165053,14.065372049999999,13.098375809999984,12.596398249999936,10.859056849999996,9.202881485,8.707074109999962,7.702781475000009],\"type\":\"scatter\"},{\"marker\":{\"color\":\"MediumPurple\",\"size\":10},\"mode\":\"markers\",\"name\":\"Puntos dados\",\"x\":[0.0,1.0,2.0,3.0,4.0,5.0,6.0,7.0,8.0,9.0,10.0,11.0,12.0,13.0,14.0,15.0,16.0,17.0,18.0,19.0,20.0,21.0,22.0,23.0,24.0,25.0,26.0,27.0,28.0,29.0,30.0,31.0,32.0,33.0,34.0,35.0,36.0,37.0,38.0,39.0,40.0,41.0,42.0,43.0,44.0,45.0,46.0,47.0,48.0,49.0,50.0,51.0,52.0,53.0,54.0,55.0,56.0,57.0,58.0,59.0,60.0,61.0,62.0,63.0,64.0,65.0,66.0],\"y\":[5.947210529,6.151412952,8.3161032,7.120752919,7.55923423,7.036836654,7.022332962,7.253765815,6.46658282,6.959594458,6.865090293,7.307148537,7.843112132,11.14213148,8.77518025,8.999525641,9.263833226,8.928196672,8.547052867,7.778417995,8.076773171,8.271601651,8.830984404,9.148113776,8.524005478,8.823233253,8.591603429,8.200063595,8.200648643,8.486141357,8.372595257,8.366184951,8.382128889,8.090682761,7.982098365,8.124985193,8.127469143,8.181244519,8.387992001,8.666470752,8.009768067,7.723312088,7.552789245,7.154826077,7.251636951,7.013176643,6.803405549,6.940756874,6.862003401,6.845027496,6.780876772,6.89505641,6.927982245,7.45263001,7.523496784,7.845249702,8.631191878,24.94252061,16.65073103,15.4165053,14.06537205,13.09837581,12.59639825,10.85905685,9.202881485,8.70707411,7.702781475],\"type\":\"scatter\"}],                        {\"template\":{\"data\":{\"bar\":[{\"error_x\":{\"color\":\"#2a3f5f\"},\"error_y\":{\"color\":\"#2a3f5f\"},\"marker\":{\"line\":{\"color\":\"#E5ECF6\",\"width\":0.5},\"pattern\":{\"fillmode\":\"overlay\",\"size\":10,\"solidity\":0.2}},\"type\":\"bar\"}],\"barpolar\":[{\"marker\":{\"line\":{\"color\":\"#E5ECF6\",\"width\":0.5},\"pattern\":{\"fillmode\":\"overlay\",\"size\":10,\"solidity\":0.2}},\"type\":\"barpolar\"}],\"carpet\":[{\"aaxis\":{\"endlinecolor\":\"#2a3f5f\",\"gridcolor\":\"white\",\"linecolor\":\"white\",\"minorgridcolor\":\"white\",\"startlinecolor\":\"#2a3f5f\"},\"baxis\":{\"endlinecolor\":\"#2a3f5f\",\"gridcolor\":\"white\",\"linecolor\":\"white\",\"minorgridcolor\":\"white\",\"startlinecolor\":\"#2a3f5f\"},\"type\":\"carpet\"}],\"choropleth\":[{\"colorbar\":{\"outlinewidth\":0,\"ticks\":\"\"},\"type\":\"choropleth\"}],\"contour\":[{\"colorbar\":{\"outlinewidth\":0,\"ticks\":\"\"},\"colorscale\":[[0.0,\"#0d0887\"],[0.1111111111111111,\"#46039f\"],[0.2222222222222222,\"#7201a8\"],[0.3333333333333333,\"#9c179e\"],[0.4444444444444444,\"#bd3786\"],[0.5555555555555556,\"#d8576b\"],[0.6666666666666666,\"#ed7953\"],[0.7777777777777778,\"#fb9f3a\"],[0.8888888888888888,\"#fdca26\"],[1.0,\"#f0f921\"]],\"type\":\"contour\"}],\"contourcarpet\":[{\"colorbar\":{\"outlinewidth\":0,\"ticks\":\"\"},\"type\":\"contourcarpet\"}],\"heatmap\":[{\"colorbar\":{\"outlinewidth\":0,\"ticks\":\"\"},\"colorscale\":[[0.0,\"#0d0887\"],[0.1111111111111111,\"#46039f\"],[0.2222222222222222,\"#7201a8\"],[0.3333333333333333,\"#9c179e\"],[0.4444444444444444,\"#bd3786\"],[0.5555555555555556,\"#d8576b\"],[0.6666666666666666,\"#ed7953\"],[0.7777777777777778,\"#fb9f3a\"],[0.8888888888888888,\"#fdca26\"],[1.0,\"#f0f921\"]],\"type\":\"heatmap\"}],\"heatmapgl\":[{\"colorbar\":{\"outlinewidth\":0,\"ticks\":\"\"},\"colorscale\":[[0.0,\"#0d0887\"],[0.1111111111111111,\"#46039f\"],[0.2222222222222222,\"#7201a8\"],[0.3333333333333333,\"#9c179e\"],[0.4444444444444444,\"#bd3786\"],[0.5555555555555556,\"#d8576b\"],[0.6666666666666666,\"#ed7953\"],[0.7777777777777778,\"#fb9f3a\"],[0.8888888888888888,\"#fdca26\"],[1.0,\"#f0f921\"]],\"type\":\"heatmapgl\"}],\"histogram\":[{\"marker\":{\"pattern\":{\"fillmode\":\"overlay\",\"size\":10,\"solidity\":0.2}},\"type\":\"histogram\"}],\"histogram2d\":[{\"colorbar\":{\"outlinewidth\":0,\"ticks\":\"\"},\"colorscale\":[[0.0,\"#0d0887\"],[0.1111111111111111,\"#46039f\"],[0.2222222222222222,\"#7201a8\"],[0.3333333333333333,\"#9c179e\"],[0.4444444444444444,\"#bd3786\"],[0.5555555555555556,\"#d8576b\"],[0.6666666666666666,\"#ed7953\"],[0.7777777777777778,\"#fb9f3a\"],[0.8888888888888888,\"#fdca26\"],[1.0,\"#f0f921\"]],\"type\":\"histogram2d\"}],\"histogram2dcontour\":[{\"colorbar\":{\"outlinewidth\":0,\"ticks\":\"\"},\"colorscale\":[[0.0,\"#0d0887\"],[0.1111111111111111,\"#46039f\"],[0.2222222222222222,\"#7201a8\"],[0.3333333333333333,\"#9c179e\"],[0.4444444444444444,\"#bd3786\"],[0.5555555555555556,\"#d8576b\"],[0.6666666666666666,\"#ed7953\"],[0.7777777777777778,\"#fb9f3a\"],[0.8888888888888888,\"#fdca26\"],[1.0,\"#f0f921\"]],\"type\":\"histogram2dcontour\"}],\"mesh3d\":[{\"colorbar\":{\"outlinewidth\":0,\"ticks\":\"\"},\"type\":\"mesh3d\"}],\"parcoords\":[{\"line\":{\"colorbar\":{\"outlinewidth\":0,\"ticks\":\"\"}},\"type\":\"parcoords\"}],\"pie\":[{\"automargin\":true,\"type\":\"pie\"}],\"scatter\":[{\"marker\":{\"colorbar\":{\"outlinewidth\":0,\"ticks\":\"\"}},\"type\":\"scatter\"}],\"scatter3d\":[{\"line\":{\"colorbar\":{\"outlinewidth\":0,\"ticks\":\"\"}},\"marker\":{\"colorbar\":{\"outlinewidth\":0,\"ticks\":\"\"}},\"type\":\"scatter3d\"}],\"scattercarpet\":[{\"marker\":{\"colorbar\":{\"outlinewidth\":0,\"ticks\":\"\"}},\"type\":\"scattercarpet\"}],\"scattergeo\":[{\"marker\":{\"colorbar\":{\"outlinewidth\":0,\"ticks\":\"\"}},\"type\":\"scattergeo\"}],\"scattergl\":[{\"marker\":{\"colorbar\":{\"outlinewidth\":0,\"ticks\":\"\"}},\"type\":\"scattergl\"}],\"scattermapbox\":[{\"marker\":{\"colorbar\":{\"outlinewidth\":0,\"ticks\":\"\"}},\"type\":\"scattermapbox\"}],\"scatterpolar\":[{\"marker\":{\"colorbar\":{\"outlinewidth\":0,\"ticks\":\"\"}},\"type\":\"scatterpolar\"}],\"scatterpolargl\":[{\"marker\":{\"colorbar\":{\"outlinewidth\":0,\"ticks\":\"\"}},\"type\":\"scatterpolargl\"}],\"scatterternary\":[{\"marker\":{\"colorbar\":{\"outlinewidth\":0,\"ticks\":\"\"}},\"type\":\"scatterternary\"}],\"surface\":[{\"colorbar\":{\"outlinewidth\":0,\"ticks\":\"\"},\"colorscale\":[[0.0,\"#0d0887\"],[0.1111111111111111,\"#46039f\"],[0.2222222222222222,\"#7201a8\"],[0.3333333333333333,\"#9c179e\"],[0.4444444444444444,\"#bd3786\"],[0.5555555555555556,\"#d8576b\"],[0.6666666666666666,\"#ed7953\"],[0.7777777777777778,\"#fb9f3a\"],[0.8888888888888888,\"#fdca26\"],[1.0,\"#f0f921\"]],\"type\":\"surface\"}],\"table\":[{\"cells\":{\"fill\":{\"color\":\"#EBF0F8\"},\"line\":{\"color\":\"white\"}},\"header\":{\"fill\":{\"color\":\"#C8D4E3\"},\"line\":{\"color\":\"white\"}},\"type\":\"table\"}]},\"layout\":{\"annotationdefaults\":{\"arrowcolor\":\"#2a3f5f\",\"arrowhead\":0,\"arrowwidth\":1},\"autotypenumbers\":\"strict\",\"coloraxis\":{\"colorbar\":{\"outlinewidth\":0,\"ticks\":\"\"}},\"colorscale\":{\"diverging\":[[0,\"#8e0152\"],[0.1,\"#c51b7d\"],[0.2,\"#de77ae\"],[0.3,\"#f1b6da\"],[0.4,\"#fde0ef\"],[0.5,\"#f7f7f7\"],[0.6,\"#e6f5d0\"],[0.7,\"#b8e186\"],[0.8,\"#7fbc41\"],[0.9,\"#4d9221\"],[1,\"#276419\"]],\"sequential\":[[0.0,\"#0d0887\"],[0.1111111111111111,\"#46039f\"],[0.2222222222222222,\"#7201a8\"],[0.3333333333333333,\"#9c179e\"],[0.4444444444444444,\"#bd3786\"],[0.5555555555555556,\"#d8576b\"],[0.6666666666666666,\"#ed7953\"],[0.7777777777777778,\"#fb9f3a\"],[0.8888888888888888,\"#fdca26\"],[1.0,\"#f0f921\"]],\"sequentialminus\":[[0.0,\"#0d0887\"],[0.1111111111111111,\"#46039f\"],[0.2222222222222222,\"#7201a8\"],[0.3333333333333333,\"#9c179e\"],[0.4444444444444444,\"#bd3786\"],[0.5555555555555556,\"#d8576b\"],[0.6666666666666666,\"#ed7953\"],[0.7777777777777778,\"#fb9f3a\"],[0.8888888888888888,\"#fdca26\"],[1.0,\"#f0f921\"]]},\"colorway\":[\"#636efa\",\"#EF553B\",\"#00cc96\",\"#ab63fa\",\"#FFA15A\",\"#19d3f3\",\"#FF6692\",\"#B6E880\",\"#FF97FF\",\"#FECB52\"],\"font\":{\"color\":\"#2a3f5f\"},\"geo\":{\"bgcolor\":\"white\",\"lakecolor\":\"white\",\"landcolor\":\"#E5ECF6\",\"showlakes\":true,\"showland\":true,\"subunitcolor\":\"white\"},\"hoverlabel\":{\"align\":\"left\"},\"hovermode\":\"closest\",\"mapbox\":{\"style\":\"light\"},\"paper_bgcolor\":\"white\",\"plot_bgcolor\":\"#E5ECF6\",\"polar\":{\"angularaxis\":{\"gridcolor\":\"white\",\"linecolor\":\"white\",\"ticks\":\"\"},\"bgcolor\":\"#E5ECF6\",\"radialaxis\":{\"gridcolor\":\"white\",\"linecolor\":\"white\",\"ticks\":\"\"}},\"scene\":{\"xaxis\":{\"backgroundcolor\":\"#E5ECF6\",\"gridcolor\":\"white\",\"gridwidth\":2,\"linecolor\":\"white\",\"showbackground\":true,\"ticks\":\"\",\"zerolinecolor\":\"white\"},\"yaxis\":{\"backgroundcolor\":\"#E5ECF6\",\"gridcolor\":\"white\",\"gridwidth\":2,\"linecolor\":\"white\",\"showbackground\":true,\"ticks\":\"\",\"zerolinecolor\":\"white\"},\"zaxis\":{\"backgroundcolor\":\"#E5ECF6\",\"gridcolor\":\"white\",\"gridwidth\":2,\"linecolor\":\"white\",\"showbackground\":true,\"ticks\":\"\",\"zerolinecolor\":\"white\"}},\"shapedefaults\":{\"line\":{\"color\":\"#2a3f5f\"}},\"ternary\":{\"aaxis\":{\"gridcolor\":\"white\",\"linecolor\":\"white\",\"ticks\":\"\"},\"baxis\":{\"gridcolor\":\"white\",\"linecolor\":\"white\",\"ticks\":\"\"},\"bgcolor\":\"#E5ECF6\",\"caxis\":{\"gridcolor\":\"white\",\"linecolor\":\"white\",\"ticks\":\"\"}},\"title\":{\"x\":0.05},\"xaxis\":{\"automargin\":true,\"gridcolor\":\"white\",\"linecolor\":\"white\",\"ticks\":\"\",\"title\":{\"standoff\":15},\"zerolinecolor\":\"white\",\"zerolinewidth\":2},\"yaxis\":{\"automargin\":true,\"gridcolor\":\"white\",\"linecolor\":\"white\",\"ticks\":\"\",\"title\":{\"standoff\":15},\"zerolinecolor\":\"white\",\"zerolinewidth\":2}}},\"title\":{\"font\":{\"size\":30},\"text\":\"Polinomio de Lagrange\"}},                        {\"responsive\": true}                    ).then(function(){\n",
              "                            \n",
              "var gd = document.getElementById('33363e20-e673-4433-ab50-8a8f0bc6f8bc');\n",
              "var x = new MutationObserver(function (mutations, observer) {{\n",
              "        var display = window.getComputedStyle(gd).display;\n",
              "        if (!display || display === 'none') {{\n",
              "            console.log([gd, 'removed!']);\n",
              "            Plotly.purge(gd);\n",
              "            observer.disconnect();\n",
              "        }}\n",
              "}});\n",
              "\n",
              "// Listen for the removal of the full notebook cells\n",
              "var notebookContainer = gd.closest('#notebook-container');\n",
              "if (notebookContainer) {{\n",
              "    x.observe(notebookContainer, {childList: true});\n",
              "}}\n",
              "\n",
              "// Listen for the clearing of the current output cell\n",
              "var outputEl = gd.closest('.output');\n",
              "if (outputEl) {{\n",
              "    x.observe(outputEl, {childList: true});\n",
              "}}\n",
              "\n",
              "                        })                };                            </script>        </div>\n",
              "</body>\n",
              "</html>"
            ]
          },
          "metadata": {}
        }
      ]
    },
    {
      "cell_type": "markdown",
      "source": [
        "*   ¿Cómo se interpreta lo que sucede en al año 2020?\n",
        "\n",
        "El Indicador Ecónomico de Coyuntura alcanza su máximo en el año 2020, notemos que en el período 2020/01 (trimestre 56) tenemos que el IEC es de **8.631191878** y en el período 2020/02 (trimestre 57) tenemos que el IEC es de **24.94252061**, es decir tuvimos un aumento de **16.3113287** en 3 meses, lo cuál implica que la población que está en búsqueda activa de un trabajo aumento."
      ],
      "metadata": {
        "id": "sQJDyFFG48uG"
      }
    },
    {
      "cell_type": "markdown",
      "source": [
        "### <font color=greenn> **Ajuste por mínimos cuadrados lineales**\n",
        "**Ejercicio 2.** El archivo “crecimiento-PBI\" contiene información por trimestre del crecimiento del Producto Interno Bruto del país, desde el año 2019 hasta la actualidad. Con estos datos realiza lo siguiente:\n",
        "\n",
        "a) Elabora un programa que genere polinomios $P(x)$ de grado $n = 0, 1, 2, 3, · · · , 10$ que ajusten los datos anteriores. Asigna el nodo $x = 0$ al trimestre $1$ del año 2019, el nodo $x = 1$ el trimestre 2 de 2019 y así sucesivamente. Para cada polinomio calcula los residuales.\n",
        "\n",
        "b) Muestra la gráfica de cada polinomio junto con los datos ajustados."
      ],
      "metadata": {
        "id": "Q37Wnz7FcJzL"
      }
    },
    {
      "cell_type": "code",
      "source": [
        "def ec_norma_grad(X, y, grad):\n",
        "  #Transformamos en arrays\n",
        "  X = np.array(X)\n",
        "  y_vec = np.array(y).reshape(len(y), 1)\n",
        "  n = len(X)\n",
        "  #Matriz de Vandermonde\n",
        "  A = np.zeros((n, grad + 1))\n",
        "\n",
        "  #Llenamos la matriz\n",
        "  for i in range(n):\n",
        "    for j in range(grad + 1):\n",
        "      A[i, j] = X[i]**j\n",
        "\n",
        "  At = np.transpose(A)\n",
        "\n",
        "  #B = A^t *A, z = A^t*y\n",
        "  B = np.matmul(At, A)\n",
        "  z = np.matmul(At, y_vec)\n",
        "\n",
        "  #Descomponemos A^t*A con Cholesky\n",
        "  L = np.linalg.cholesky(B)\n",
        "  \n",
        "  #Resolvemos L*x_0 = A^t*y\n",
        "  x_0 = np.linalg.solve(L, z)\n",
        "\n",
        "  #Ahora resolvemos L^t*a = x_0\n",
        "  a = np.linalg.solve(np.transpose(L), x_0)\n",
        "  \n",
        "  #Imprimimos el polinomio y creamos los arreglos para graficar\n",
        "  x = sym.Symbol('x')\n",
        "  x_graf = np.linspace(min(X), max(X), 200)\n",
        "  pol = 0\n",
        "  \n",
        "  #Diferenciamos el caso cuando el grado es cero y cuando no lo es\n",
        "  residuo = 0\n",
        "\n",
        "  if grad == 0:\n",
        "    pol = a[0]\n",
        "    y_graf = [float(a[0]) for xi in x_graf]\n",
        "    y_pol = np.array([float(a[0]) for xi in X]) \n",
        "    residuo = sum((y - y_pol)**2)\n",
        "\n",
        "  else:\n",
        "    for i in range(grad + 1):\n",
        "      pol += float(a[i])*x**i\n",
        "    y_graf = [float(pol.subs(x, xi)) for xi in x_graf]\n",
        "    y_pol = np.array([float(pol.subs(x, xi)) for xi in X])\n",
        "    residuo = sum((y - y_pol)**2)\n",
        "\n",
        "  latexpol =f'$P(x) = {latex(pol)}$'\n",
        "  print(\"***Polinomio\\n\")\n",
        "  display(Latex(latexpol))\n",
        "\n",
        "  # Graficamos \n",
        "  fig = go.Figure()\n",
        "\n",
        "  fig.add_trace(\n",
        "      go.Scatter(x = x_graf, y = y_graf, mode = 'lines',\n",
        "                 marker=dict(color=\"LightSeaGreen\"), name = 'P(x)')\n",
        "      )\n",
        "\n",
        "  fig.add_trace(\n",
        "      go.Scatter(x = X, y = y, mode = 'markers',\n",
        "                 marker=dict(size=10, color=\"MediumPurple\"), name = 'Puntos dados')\n",
        "      )\n",
        "  fig.update_layout(title_text=\"Ajuste de minimos cuadrados\",\n",
        "                  title_font_size=30)\n",
        "  fig.show()\n",
        "\n",
        "  #Calculamos el residuo\n",
        "  \n",
        "\n",
        "  return residuo\n"
      ],
      "metadata": {
        "id": "tptUo9qE2H-l"
      },
      "execution_count": null,
      "outputs": []
    },
    {
      "cell_type": "code",
      "source": [
        "pbi_ruta = 'https://raw.githubusercontent.com/Alberto0410/Proyecto-Final-An-lisis-Num-rico/main/crecimiento-PBI.csv'\n",
        "pbi = pd.read_csv(pbi_ruta)\n",
        "\n",
        "#Agragamos una columna para asociar cada trimestre con un numero \n",
        "pbi['Trimestre_num'] = [i for i in range(len(pbi))]\n",
        "\n",
        "X = pbi['Porcentaje de crecimiento  del Producto Interno Bruto']\n",
        "y = pbi['Trimestre_num']\n",
        "\n",
        "\n",
        "residuos = []\n",
        "for i in range(11):\n",
        "  res = ec_norma_grad(X, y, i)\n",
        "  residuos.append(res)"
      ],
      "metadata": {
        "id": "sNQTBgdwcjcN",
        "colab": {
          "base_uri": "https://localhost:8080/",
          "height": 1000
        },
        "outputId": "4e52f99c-cbc3-4129-e352-ff34add6802e"
      },
      "execution_count": null,
      "outputs": [
        {
          "output_type": "stream",
          "name": "stdout",
          "text": [
            "***Polinomio\n",
            "\n"
          ]
        },
        {
          "output_type": "display_data",
          "data": {
            "text/plain": [
              "<IPython.core.display.Latex object>"
            ],
            "text/latex": "$P(x) = \\mathtt{\\text{[7.]}}$"
          },
          "metadata": {}
        },
        {
          "output_type": "display_data",
          "data": {
            "text/html": [
              "<html>\n",
              "<head><meta charset=\"utf-8\" /></head>\n",
              "<body>\n",
              "    <div>            <script src=\"https://cdnjs.cloudflare.com/ajax/libs/mathjax/2.7.5/MathJax.js?config=TeX-AMS-MML_SVG\"></script><script type=\"text/javascript\">if (window.MathJax) {MathJax.Hub.Config({SVG: {font: \"STIX-Web\"}});}</script>                <script type=\"text/javascript\">window.PlotlyConfig = {MathJaxConfig: 'local'};</script>\n",
              "        <script src=\"https://cdn.plot.ly/plotly-2.8.3.min.js\"></script>                <div id=\"45889e4c-c31b-4639-abc9-dd833f5aae7f\" class=\"plotly-graph-div\" style=\"height:525px; width:100%;\"></div>            <script type=\"text/javascript\">                                    window.PLOTLYENV=window.PLOTLYENV || {};                                    if (document.getElementById(\"45889e4c-c31b-4639-abc9-dd833f5aae7f\")) {                    Plotly.newPlot(                        \"45889e4c-c31b-4639-abc9-dd833f5aae7f\",                        [{\"marker\":{\"color\":\"LightSeaGreen\"},\"mode\":\"lines\",\"name\":\"P(x)\",\"x\":[-18.9,-18.707035175879394,-18.514070351758793,-18.32110552763819,-18.128140703517587,-17.935175879396983,-17.742211055276382,-17.549246231155777,-17.356281407035176,-17.16331658291457,-16.970351758793967,-16.777386934673366,-16.58442211055276,-16.39145728643216,-16.198492462311556,-16.005527638190955,-15.81256281407035,-15.619597989949748,-15.426633165829145,-15.23366834170854,-15.04070351758794,-14.847738693467335,-14.654773869346732,-14.46180904522613,-14.268844221105526,-14.075879396984924,-13.88291457286432,-13.689949748743718,-13.496984924623113,-13.304020100502512,-13.111055276381908,-12.918090452261305,-12.725125628140702,-12.5321608040201,-12.339195979899497,-12.146231155778892,-11.953266331658291,-11.760301507537687,-11.567336683417084,-11.374371859296481,-11.181407035175878,-10.988442211055276,-10.795477386934673,-10.60251256281407,-10.409547738693465,-10.216582914572863,-10.02361809045226,-9.830653266331657,-9.637688442211054,-9.444723618090451,-9.251758793969849,-9.058793969849246,-8.865829145728643,-8.672864321608039,-8.479899497487436,-8.286934673366833,-8.09396984924623,-7.901005025125627,-7.708040201005025,-7.515075376884422,-7.322110552763817,-7.1291457286432145,-6.936180904522612,-6.743216080402009,-6.550251256281406,-6.357286432160803,-6.164321608040201,-5.971356783919598,-5.778391959798995,-5.58542713567839,-5.392462311557788,-5.199497487437185,-5.006532663316582,-4.813567839195979,-4.6206030150753765,-4.427638190954774,-4.234673366834169,-4.041708542713566,-3.8487437185929636,-3.655778894472361,-3.462814070351758,-3.2698492462311552,-3.0768844221105525,-2.883919597989948,-2.690954773869347,-2.4979899497487423,-2.3050251256281413,-2.1120603015075368,-1.9190954773869322,-1.7261306532663312,-1.5331658291457266,-1.3402010050251256,-1.147236180904521,-0.95427135678392,-0.7613065326633155,-0.5683417085427145,-0.3753768844221099,-0.18241206030150536,0.010552763819095645,0.2035175879397002,0.3964824120603012,0.5894472361809058,0.7824120603015068,0.9753768844221113,1.1683417085427124,1.361306532663317,1.5542713567839215,1.7472361809045225,1.940201005025127,2.133165829145728,2.3261306532663326,2.5190954773869336,2.712060301507538,2.9050251256281427,3.0979899497487438,3.2909547738693483,3.4839195979899493,3.676884422110554,3.869849246231155,4.0628140703517595,4.255778894472364,4.448743718592965,4.64170854271357,4.834673366834171,5.027638190954775,5.220603015075376,5.413567839195981,5.606532663316582,5.799497487437186,5.992462311557791,6.185427135678392,6.378391959798996,6.571356783919597,6.764321608040202,6.957286432160803,7.150251256281408,7.343216080402009,7.536180904522613,7.729145728643218,7.922110552763819,8.115075376884423,8.308040201005024,8.501005025125629,8.69396984924623,8.886934673366834,9.079899497487439,9.27286432160804,9.465829145728645,9.658793969849246,9.85175879396985,10.044723618090451,10.237688442211056,10.43065326633166,10.623618090452261,10.816582914572866,11.009547738693467,11.202512562814071,11.395477386934672,11.588442211055277,11.781407035175878,11.974371859296483,12.167336683417087,12.360301507537688,12.553266331658293,12.746231155778894,12.939195979899498,13.132160804020103,13.325125628140704,13.518090452261305,13.711055276381913,13.904020100502514,14.096984924623115,14.289949748743716,14.482914572864324,14.675879396984925,14.868844221105526,15.061809045226134,15.254773869346735,15.447738693467336,15.640703517587937,15.833668341708545,16.026633165829146,16.219597989949747,16.41256281407035,16.605527638190956,16.798492462311557,16.99145728643216,17.184422110552767,17.377386934673368,17.57035175879397,17.76331658291457,17.956281407035178,18.14924623115578,18.34221105527638,18.535175879396988,18.72814070351759,18.92110552763819,19.11407035175879,19.3070351758794,19.5],\"y\":[6.999999999999999,6.999999999999999,6.999999999999999,6.999999999999999,6.999999999999999,6.999999999999999,6.999999999999999,6.999999999999999,6.999999999999999,6.999999999999999,6.999999999999999,6.999999999999999,6.999999999999999,6.999999999999999,6.999999999999999,6.999999999999999,6.999999999999999,6.999999999999999,6.999999999999999,6.999999999999999,6.999999999999999,6.999999999999999,6.999999999999999,6.999999999999999,6.999999999999999,6.999999999999999,6.999999999999999,6.999999999999999,6.999999999999999,6.999999999999999,6.999999999999999,6.999999999999999,6.999999999999999,6.999999999999999,6.999999999999999,6.999999999999999,6.999999999999999,6.999999999999999,6.999999999999999,6.999999999999999,6.999999999999999,6.999999999999999,6.999999999999999,6.999999999999999,6.999999999999999,6.999999999999999,6.999999999999999,6.999999999999999,6.999999999999999,6.999999999999999,6.999999999999999,6.999999999999999,6.999999999999999,6.999999999999999,6.999999999999999,6.999999999999999,6.999999999999999,6.999999999999999,6.999999999999999,6.999999999999999,6.999999999999999,6.999999999999999,6.999999999999999,6.999999999999999,6.999999999999999,6.999999999999999,6.999999999999999,6.999999999999999,6.999999999999999,6.999999999999999,6.999999999999999,6.999999999999999,6.999999999999999,6.999999999999999,6.999999999999999,6.999999999999999,6.999999999999999,6.999999999999999,6.999999999999999,6.999999999999999,6.999999999999999,6.999999999999999,6.999999999999999,6.999999999999999,6.999999999999999,6.999999999999999,6.999999999999999,6.999999999999999,6.999999999999999,6.999999999999999,6.999999999999999,6.999999999999999,6.999999999999999,6.999999999999999,6.999999999999999,6.999999999999999,6.999999999999999,6.999999999999999,6.999999999999999,6.999999999999999,6.999999999999999,6.999999999999999,6.999999999999999,6.999999999999999,6.999999999999999,6.999999999999999,6.999999999999999,6.999999999999999,6.999999999999999,6.999999999999999,6.999999999999999,6.999999999999999,6.999999999999999,6.999999999999999,6.999999999999999,6.999999999999999,6.999999999999999,6.999999999999999,6.999999999999999,6.999999999999999,6.999999999999999,6.999999999999999,6.999999999999999,6.999999999999999,6.999999999999999,6.999999999999999,6.999999999999999,6.999999999999999,6.999999999999999,6.999999999999999,6.999999999999999,6.999999999999999,6.999999999999999,6.999999999999999,6.999999999999999,6.999999999999999,6.999999999999999,6.999999999999999,6.999999999999999,6.999999999999999,6.999999999999999,6.999999999999999,6.999999999999999,6.999999999999999,6.999999999999999,6.999999999999999,6.999999999999999,6.999999999999999,6.999999999999999,6.999999999999999,6.999999999999999,6.999999999999999,6.999999999999999,6.999999999999999,6.999999999999999,6.999999999999999,6.999999999999999,6.999999999999999,6.999999999999999,6.999999999999999,6.999999999999999,6.999999999999999,6.999999999999999,6.999999999999999,6.999999999999999,6.999999999999999,6.999999999999999,6.999999999999999,6.999999999999999,6.999999999999999,6.999999999999999,6.999999999999999,6.999999999999999,6.999999999999999,6.999999999999999,6.999999999999999,6.999999999999999,6.999999999999999,6.999999999999999,6.999999999999999,6.999999999999999,6.999999999999999,6.999999999999999,6.999999999999999,6.999999999999999,6.999999999999999,6.999999999999999,6.999999999999999,6.999999999999999,6.999999999999999,6.999999999999999,6.999999999999999,6.999999999999999,6.999999999999999,6.999999999999999,6.999999999999999,6.999999999999999,6.999999999999999,6.999999999999999,6.999999999999999],\"type\":\"scatter\"},{\"marker\":{\"color\":\"MediumPurple\",\"size\":10},\"mode\":\"markers\",\"name\":\"Puntos dados\",\"x\":[0.2,-0.2,-0.1,-0.6,-1.6,-18.9,-8.3,-4.2,-2.9,19.5,4.6,1.2,1.9,1.9,4.3],\"y\":[0,1,2,3,4,5,6,7,8,9,10,11,12,13,14],\"type\":\"scatter\"}],                        {\"template\":{\"data\":{\"bar\":[{\"error_x\":{\"color\":\"#2a3f5f\"},\"error_y\":{\"color\":\"#2a3f5f\"},\"marker\":{\"line\":{\"color\":\"#E5ECF6\",\"width\":0.5},\"pattern\":{\"fillmode\":\"overlay\",\"size\":10,\"solidity\":0.2}},\"type\":\"bar\"}],\"barpolar\":[{\"marker\":{\"line\":{\"color\":\"#E5ECF6\",\"width\":0.5},\"pattern\":{\"fillmode\":\"overlay\",\"size\":10,\"solidity\":0.2}},\"type\":\"barpolar\"}],\"carpet\":[{\"aaxis\":{\"endlinecolor\":\"#2a3f5f\",\"gridcolor\":\"white\",\"linecolor\":\"white\",\"minorgridcolor\":\"white\",\"startlinecolor\":\"#2a3f5f\"},\"baxis\":{\"endlinecolor\":\"#2a3f5f\",\"gridcolor\":\"white\",\"linecolor\":\"white\",\"minorgridcolor\":\"white\",\"startlinecolor\":\"#2a3f5f\"},\"type\":\"carpet\"}],\"choropleth\":[{\"colorbar\":{\"outlinewidth\":0,\"ticks\":\"\"},\"type\":\"choropleth\"}],\"contour\":[{\"colorbar\":{\"outlinewidth\":0,\"ticks\":\"\"},\"colorscale\":[[0.0,\"#0d0887\"],[0.1111111111111111,\"#46039f\"],[0.2222222222222222,\"#7201a8\"],[0.3333333333333333,\"#9c179e\"],[0.4444444444444444,\"#bd3786\"],[0.5555555555555556,\"#d8576b\"],[0.6666666666666666,\"#ed7953\"],[0.7777777777777778,\"#fb9f3a\"],[0.8888888888888888,\"#fdca26\"],[1.0,\"#f0f921\"]],\"type\":\"contour\"}],\"contourcarpet\":[{\"colorbar\":{\"outlinewidth\":0,\"ticks\":\"\"},\"type\":\"contourcarpet\"}],\"heatmap\":[{\"colorbar\":{\"outlinewidth\":0,\"ticks\":\"\"},\"colorscale\":[[0.0,\"#0d0887\"],[0.1111111111111111,\"#46039f\"],[0.2222222222222222,\"#7201a8\"],[0.3333333333333333,\"#9c179e\"],[0.4444444444444444,\"#bd3786\"],[0.5555555555555556,\"#d8576b\"],[0.6666666666666666,\"#ed7953\"],[0.7777777777777778,\"#fb9f3a\"],[0.8888888888888888,\"#fdca26\"],[1.0,\"#f0f921\"]],\"type\":\"heatmap\"}],\"heatmapgl\":[{\"colorbar\":{\"outlinewidth\":0,\"ticks\":\"\"},\"colorscale\":[[0.0,\"#0d0887\"],[0.1111111111111111,\"#46039f\"],[0.2222222222222222,\"#7201a8\"],[0.3333333333333333,\"#9c179e\"],[0.4444444444444444,\"#bd3786\"],[0.5555555555555556,\"#d8576b\"],[0.6666666666666666,\"#ed7953\"],[0.7777777777777778,\"#fb9f3a\"],[0.8888888888888888,\"#fdca26\"],[1.0,\"#f0f921\"]],\"type\":\"heatmapgl\"}],\"histogram\":[{\"marker\":{\"pattern\":{\"fillmode\":\"overlay\",\"size\":10,\"solidity\":0.2}},\"type\":\"histogram\"}],\"histogram2d\":[{\"colorbar\":{\"outlinewidth\":0,\"ticks\":\"\"},\"colorscale\":[[0.0,\"#0d0887\"],[0.1111111111111111,\"#46039f\"],[0.2222222222222222,\"#7201a8\"],[0.3333333333333333,\"#9c179e\"],[0.4444444444444444,\"#bd3786\"],[0.5555555555555556,\"#d8576b\"],[0.6666666666666666,\"#ed7953\"],[0.7777777777777778,\"#fb9f3a\"],[0.8888888888888888,\"#fdca26\"],[1.0,\"#f0f921\"]],\"type\":\"histogram2d\"}],\"histogram2dcontour\":[{\"colorbar\":{\"outlinewidth\":0,\"ticks\":\"\"},\"colorscale\":[[0.0,\"#0d0887\"],[0.1111111111111111,\"#46039f\"],[0.2222222222222222,\"#7201a8\"],[0.3333333333333333,\"#9c179e\"],[0.4444444444444444,\"#bd3786\"],[0.5555555555555556,\"#d8576b\"],[0.6666666666666666,\"#ed7953\"],[0.7777777777777778,\"#fb9f3a\"],[0.8888888888888888,\"#fdca26\"],[1.0,\"#f0f921\"]],\"type\":\"histogram2dcontour\"}],\"mesh3d\":[{\"colorbar\":{\"outlinewidth\":0,\"ticks\":\"\"},\"type\":\"mesh3d\"}],\"parcoords\":[{\"line\":{\"colorbar\":{\"outlinewidth\":0,\"ticks\":\"\"}},\"type\":\"parcoords\"}],\"pie\":[{\"automargin\":true,\"type\":\"pie\"}],\"scatter\":[{\"marker\":{\"colorbar\":{\"outlinewidth\":0,\"ticks\":\"\"}},\"type\":\"scatter\"}],\"scatter3d\":[{\"line\":{\"colorbar\":{\"outlinewidth\":0,\"ticks\":\"\"}},\"marker\":{\"colorbar\":{\"outlinewidth\":0,\"ticks\":\"\"}},\"type\":\"scatter3d\"}],\"scattercarpet\":[{\"marker\":{\"colorbar\":{\"outlinewidth\":0,\"ticks\":\"\"}},\"type\":\"scattercarpet\"}],\"scattergeo\":[{\"marker\":{\"colorbar\":{\"outlinewidth\":0,\"ticks\":\"\"}},\"type\":\"scattergeo\"}],\"scattergl\":[{\"marker\":{\"colorbar\":{\"outlinewidth\":0,\"ticks\":\"\"}},\"type\":\"scattergl\"}],\"scattermapbox\":[{\"marker\":{\"colorbar\":{\"outlinewidth\":0,\"ticks\":\"\"}},\"type\":\"scattermapbox\"}],\"scatterpolar\":[{\"marker\":{\"colorbar\":{\"outlinewidth\":0,\"ticks\":\"\"}},\"type\":\"scatterpolar\"}],\"scatterpolargl\":[{\"marker\":{\"colorbar\":{\"outlinewidth\":0,\"ticks\":\"\"}},\"type\":\"scatterpolargl\"}],\"scatterternary\":[{\"marker\":{\"colorbar\":{\"outlinewidth\":0,\"ticks\":\"\"}},\"type\":\"scatterternary\"}],\"surface\":[{\"colorbar\":{\"outlinewidth\":0,\"ticks\":\"\"},\"colorscale\":[[0.0,\"#0d0887\"],[0.1111111111111111,\"#46039f\"],[0.2222222222222222,\"#7201a8\"],[0.3333333333333333,\"#9c179e\"],[0.4444444444444444,\"#bd3786\"],[0.5555555555555556,\"#d8576b\"],[0.6666666666666666,\"#ed7953\"],[0.7777777777777778,\"#fb9f3a\"],[0.8888888888888888,\"#fdca26\"],[1.0,\"#f0f921\"]],\"type\":\"surface\"}],\"table\":[{\"cells\":{\"fill\":{\"color\":\"#EBF0F8\"},\"line\":{\"color\":\"white\"}},\"header\":{\"fill\":{\"color\":\"#C8D4E3\"},\"line\":{\"color\":\"white\"}},\"type\":\"table\"}]},\"layout\":{\"annotationdefaults\":{\"arrowcolor\":\"#2a3f5f\",\"arrowhead\":0,\"arrowwidth\":1},\"autotypenumbers\":\"strict\",\"coloraxis\":{\"colorbar\":{\"outlinewidth\":0,\"ticks\":\"\"}},\"colorscale\":{\"diverging\":[[0,\"#8e0152\"],[0.1,\"#c51b7d\"],[0.2,\"#de77ae\"],[0.3,\"#f1b6da\"],[0.4,\"#fde0ef\"],[0.5,\"#f7f7f7\"],[0.6,\"#e6f5d0\"],[0.7,\"#b8e186\"],[0.8,\"#7fbc41\"],[0.9,\"#4d9221\"],[1,\"#276419\"]],\"sequential\":[[0.0,\"#0d0887\"],[0.1111111111111111,\"#46039f\"],[0.2222222222222222,\"#7201a8\"],[0.3333333333333333,\"#9c179e\"],[0.4444444444444444,\"#bd3786\"],[0.5555555555555556,\"#d8576b\"],[0.6666666666666666,\"#ed7953\"],[0.7777777777777778,\"#fb9f3a\"],[0.8888888888888888,\"#fdca26\"],[1.0,\"#f0f921\"]],\"sequentialminus\":[[0.0,\"#0d0887\"],[0.1111111111111111,\"#46039f\"],[0.2222222222222222,\"#7201a8\"],[0.3333333333333333,\"#9c179e\"],[0.4444444444444444,\"#bd3786\"],[0.5555555555555556,\"#d8576b\"],[0.6666666666666666,\"#ed7953\"],[0.7777777777777778,\"#fb9f3a\"],[0.8888888888888888,\"#fdca26\"],[1.0,\"#f0f921\"]]},\"colorway\":[\"#636efa\",\"#EF553B\",\"#00cc96\",\"#ab63fa\",\"#FFA15A\",\"#19d3f3\",\"#FF6692\",\"#B6E880\",\"#FF97FF\",\"#FECB52\"],\"font\":{\"color\":\"#2a3f5f\"},\"geo\":{\"bgcolor\":\"white\",\"lakecolor\":\"white\",\"landcolor\":\"#E5ECF6\",\"showlakes\":true,\"showland\":true,\"subunitcolor\":\"white\"},\"hoverlabel\":{\"align\":\"left\"},\"hovermode\":\"closest\",\"mapbox\":{\"style\":\"light\"},\"paper_bgcolor\":\"white\",\"plot_bgcolor\":\"#E5ECF6\",\"polar\":{\"angularaxis\":{\"gridcolor\":\"white\",\"linecolor\":\"white\",\"ticks\":\"\"},\"bgcolor\":\"#E5ECF6\",\"radialaxis\":{\"gridcolor\":\"white\",\"linecolor\":\"white\",\"ticks\":\"\"}},\"scene\":{\"xaxis\":{\"backgroundcolor\":\"#E5ECF6\",\"gridcolor\":\"white\",\"gridwidth\":2,\"linecolor\":\"white\",\"showbackground\":true,\"ticks\":\"\",\"zerolinecolor\":\"white\"},\"yaxis\":{\"backgroundcolor\":\"#E5ECF6\",\"gridcolor\":\"white\",\"gridwidth\":2,\"linecolor\":\"white\",\"showbackground\":true,\"ticks\":\"\",\"zerolinecolor\":\"white\"},\"zaxis\":{\"backgroundcolor\":\"#E5ECF6\",\"gridcolor\":\"white\",\"gridwidth\":2,\"linecolor\":\"white\",\"showbackground\":true,\"ticks\":\"\",\"zerolinecolor\":\"white\"}},\"shapedefaults\":{\"line\":{\"color\":\"#2a3f5f\"}},\"ternary\":{\"aaxis\":{\"gridcolor\":\"white\",\"linecolor\":\"white\",\"ticks\":\"\"},\"baxis\":{\"gridcolor\":\"white\",\"linecolor\":\"white\",\"ticks\":\"\"},\"bgcolor\":\"#E5ECF6\",\"caxis\":{\"gridcolor\":\"white\",\"linecolor\":\"white\",\"ticks\":\"\"}},\"title\":{\"x\":0.05},\"xaxis\":{\"automargin\":true,\"gridcolor\":\"white\",\"linecolor\":\"white\",\"ticks\":\"\",\"title\":{\"standoff\":15},\"zerolinecolor\":\"white\",\"zerolinewidth\":2},\"yaxis\":{\"automargin\":true,\"gridcolor\":\"white\",\"linecolor\":\"white\",\"ticks\":\"\",\"title\":{\"standoff\":15},\"zerolinecolor\":\"white\",\"zerolinewidth\":2}}},\"title\":{\"font\":{\"size\":30},\"text\":\"Ajuste de minimos cuadrados\"}},                        {\"responsive\": true}                    ).then(function(){\n",
              "                            \n",
              "var gd = document.getElementById('45889e4c-c31b-4639-abc9-dd833f5aae7f');\n",
              "var x = new MutationObserver(function (mutations, observer) {{\n",
              "        var display = window.getComputedStyle(gd).display;\n",
              "        if (!display || display === 'none') {{\n",
              "            console.log([gd, 'removed!']);\n",
              "            Plotly.purge(gd);\n",
              "            observer.disconnect();\n",
              "        }}\n",
              "}});\n",
              "\n",
              "// Listen for the removal of the full notebook cells\n",
              "var notebookContainer = gd.closest('#notebook-container');\n",
              "if (notebookContainer) {{\n",
              "    x.observe(notebookContainer, {childList: true});\n",
              "}}\n",
              "\n",
              "// Listen for the clearing of the current output cell\n",
              "var outputEl = gd.closest('.output');\n",
              "if (outputEl) {{\n",
              "    x.observe(outputEl, {childList: true});\n",
              "}}\n",
              "\n",
              "                        })                };                            </script>        </div>\n",
              "</body>\n",
              "</html>"
            ]
          },
          "metadata": {}
        },
        {
          "output_type": "stream",
          "name": "stdout",
          "text": [
            "***Polinomio\n",
            "\n"
          ]
        },
        {
          "output_type": "display_data",
          "data": {
            "text/plain": [
              "<IPython.core.display.Latex object>"
            ],
            "text/latex": "$P(x) = 0.180400073685069 x + 7.03848534905281$"
          },
          "metadata": {}
        },
        {
          "output_type": "display_data",
          "data": {
            "text/html": [
              "<html>\n",
              "<head><meta charset=\"utf-8\" /></head>\n",
              "<body>\n",
              "    <div>            <script src=\"https://cdnjs.cloudflare.com/ajax/libs/mathjax/2.7.5/MathJax.js?config=TeX-AMS-MML_SVG\"></script><script type=\"text/javascript\">if (window.MathJax) {MathJax.Hub.Config({SVG: {font: \"STIX-Web\"}});}</script>                <script type=\"text/javascript\">window.PlotlyConfig = {MathJaxConfig: 'local'};</script>\n",
              "        <script src=\"https://cdn.plot.ly/plotly-2.8.3.min.js\"></script>                <div id=\"dd419b60-5db0-43b4-a40a-26f7706aa4a8\" class=\"plotly-graph-div\" style=\"height:525px; width:100%;\"></div>            <script type=\"text/javascript\">                                    window.PLOTLYENV=window.PLOTLYENV || {};                                    if (document.getElementById(\"dd419b60-5db0-43b4-a40a-26f7706aa4a8\")) {                    Plotly.newPlot(                        \"dd419b60-5db0-43b4-a40a-26f7706aa4a8\",                        [{\"marker\":{\"color\":\"LightSeaGreen\"},\"mode\":\"lines\",\"name\":\"P(x)\",\"x\":[-18.9,-18.707035175879394,-18.514070351758793,-18.32110552763819,-18.128140703517587,-17.935175879396983,-17.742211055276382,-17.549246231155777,-17.356281407035176,-17.16331658291457,-16.970351758793967,-16.777386934673366,-16.58442211055276,-16.39145728643216,-16.198492462311556,-16.005527638190955,-15.81256281407035,-15.619597989949748,-15.426633165829145,-15.23366834170854,-15.04070351758794,-14.847738693467335,-14.654773869346732,-14.46180904522613,-14.268844221105526,-14.075879396984924,-13.88291457286432,-13.689949748743718,-13.496984924623113,-13.304020100502512,-13.111055276381908,-12.918090452261305,-12.725125628140702,-12.5321608040201,-12.339195979899497,-12.146231155778892,-11.953266331658291,-11.760301507537687,-11.567336683417084,-11.374371859296481,-11.181407035175878,-10.988442211055276,-10.795477386934673,-10.60251256281407,-10.409547738693465,-10.216582914572863,-10.02361809045226,-9.830653266331657,-9.637688442211054,-9.444723618090451,-9.251758793969849,-9.058793969849246,-8.865829145728643,-8.672864321608039,-8.479899497487436,-8.286934673366833,-8.09396984924623,-7.901005025125627,-7.708040201005025,-7.515075376884422,-7.322110552763817,-7.1291457286432145,-6.936180904522612,-6.743216080402009,-6.550251256281406,-6.357286432160803,-6.164321608040201,-5.971356783919598,-5.778391959798995,-5.58542713567839,-5.392462311557788,-5.199497487437185,-5.006532663316582,-4.813567839195979,-4.6206030150753765,-4.427638190954774,-4.234673366834169,-4.041708542713566,-3.8487437185929636,-3.655778894472361,-3.462814070351758,-3.2698492462311552,-3.0768844221105525,-2.883919597989948,-2.690954773869347,-2.4979899497487423,-2.3050251256281413,-2.1120603015075368,-1.9190954773869322,-1.7261306532663312,-1.5331658291457266,-1.3402010050251256,-1.147236180904521,-0.95427135678392,-0.7613065326633155,-0.5683417085427145,-0.3753768844221099,-0.18241206030150536,0.010552763819095645,0.2035175879397002,0.3964824120603012,0.5894472361809058,0.7824120603015068,0.9753768844221113,1.1683417085427124,1.361306532663317,1.5542713567839215,1.7472361809045225,1.940201005025127,2.133165829145728,2.3261306532663326,2.5190954773869336,2.712060301507538,2.9050251256281427,3.0979899497487438,3.2909547738693483,3.4839195979899493,3.676884422110554,3.869849246231155,4.0628140703517595,4.255778894472364,4.448743718592965,4.64170854271357,4.834673366834171,5.027638190954775,5.220603015075376,5.413567839195981,5.606532663316582,5.799497487437186,5.992462311557791,6.185427135678392,6.378391959798996,6.571356783919597,6.764321608040202,6.957286432160803,7.150251256281408,7.343216080402009,7.536180904522613,7.729145728643218,7.922110552763819,8.115075376884423,8.308040201005024,8.501005025125629,8.69396984924623,8.886934673366834,9.079899497487439,9.27286432160804,9.465829145728645,9.658793969849246,9.85175879396985,10.044723618090451,10.237688442211056,10.43065326633166,10.623618090452261,10.816582914572866,11.009547738693467,11.202512562814071,11.395477386934672,11.588442211055277,11.781407035175878,11.974371859296483,12.167336683417087,12.360301507537688,12.553266331658293,12.746231155778894,12.939195979899498,13.132160804020103,13.325125628140704,13.518090452261305,13.711055276381913,13.904020100502514,14.096984924623115,14.289949748743716,14.482914572864324,14.675879396984925,14.868844221105526,15.061809045226134,15.254773869346735,15.447738693467336,15.640703517587937,15.833668341708545,16.026633165829146,16.219597989949747,16.41256281407035,16.605527638190956,16.798492462311557,16.99145728643216,17.184422110552767,17.377386934673368,17.57035175879397,17.76331658291457,17.956281407035178,18.14924623115578,18.34221105527638,18.535175879396988,18.72814070351759,18.92110552763819,19.11407035175879,19.3070351758794,19.5],\"y\":[3.6289239564050138,3.663734824894997,3.69854569338498,3.7333565618749636,3.768167430364946,3.8029782988549297,3.8377891673449125,3.8726000358348958,3.9074109043248786,3.942221772814862,3.977032641304845,4.0118435097948275,4.046654378284812,4.081465246774794,4.116276115264778,4.151086983754761,4.185897852244744,4.220708720734727,4.2555195892247095,4.290330457714694,4.325141326204676,4.359952194694659,4.394763063184643,4.429573931674626,4.464384800164609,4.4991956686545915,4.534006537144575,4.568817405634558,4.603628274124541,4.638439142614525,4.673250011104507,4.708060879594491,4.7428717480844735,4.777682616574457,4.81249348506444,4.847304353554423,4.882115222044407,4.916926090534389,4.951736959024373,4.9865478275143555,5.021358696004339,5.056169564494322,5.0909804329843045,5.125791301474288,5.160602169964271,5.195413038454254,5.2302239069442376,5.265034775434221,5.299845643924204,5.3346565124141865,5.36946738090417,5.404278249394153,5.439089117884136,5.47389998637412,5.508710854864103,5.543521723354086,5.5783325918440685,5.613143460334052,5.647954328824035,5.682765197314018,5.717576065804002,5.752386934293984,5.787197802783967,5.8220086712739505,5.856819539763934,5.891630408253917,5.926441276743899,5.961252145233883,5.996063013723866,6.030873882213849,6.0656847507038325,6.100495619193816,6.135306487683799,6.170117356173781,6.204928224663765,6.239739093153748,6.274549961643731,6.3093608301337145,6.344171698623698,6.378982567113681,6.413793435603663,6.448604304093647,6.48341517258363,6.518226041073613,6.553036909563596,6.58784777805358,6.622658646543562,6.6574695150335454,6.692280383523529,6.727091252013512,6.761902120503495,6.796712988993478,6.831523857483461,6.866334725973444,6.9011455944634275,6.93595646295341,6.970767331443394,7.005578199933377,7.04038906842336,7.075199936913343,7.110010805403326,7.1448216738933095,7.179632542383292,7.214443410873276,7.249254279363258,7.284065147853242,7.318876016343225,7.353686884833208,7.3884977533231915,7.423308621813174,7.458119490303157,7.49293035879314,7.527741227283124,7.562552095773107,7.59736296426309,7.6321738327530735,7.666984701243056,7.701795569733039,7.736606438223022,7.771417306713006,7.806228175202989,7.841039043692971,7.8758499121829555,7.910660780672938,7.945471649162921,7.980282517652904,8.015093386142887,8.049904254632871,8.084715123122853,8.119525991612838,8.15433686010282,8.189147728592804,8.223958597082786,8.258769465572769,8.293580334062753,8.328391202552735,8.363202071042718,8.398012939532702,8.432823808022686,8.467634676512668,8.50244554500265,8.537256413492635,8.572067281982617,8.6068781504726,8.641689018962584,8.676499887452566,8.71131075594255,8.746121624432533,8.780932492922515,8.8157433614125,8.850554229902482,8.885365098392466,8.920175966882448,8.954986835372432,8.989797703862415,9.024608572352397,9.059419440842381,9.094230309332364,9.129041177822348,9.16385204631233,9.198662914802313,9.233473783292297,9.26828465178228,9.303095520272263,9.337906388762246,9.37271725725223,9.407528125742212,9.442338994232195,9.477149862722179,9.511960731212163,9.546771599702145,9.581582468192128,9.61639333668211,9.651204205172094,9.686015073662077,9.72082594215206,9.755636810642045,9.790447679132027,9.82525854762201,9.860069416111992,9.894880284601976,9.929691153091959,9.964502021581943,9.999312890071925,10.03412375856191,10.068934627051892,10.103745495541874,10.138556364031858,10.17336723252184,10.208178101011825,10.242988969501807,10.277799837991791,10.312610706481774,10.347421574971756,10.38223244346174,10.417043311951723,10.451854180441707,10.48666504893169,10.521475917421672,10.556286785911656],\"type\":\"scatter\"},{\"marker\":{\"color\":\"MediumPurple\",\"size\":10},\"mode\":\"markers\",\"name\":\"Puntos dados\",\"x\":[0.2,-0.2,-0.1,-0.6,-1.6,-18.9,-8.3,-4.2,-2.9,19.5,4.6,1.2,1.9,1.9,4.3],\"y\":[0,1,2,3,4,5,6,7,8,9,10,11,12,13,14],\"type\":\"scatter\"}],                        {\"template\":{\"data\":{\"bar\":[{\"error_x\":{\"color\":\"#2a3f5f\"},\"error_y\":{\"color\":\"#2a3f5f\"},\"marker\":{\"line\":{\"color\":\"#E5ECF6\",\"width\":0.5},\"pattern\":{\"fillmode\":\"overlay\",\"size\":10,\"solidity\":0.2}},\"type\":\"bar\"}],\"barpolar\":[{\"marker\":{\"line\":{\"color\":\"#E5ECF6\",\"width\":0.5},\"pattern\":{\"fillmode\":\"overlay\",\"size\":10,\"solidity\":0.2}},\"type\":\"barpolar\"}],\"carpet\":[{\"aaxis\":{\"endlinecolor\":\"#2a3f5f\",\"gridcolor\":\"white\",\"linecolor\":\"white\",\"minorgridcolor\":\"white\",\"startlinecolor\":\"#2a3f5f\"},\"baxis\":{\"endlinecolor\":\"#2a3f5f\",\"gridcolor\":\"white\",\"linecolor\":\"white\",\"minorgridcolor\":\"white\",\"startlinecolor\":\"#2a3f5f\"},\"type\":\"carpet\"}],\"choropleth\":[{\"colorbar\":{\"outlinewidth\":0,\"ticks\":\"\"},\"type\":\"choropleth\"}],\"contour\":[{\"colorbar\":{\"outlinewidth\":0,\"ticks\":\"\"},\"colorscale\":[[0.0,\"#0d0887\"],[0.1111111111111111,\"#46039f\"],[0.2222222222222222,\"#7201a8\"],[0.3333333333333333,\"#9c179e\"],[0.4444444444444444,\"#bd3786\"],[0.5555555555555556,\"#d8576b\"],[0.6666666666666666,\"#ed7953\"],[0.7777777777777778,\"#fb9f3a\"],[0.8888888888888888,\"#fdca26\"],[1.0,\"#f0f921\"]],\"type\":\"contour\"}],\"contourcarpet\":[{\"colorbar\":{\"outlinewidth\":0,\"ticks\":\"\"},\"type\":\"contourcarpet\"}],\"heatmap\":[{\"colorbar\":{\"outlinewidth\":0,\"ticks\":\"\"},\"colorscale\":[[0.0,\"#0d0887\"],[0.1111111111111111,\"#46039f\"],[0.2222222222222222,\"#7201a8\"],[0.3333333333333333,\"#9c179e\"],[0.4444444444444444,\"#bd3786\"],[0.5555555555555556,\"#d8576b\"],[0.6666666666666666,\"#ed7953\"],[0.7777777777777778,\"#fb9f3a\"],[0.8888888888888888,\"#fdca26\"],[1.0,\"#f0f921\"]],\"type\":\"heatmap\"}],\"heatmapgl\":[{\"colorbar\":{\"outlinewidth\":0,\"ticks\":\"\"},\"colorscale\":[[0.0,\"#0d0887\"],[0.1111111111111111,\"#46039f\"],[0.2222222222222222,\"#7201a8\"],[0.3333333333333333,\"#9c179e\"],[0.4444444444444444,\"#bd3786\"],[0.5555555555555556,\"#d8576b\"],[0.6666666666666666,\"#ed7953\"],[0.7777777777777778,\"#fb9f3a\"],[0.8888888888888888,\"#fdca26\"],[1.0,\"#f0f921\"]],\"type\":\"heatmapgl\"}],\"histogram\":[{\"marker\":{\"pattern\":{\"fillmode\":\"overlay\",\"size\":10,\"solidity\":0.2}},\"type\":\"histogram\"}],\"histogram2d\":[{\"colorbar\":{\"outlinewidth\":0,\"ticks\":\"\"},\"colorscale\":[[0.0,\"#0d0887\"],[0.1111111111111111,\"#46039f\"],[0.2222222222222222,\"#7201a8\"],[0.3333333333333333,\"#9c179e\"],[0.4444444444444444,\"#bd3786\"],[0.5555555555555556,\"#d8576b\"],[0.6666666666666666,\"#ed7953\"],[0.7777777777777778,\"#fb9f3a\"],[0.8888888888888888,\"#fdca26\"],[1.0,\"#f0f921\"]],\"type\":\"histogram2d\"}],\"histogram2dcontour\":[{\"colorbar\":{\"outlinewidth\":0,\"ticks\":\"\"},\"colorscale\":[[0.0,\"#0d0887\"],[0.1111111111111111,\"#46039f\"],[0.2222222222222222,\"#7201a8\"],[0.3333333333333333,\"#9c179e\"],[0.4444444444444444,\"#bd3786\"],[0.5555555555555556,\"#d8576b\"],[0.6666666666666666,\"#ed7953\"],[0.7777777777777778,\"#fb9f3a\"],[0.8888888888888888,\"#fdca26\"],[1.0,\"#f0f921\"]],\"type\":\"histogram2dcontour\"}],\"mesh3d\":[{\"colorbar\":{\"outlinewidth\":0,\"ticks\":\"\"},\"type\":\"mesh3d\"}],\"parcoords\":[{\"line\":{\"colorbar\":{\"outlinewidth\":0,\"ticks\":\"\"}},\"type\":\"parcoords\"}],\"pie\":[{\"automargin\":true,\"type\":\"pie\"}],\"scatter\":[{\"marker\":{\"colorbar\":{\"outlinewidth\":0,\"ticks\":\"\"}},\"type\":\"scatter\"}],\"scatter3d\":[{\"line\":{\"colorbar\":{\"outlinewidth\":0,\"ticks\":\"\"}},\"marker\":{\"colorbar\":{\"outlinewidth\":0,\"ticks\":\"\"}},\"type\":\"scatter3d\"}],\"scattercarpet\":[{\"marker\":{\"colorbar\":{\"outlinewidth\":0,\"ticks\":\"\"}},\"type\":\"scattercarpet\"}],\"scattergeo\":[{\"marker\":{\"colorbar\":{\"outlinewidth\":0,\"ticks\":\"\"}},\"type\":\"scattergeo\"}],\"scattergl\":[{\"marker\":{\"colorbar\":{\"outlinewidth\":0,\"ticks\":\"\"}},\"type\":\"scattergl\"}],\"scattermapbox\":[{\"marker\":{\"colorbar\":{\"outlinewidth\":0,\"ticks\":\"\"}},\"type\":\"scattermapbox\"}],\"scatterpolar\":[{\"marker\":{\"colorbar\":{\"outlinewidth\":0,\"ticks\":\"\"}},\"type\":\"scatterpolar\"}],\"scatterpolargl\":[{\"marker\":{\"colorbar\":{\"outlinewidth\":0,\"ticks\":\"\"}},\"type\":\"scatterpolargl\"}],\"scatterternary\":[{\"marker\":{\"colorbar\":{\"outlinewidth\":0,\"ticks\":\"\"}},\"type\":\"scatterternary\"}],\"surface\":[{\"colorbar\":{\"outlinewidth\":0,\"ticks\":\"\"},\"colorscale\":[[0.0,\"#0d0887\"],[0.1111111111111111,\"#46039f\"],[0.2222222222222222,\"#7201a8\"],[0.3333333333333333,\"#9c179e\"],[0.4444444444444444,\"#bd3786\"],[0.5555555555555556,\"#d8576b\"],[0.6666666666666666,\"#ed7953\"],[0.7777777777777778,\"#fb9f3a\"],[0.8888888888888888,\"#fdca26\"],[1.0,\"#f0f921\"]],\"type\":\"surface\"}],\"table\":[{\"cells\":{\"fill\":{\"color\":\"#EBF0F8\"},\"line\":{\"color\":\"white\"}},\"header\":{\"fill\":{\"color\":\"#C8D4E3\"},\"line\":{\"color\":\"white\"}},\"type\":\"table\"}]},\"layout\":{\"annotationdefaults\":{\"arrowcolor\":\"#2a3f5f\",\"arrowhead\":0,\"arrowwidth\":1},\"autotypenumbers\":\"strict\",\"coloraxis\":{\"colorbar\":{\"outlinewidth\":0,\"ticks\":\"\"}},\"colorscale\":{\"diverging\":[[0,\"#8e0152\"],[0.1,\"#c51b7d\"],[0.2,\"#de77ae\"],[0.3,\"#f1b6da\"],[0.4,\"#fde0ef\"],[0.5,\"#f7f7f7\"],[0.6,\"#e6f5d0\"],[0.7,\"#b8e186\"],[0.8,\"#7fbc41\"],[0.9,\"#4d9221\"],[1,\"#276419\"]],\"sequential\":[[0.0,\"#0d0887\"],[0.1111111111111111,\"#46039f\"],[0.2222222222222222,\"#7201a8\"],[0.3333333333333333,\"#9c179e\"],[0.4444444444444444,\"#bd3786\"],[0.5555555555555556,\"#d8576b\"],[0.6666666666666666,\"#ed7953\"],[0.7777777777777778,\"#fb9f3a\"],[0.8888888888888888,\"#fdca26\"],[1.0,\"#f0f921\"]],\"sequentialminus\":[[0.0,\"#0d0887\"],[0.1111111111111111,\"#46039f\"],[0.2222222222222222,\"#7201a8\"],[0.3333333333333333,\"#9c179e\"],[0.4444444444444444,\"#bd3786\"],[0.5555555555555556,\"#d8576b\"],[0.6666666666666666,\"#ed7953\"],[0.7777777777777778,\"#fb9f3a\"],[0.8888888888888888,\"#fdca26\"],[1.0,\"#f0f921\"]]},\"colorway\":[\"#636efa\",\"#EF553B\",\"#00cc96\",\"#ab63fa\",\"#FFA15A\",\"#19d3f3\",\"#FF6692\",\"#B6E880\",\"#FF97FF\",\"#FECB52\"],\"font\":{\"color\":\"#2a3f5f\"},\"geo\":{\"bgcolor\":\"white\",\"lakecolor\":\"white\",\"landcolor\":\"#E5ECF6\",\"showlakes\":true,\"showland\":true,\"subunitcolor\":\"white\"},\"hoverlabel\":{\"align\":\"left\"},\"hovermode\":\"closest\",\"mapbox\":{\"style\":\"light\"},\"paper_bgcolor\":\"white\",\"plot_bgcolor\":\"#E5ECF6\",\"polar\":{\"angularaxis\":{\"gridcolor\":\"white\",\"linecolor\":\"white\",\"ticks\":\"\"},\"bgcolor\":\"#E5ECF6\",\"radialaxis\":{\"gridcolor\":\"white\",\"linecolor\":\"white\",\"ticks\":\"\"}},\"scene\":{\"xaxis\":{\"backgroundcolor\":\"#E5ECF6\",\"gridcolor\":\"white\",\"gridwidth\":2,\"linecolor\":\"white\",\"showbackground\":true,\"ticks\":\"\",\"zerolinecolor\":\"white\"},\"yaxis\":{\"backgroundcolor\":\"#E5ECF6\",\"gridcolor\":\"white\",\"gridwidth\":2,\"linecolor\":\"white\",\"showbackground\":true,\"ticks\":\"\",\"zerolinecolor\":\"white\"},\"zaxis\":{\"backgroundcolor\":\"#E5ECF6\",\"gridcolor\":\"white\",\"gridwidth\":2,\"linecolor\":\"white\",\"showbackground\":true,\"ticks\":\"\",\"zerolinecolor\":\"white\"}},\"shapedefaults\":{\"line\":{\"color\":\"#2a3f5f\"}},\"ternary\":{\"aaxis\":{\"gridcolor\":\"white\",\"linecolor\":\"white\",\"ticks\":\"\"},\"baxis\":{\"gridcolor\":\"white\",\"linecolor\":\"white\",\"ticks\":\"\"},\"bgcolor\":\"#E5ECF6\",\"caxis\":{\"gridcolor\":\"white\",\"linecolor\":\"white\",\"ticks\":\"\"}},\"title\":{\"x\":0.05},\"xaxis\":{\"automargin\":true,\"gridcolor\":\"white\",\"linecolor\":\"white\",\"ticks\":\"\",\"title\":{\"standoff\":15},\"zerolinecolor\":\"white\",\"zerolinewidth\":2},\"yaxis\":{\"automargin\":true,\"gridcolor\":\"white\",\"linecolor\":\"white\",\"ticks\":\"\",\"title\":{\"standoff\":15},\"zerolinecolor\":\"white\",\"zerolinewidth\":2}}},\"title\":{\"font\":{\"size\":30},\"text\":\"Ajuste de minimos cuadrados\"}},                        {\"responsive\": true}                    ).then(function(){\n",
              "                            \n",
              "var gd = document.getElementById('dd419b60-5db0-43b4-a40a-26f7706aa4a8');\n",
              "var x = new MutationObserver(function (mutations, observer) {{\n",
              "        var display = window.getComputedStyle(gd).display;\n",
              "        if (!display || display === 'none') {{\n",
              "            console.log([gd, 'removed!']);\n",
              "            Plotly.purge(gd);\n",
              "            observer.disconnect();\n",
              "        }}\n",
              "}});\n",
              "\n",
              "// Listen for the removal of the full notebook cells\n",
              "var notebookContainer = gd.closest('#notebook-container');\n",
              "if (notebookContainer) {{\n",
              "    x.observe(notebookContainer, {childList: true});\n",
              "}}\n",
              "\n",
              "// Listen for the clearing of the current output cell\n",
              "var outputEl = gd.closest('.output');\n",
              "if (outputEl) {{\n",
              "    x.observe(outputEl, {childList: true});\n",
              "}}\n",
              "\n",
              "                        })                };                            </script>        </div>\n",
              "</body>\n",
              "</html>"
            ]
          },
          "metadata": {}
        },
        {
          "output_type": "stream",
          "name": "stdout",
          "text": [
            "***Polinomio\n",
            "\n"
          ]
        },
        {
          "output_type": "display_data",
          "data": {
            "text/plain": [
              "<IPython.core.display.Latex object>"
            ],
            "text/latex": "$P(x) = 0.000653189069045544 x^{2} + 0.180126496726795 x + 6.99994456969525$"
          },
          "metadata": {}
        },
        {
          "output_type": "display_data",
          "data": {
            "text/html": [
              "<html>\n",
              "<head><meta charset=\"utf-8\" /></head>\n",
              "<body>\n",
              "    <div>            <script src=\"https://cdnjs.cloudflare.com/ajax/libs/mathjax/2.7.5/MathJax.js?config=TeX-AMS-MML_SVG\"></script><script type=\"text/javascript\">if (window.MathJax) {MathJax.Hub.Config({SVG: {font: \"STIX-Web\"}});}</script>                <script type=\"text/javascript\">window.PlotlyConfig = {MathJaxConfig: 'local'};</script>\n",
              "        <script src=\"https://cdn.plot.ly/plotly-2.8.3.min.js\"></script>                <div id=\"c36f6d16-21b2-4b71-a156-12ad08fa3c54\" class=\"plotly-graph-div\" style=\"height:525px; width:100%;\"></div>            <script type=\"text/javascript\">                                    window.PLOTLYENV=window.PLOTLYENV || {};                                    if (document.getElementById(\"c36f6d16-21b2-4b71-a156-12ad08fa3c54\")) {                    Plotly.newPlot(                        \"c36f6d16-21b2-4b71-a156-12ad08fa3c54\",                        [{\"marker\":{\"color\":\"LightSeaGreen\"},\"mode\":\"lines\",\"name\":\"P(x)\",\"x\":[-18.9,-18.707035175879394,-18.514070351758793,-18.32110552763819,-18.128140703517587,-17.935175879396983,-17.742211055276382,-17.549246231155777,-17.356281407035176,-17.16331658291457,-16.970351758793967,-16.777386934673366,-16.58442211055276,-16.39145728643216,-16.198492462311556,-16.005527638190955,-15.81256281407035,-15.619597989949748,-15.426633165829145,-15.23366834170854,-15.04070351758794,-14.847738693467335,-14.654773869346732,-14.46180904522613,-14.268844221105526,-14.075879396984924,-13.88291457286432,-13.689949748743718,-13.496984924623113,-13.304020100502512,-13.111055276381908,-12.918090452261305,-12.725125628140702,-12.5321608040201,-12.339195979899497,-12.146231155778892,-11.953266331658291,-11.760301507537687,-11.567336683417084,-11.374371859296481,-11.181407035175878,-10.988442211055276,-10.795477386934673,-10.60251256281407,-10.409547738693465,-10.216582914572863,-10.02361809045226,-9.830653266331657,-9.637688442211054,-9.444723618090451,-9.251758793969849,-9.058793969849246,-8.865829145728643,-8.672864321608039,-8.479899497487436,-8.286934673366833,-8.09396984924623,-7.901005025125627,-7.708040201005025,-7.515075376884422,-7.322110552763817,-7.1291457286432145,-6.936180904522612,-6.743216080402009,-6.550251256281406,-6.357286432160803,-6.164321608040201,-5.971356783919598,-5.778391959798995,-5.58542713567839,-5.392462311557788,-5.199497487437185,-5.006532663316582,-4.813567839195979,-4.6206030150753765,-4.427638190954774,-4.234673366834169,-4.041708542713566,-3.8487437185929636,-3.655778894472361,-3.462814070351758,-3.2698492462311552,-3.0768844221105525,-2.883919597989948,-2.690954773869347,-2.4979899497487423,-2.3050251256281413,-2.1120603015075368,-1.9190954773869322,-1.7261306532663312,-1.5331658291457266,-1.3402010050251256,-1.147236180904521,-0.95427135678392,-0.7613065326633155,-0.5683417085427145,-0.3753768844221099,-0.18241206030150536,0.010552763819095645,0.2035175879397002,0.3964824120603012,0.5894472361809058,0.7824120603015068,0.9753768844221113,1.1683417085427124,1.361306532663317,1.5542713567839215,1.7472361809045225,1.940201005025127,2.133165829145728,2.3261306532663326,2.5190954773869336,2.712060301507538,2.9050251256281427,3.0979899497487438,3.2909547738693483,3.4839195979899493,3.676884422110554,3.869849246231155,4.0628140703517595,4.255778894472364,4.448743718592965,4.64170854271357,4.834673366834171,5.027638190954775,5.220603015075376,5.413567839195981,5.606532663316582,5.799497487437186,5.992462311557791,6.185427135678392,6.378391959798996,6.571356783919597,6.764321608040202,6.957286432160803,7.150251256281408,7.343216080402009,7.536180904522613,7.729145728643218,7.922110552763819,8.115075376884423,8.308040201005024,8.501005025125629,8.69396984924623,8.886934673366834,9.079899497487439,9.27286432160804,9.465829145728645,9.658793969849246,9.85175879396985,10.044723618090451,10.237688442211056,10.43065326633166,10.623618090452261,10.816582914572866,11.009547738693467,11.202512562814071,11.395477386934672,11.588442211055277,11.781407035175878,11.974371859296483,12.167336683417087,12.360301507537688,12.553266331658293,12.746231155778894,12.939195979899498,13.132160804020103,13.325125628140704,13.518090452261305,13.711055276381913,13.904020100502514,14.096984924623115,14.289949748743716,14.482914572864324,14.675879396984925,14.868844221105526,15.061809045226134,15.254773869346735,15.447738693467336,15.640703517587937,15.833668341708545,16.026633165829146,16.219597989949747,16.41256281407035,16.605527638190956,16.798492462311557,16.99145728643216,17.184422110552767,17.377386934673368,17.57035175879397,17.76331658291457,17.956281407035178,18.14924623115578,18.34221105527638,18.535175879396988,18.72814070351759,18.92110552763819,19.11407035175879,19.3070351758794,19.5],\"y\":[3.8288794489125797,3.8588974414218207,3.888964077474085,3.9190793570693745,3.9492432802076873,3.9794558468890253,4.009717057113386,4.040026910880773,4.070385408191182,4.100792549044618,4.131248333441078,4.161752761380559,4.192305832863068,4.2229075478886,4.253557906457155,4.284256908568735,4.315004554223339,4.345800843420967,4.37664577616162,4.407539352445298,4.438481572272,4.469472435641725,4.500511942554475,4.531600093010249,4.562736887009048,4.593922324550871,4.6251564056357175,4.656439130263588,4.687770498434484,4.719150510148404,4.750579165405348,4.782056464205316,4.813582406548309,4.845156992434326,4.876780221863367,4.908452094835432,4.940172611350521,4.971941771408635,5.003759575009774,5.035626022153935,5.067541112841122,5.099504847071332,5.1315172248445675,5.163578246160827,5.19568791102011,5.227846219422419,5.260053171367751,5.292308766856107,5.324613005887488,5.356965888461893,5.389367414579321,5.421817584239775,5.454316397443253,5.486863854189755,5.519459954479281,5.552104698311831,5.584798085687406,5.617540116606005,5.650330791067628,5.683170109072275,5.7160580706199475,5.748994675710644,5.781979924344363,5.815013816521108,5.848096352240876,5.881227531503669,5.914407354309486,5.947635820658328,5.980912930550193,6.014238683985084,6.047613080962998,6.081036121483937,6.1145078055479,6.148028133154886,6.181597104304898,6.215214718997934,6.248880977233993,6.282595879013078,6.316359424335185,6.3501716132003185,6.384032445608475,6.417941921559656,6.451900041053861,6.485906804091091,6.519962210671345,6.554066260794624,6.588218954460925,6.622420291670252,6.656670272422603,6.690968896717978,6.725316164556378,6.759712075937801,6.79415663086225,6.828649829329721,6.863191671340218,6.897782156893738,6.932421285990284,6.967109058629853,7.001845474812446,7.036630534538064,7.071464237806705,7.106346584618373,7.141277574973063,7.176257208870777,7.211285486311516,7.246362407295279,7.281487971822067,7.316662179891879,7.351885031504715,7.387156526660575,7.42247666535946,7.457845447601368,7.493262873386302,7.52872894271426,7.56424365558524,7.599807011999246,7.635419011956276,7.67107965545633,7.706788942499409,7.742546873085512,7.77835344721464,7.81420866488679,7.850112526101966,7.886065030860166,7.922066179161391,7.958115971005638,7.994214406392911,8.030361485323208,8.06655720779653,8.102801573812874,8.139094583372245,8.175436236474638,8.211826533120057,8.248265473308498,8.284753057039966,8.321289284314457,8.357874155131972,8.394507669492512,8.431189827396075,8.467920628842663,8.504700073832275,8.541528162364912,8.578404894440572,8.615330270059257,8.652304289220966,8.6893269519257,8.726398258173457,8.763518207964239,8.800686801298045,8.837904038174877,8.87516991859473,8.912484442557611,8.949847610063514,8.987259421112443,9.024719875704394,9.06222897383937,9.09978671551737,9.137393100738395,9.175048129502443,9.212751801809516,9.250504117659615,9.288305077052735,9.326154679988882,9.364052926468052,9.401999816490246,9.439995350055465,9.478039527163709,9.516132347814974,9.554273812009267,9.592463919746582,9.630702671026922,9.668990065850286,9.707326104216675,9.745710786126088,9.784144111578524,9.822626080573986,9.861156693112472,9.899735949193982,9.938363848818515,9.977040391986073,10.015765578696655,10.054539408950262,10.093361882746892,10.132233000086547,10.171152760969228,10.21012116539493,10.24913821336366,10.288203904875413,10.32731823993019,10.36648121852799,10.405692840668813,10.444953106352663,10.484262015579539,10.523619568349435,10.563025764662358,10.602480604518304,10.641984087917274,10.68153621485927,10.72113698534429,10.760786399372332],\"type\":\"scatter\"},{\"marker\":{\"color\":\"MediumPurple\",\"size\":10},\"mode\":\"markers\",\"name\":\"Puntos dados\",\"x\":[0.2,-0.2,-0.1,-0.6,-1.6,-18.9,-8.3,-4.2,-2.9,19.5,4.6,1.2,1.9,1.9,4.3],\"y\":[0,1,2,3,4,5,6,7,8,9,10,11,12,13,14],\"type\":\"scatter\"}],                        {\"template\":{\"data\":{\"bar\":[{\"error_x\":{\"color\":\"#2a3f5f\"},\"error_y\":{\"color\":\"#2a3f5f\"},\"marker\":{\"line\":{\"color\":\"#E5ECF6\",\"width\":0.5},\"pattern\":{\"fillmode\":\"overlay\",\"size\":10,\"solidity\":0.2}},\"type\":\"bar\"}],\"barpolar\":[{\"marker\":{\"line\":{\"color\":\"#E5ECF6\",\"width\":0.5},\"pattern\":{\"fillmode\":\"overlay\",\"size\":10,\"solidity\":0.2}},\"type\":\"barpolar\"}],\"carpet\":[{\"aaxis\":{\"endlinecolor\":\"#2a3f5f\",\"gridcolor\":\"white\",\"linecolor\":\"white\",\"minorgridcolor\":\"white\",\"startlinecolor\":\"#2a3f5f\"},\"baxis\":{\"endlinecolor\":\"#2a3f5f\",\"gridcolor\":\"white\",\"linecolor\":\"white\",\"minorgridcolor\":\"white\",\"startlinecolor\":\"#2a3f5f\"},\"type\":\"carpet\"}],\"choropleth\":[{\"colorbar\":{\"outlinewidth\":0,\"ticks\":\"\"},\"type\":\"choropleth\"}],\"contour\":[{\"colorbar\":{\"outlinewidth\":0,\"ticks\":\"\"},\"colorscale\":[[0.0,\"#0d0887\"],[0.1111111111111111,\"#46039f\"],[0.2222222222222222,\"#7201a8\"],[0.3333333333333333,\"#9c179e\"],[0.4444444444444444,\"#bd3786\"],[0.5555555555555556,\"#d8576b\"],[0.6666666666666666,\"#ed7953\"],[0.7777777777777778,\"#fb9f3a\"],[0.8888888888888888,\"#fdca26\"],[1.0,\"#f0f921\"]],\"type\":\"contour\"}],\"contourcarpet\":[{\"colorbar\":{\"outlinewidth\":0,\"ticks\":\"\"},\"type\":\"contourcarpet\"}],\"heatmap\":[{\"colorbar\":{\"outlinewidth\":0,\"ticks\":\"\"},\"colorscale\":[[0.0,\"#0d0887\"],[0.1111111111111111,\"#46039f\"],[0.2222222222222222,\"#7201a8\"],[0.3333333333333333,\"#9c179e\"],[0.4444444444444444,\"#bd3786\"],[0.5555555555555556,\"#d8576b\"],[0.6666666666666666,\"#ed7953\"],[0.7777777777777778,\"#fb9f3a\"],[0.8888888888888888,\"#fdca26\"],[1.0,\"#f0f921\"]],\"type\":\"heatmap\"}],\"heatmapgl\":[{\"colorbar\":{\"outlinewidth\":0,\"ticks\":\"\"},\"colorscale\":[[0.0,\"#0d0887\"],[0.1111111111111111,\"#46039f\"],[0.2222222222222222,\"#7201a8\"],[0.3333333333333333,\"#9c179e\"],[0.4444444444444444,\"#bd3786\"],[0.5555555555555556,\"#d8576b\"],[0.6666666666666666,\"#ed7953\"],[0.7777777777777778,\"#fb9f3a\"],[0.8888888888888888,\"#fdca26\"],[1.0,\"#f0f921\"]],\"type\":\"heatmapgl\"}],\"histogram\":[{\"marker\":{\"pattern\":{\"fillmode\":\"overlay\",\"size\":10,\"solidity\":0.2}},\"type\":\"histogram\"}],\"histogram2d\":[{\"colorbar\":{\"outlinewidth\":0,\"ticks\":\"\"},\"colorscale\":[[0.0,\"#0d0887\"],[0.1111111111111111,\"#46039f\"],[0.2222222222222222,\"#7201a8\"],[0.3333333333333333,\"#9c179e\"],[0.4444444444444444,\"#bd3786\"],[0.5555555555555556,\"#d8576b\"],[0.6666666666666666,\"#ed7953\"],[0.7777777777777778,\"#fb9f3a\"],[0.8888888888888888,\"#fdca26\"],[1.0,\"#f0f921\"]],\"type\":\"histogram2d\"}],\"histogram2dcontour\":[{\"colorbar\":{\"outlinewidth\":0,\"ticks\":\"\"},\"colorscale\":[[0.0,\"#0d0887\"],[0.1111111111111111,\"#46039f\"],[0.2222222222222222,\"#7201a8\"],[0.3333333333333333,\"#9c179e\"],[0.4444444444444444,\"#bd3786\"],[0.5555555555555556,\"#d8576b\"],[0.6666666666666666,\"#ed7953\"],[0.7777777777777778,\"#fb9f3a\"],[0.8888888888888888,\"#fdca26\"],[1.0,\"#f0f921\"]],\"type\":\"histogram2dcontour\"}],\"mesh3d\":[{\"colorbar\":{\"outlinewidth\":0,\"ticks\":\"\"},\"type\":\"mesh3d\"}],\"parcoords\":[{\"line\":{\"colorbar\":{\"outlinewidth\":0,\"ticks\":\"\"}},\"type\":\"parcoords\"}],\"pie\":[{\"automargin\":true,\"type\":\"pie\"}],\"scatter\":[{\"marker\":{\"colorbar\":{\"outlinewidth\":0,\"ticks\":\"\"}},\"type\":\"scatter\"}],\"scatter3d\":[{\"line\":{\"colorbar\":{\"outlinewidth\":0,\"ticks\":\"\"}},\"marker\":{\"colorbar\":{\"outlinewidth\":0,\"ticks\":\"\"}},\"type\":\"scatter3d\"}],\"scattercarpet\":[{\"marker\":{\"colorbar\":{\"outlinewidth\":0,\"ticks\":\"\"}},\"type\":\"scattercarpet\"}],\"scattergeo\":[{\"marker\":{\"colorbar\":{\"outlinewidth\":0,\"ticks\":\"\"}},\"type\":\"scattergeo\"}],\"scattergl\":[{\"marker\":{\"colorbar\":{\"outlinewidth\":0,\"ticks\":\"\"}},\"type\":\"scattergl\"}],\"scattermapbox\":[{\"marker\":{\"colorbar\":{\"outlinewidth\":0,\"ticks\":\"\"}},\"type\":\"scattermapbox\"}],\"scatterpolar\":[{\"marker\":{\"colorbar\":{\"outlinewidth\":0,\"ticks\":\"\"}},\"type\":\"scatterpolar\"}],\"scatterpolargl\":[{\"marker\":{\"colorbar\":{\"outlinewidth\":0,\"ticks\":\"\"}},\"type\":\"scatterpolargl\"}],\"scatterternary\":[{\"marker\":{\"colorbar\":{\"outlinewidth\":0,\"ticks\":\"\"}},\"type\":\"scatterternary\"}],\"surface\":[{\"colorbar\":{\"outlinewidth\":0,\"ticks\":\"\"},\"colorscale\":[[0.0,\"#0d0887\"],[0.1111111111111111,\"#46039f\"],[0.2222222222222222,\"#7201a8\"],[0.3333333333333333,\"#9c179e\"],[0.4444444444444444,\"#bd3786\"],[0.5555555555555556,\"#d8576b\"],[0.6666666666666666,\"#ed7953\"],[0.7777777777777778,\"#fb9f3a\"],[0.8888888888888888,\"#fdca26\"],[1.0,\"#f0f921\"]],\"type\":\"surface\"}],\"table\":[{\"cells\":{\"fill\":{\"color\":\"#EBF0F8\"},\"line\":{\"color\":\"white\"}},\"header\":{\"fill\":{\"color\":\"#C8D4E3\"},\"line\":{\"color\":\"white\"}},\"type\":\"table\"}]},\"layout\":{\"annotationdefaults\":{\"arrowcolor\":\"#2a3f5f\",\"arrowhead\":0,\"arrowwidth\":1},\"autotypenumbers\":\"strict\",\"coloraxis\":{\"colorbar\":{\"outlinewidth\":0,\"ticks\":\"\"}},\"colorscale\":{\"diverging\":[[0,\"#8e0152\"],[0.1,\"#c51b7d\"],[0.2,\"#de77ae\"],[0.3,\"#f1b6da\"],[0.4,\"#fde0ef\"],[0.5,\"#f7f7f7\"],[0.6,\"#e6f5d0\"],[0.7,\"#b8e186\"],[0.8,\"#7fbc41\"],[0.9,\"#4d9221\"],[1,\"#276419\"]],\"sequential\":[[0.0,\"#0d0887\"],[0.1111111111111111,\"#46039f\"],[0.2222222222222222,\"#7201a8\"],[0.3333333333333333,\"#9c179e\"],[0.4444444444444444,\"#bd3786\"],[0.5555555555555556,\"#d8576b\"],[0.6666666666666666,\"#ed7953\"],[0.7777777777777778,\"#fb9f3a\"],[0.8888888888888888,\"#fdca26\"],[1.0,\"#f0f921\"]],\"sequentialminus\":[[0.0,\"#0d0887\"],[0.1111111111111111,\"#46039f\"],[0.2222222222222222,\"#7201a8\"],[0.3333333333333333,\"#9c179e\"],[0.4444444444444444,\"#bd3786\"],[0.5555555555555556,\"#d8576b\"],[0.6666666666666666,\"#ed7953\"],[0.7777777777777778,\"#fb9f3a\"],[0.8888888888888888,\"#fdca26\"],[1.0,\"#f0f921\"]]},\"colorway\":[\"#636efa\",\"#EF553B\",\"#00cc96\",\"#ab63fa\",\"#FFA15A\",\"#19d3f3\",\"#FF6692\",\"#B6E880\",\"#FF97FF\",\"#FECB52\"],\"font\":{\"color\":\"#2a3f5f\"},\"geo\":{\"bgcolor\":\"white\",\"lakecolor\":\"white\",\"landcolor\":\"#E5ECF6\",\"showlakes\":true,\"showland\":true,\"subunitcolor\":\"white\"},\"hoverlabel\":{\"align\":\"left\"},\"hovermode\":\"closest\",\"mapbox\":{\"style\":\"light\"},\"paper_bgcolor\":\"white\",\"plot_bgcolor\":\"#E5ECF6\",\"polar\":{\"angularaxis\":{\"gridcolor\":\"white\",\"linecolor\":\"white\",\"ticks\":\"\"},\"bgcolor\":\"#E5ECF6\",\"radialaxis\":{\"gridcolor\":\"white\",\"linecolor\":\"white\",\"ticks\":\"\"}},\"scene\":{\"xaxis\":{\"backgroundcolor\":\"#E5ECF6\",\"gridcolor\":\"white\",\"gridwidth\":2,\"linecolor\":\"white\",\"showbackground\":true,\"ticks\":\"\",\"zerolinecolor\":\"white\"},\"yaxis\":{\"backgroundcolor\":\"#E5ECF6\",\"gridcolor\":\"white\",\"gridwidth\":2,\"linecolor\":\"white\",\"showbackground\":true,\"ticks\":\"\",\"zerolinecolor\":\"white\"},\"zaxis\":{\"backgroundcolor\":\"#E5ECF6\",\"gridcolor\":\"white\",\"gridwidth\":2,\"linecolor\":\"white\",\"showbackground\":true,\"ticks\":\"\",\"zerolinecolor\":\"white\"}},\"shapedefaults\":{\"line\":{\"color\":\"#2a3f5f\"}},\"ternary\":{\"aaxis\":{\"gridcolor\":\"white\",\"linecolor\":\"white\",\"ticks\":\"\"},\"baxis\":{\"gridcolor\":\"white\",\"linecolor\":\"white\",\"ticks\":\"\"},\"bgcolor\":\"#E5ECF6\",\"caxis\":{\"gridcolor\":\"white\",\"linecolor\":\"white\",\"ticks\":\"\"}},\"title\":{\"x\":0.05},\"xaxis\":{\"automargin\":true,\"gridcolor\":\"white\",\"linecolor\":\"white\",\"ticks\":\"\",\"title\":{\"standoff\":15},\"zerolinecolor\":\"white\",\"zerolinewidth\":2},\"yaxis\":{\"automargin\":true,\"gridcolor\":\"white\",\"linecolor\":\"white\",\"ticks\":\"\",\"title\":{\"standoff\":15},\"zerolinecolor\":\"white\",\"zerolinewidth\":2}}},\"title\":{\"font\":{\"size\":30},\"text\":\"Ajuste de minimos cuadrados\"}},                        {\"responsive\": true}                    ).then(function(){\n",
              "                            \n",
              "var gd = document.getElementById('c36f6d16-21b2-4b71-a156-12ad08fa3c54');\n",
              "var x = new MutationObserver(function (mutations, observer) {{\n",
              "        var display = window.getComputedStyle(gd).display;\n",
              "        if (!display || display === 'none') {{\n",
              "            console.log([gd, 'removed!']);\n",
              "            Plotly.purge(gd);\n",
              "            observer.disconnect();\n",
              "        }}\n",
              "}});\n",
              "\n",
              "// Listen for the removal of the full notebook cells\n",
              "var notebookContainer = gd.closest('#notebook-container');\n",
              "if (notebookContainer) {{\n",
              "    x.observe(notebookContainer, {childList: true});\n",
              "}}\n",
              "\n",
              "// Listen for the clearing of the current output cell\n",
              "var outputEl = gd.closest('.output');\n",
              "if (outputEl) {{\n",
              "    x.observe(outputEl, {childList: true});\n",
              "}}\n",
              "\n",
              "                        })                };                            </script>        </div>\n",
              "</body>\n",
              "</html>"
            ]
          },
          "metadata": {}
        },
        {
          "output_type": "stream",
          "name": "stdout",
          "text": [
            "***Polinomio\n",
            "\n"
          ]
        },
        {
          "output_type": "display_data",
          "data": {
            "text/plain": [
              "<IPython.core.display.Latex object>"
            ],
            "text/latex": "$P(x) = - 0.00157708516882567 x^{3} + 0.00235200817638456 x^{2} + 0.676238144924041 x + 7.02475995511757$"
          },
          "metadata": {}
        },
        {
          "output_type": "display_data",
          "data": {
            "text/html": [
              "<html>\n",
              "<head><meta charset=\"utf-8\" /></head>\n",
              "<body>\n",
              "    <div>            <script src=\"https://cdnjs.cloudflare.com/ajax/libs/mathjax/2.7.5/MathJax.js?config=TeX-AMS-MML_SVG\"></script><script type=\"text/javascript\">if (window.MathJax) {MathJax.Hub.Config({SVG: {font: \"STIX-Web\"}});}</script>                <script type=\"text/javascript\">window.PlotlyConfig = {MathJaxConfig: 'local'};</script>\n",
              "        <script src=\"https://cdn.plot.ly/plotly-2.8.3.min.js\"></script>                <div id=\"69c8b4a9-bc01-42bf-a365-122747cc221d\" class=\"plotly-graph-div\" style=\"height:525px; width:100%;\"></div>            <script type=\"text/javascript\">                                    window.PLOTLYENV=window.PLOTLYENV || {};                                    if (document.getElementById(\"69c8b4a9-bc01-42bf-a365-122747cc221d\")) {                    Plotly.newPlot(                        \"69c8b4a9-bc01-42bf-a365-122747cc221d\",                        [{\"marker\":{\"color\":\"LightSeaGreen\"},\"mode\":\"lines\",\"name\":\"P(x)\",\"x\":[-18.9,-18.707035175879394,-18.514070351758793,-18.32110552763819,-18.128140703517587,-17.935175879396983,-17.742211055276382,-17.549246231155777,-17.356281407035176,-17.16331658291457,-16.970351758793967,-16.777386934673366,-16.58442211055276,-16.39145728643216,-16.198492462311556,-16.005527638190955,-15.81256281407035,-15.619597989949748,-15.426633165829145,-15.23366834170854,-15.04070351758794,-14.847738693467335,-14.654773869346732,-14.46180904522613,-14.268844221105526,-14.075879396984924,-13.88291457286432,-13.689949748743718,-13.496984924623113,-13.304020100502512,-13.111055276381908,-12.918090452261305,-12.725125628140702,-12.5321608040201,-12.339195979899497,-12.146231155778892,-11.953266331658291,-11.760301507537687,-11.567336683417084,-11.374371859296481,-11.181407035175878,-10.988442211055276,-10.795477386934673,-10.60251256281407,-10.409547738693465,-10.216582914572863,-10.02361809045226,-9.830653266331657,-9.637688442211054,-9.444723618090451,-9.251758793969849,-9.058793969849246,-8.865829145728643,-8.672864321608039,-8.479899497487436,-8.286934673366833,-8.09396984924623,-7.901005025125627,-7.708040201005025,-7.515075376884422,-7.322110552763817,-7.1291457286432145,-6.936180904522612,-6.743216080402009,-6.550251256281406,-6.357286432160803,-6.164321608040201,-5.971356783919598,-5.778391959798995,-5.58542713567839,-5.392462311557788,-5.199497487437185,-5.006532663316582,-4.813567839195979,-4.6206030150753765,-4.427638190954774,-4.234673366834169,-4.041708542713566,-3.8487437185929636,-3.655778894472361,-3.462814070351758,-3.2698492462311552,-3.0768844221105525,-2.883919597989948,-2.690954773869347,-2.4979899497487423,-2.3050251256281413,-2.1120603015075368,-1.9190954773869322,-1.7261306532663312,-1.5331658291457266,-1.3402010050251256,-1.147236180904521,-0.95427135678392,-0.7613065326633155,-0.5683417085427145,-0.3753768844221099,-0.18241206030150536,0.010552763819095645,0.2035175879397002,0.3964824120603012,0.5894472361809058,0.7824120603015068,0.9753768844221113,1.1683417085427124,1.361306532663317,1.5542713567839215,1.7472361809045225,1.940201005025127,2.133165829145728,2.3261306532663326,2.5190954773869336,2.712060301507538,2.9050251256281427,3.0979899497487438,3.2909547738693483,3.4839195979899493,3.676884422110554,3.869849246231155,4.0628140703517595,4.255778894472364,4.448743718592965,4.64170854271357,4.834673366834171,5.027638190954775,5.220603015075376,5.413567839195981,5.606532663316582,5.799497487437186,5.992462311557791,6.185427135678392,6.378391959798996,6.571356783919597,6.764321608040202,6.957286432160803,7.150251256281408,7.343216080402009,7.536180904522613,7.729145728643218,7.922110552763819,8.115075376884423,8.308040201005024,8.501005025125629,8.69396984924623,8.886934673366834,9.079899497487439,9.27286432160804,9.465829145728645,9.658793969849246,9.85175879396985,10.044723618090451,10.237688442211056,10.43065326633166,10.623618090452261,10.816582914572866,11.009547738693467,11.202512562814071,11.395477386934672,11.588442211055277,11.781407035175878,11.974371859296483,12.167336683417087,12.360301507537688,12.553266331658293,12.746231155778894,12.939195979899498,13.132160804020103,13.325125628140704,13.518090452261305,13.711055276381913,13.904020100502514,14.096984924623115,14.289949748743716,14.482914572864324,14.675879396984925,14.868844221105526,15.061809045226134,15.254773869346735,15.447738693467336,15.640703517587937,15.833668341708545,16.026633165829146,16.219597989949747,16.41256281407035,16.605527638190956,16.798492462311557,16.99145728643216,17.184422110552767,17.377386934673368,17.57035175879397,17.76331658291457,17.956281407035178,18.14924623115578,18.34221105527638,18.535175879396988,18.72814070351759,18.92110552763819,19.11407035175879,19.3070351758794,19.5],\"y\":[5.731346067392033,5.521965849770757,5.319352036253408,5.1234366374973925,4.934151664160133,4.7514291268990405,4.5752010363715305,4.405399403235016,4.241956238146916,4.084803551764642,3.9338733547456073,3.7890976577472317,3.650408471426926,3.5177378064421085,3.3910176734501882,3.2701800831085865,3.155157046074714,3.0458805730059852,2.9422826745598196,2.8442953613936255,2.751850644164822,2.6648805335308223,2.5833170401490433,2.5070921746768966,2.4361379477718,2.3703863700911665,2.3097694522924113,2.254219205032949,2.2036676389701935,2.1580467647615618,2.117288593064467,2.081325134536324,2.05008839983455,2.0235103996165558,2.001523144539758,1.9840586452615745,1.9710489124394142,1.9624259567306963,1.9581217887928344,1.958068419283242,1.9621978588593354,1.970442118178529,1.9827332078982383,1.9990031386758766,2.01918392116886,2.043207566034602,2.0710060839305187,2.1025114855140234,2.1376557814425325,2.1763709823734603,2.2185890989642214,2.26424214187223,2.313262121754902,2.365581049269652,2.421130935073894,2.4798437898250425,2.5416516241805143,2.6064864487977224,2.6742802743340826,2.7449651114470086,2.8184729707939167,2.8947358630322206,2.973685798819335,3.055254788812674,3.1393748436696542,3.22597797404769,3.3149961906041954,3.4063615039965858,3.5000059248822755,3.5958614639186806,3.6938601317632136,3.793933939073291,3.896014896506327,4.000035014719737,4.105926304370935,4.213620776117335,4.323050440616355,4.434147308525407,4.546843390501906,4.661070697203268,4.776761239286906,4.893847027410237,5.012260072230674,5.1319323844056335,5.252795974592528,5.374782853448774,5.497825031631785,5.621854519798978,5.7468033286077675,5.872603468715563,5.999186950779788,6.126485785457849,6.254431983407168,6.382957555285153,6.511994511749226,6.641474863456795,6.77133062106528,6.901493795232093,7.0318963966146475,7.162470435870363,7.293147923656647,7.423860870630923,7.554541287450599,7.685121184773094,7.815532573255821,7.945707463556195,8.075577866331631,8.20507579223954,8.334133251937345,8.462682256082452,8.590654815332284,8.717982940344248,8.844598641775766,8.970433930284246,9.095420816527108,9.219491311161764,9.342577424845631,9.46461116823612,9.585524551990648,9.705249586766634,9.823718283221485,9.94086265201262,10.056614703797457,10.170906449233401,10.283669898977879,10.394837063688296,10.504339954022072,10.61211058063662,10.718080954189356,10.822183085337693,10.924348984739044,11.024510663050833,11.122600130930465,11.218549399035355,11.312290478022923,11.403755378550587,11.492876111275748,11.579584686855835,11.663813115948257,11.745493409210425,11.82455757729976,11.900937630873674,11.974565580589584,12.0453734371049,12.113293211077043,12.178256913163422,12.240196554021454,12.299044144308557,12.35473169468214,12.407191215799621,12.456354718318417,12.502154212895942,12.544521710189604,12.583389220856825,12.618688755555022,12.6503523249416,12.67831193967398,12.702499610409578,12.722847347805805,12.739287162520078,12.751751065209815,12.760171066532422,12.764479177145324,12.76460740770593,12.760487768871654,12.752052271299911,12.739232925648121,12.721961742573692,12.700170732734046,12.673791906786587,12.642757275388742,12.606998849197918,12.566448638871531,12.521038655067002,12.470700908441732,12.41536740965315,12.354970169358667,12.289441198215687,12.218712506881644,12.142716106013943,12.061384006269988,11.974648218307212,11.882440752783022,11.784693620354833,11.681338831680055,11.572308397416109,11.457534328220412,11.336948634750367,11.210483327663404,11.07807041761693,10.93964191526836,10.795129831275103,10.644466176294586,10.48758296098422,10.324412196001408,10.154885892003582,9.97893605964815,9.796494709592526,9.607493852494114,9.411865499010352],\"type\":\"scatter\"},{\"marker\":{\"color\":\"MediumPurple\",\"size\":10},\"mode\":\"markers\",\"name\":\"Puntos dados\",\"x\":[0.2,-0.2,-0.1,-0.6,-1.6,-18.9,-8.3,-4.2,-2.9,19.5,4.6,1.2,1.9,1.9,4.3],\"y\":[0,1,2,3,4,5,6,7,8,9,10,11,12,13,14],\"type\":\"scatter\"}],                        {\"template\":{\"data\":{\"bar\":[{\"error_x\":{\"color\":\"#2a3f5f\"},\"error_y\":{\"color\":\"#2a3f5f\"},\"marker\":{\"line\":{\"color\":\"#E5ECF6\",\"width\":0.5},\"pattern\":{\"fillmode\":\"overlay\",\"size\":10,\"solidity\":0.2}},\"type\":\"bar\"}],\"barpolar\":[{\"marker\":{\"line\":{\"color\":\"#E5ECF6\",\"width\":0.5},\"pattern\":{\"fillmode\":\"overlay\",\"size\":10,\"solidity\":0.2}},\"type\":\"barpolar\"}],\"carpet\":[{\"aaxis\":{\"endlinecolor\":\"#2a3f5f\",\"gridcolor\":\"white\",\"linecolor\":\"white\",\"minorgridcolor\":\"white\",\"startlinecolor\":\"#2a3f5f\"},\"baxis\":{\"endlinecolor\":\"#2a3f5f\",\"gridcolor\":\"white\",\"linecolor\":\"white\",\"minorgridcolor\":\"white\",\"startlinecolor\":\"#2a3f5f\"},\"type\":\"carpet\"}],\"choropleth\":[{\"colorbar\":{\"outlinewidth\":0,\"ticks\":\"\"},\"type\":\"choropleth\"}],\"contour\":[{\"colorbar\":{\"outlinewidth\":0,\"ticks\":\"\"},\"colorscale\":[[0.0,\"#0d0887\"],[0.1111111111111111,\"#46039f\"],[0.2222222222222222,\"#7201a8\"],[0.3333333333333333,\"#9c179e\"],[0.4444444444444444,\"#bd3786\"],[0.5555555555555556,\"#d8576b\"],[0.6666666666666666,\"#ed7953\"],[0.7777777777777778,\"#fb9f3a\"],[0.8888888888888888,\"#fdca26\"],[1.0,\"#f0f921\"]],\"type\":\"contour\"}],\"contourcarpet\":[{\"colorbar\":{\"outlinewidth\":0,\"ticks\":\"\"},\"type\":\"contourcarpet\"}],\"heatmap\":[{\"colorbar\":{\"outlinewidth\":0,\"ticks\":\"\"},\"colorscale\":[[0.0,\"#0d0887\"],[0.1111111111111111,\"#46039f\"],[0.2222222222222222,\"#7201a8\"],[0.3333333333333333,\"#9c179e\"],[0.4444444444444444,\"#bd3786\"],[0.5555555555555556,\"#d8576b\"],[0.6666666666666666,\"#ed7953\"],[0.7777777777777778,\"#fb9f3a\"],[0.8888888888888888,\"#fdca26\"],[1.0,\"#f0f921\"]],\"type\":\"heatmap\"}],\"heatmapgl\":[{\"colorbar\":{\"outlinewidth\":0,\"ticks\":\"\"},\"colorscale\":[[0.0,\"#0d0887\"],[0.1111111111111111,\"#46039f\"],[0.2222222222222222,\"#7201a8\"],[0.3333333333333333,\"#9c179e\"],[0.4444444444444444,\"#bd3786\"],[0.5555555555555556,\"#d8576b\"],[0.6666666666666666,\"#ed7953\"],[0.7777777777777778,\"#fb9f3a\"],[0.8888888888888888,\"#fdca26\"],[1.0,\"#f0f921\"]],\"type\":\"heatmapgl\"}],\"histogram\":[{\"marker\":{\"pattern\":{\"fillmode\":\"overlay\",\"size\":10,\"solidity\":0.2}},\"type\":\"histogram\"}],\"histogram2d\":[{\"colorbar\":{\"outlinewidth\":0,\"ticks\":\"\"},\"colorscale\":[[0.0,\"#0d0887\"],[0.1111111111111111,\"#46039f\"],[0.2222222222222222,\"#7201a8\"],[0.3333333333333333,\"#9c179e\"],[0.4444444444444444,\"#bd3786\"],[0.5555555555555556,\"#d8576b\"],[0.6666666666666666,\"#ed7953\"],[0.7777777777777778,\"#fb9f3a\"],[0.8888888888888888,\"#fdca26\"],[1.0,\"#f0f921\"]],\"type\":\"histogram2d\"}],\"histogram2dcontour\":[{\"colorbar\":{\"outlinewidth\":0,\"ticks\":\"\"},\"colorscale\":[[0.0,\"#0d0887\"],[0.1111111111111111,\"#46039f\"],[0.2222222222222222,\"#7201a8\"],[0.3333333333333333,\"#9c179e\"],[0.4444444444444444,\"#bd3786\"],[0.5555555555555556,\"#d8576b\"],[0.6666666666666666,\"#ed7953\"],[0.7777777777777778,\"#fb9f3a\"],[0.8888888888888888,\"#fdca26\"],[1.0,\"#f0f921\"]],\"type\":\"histogram2dcontour\"}],\"mesh3d\":[{\"colorbar\":{\"outlinewidth\":0,\"ticks\":\"\"},\"type\":\"mesh3d\"}],\"parcoords\":[{\"line\":{\"colorbar\":{\"outlinewidth\":0,\"ticks\":\"\"}},\"type\":\"parcoords\"}],\"pie\":[{\"automargin\":true,\"type\":\"pie\"}],\"scatter\":[{\"marker\":{\"colorbar\":{\"outlinewidth\":0,\"ticks\":\"\"}},\"type\":\"scatter\"}],\"scatter3d\":[{\"line\":{\"colorbar\":{\"outlinewidth\":0,\"ticks\":\"\"}},\"marker\":{\"colorbar\":{\"outlinewidth\":0,\"ticks\":\"\"}},\"type\":\"scatter3d\"}],\"scattercarpet\":[{\"marker\":{\"colorbar\":{\"outlinewidth\":0,\"ticks\":\"\"}},\"type\":\"scattercarpet\"}],\"scattergeo\":[{\"marker\":{\"colorbar\":{\"outlinewidth\":0,\"ticks\":\"\"}},\"type\":\"scattergeo\"}],\"scattergl\":[{\"marker\":{\"colorbar\":{\"outlinewidth\":0,\"ticks\":\"\"}},\"type\":\"scattergl\"}],\"scattermapbox\":[{\"marker\":{\"colorbar\":{\"outlinewidth\":0,\"ticks\":\"\"}},\"type\":\"scattermapbox\"}],\"scatterpolar\":[{\"marker\":{\"colorbar\":{\"outlinewidth\":0,\"ticks\":\"\"}},\"type\":\"scatterpolar\"}],\"scatterpolargl\":[{\"marker\":{\"colorbar\":{\"outlinewidth\":0,\"ticks\":\"\"}},\"type\":\"scatterpolargl\"}],\"scatterternary\":[{\"marker\":{\"colorbar\":{\"outlinewidth\":0,\"ticks\":\"\"}},\"type\":\"scatterternary\"}],\"surface\":[{\"colorbar\":{\"outlinewidth\":0,\"ticks\":\"\"},\"colorscale\":[[0.0,\"#0d0887\"],[0.1111111111111111,\"#46039f\"],[0.2222222222222222,\"#7201a8\"],[0.3333333333333333,\"#9c179e\"],[0.4444444444444444,\"#bd3786\"],[0.5555555555555556,\"#d8576b\"],[0.6666666666666666,\"#ed7953\"],[0.7777777777777778,\"#fb9f3a\"],[0.8888888888888888,\"#fdca26\"],[1.0,\"#f0f921\"]],\"type\":\"surface\"}],\"table\":[{\"cells\":{\"fill\":{\"color\":\"#EBF0F8\"},\"line\":{\"color\":\"white\"}},\"header\":{\"fill\":{\"color\":\"#C8D4E3\"},\"line\":{\"color\":\"white\"}},\"type\":\"table\"}]},\"layout\":{\"annotationdefaults\":{\"arrowcolor\":\"#2a3f5f\",\"arrowhead\":0,\"arrowwidth\":1},\"autotypenumbers\":\"strict\",\"coloraxis\":{\"colorbar\":{\"outlinewidth\":0,\"ticks\":\"\"}},\"colorscale\":{\"diverging\":[[0,\"#8e0152\"],[0.1,\"#c51b7d\"],[0.2,\"#de77ae\"],[0.3,\"#f1b6da\"],[0.4,\"#fde0ef\"],[0.5,\"#f7f7f7\"],[0.6,\"#e6f5d0\"],[0.7,\"#b8e186\"],[0.8,\"#7fbc41\"],[0.9,\"#4d9221\"],[1,\"#276419\"]],\"sequential\":[[0.0,\"#0d0887\"],[0.1111111111111111,\"#46039f\"],[0.2222222222222222,\"#7201a8\"],[0.3333333333333333,\"#9c179e\"],[0.4444444444444444,\"#bd3786\"],[0.5555555555555556,\"#d8576b\"],[0.6666666666666666,\"#ed7953\"],[0.7777777777777778,\"#fb9f3a\"],[0.8888888888888888,\"#fdca26\"],[1.0,\"#f0f921\"]],\"sequentialminus\":[[0.0,\"#0d0887\"],[0.1111111111111111,\"#46039f\"],[0.2222222222222222,\"#7201a8\"],[0.3333333333333333,\"#9c179e\"],[0.4444444444444444,\"#bd3786\"],[0.5555555555555556,\"#d8576b\"],[0.6666666666666666,\"#ed7953\"],[0.7777777777777778,\"#fb9f3a\"],[0.8888888888888888,\"#fdca26\"],[1.0,\"#f0f921\"]]},\"colorway\":[\"#636efa\",\"#EF553B\",\"#00cc96\",\"#ab63fa\",\"#FFA15A\",\"#19d3f3\",\"#FF6692\",\"#B6E880\",\"#FF97FF\",\"#FECB52\"],\"font\":{\"color\":\"#2a3f5f\"},\"geo\":{\"bgcolor\":\"white\",\"lakecolor\":\"white\",\"landcolor\":\"#E5ECF6\",\"showlakes\":true,\"showland\":true,\"subunitcolor\":\"white\"},\"hoverlabel\":{\"align\":\"left\"},\"hovermode\":\"closest\",\"mapbox\":{\"style\":\"light\"},\"paper_bgcolor\":\"white\",\"plot_bgcolor\":\"#E5ECF6\",\"polar\":{\"angularaxis\":{\"gridcolor\":\"white\",\"linecolor\":\"white\",\"ticks\":\"\"},\"bgcolor\":\"#E5ECF6\",\"radialaxis\":{\"gridcolor\":\"white\",\"linecolor\":\"white\",\"ticks\":\"\"}},\"scene\":{\"xaxis\":{\"backgroundcolor\":\"#E5ECF6\",\"gridcolor\":\"white\",\"gridwidth\":2,\"linecolor\":\"white\",\"showbackground\":true,\"ticks\":\"\",\"zerolinecolor\":\"white\"},\"yaxis\":{\"backgroundcolor\":\"#E5ECF6\",\"gridcolor\":\"white\",\"gridwidth\":2,\"linecolor\":\"white\",\"showbackground\":true,\"ticks\":\"\",\"zerolinecolor\":\"white\"},\"zaxis\":{\"backgroundcolor\":\"#E5ECF6\",\"gridcolor\":\"white\",\"gridwidth\":2,\"linecolor\":\"white\",\"showbackground\":true,\"ticks\":\"\",\"zerolinecolor\":\"white\"}},\"shapedefaults\":{\"line\":{\"color\":\"#2a3f5f\"}},\"ternary\":{\"aaxis\":{\"gridcolor\":\"white\",\"linecolor\":\"white\",\"ticks\":\"\"},\"baxis\":{\"gridcolor\":\"white\",\"linecolor\":\"white\",\"ticks\":\"\"},\"bgcolor\":\"#E5ECF6\",\"caxis\":{\"gridcolor\":\"white\",\"linecolor\":\"white\",\"ticks\":\"\"}},\"title\":{\"x\":0.05},\"xaxis\":{\"automargin\":true,\"gridcolor\":\"white\",\"linecolor\":\"white\",\"ticks\":\"\",\"title\":{\"standoff\":15},\"zerolinecolor\":\"white\",\"zerolinewidth\":2},\"yaxis\":{\"automargin\":true,\"gridcolor\":\"white\",\"linecolor\":\"white\",\"ticks\":\"\",\"title\":{\"standoff\":15},\"zerolinecolor\":\"white\",\"zerolinewidth\":2}}},\"title\":{\"font\":{\"size\":30},\"text\":\"Ajuste de minimos cuadrados\"}},                        {\"responsive\": true}                    ).then(function(){\n",
              "                            \n",
              "var gd = document.getElementById('69c8b4a9-bc01-42bf-a365-122747cc221d');\n",
              "var x = new MutationObserver(function (mutations, observer) {{\n",
              "        var display = window.getComputedStyle(gd).display;\n",
              "        if (!display || display === 'none') {{\n",
              "            console.log([gd, 'removed!']);\n",
              "            Plotly.purge(gd);\n",
              "            observer.disconnect();\n",
              "        }}\n",
              "}});\n",
              "\n",
              "// Listen for the removal of the full notebook cells\n",
              "var notebookContainer = gd.closest('#notebook-container');\n",
              "if (notebookContainer) {{\n",
              "    x.observe(notebookContainer, {childList: true});\n",
              "}}\n",
              "\n",
              "// Listen for the clearing of the current output cell\n",
              "var outputEl = gd.closest('.output');\n",
              "if (outputEl) {{\n",
              "    x.observe(outputEl, {childList: true});\n",
              "}}\n",
              "\n",
              "                        })                };                            </script>        </div>\n",
              "</body>\n",
              "</html>"
            ]
          },
          "metadata": {}
        },
        {
          "output_type": "stream",
          "name": "stdout",
          "text": [
            "***Polinomio\n",
            "\n"
          ]
        },
        {
          "output_type": "display_data",
          "data": {
            "text/plain": [
              "<IPython.core.display.Latex object>"
            ],
            "text/latex": "$P(x) = - 0.000416363674140642 x^{4} - 0.00226982607542337 x^{3} + 0.158536936719173 x^{2} + 1.03175354427552 x + 5.62792086016306$"
          },
          "metadata": {}
        },
        {
          "output_type": "display_data",
          "data": {
            "text/html": [
              "<html>\n",
              "<head><meta charset=\"utf-8\" /></head>\n",
              "<body>\n",
              "    <div>            <script src=\"https://cdnjs.cloudflare.com/ajax/libs/mathjax/2.7.5/MathJax.js?config=TeX-AMS-MML_SVG\"></script><script type=\"text/javascript\">if (window.MathJax) {MathJax.Hub.Config({SVG: {font: \"STIX-Web\"}});}</script>                <script type=\"text/javascript\">window.PlotlyConfig = {MathJaxConfig: 'local'};</script>\n",
              "        <script src=\"https://cdn.plot.ly/plotly-2.8.3.min.js\"></script>                <div id=\"d79449e2-5403-45fe-941a-2393813c6a35\" class=\"plotly-graph-div\" style=\"height:525px; width:100%;\"></div>            <script type=\"text/javascript\">                                    window.PLOTLYENV=window.PLOTLYENV || {};                                    if (document.getElementById(\"d79449e2-5403-45fe-941a-2393813c6a35\")) {                    Plotly.newPlot(                        \"d79449e2-5403-45fe-941a-2393813c6a35\",                        [{\"marker\":{\"color\":\"LightSeaGreen\"},\"mode\":\"lines\",\"name\":\"P(x)\",\"x\":[-18.9,-18.707035175879394,-18.514070351758793,-18.32110552763819,-18.128140703517587,-17.935175879396983,-17.742211055276382,-17.549246231155777,-17.356281407035176,-17.16331658291457,-16.970351758793967,-16.777386934673366,-16.58442211055276,-16.39145728643216,-16.198492462311556,-16.005527638190955,-15.81256281407035,-15.619597989949748,-15.426633165829145,-15.23366834170854,-15.04070351758794,-14.847738693467335,-14.654773869346732,-14.46180904522613,-14.268844221105526,-14.075879396984924,-13.88291457286432,-13.689949748743718,-13.496984924623113,-13.304020100502512,-13.111055276381908,-12.918090452261305,-12.725125628140702,-12.5321608040201,-12.339195979899497,-12.146231155778892,-11.953266331658291,-11.760301507537687,-11.567336683417084,-11.374371859296481,-11.181407035175878,-10.988442211055276,-10.795477386934673,-10.60251256281407,-10.409547738693465,-10.216582914572863,-10.02361809045226,-9.830653266331657,-9.637688442211054,-9.444723618090451,-9.251758793969849,-9.058793969849246,-8.865829145728643,-8.672864321608039,-8.479899497487436,-8.286934673366833,-8.09396984924623,-7.901005025125627,-7.708040201005025,-7.515075376884422,-7.322110552763817,-7.1291457286432145,-6.936180904522612,-6.743216080402009,-6.550251256281406,-6.357286432160803,-6.164321608040201,-5.971356783919598,-5.778391959798995,-5.58542713567839,-5.392462311557788,-5.199497487437185,-5.006532663316582,-4.813567839195979,-4.6206030150753765,-4.427638190954774,-4.234673366834169,-4.041708542713566,-3.8487437185929636,-3.655778894472361,-3.462814070351758,-3.2698492462311552,-3.0768844221105525,-2.883919597989948,-2.690954773869347,-2.4979899497487423,-2.3050251256281413,-2.1120603015075368,-1.9190954773869322,-1.7261306532663312,-1.5331658291457266,-1.3402010050251256,-1.147236180904521,-0.95427135678392,-0.7613065326633155,-0.5683417085427145,-0.3753768844221099,-0.18241206030150536,0.010552763819095645,0.2035175879397002,0.3964824120603012,0.5894472361809058,0.7824120603015068,0.9753768844221113,1.1683417085427124,1.361306532663317,1.5542713567839215,1.7472361809045225,1.940201005025127,2.133165829145728,2.3261306532663326,2.5190954773869336,2.712060301507538,2.9050251256281427,3.0979899497487438,3.2909547738693483,3.4839195979899493,3.676884422110554,3.869849246231155,4.0628140703517595,4.255778894472364,4.448743718592965,4.64170854271357,4.834673366834171,5.027638190954775,5.220603015075376,5.413567839195981,5.606532663316582,5.799497487437186,5.992462311557791,6.185427135678392,6.378391959798996,6.571356783919597,6.764321608040202,6.957286432160803,7.150251256281408,7.343216080402009,7.536180904522613,7.729145728643218,7.922110552763819,8.115075376884423,8.308040201005024,8.501005025125629,8.69396984924623,8.886934673366834,9.079899497487439,9.27286432160804,9.465829145728645,9.658793969849246,9.85175879396985,10.044723618090451,10.237688442211056,10.43065326633166,10.623618090452261,10.816582914572866,11.009547738693467,11.202512562814071,11.395477386934672,11.588442211055277,11.781407035175878,11.974371859296483,12.167336683417087,12.360301507537688,12.553266331658293,12.746231155778894,12.939195979899498,13.132160804020103,13.325125628140704,13.518090452261305,13.711055276381913,13.904020100502514,14.096984924623115,14.289949748743716,14.482914572864324,14.675879396984925,14.868844221105526,15.061809045226134,15.254773869346735,15.447738693467336,15.640703517587937,15.833668341708545,16.026633165829146,16.219597989949747,16.41256281407035,16.605527638190956,16.798492462311557,16.99145728643216,17.184422110552767,17.377386934673368,17.57035175879397,17.76331658291457,17.956281407035178,18.14924623115578,18.34221105527638,18.535175879396988,18.72814070351759,18.92110552763819,19.11407035175879,19.3070351758794,19.5],\"y\":[4.95538262071954,5.676085049860092,6.352973291257612,6.987285710435728,7.580246818232723,8.133067270801554,8.646943869609913,9.12305956144015,9.562583438389318,9.966670737869173,10.336462842606132,10.673087280641305,10.977657725330545,11.25127399534436,11.495022054667928,11.709974012601148,11.897188123758596,12.057708788069565,12.192566550778004,12.30277810244258,12.389346278936628,12.45326006144819,12.495494576479995,12.517011095849465,12.518757036688719,12.501665961444555,12.466657577878472,12.414637739066652,12.34649844339997,12.263117834584001,12.165360201639007,12.05407597889993,11.93010174601642,11.794260227952805,11.647360294988117,11.49019696271607,11.323551392045072,11.148190889198219,10.964868905713306,10.774325038442814,10.57728502955391,10.374460766528461,10.166550282163024,9.954237754568844,9.738193507171859,9.5190740087127,9.297521873246685,9.07416586014383,8.849620874088831,8.624487965081089,8.399354328434685,8.174793304778397,7.951364380055695,7.729613185524734,7.510071497758367,7.293257238644139,7.079674475384276,6.869813420495712,6.6641504318100555,6.463148012473613,6.267254810947384,6.076905621007059,5.8925213817430215,5.714509177560339,5.5432622381787775,5.379159938632788,5.222567799271522,5.07383748575881,4.933306809073185,4.801299725507865,4.67812633667076,4.564082889484475,4.4594517761863015,4.364501534328226,4.27948684677692,4.2046485417137545,4.140213592634788,4.086395118350769,4.043392382987139,4.011390795984031,3.9905619120962683,3.981063431393365,3.983039199259527,3.996619206393653,4.02191958880933,4.059042627834841,4.108076750113153,4.169096527601933,4.242162677573533,4.3273220626149955,4.4246076906280605,4.534038714829153,4.655620433749393,4.789344291234589,4.935187876445245,5.093114923856552,5.263075313258395,5.44500506975535,5.638826363766679,5.844447511026345,6.061762972582991,6.290653354799967,6.530985409355292,6.782612033241701,7.045372268766598,7.319091303552097,7.60358047053499,7.898637247966761,8.204045259413599,8.519574273756364,8.844980205190627,9.18000511322663,9.524377202689331,9.877810823718358,10.240006471768032,10.610650787607385,10.98941655732011,11.375962712304625,11.769934329274003,12.170962630256044,12.578664982593219,12.99264489894268,13.412492037276303,13.83778220088062,14.268077338356886,14.702925543621015,15.141861055903645,15.584404259750078,16.030061685020325,16.47832600688908,16.928676045845723,17.380576767694347,17.833479283553707,18.28682084985727,18.74002486835319,19.192500886104316,19.643644595488166,20.09283783419698,20.539448585237675,20.982830976931844,21.42232528291581,21.85725792214055,22.286941458871745,22.71067460268977,23.127742208489703,23.537415276481287,23.938950952188964,24.33159252645188,24.714569435423872,25.08709726057346,25.448377728683838,25.797598711852935,26.13393422749333,26.4565444383323,26.764575652411864,27.05716032308863,27.333417049034022,27.592450574234036,27.83335178798945,28.055197724915693,28.257051564942877,28.437962633315827,28.59696640059405,28.73308448265174,28.845324640677795,28.932680781175787,28.99413295596402,29.028647362175406,29.03517634225763,29.01265838397305,28.96001812039868,28.87616632992626,28.759999936262226,28.61040200842765,28.426241760758373,28.206374552904872,27.949641889832325,27.65487142182063,27.32087694446434,26.94645839867273,26.53040187066971,26.07147959199399,25.56844993949884,25.02005743535234,24.42503274703713,23.78209268735067,23.08994021440507,22.34726443162708,21.552740587758215,20.705030076854626,19.802780438287193,18.844625356741417,17.829184662217628,16.755064330030727,15.620856480810268,14.425139380500731,13.166477440361014,11.843421216964828,10.454507412200542,8.998258873271325],\"type\":\"scatter\"},{\"marker\":{\"color\":\"MediumPurple\",\"size\":10},\"mode\":\"markers\",\"name\":\"Puntos dados\",\"x\":[0.2,-0.2,-0.1,-0.6,-1.6,-18.9,-8.3,-4.2,-2.9,19.5,4.6,1.2,1.9,1.9,4.3],\"y\":[0,1,2,3,4,5,6,7,8,9,10,11,12,13,14],\"type\":\"scatter\"}],                        {\"template\":{\"data\":{\"bar\":[{\"error_x\":{\"color\":\"#2a3f5f\"},\"error_y\":{\"color\":\"#2a3f5f\"},\"marker\":{\"line\":{\"color\":\"#E5ECF6\",\"width\":0.5},\"pattern\":{\"fillmode\":\"overlay\",\"size\":10,\"solidity\":0.2}},\"type\":\"bar\"}],\"barpolar\":[{\"marker\":{\"line\":{\"color\":\"#E5ECF6\",\"width\":0.5},\"pattern\":{\"fillmode\":\"overlay\",\"size\":10,\"solidity\":0.2}},\"type\":\"barpolar\"}],\"carpet\":[{\"aaxis\":{\"endlinecolor\":\"#2a3f5f\",\"gridcolor\":\"white\",\"linecolor\":\"white\",\"minorgridcolor\":\"white\",\"startlinecolor\":\"#2a3f5f\"},\"baxis\":{\"endlinecolor\":\"#2a3f5f\",\"gridcolor\":\"white\",\"linecolor\":\"white\",\"minorgridcolor\":\"white\",\"startlinecolor\":\"#2a3f5f\"},\"type\":\"carpet\"}],\"choropleth\":[{\"colorbar\":{\"outlinewidth\":0,\"ticks\":\"\"},\"type\":\"choropleth\"}],\"contour\":[{\"colorbar\":{\"outlinewidth\":0,\"ticks\":\"\"},\"colorscale\":[[0.0,\"#0d0887\"],[0.1111111111111111,\"#46039f\"],[0.2222222222222222,\"#7201a8\"],[0.3333333333333333,\"#9c179e\"],[0.4444444444444444,\"#bd3786\"],[0.5555555555555556,\"#d8576b\"],[0.6666666666666666,\"#ed7953\"],[0.7777777777777778,\"#fb9f3a\"],[0.8888888888888888,\"#fdca26\"],[1.0,\"#f0f921\"]],\"type\":\"contour\"}],\"contourcarpet\":[{\"colorbar\":{\"outlinewidth\":0,\"ticks\":\"\"},\"type\":\"contourcarpet\"}],\"heatmap\":[{\"colorbar\":{\"outlinewidth\":0,\"ticks\":\"\"},\"colorscale\":[[0.0,\"#0d0887\"],[0.1111111111111111,\"#46039f\"],[0.2222222222222222,\"#7201a8\"],[0.3333333333333333,\"#9c179e\"],[0.4444444444444444,\"#bd3786\"],[0.5555555555555556,\"#d8576b\"],[0.6666666666666666,\"#ed7953\"],[0.7777777777777778,\"#fb9f3a\"],[0.8888888888888888,\"#fdca26\"],[1.0,\"#f0f921\"]],\"type\":\"heatmap\"}],\"heatmapgl\":[{\"colorbar\":{\"outlinewidth\":0,\"ticks\":\"\"},\"colorscale\":[[0.0,\"#0d0887\"],[0.1111111111111111,\"#46039f\"],[0.2222222222222222,\"#7201a8\"],[0.3333333333333333,\"#9c179e\"],[0.4444444444444444,\"#bd3786\"],[0.5555555555555556,\"#d8576b\"],[0.6666666666666666,\"#ed7953\"],[0.7777777777777778,\"#fb9f3a\"],[0.8888888888888888,\"#fdca26\"],[1.0,\"#f0f921\"]],\"type\":\"heatmapgl\"}],\"histogram\":[{\"marker\":{\"pattern\":{\"fillmode\":\"overlay\",\"size\":10,\"solidity\":0.2}},\"type\":\"histogram\"}],\"histogram2d\":[{\"colorbar\":{\"outlinewidth\":0,\"ticks\":\"\"},\"colorscale\":[[0.0,\"#0d0887\"],[0.1111111111111111,\"#46039f\"],[0.2222222222222222,\"#7201a8\"],[0.3333333333333333,\"#9c179e\"],[0.4444444444444444,\"#bd3786\"],[0.5555555555555556,\"#d8576b\"],[0.6666666666666666,\"#ed7953\"],[0.7777777777777778,\"#fb9f3a\"],[0.8888888888888888,\"#fdca26\"],[1.0,\"#f0f921\"]],\"type\":\"histogram2d\"}],\"histogram2dcontour\":[{\"colorbar\":{\"outlinewidth\":0,\"ticks\":\"\"},\"colorscale\":[[0.0,\"#0d0887\"],[0.1111111111111111,\"#46039f\"],[0.2222222222222222,\"#7201a8\"],[0.3333333333333333,\"#9c179e\"],[0.4444444444444444,\"#bd3786\"],[0.5555555555555556,\"#d8576b\"],[0.6666666666666666,\"#ed7953\"],[0.7777777777777778,\"#fb9f3a\"],[0.8888888888888888,\"#fdca26\"],[1.0,\"#f0f921\"]],\"type\":\"histogram2dcontour\"}],\"mesh3d\":[{\"colorbar\":{\"outlinewidth\":0,\"ticks\":\"\"},\"type\":\"mesh3d\"}],\"parcoords\":[{\"line\":{\"colorbar\":{\"outlinewidth\":0,\"ticks\":\"\"}},\"type\":\"parcoords\"}],\"pie\":[{\"automargin\":true,\"type\":\"pie\"}],\"scatter\":[{\"marker\":{\"colorbar\":{\"outlinewidth\":0,\"ticks\":\"\"}},\"type\":\"scatter\"}],\"scatter3d\":[{\"line\":{\"colorbar\":{\"outlinewidth\":0,\"ticks\":\"\"}},\"marker\":{\"colorbar\":{\"outlinewidth\":0,\"ticks\":\"\"}},\"type\":\"scatter3d\"}],\"scattercarpet\":[{\"marker\":{\"colorbar\":{\"outlinewidth\":0,\"ticks\":\"\"}},\"type\":\"scattercarpet\"}],\"scattergeo\":[{\"marker\":{\"colorbar\":{\"outlinewidth\":0,\"ticks\":\"\"}},\"type\":\"scattergeo\"}],\"scattergl\":[{\"marker\":{\"colorbar\":{\"outlinewidth\":0,\"ticks\":\"\"}},\"type\":\"scattergl\"}],\"scattermapbox\":[{\"marker\":{\"colorbar\":{\"outlinewidth\":0,\"ticks\":\"\"}},\"type\":\"scattermapbox\"}],\"scatterpolar\":[{\"marker\":{\"colorbar\":{\"outlinewidth\":0,\"ticks\":\"\"}},\"type\":\"scatterpolar\"}],\"scatterpolargl\":[{\"marker\":{\"colorbar\":{\"outlinewidth\":0,\"ticks\":\"\"}},\"type\":\"scatterpolargl\"}],\"scatterternary\":[{\"marker\":{\"colorbar\":{\"outlinewidth\":0,\"ticks\":\"\"}},\"type\":\"scatterternary\"}],\"surface\":[{\"colorbar\":{\"outlinewidth\":0,\"ticks\":\"\"},\"colorscale\":[[0.0,\"#0d0887\"],[0.1111111111111111,\"#46039f\"],[0.2222222222222222,\"#7201a8\"],[0.3333333333333333,\"#9c179e\"],[0.4444444444444444,\"#bd3786\"],[0.5555555555555556,\"#d8576b\"],[0.6666666666666666,\"#ed7953\"],[0.7777777777777778,\"#fb9f3a\"],[0.8888888888888888,\"#fdca26\"],[1.0,\"#f0f921\"]],\"type\":\"surface\"}],\"table\":[{\"cells\":{\"fill\":{\"color\":\"#EBF0F8\"},\"line\":{\"color\":\"white\"}},\"header\":{\"fill\":{\"color\":\"#C8D4E3\"},\"line\":{\"color\":\"white\"}},\"type\":\"table\"}]},\"layout\":{\"annotationdefaults\":{\"arrowcolor\":\"#2a3f5f\",\"arrowhead\":0,\"arrowwidth\":1},\"autotypenumbers\":\"strict\",\"coloraxis\":{\"colorbar\":{\"outlinewidth\":0,\"ticks\":\"\"}},\"colorscale\":{\"diverging\":[[0,\"#8e0152\"],[0.1,\"#c51b7d\"],[0.2,\"#de77ae\"],[0.3,\"#f1b6da\"],[0.4,\"#fde0ef\"],[0.5,\"#f7f7f7\"],[0.6,\"#e6f5d0\"],[0.7,\"#b8e186\"],[0.8,\"#7fbc41\"],[0.9,\"#4d9221\"],[1,\"#276419\"]],\"sequential\":[[0.0,\"#0d0887\"],[0.1111111111111111,\"#46039f\"],[0.2222222222222222,\"#7201a8\"],[0.3333333333333333,\"#9c179e\"],[0.4444444444444444,\"#bd3786\"],[0.5555555555555556,\"#d8576b\"],[0.6666666666666666,\"#ed7953\"],[0.7777777777777778,\"#fb9f3a\"],[0.8888888888888888,\"#fdca26\"],[1.0,\"#f0f921\"]],\"sequentialminus\":[[0.0,\"#0d0887\"],[0.1111111111111111,\"#46039f\"],[0.2222222222222222,\"#7201a8\"],[0.3333333333333333,\"#9c179e\"],[0.4444444444444444,\"#bd3786\"],[0.5555555555555556,\"#d8576b\"],[0.6666666666666666,\"#ed7953\"],[0.7777777777777778,\"#fb9f3a\"],[0.8888888888888888,\"#fdca26\"],[1.0,\"#f0f921\"]]},\"colorway\":[\"#636efa\",\"#EF553B\",\"#00cc96\",\"#ab63fa\",\"#FFA15A\",\"#19d3f3\",\"#FF6692\",\"#B6E880\",\"#FF97FF\",\"#FECB52\"],\"font\":{\"color\":\"#2a3f5f\"},\"geo\":{\"bgcolor\":\"white\",\"lakecolor\":\"white\",\"landcolor\":\"#E5ECF6\",\"showlakes\":true,\"showland\":true,\"subunitcolor\":\"white\"},\"hoverlabel\":{\"align\":\"left\"},\"hovermode\":\"closest\",\"mapbox\":{\"style\":\"light\"},\"paper_bgcolor\":\"white\",\"plot_bgcolor\":\"#E5ECF6\",\"polar\":{\"angularaxis\":{\"gridcolor\":\"white\",\"linecolor\":\"white\",\"ticks\":\"\"},\"bgcolor\":\"#E5ECF6\",\"radialaxis\":{\"gridcolor\":\"white\",\"linecolor\":\"white\",\"ticks\":\"\"}},\"scene\":{\"xaxis\":{\"backgroundcolor\":\"#E5ECF6\",\"gridcolor\":\"white\",\"gridwidth\":2,\"linecolor\":\"white\",\"showbackground\":true,\"ticks\":\"\",\"zerolinecolor\":\"white\"},\"yaxis\":{\"backgroundcolor\":\"#E5ECF6\",\"gridcolor\":\"white\",\"gridwidth\":2,\"linecolor\":\"white\",\"showbackground\":true,\"ticks\":\"\",\"zerolinecolor\":\"white\"},\"zaxis\":{\"backgroundcolor\":\"#E5ECF6\",\"gridcolor\":\"white\",\"gridwidth\":2,\"linecolor\":\"white\",\"showbackground\":true,\"ticks\":\"\",\"zerolinecolor\":\"white\"}},\"shapedefaults\":{\"line\":{\"color\":\"#2a3f5f\"}},\"ternary\":{\"aaxis\":{\"gridcolor\":\"white\",\"linecolor\":\"white\",\"ticks\":\"\"},\"baxis\":{\"gridcolor\":\"white\",\"linecolor\":\"white\",\"ticks\":\"\"},\"bgcolor\":\"#E5ECF6\",\"caxis\":{\"gridcolor\":\"white\",\"linecolor\":\"white\",\"ticks\":\"\"}},\"title\":{\"x\":0.05},\"xaxis\":{\"automargin\":true,\"gridcolor\":\"white\",\"linecolor\":\"white\",\"ticks\":\"\",\"title\":{\"standoff\":15},\"zerolinecolor\":\"white\",\"zerolinewidth\":2},\"yaxis\":{\"automargin\":true,\"gridcolor\":\"white\",\"linecolor\":\"white\",\"ticks\":\"\",\"title\":{\"standoff\":15},\"zerolinecolor\":\"white\",\"zerolinewidth\":2}}},\"title\":{\"font\":{\"size\":30},\"text\":\"Ajuste de minimos cuadrados\"}},                        {\"responsive\": true}                    ).then(function(){\n",
              "                            \n",
              "var gd = document.getElementById('d79449e2-5403-45fe-941a-2393813c6a35');\n",
              "var x = new MutationObserver(function (mutations, observer) {{\n",
              "        var display = window.getComputedStyle(gd).display;\n",
              "        if (!display || display === 'none') {{\n",
              "            console.log([gd, 'removed!']);\n",
              "            Plotly.purge(gd);\n",
              "            observer.disconnect();\n",
              "        }}\n",
              "}});\n",
              "\n",
              "// Listen for the removal of the full notebook cells\n",
              "var notebookContainer = gd.closest('#notebook-container');\n",
              "if (notebookContainer) {{\n",
              "    x.observe(notebookContainer, {childList: true});\n",
              "}}\n",
              "\n",
              "// Listen for the clearing of the current output cell\n",
              "var outputEl = gd.closest('.output');\n",
              "if (outputEl) {{\n",
              "    x.observe(outputEl, {childList: true});\n",
              "}}\n",
              "\n",
              "                        })                };                            </script>        </div>\n",
              "</body>\n",
              "</html>"
            ]
          },
          "metadata": {}
        },
        {
          "output_type": "stream",
          "name": "stdout",
          "text": [
            "***Polinomio\n",
            "\n"
          ]
        },
        {
          "output_type": "display_data",
          "data": {
            "text/plain": [
              "<IPython.core.display.Latex object>"
            ],
            "text/latex": "$P(x) = - 1.67627758018764 \\cdot 10^{-5} x^{5} - 0.000482390285534278 x^{4} + 0.00436815251666704 x^{3} + 0.186710403792221 x^{2} + 0.878024129381983 x + 5.49347175048424$"
          },
          "metadata": {}
        },
        {
          "output_type": "display_data",
          "data": {
            "text/html": [
              "<html>\n",
              "<head><meta charset=\"utf-8\" /></head>\n",
              "<body>\n",
              "    <div>            <script src=\"https://cdnjs.cloudflare.com/ajax/libs/mathjax/2.7.5/MathJax.js?config=TeX-AMS-MML_SVG\"></script><script type=\"text/javascript\">if (window.MathJax) {MathJax.Hub.Config({SVG: {font: \"STIX-Web\"}});}</script>                <script type=\"text/javascript\">window.PlotlyConfig = {MathJaxConfig: 'local'};</script>\n",
              "        <script src=\"https://cdn.plot.ly/plotly-2.8.3.min.js\"></script>                <div id=\"70b7f77c-ee1a-4057-9762-205e7b335cb6\" class=\"plotly-graph-div\" style=\"height:525px; width:100%;\"></div>            <script type=\"text/javascript\">                                    window.PLOTLYENV=window.PLOTLYENV || {};                                    if (document.getElementById(\"70b7f77c-ee1a-4057-9762-205e7b335cb6\")) {                    Plotly.newPlot(                        \"70b7f77c-ee1a-4057-9762-205e7b335cb6\",                        [{\"marker\":{\"color\":\"LightSeaGreen\"},\"mode\":\"lines\",\"name\":\"P(x)\",\"x\":[-18.9,-18.707035175879394,-18.514070351758793,-18.32110552763819,-18.128140703517587,-17.935175879396983,-17.742211055276382,-17.549246231155777,-17.356281407035176,-17.16331658291457,-16.970351758793967,-16.777386934673366,-16.58442211055276,-16.39145728643216,-16.198492462311556,-16.005527638190955,-15.81256281407035,-15.619597989949748,-15.426633165829145,-15.23366834170854,-15.04070351758794,-14.847738693467335,-14.654773869346732,-14.46180904522613,-14.268844221105526,-14.075879396984924,-13.88291457286432,-13.689949748743718,-13.496984924623113,-13.304020100502512,-13.111055276381908,-12.918090452261305,-12.725125628140702,-12.5321608040201,-12.339195979899497,-12.146231155778892,-11.953266331658291,-11.760301507537687,-11.567336683417084,-11.374371859296481,-11.181407035175878,-10.988442211055276,-10.795477386934673,-10.60251256281407,-10.409547738693465,-10.216582914572863,-10.02361809045226,-9.830653266331657,-9.637688442211054,-9.444723618090451,-9.251758793969849,-9.058793969849246,-8.865829145728643,-8.672864321608039,-8.479899497487436,-8.286934673366833,-8.09396984924623,-7.901005025125627,-7.708040201005025,-7.515075376884422,-7.322110552763817,-7.1291457286432145,-6.936180904522612,-6.743216080402009,-6.550251256281406,-6.357286432160803,-6.164321608040201,-5.971356783919598,-5.778391959798995,-5.58542713567839,-5.392462311557788,-5.199497487437185,-5.006532663316582,-4.813567839195979,-4.6206030150753765,-4.427638190954774,-4.234673366834169,-4.041708542713566,-3.8487437185929636,-3.655778894472361,-3.462814070351758,-3.2698492462311552,-3.0768844221105525,-2.883919597989948,-2.690954773869347,-2.4979899497487423,-2.3050251256281413,-2.1120603015075368,-1.9190954773869322,-1.7261306532663312,-1.5331658291457266,-1.3402010050251256,-1.147236180904521,-0.95427135678392,-0.7613065326633155,-0.5683417085427145,-0.3753768844221099,-0.18241206030150536,0.010552763819095645,0.2035175879397002,0.3964824120603012,0.5894472361809058,0.7824120603015068,0.9753768844221113,1.1683417085427124,1.361306532663317,1.5542713567839215,1.7472361809045225,1.940201005025127,2.133165829145728,2.3261306532663326,2.5190954773869336,2.712060301507538,2.9050251256281427,3.0979899497487438,3.2909547738693483,3.4839195979899493,3.676884422110554,3.869849246231155,4.0628140703517595,4.255778894472364,4.448743718592965,4.64170854271357,4.834673366834171,5.027638190954775,5.220603015075376,5.413567839195981,5.606532663316582,5.799497487437186,5.992462311557791,6.185427135678392,6.378391959798996,6.571356783919597,6.764321608040202,6.957286432160803,7.150251256281408,7.343216080402009,7.536180904522613,7.729145728643218,7.922110552763819,8.115075376884423,8.308040201005024,8.501005025125629,8.69396984924623,8.886934673366834,9.079899497487439,9.27286432160804,9.465829145728645,9.658793969849246,9.85175879396985,10.044723618090451,10.237688442211056,10.43065326633166,10.623618090452261,10.816582914572866,11.009547738693467,11.202512562814071,11.395477386934672,11.588442211055277,11.781407035175878,11.974371859296483,12.167336683417087,12.360301507537688,12.553266331658293,12.746231155778894,12.939195979899498,13.132160804020103,13.325125628140704,13.518090452261305,13.711055276381913,13.904020100502514,14.096984924623115,14.289949748743716,14.482914572864324,14.675879396984925,14.868844221105526,15.061809045226134,15.254773869346735,15.447738693467336,15.640703517587937,15.833668341708545,16.026633165829146,16.219597989949747,16.41256281407035,16.605527638190956,16.798492462311557,16.99145728643216,17.184422110552767,17.377386934673368,17.57035175879397,17.76331658291457,17.956281407035178,18.14924623115578,18.34221105527638,18.535175879396988,18.72814070351759,18.92110552763819,19.11407035175879,19.3070351758794,19.5],\"y\":[4.97601477784788,5.138152310329772,5.30223433575128,5.467494278782603,5.633201147046989,5.798658992952717,5.963206375525054,6.126215822238144,6.287093290846997,6.445277631219334,6.600240047167674,6.751483558281095,6.898542461757351,7.040981794234604,7.178396793623527,7.31041236093921,7.436682522133019,7.556889889924573,7.6707451256337364,7.777986401012473,7.878378860076811,7.971714080938796,8.057809537638416,8.13650806197553,8.207677305341797,8.271209200552661,8.32701942367921,8.375046855880157,8.41525304523379,8.447621668569887,8.472157993301634,8.488888339257606,8.497859540513657,8.499138407224883,8.492811187457557,8.478983029021053,8.457777441299797,8.42933575708518,8.393816594407529,8.351395318368,8.302263502970558,8.246628392953866,8.18471236562327,8.1167523926827,8.042999502066618,7.963718239771955,7.879186131690036,7.789693145438549,7.695541152193427,7.597043388520831,7.494523918209072,7.388317094100525,7.278767019923605,7.166227012124671,7.0510590616999735,6.93363329602759,6.814327440699358,6.693526281352822,6.571621125503155,6.449009264375099,6.3260934347349,6.203281280722255,6.080984815682234,5.959619883997221,5.839605622918852,5.721363924399946,5.605318896926451,5.49189632734936,5.381523142716675,5.274626872105313,5.171635108453074,5.072974970390545,4.979072564073059,4.89035244501262,4.807237079909837,4.730146308485872,4.659496805314367,4.59570154165338,4.539169247277322,4.490303872308895,4.449504049051023,4.4171625538187955,4.393665768771399,4.3793931437440525,4.374716658079938,4.380000282462151,4.3955994407456265,4.421860471789076,4.45912009128692,4.507704853601231,4.567930613593668,4.64010198845741,4.724511819549088,4.821440634220734,4.931156107651704,5.053912524680615,5.189950241637294,5.339495148174698,5.50275812910085,5.679934526210799,5.87120360011852,6.076727992088885,6.296653185869565,6.5311069695230035,6.780198897258308,7.044019751263234,7.322641003536082,7.616114277717646,7.92447081092317,8.247720915574241,8.585853441230782,8.938835236422918,9.306610610482984,9.689100795377405,10.086203407538653,10.497791909697208,10.923715072713433,11.36379643740959,11.817833776401681,12.285598555931491,12.766835397698426,13.261261540691496,13.768566303021275,14.288410543751777,14.82042612473245,15.36421537243005,15.91935053976065,16.485373267921513,17.061794048223067,17.648091683920818,18.243712752047287,18.848071065243985,19.460547133593273,20.080487626450395,20.70720483427531,21.33997613046472,21.978043433183934,22.620612667198873,23.26685322570793,23.91589743217395,24.566840002156194,25.218737505142208,25.87060782637981,26.52142962870898,27.170141814393876,27.815642986954675,28.45679091299954,29.09240198405663,29.72125067840591,30.342069022911197,30.953546054852016,31.554327283755605,32.14301415322877,32.71816350278989,33.27828702970087,33.82185075079896,34.34727446432883,34.85293121177438,35.33714673969084,35.79819896153648,36.23431741950479,36.643682746356234,37.02442612725022,37.374628761577156,37.69232132479021,37.97548343023736,38.22204309099334,38.42987618169146,38.59680590035568,38.72060223023249,38.7989814016228,38.829605353713916,38.81008119641153,38.73796067217154,38.610739617832095,38.42585742644544,38.18069650910995,37.87258175680199,37.498780002207845,37.05649948155575,36.542889296447655,35.95503887569137,35.28997743713238,34.54467344948574,33.716034094168094,32.80090472712967,31.79606834068599,30.698245025350012,29.50409143166405,28.210200232031646,26.81309958254944,25.30925258483922,23.69505674787994,21.966843449839416,20.120877399906313,18.15335610012246,16.060409307214194,13.838098494424656,11.48241631334561,8.989286055749687],\"type\":\"scatter\"},{\"marker\":{\"color\":\"MediumPurple\",\"size\":10},\"mode\":\"markers\",\"name\":\"Puntos dados\",\"x\":[0.2,-0.2,-0.1,-0.6,-1.6,-18.9,-8.3,-4.2,-2.9,19.5,4.6,1.2,1.9,1.9,4.3],\"y\":[0,1,2,3,4,5,6,7,8,9,10,11,12,13,14],\"type\":\"scatter\"}],                        {\"template\":{\"data\":{\"bar\":[{\"error_x\":{\"color\":\"#2a3f5f\"},\"error_y\":{\"color\":\"#2a3f5f\"},\"marker\":{\"line\":{\"color\":\"#E5ECF6\",\"width\":0.5},\"pattern\":{\"fillmode\":\"overlay\",\"size\":10,\"solidity\":0.2}},\"type\":\"bar\"}],\"barpolar\":[{\"marker\":{\"line\":{\"color\":\"#E5ECF6\",\"width\":0.5},\"pattern\":{\"fillmode\":\"overlay\",\"size\":10,\"solidity\":0.2}},\"type\":\"barpolar\"}],\"carpet\":[{\"aaxis\":{\"endlinecolor\":\"#2a3f5f\",\"gridcolor\":\"white\",\"linecolor\":\"white\",\"minorgridcolor\":\"white\",\"startlinecolor\":\"#2a3f5f\"},\"baxis\":{\"endlinecolor\":\"#2a3f5f\",\"gridcolor\":\"white\",\"linecolor\":\"white\",\"minorgridcolor\":\"white\",\"startlinecolor\":\"#2a3f5f\"},\"type\":\"carpet\"}],\"choropleth\":[{\"colorbar\":{\"outlinewidth\":0,\"ticks\":\"\"},\"type\":\"choropleth\"}],\"contour\":[{\"colorbar\":{\"outlinewidth\":0,\"ticks\":\"\"},\"colorscale\":[[0.0,\"#0d0887\"],[0.1111111111111111,\"#46039f\"],[0.2222222222222222,\"#7201a8\"],[0.3333333333333333,\"#9c179e\"],[0.4444444444444444,\"#bd3786\"],[0.5555555555555556,\"#d8576b\"],[0.6666666666666666,\"#ed7953\"],[0.7777777777777778,\"#fb9f3a\"],[0.8888888888888888,\"#fdca26\"],[1.0,\"#f0f921\"]],\"type\":\"contour\"}],\"contourcarpet\":[{\"colorbar\":{\"outlinewidth\":0,\"ticks\":\"\"},\"type\":\"contourcarpet\"}],\"heatmap\":[{\"colorbar\":{\"outlinewidth\":0,\"ticks\":\"\"},\"colorscale\":[[0.0,\"#0d0887\"],[0.1111111111111111,\"#46039f\"],[0.2222222222222222,\"#7201a8\"],[0.3333333333333333,\"#9c179e\"],[0.4444444444444444,\"#bd3786\"],[0.5555555555555556,\"#d8576b\"],[0.6666666666666666,\"#ed7953\"],[0.7777777777777778,\"#fb9f3a\"],[0.8888888888888888,\"#fdca26\"],[1.0,\"#f0f921\"]],\"type\":\"heatmap\"}],\"heatmapgl\":[{\"colorbar\":{\"outlinewidth\":0,\"ticks\":\"\"},\"colorscale\":[[0.0,\"#0d0887\"],[0.1111111111111111,\"#46039f\"],[0.2222222222222222,\"#7201a8\"],[0.3333333333333333,\"#9c179e\"],[0.4444444444444444,\"#bd3786\"],[0.5555555555555556,\"#d8576b\"],[0.6666666666666666,\"#ed7953\"],[0.7777777777777778,\"#fb9f3a\"],[0.8888888888888888,\"#fdca26\"],[1.0,\"#f0f921\"]],\"type\":\"heatmapgl\"}],\"histogram\":[{\"marker\":{\"pattern\":{\"fillmode\":\"overlay\",\"size\":10,\"solidity\":0.2}},\"type\":\"histogram\"}],\"histogram2d\":[{\"colorbar\":{\"outlinewidth\":0,\"ticks\":\"\"},\"colorscale\":[[0.0,\"#0d0887\"],[0.1111111111111111,\"#46039f\"],[0.2222222222222222,\"#7201a8\"],[0.3333333333333333,\"#9c179e\"],[0.4444444444444444,\"#bd3786\"],[0.5555555555555556,\"#d8576b\"],[0.6666666666666666,\"#ed7953\"],[0.7777777777777778,\"#fb9f3a\"],[0.8888888888888888,\"#fdca26\"],[1.0,\"#f0f921\"]],\"type\":\"histogram2d\"}],\"histogram2dcontour\":[{\"colorbar\":{\"outlinewidth\":0,\"ticks\":\"\"},\"colorscale\":[[0.0,\"#0d0887\"],[0.1111111111111111,\"#46039f\"],[0.2222222222222222,\"#7201a8\"],[0.3333333333333333,\"#9c179e\"],[0.4444444444444444,\"#bd3786\"],[0.5555555555555556,\"#d8576b\"],[0.6666666666666666,\"#ed7953\"],[0.7777777777777778,\"#fb9f3a\"],[0.8888888888888888,\"#fdca26\"],[1.0,\"#f0f921\"]],\"type\":\"histogram2dcontour\"}],\"mesh3d\":[{\"colorbar\":{\"outlinewidth\":0,\"ticks\":\"\"},\"type\":\"mesh3d\"}],\"parcoords\":[{\"line\":{\"colorbar\":{\"outlinewidth\":0,\"ticks\":\"\"}},\"type\":\"parcoords\"}],\"pie\":[{\"automargin\":true,\"type\":\"pie\"}],\"scatter\":[{\"marker\":{\"colorbar\":{\"outlinewidth\":0,\"ticks\":\"\"}},\"type\":\"scatter\"}],\"scatter3d\":[{\"line\":{\"colorbar\":{\"outlinewidth\":0,\"ticks\":\"\"}},\"marker\":{\"colorbar\":{\"outlinewidth\":0,\"ticks\":\"\"}},\"type\":\"scatter3d\"}],\"scattercarpet\":[{\"marker\":{\"colorbar\":{\"outlinewidth\":0,\"ticks\":\"\"}},\"type\":\"scattercarpet\"}],\"scattergeo\":[{\"marker\":{\"colorbar\":{\"outlinewidth\":0,\"ticks\":\"\"}},\"type\":\"scattergeo\"}],\"scattergl\":[{\"marker\":{\"colorbar\":{\"outlinewidth\":0,\"ticks\":\"\"}},\"type\":\"scattergl\"}],\"scattermapbox\":[{\"marker\":{\"colorbar\":{\"outlinewidth\":0,\"ticks\":\"\"}},\"type\":\"scattermapbox\"}],\"scatterpolar\":[{\"marker\":{\"colorbar\":{\"outlinewidth\":0,\"ticks\":\"\"}},\"type\":\"scatterpolar\"}],\"scatterpolargl\":[{\"marker\":{\"colorbar\":{\"outlinewidth\":0,\"ticks\":\"\"}},\"type\":\"scatterpolargl\"}],\"scatterternary\":[{\"marker\":{\"colorbar\":{\"outlinewidth\":0,\"ticks\":\"\"}},\"type\":\"scatterternary\"}],\"surface\":[{\"colorbar\":{\"outlinewidth\":0,\"ticks\":\"\"},\"colorscale\":[[0.0,\"#0d0887\"],[0.1111111111111111,\"#46039f\"],[0.2222222222222222,\"#7201a8\"],[0.3333333333333333,\"#9c179e\"],[0.4444444444444444,\"#bd3786\"],[0.5555555555555556,\"#d8576b\"],[0.6666666666666666,\"#ed7953\"],[0.7777777777777778,\"#fb9f3a\"],[0.8888888888888888,\"#fdca26\"],[1.0,\"#f0f921\"]],\"type\":\"surface\"}],\"table\":[{\"cells\":{\"fill\":{\"color\":\"#EBF0F8\"},\"line\":{\"color\":\"white\"}},\"header\":{\"fill\":{\"color\":\"#C8D4E3\"},\"line\":{\"color\":\"white\"}},\"type\":\"table\"}]},\"layout\":{\"annotationdefaults\":{\"arrowcolor\":\"#2a3f5f\",\"arrowhead\":0,\"arrowwidth\":1},\"autotypenumbers\":\"strict\",\"coloraxis\":{\"colorbar\":{\"outlinewidth\":0,\"ticks\":\"\"}},\"colorscale\":{\"diverging\":[[0,\"#8e0152\"],[0.1,\"#c51b7d\"],[0.2,\"#de77ae\"],[0.3,\"#f1b6da\"],[0.4,\"#fde0ef\"],[0.5,\"#f7f7f7\"],[0.6,\"#e6f5d0\"],[0.7,\"#b8e186\"],[0.8,\"#7fbc41\"],[0.9,\"#4d9221\"],[1,\"#276419\"]],\"sequential\":[[0.0,\"#0d0887\"],[0.1111111111111111,\"#46039f\"],[0.2222222222222222,\"#7201a8\"],[0.3333333333333333,\"#9c179e\"],[0.4444444444444444,\"#bd3786\"],[0.5555555555555556,\"#d8576b\"],[0.6666666666666666,\"#ed7953\"],[0.7777777777777778,\"#fb9f3a\"],[0.8888888888888888,\"#fdca26\"],[1.0,\"#f0f921\"]],\"sequentialminus\":[[0.0,\"#0d0887\"],[0.1111111111111111,\"#46039f\"],[0.2222222222222222,\"#7201a8\"],[0.3333333333333333,\"#9c179e\"],[0.4444444444444444,\"#bd3786\"],[0.5555555555555556,\"#d8576b\"],[0.6666666666666666,\"#ed7953\"],[0.7777777777777778,\"#fb9f3a\"],[0.8888888888888888,\"#fdca26\"],[1.0,\"#f0f921\"]]},\"colorway\":[\"#636efa\",\"#EF553B\",\"#00cc96\",\"#ab63fa\",\"#FFA15A\",\"#19d3f3\",\"#FF6692\",\"#B6E880\",\"#FF97FF\",\"#FECB52\"],\"font\":{\"color\":\"#2a3f5f\"},\"geo\":{\"bgcolor\":\"white\",\"lakecolor\":\"white\",\"landcolor\":\"#E5ECF6\",\"showlakes\":true,\"showland\":true,\"subunitcolor\":\"white\"},\"hoverlabel\":{\"align\":\"left\"},\"hovermode\":\"closest\",\"mapbox\":{\"style\":\"light\"},\"paper_bgcolor\":\"white\",\"plot_bgcolor\":\"#E5ECF6\",\"polar\":{\"angularaxis\":{\"gridcolor\":\"white\",\"linecolor\":\"white\",\"ticks\":\"\"},\"bgcolor\":\"#E5ECF6\",\"radialaxis\":{\"gridcolor\":\"white\",\"linecolor\":\"white\",\"ticks\":\"\"}},\"scene\":{\"xaxis\":{\"backgroundcolor\":\"#E5ECF6\",\"gridcolor\":\"white\",\"gridwidth\":2,\"linecolor\":\"white\",\"showbackground\":true,\"ticks\":\"\",\"zerolinecolor\":\"white\"},\"yaxis\":{\"backgroundcolor\":\"#E5ECF6\",\"gridcolor\":\"white\",\"gridwidth\":2,\"linecolor\":\"white\",\"showbackground\":true,\"ticks\":\"\",\"zerolinecolor\":\"white\"},\"zaxis\":{\"backgroundcolor\":\"#E5ECF6\",\"gridcolor\":\"white\",\"gridwidth\":2,\"linecolor\":\"white\",\"showbackground\":true,\"ticks\":\"\",\"zerolinecolor\":\"white\"}},\"shapedefaults\":{\"line\":{\"color\":\"#2a3f5f\"}},\"ternary\":{\"aaxis\":{\"gridcolor\":\"white\",\"linecolor\":\"white\",\"ticks\":\"\"},\"baxis\":{\"gridcolor\":\"white\",\"linecolor\":\"white\",\"ticks\":\"\"},\"bgcolor\":\"#E5ECF6\",\"caxis\":{\"gridcolor\":\"white\",\"linecolor\":\"white\",\"ticks\":\"\"}},\"title\":{\"x\":0.05},\"xaxis\":{\"automargin\":true,\"gridcolor\":\"white\",\"linecolor\":\"white\",\"ticks\":\"\",\"title\":{\"standoff\":15},\"zerolinecolor\":\"white\",\"zerolinewidth\":2},\"yaxis\":{\"automargin\":true,\"gridcolor\":\"white\",\"linecolor\":\"white\",\"ticks\":\"\",\"title\":{\"standoff\":15},\"zerolinecolor\":\"white\",\"zerolinewidth\":2}}},\"title\":{\"font\":{\"size\":30},\"text\":\"Ajuste de minimos cuadrados\"}},                        {\"responsive\": true}                    ).then(function(){\n",
              "                            \n",
              "var gd = document.getElementById('70b7f77c-ee1a-4057-9762-205e7b335cb6');\n",
              "var x = new MutationObserver(function (mutations, observer) {{\n",
              "        var display = window.getComputedStyle(gd).display;\n",
              "        if (!display || display === 'none') {{\n",
              "            console.log([gd, 'removed!']);\n",
              "            Plotly.purge(gd);\n",
              "            observer.disconnect();\n",
              "        }}\n",
              "}});\n",
              "\n",
              "// Listen for the removal of the full notebook cells\n",
              "var notebookContainer = gd.closest('#notebook-container');\n",
              "if (notebookContainer) {{\n",
              "    x.observe(notebookContainer, {childList: true});\n",
              "}}\n",
              "\n",
              "// Listen for the clearing of the current output cell\n",
              "var outputEl = gd.closest('.output');\n",
              "if (outputEl) {{\n",
              "    x.observe(outputEl, {childList: true});\n",
              "}}\n",
              "\n",
              "                        })                };                            </script>        </div>\n",
              "</body>\n",
              "</html>"
            ]
          },
          "metadata": {}
        },
        {
          "output_type": "stream",
          "name": "stdout",
          "text": [
            "***Polinomio\n",
            "\n"
          ]
        },
        {
          "output_type": "display_data",
          "data": {
            "text/plain": [
              "<IPython.core.display.Latex object>"
            ],
            "text/latex": "$P(x) = 7.17625116118772 \\cdot 10^{-5} x^{6} + 0.000381081468495426 x^{5} - 0.0292522177692536 x^{4} - 0.163195871478118 x^{3} + 0.953556866436584 x^{2} + 3.19803561943153 x + 3.71362318268794$"
          },
          "metadata": {}
        },
        {
          "output_type": "display_data",
          "data": {
            "text/html": [
              "<html>\n",
              "<head><meta charset=\"utf-8\" /></head>\n",
              "<body>\n",
              "    <div>            <script src=\"https://cdnjs.cloudflare.com/ajax/libs/mathjax/2.7.5/MathJax.js?config=TeX-AMS-MML_SVG\"></script><script type=\"text/javascript\">if (window.MathJax) {MathJax.Hub.Config({SVG: {font: \"STIX-Web\"}});}</script>                <script type=\"text/javascript\">window.PlotlyConfig = {MathJaxConfig: 'local'};</script>\n",
              "        <script src=\"https://cdn.plot.ly/plotly-2.8.3.min.js\"></script>                <div id=\"b48d863e-be1d-4015-ae39-74fb7792d1c4\" class=\"plotly-graph-div\" style=\"height:525px; width:100%;\"></div>            <script type=\"text/javascript\">                                    window.PLOTLYENV=window.PLOTLYENV || {};                                    if (document.getElementById(\"b48d863e-be1d-4015-ae39-74fb7792d1c4\")) {                    Plotly.newPlot(                        \"b48d863e-be1d-4015-ae39-74fb7792d1c4\",                        [{\"marker\":{\"color\":\"LightSeaGreen\"},\"mode\":\"lines\",\"name\":\"P(x)\",\"x\":[-18.9,-18.707035175879394,-18.514070351758793,-18.32110552763819,-18.128140703517587,-17.935175879396983,-17.742211055276382,-17.549246231155777,-17.356281407035176,-17.16331658291457,-16.970351758793967,-16.777386934673366,-16.58442211055276,-16.39145728643216,-16.198492462311556,-16.005527638190955,-15.81256281407035,-15.619597989949748,-15.426633165829145,-15.23366834170854,-15.04070351758794,-14.847738693467335,-14.654773869346732,-14.46180904522613,-14.268844221105526,-14.075879396984924,-13.88291457286432,-13.689949748743718,-13.496984924623113,-13.304020100502512,-13.111055276381908,-12.918090452261305,-12.725125628140702,-12.5321608040201,-12.339195979899497,-12.146231155778892,-11.953266331658291,-11.760301507537687,-11.567336683417084,-11.374371859296481,-11.181407035175878,-10.988442211055276,-10.795477386934673,-10.60251256281407,-10.409547738693465,-10.216582914572863,-10.02361809045226,-9.830653266331657,-9.637688442211054,-9.444723618090451,-9.251758793969849,-9.058793969849246,-8.865829145728643,-8.672864321608039,-8.479899497487436,-8.286934673366833,-8.09396984924623,-7.901005025125627,-7.708040201005025,-7.515075376884422,-7.322110552763817,-7.1291457286432145,-6.936180904522612,-6.743216080402009,-6.550251256281406,-6.357286432160803,-6.164321608040201,-5.971356783919598,-5.778391959798995,-5.58542713567839,-5.392462311557788,-5.199497487437185,-5.006532663316582,-4.813567839195979,-4.6206030150753765,-4.427638190954774,-4.234673366834169,-4.041708542713566,-3.8487437185929636,-3.655778894472361,-3.462814070351758,-3.2698492462311552,-3.0768844221105525,-2.883919597989948,-2.690954773869347,-2.4979899497487423,-2.3050251256281413,-2.1120603015075368,-1.9190954773869322,-1.7261306532663312,-1.5331658291457266,-1.3402010050251256,-1.147236180904521,-0.95427135678392,-0.7613065326633155,-0.5683417085427145,-0.3753768844221099,-0.18241206030150536,0.010552763819095645,0.2035175879397002,0.3964824120603012,0.5894472361809058,0.7824120603015068,0.9753768844221113,1.1683417085427124,1.361306532663317,1.5542713567839215,1.7472361809045225,1.940201005025127,2.133165829145728,2.3261306532663326,2.5190954773869336,2.712060301507538,2.9050251256281427,3.0979899497487438,3.2909547738693483,3.4839195979899493,3.676884422110554,3.869849246231155,4.0628140703517595,4.255778894472364,4.448743718592965,4.64170854271357,4.834673366834171,5.027638190954775,5.220603015075376,5.413567839195981,5.606532663316582,5.799497487437186,5.992462311557791,6.185427135678392,6.378391959798996,6.571356783919597,6.764321608040202,6.957286432160803,7.150251256281408,7.343216080402009,7.536180904522613,7.729145728643218,7.922110552763819,8.115075376884423,8.308040201005024,8.501005025125629,8.69396984924623,8.886934673366834,9.079899497487439,9.27286432160804,9.465829145728645,9.658793969849246,9.85175879396985,10.044723618090451,10.237688442211056,10.43065326633166,10.623618090452261,10.816582914572866,11.009547738693467,11.202512562814071,11.395477386934672,11.588442211055277,11.781407035175878,11.974371859296483,12.167336683417087,12.360301507537688,12.553266331658293,12.746231155778894,12.939195979899498,13.132160804020103,13.325125628140704,13.518090452261305,13.711055276381913,13.904020100502514,14.096984924623115,14.289949748743716,14.482914572864324,14.675879396984925,14.868844221105526,15.061809045226134,15.254773869346735,15.447738693467336,15.640703517587937,15.833668341708545,16.026633165829146,16.219597989949747,16.41256281407035,16.605527638190956,16.798492462311557,16.99145728643216,17.184422110552767,17.377386934673368,17.57035175879397,17.76331658291457,17.956281407035178,18.14924623115578,18.34221105527638,18.535175879396988,18.72814070351759,18.92110552763819,19.11407035175879,19.3070351758794,19.5],\"y\":[5.001710868337341,-33.9481919483369,-68.75878444255568,-99.68518652094144,-126.97238719208053,-150.85548692912744,-171.55993736492383,-189.30177831967012,-204.28787216111505,-216.71613549728954,-226.77576820176773,-234.64747977145953,-240.50371301694486,-244.50886508533176,-246.81950581565502,-247.5845934268018,-246.9456875379749,-245.03715952168932,-241.98640018929882,-237.91402480905867,-232.9340754567197,-227.15422069865826,-220.6759526075357,-213.5947811104943,-206.00042566988486,-197.9770042965281,-189.60321989550948,-180.9525439445058,-172.09339750464744,-163.0893295639122,-153.99919271305214,-144.87731615405573,-135.77367604114022,-126.73406315428008,-117.80024790526704,-109.01014267630376,-100.39796149113153,-91.9943770186893,-83.8266749093084,-75.91890546343853,-68.29203263290816,-60.96408035471762,-53.9502762173658,-47.2631924597095,-40.91288430235704,-34.90702561159429,-29.25104189584397,-23.948240634658617,-18.99993894024692,-14.405588551532276,-10.162898160745982,-6.267953072552899,-2.7153321957102037,0.5017776327401009,3.3914699907455486,5.9630098819847035,8.226727414074816,10.19391414424679,11.87672209248639,13.288065422142594,14.441524788002454,15.351254351832836,16.031891465388895,16.498469020889154,16.766330468957506,16.85104750403196,16.768340417239934,16.53400111674057,16.163818815533553,15.673508386734863,15.078641386319202,14.3945797433291,13.63641211755089,12.818892924657376,11.956384028817219,11.062799102771136,10.15155065537479,9.23549972660847,8.32690825005348,7.437394082835306,6.577888703033526,5.7585975745584586,4.988963179494556,4.277630717910574,3.6324164751364663,3.060278856506987,2.567292089572162,2.158622593774348,1.8385080175921926,1.6102389431512294,1.47614325830127,1.4375731961605522,1.4948950421266098,1.6474815083539047,1.893706775698213,2.230944203127732,2.655566704600986,3.162949793411411,3.7474772939987386,4.402549721227151,5.12059532713007,5.893083815121866,6.710542721676115,7.562576465470824,8.43788806400017,9.32430351765323,10.208798861259215,11.077529883099649,11.915864511387232,12.70841786821135,13.439089990950539,14.091106221151461,14.647060260874857,15.08895989650806,15.398275390044356,15.555990537829086,15.542656396772475,15.338447678029194,14.923221808144731,14.276580657668417,13.377934937233299,12.206571261102724,10.741721878183569,8.962637070506492,6.848660219172487,4.3793055377667685,1.534338473238762,-1.7061412257504784,-5.361613773014891,-9.451050941562414,-13.992824992847858,-19.004614938559115,-24.503310134935717,-30.504911209622108,-37.024428321052454,-44.075776750370515,-51.67166982588087,-59.82350918003546,-68.54127233895126,-77.83339764446266,-87.70666650870729,-98.1660830012432,-109.21475076870188,-120.8537472869721,-133.08199544591926,-145.89613246663583,-159.2903761512263,-173.25638846512615,-187.7831364519514,-202.8567504808849,-218.46037982659203,-234.57404558167408,-251.1744909016502,-268.23502858247593,-285.72538597059486,-303.6115472055202,-321.8555927949551,-340.4155365224399,-359.2451596875391,-378.2938426785552,-397.50639387778216,-416.82287589928575,-436.1784291592221,-455.5030927786887,-474.7216228191047,-493.7533078501303,-512.5117818501146,-530.9048344390795,-548.834218444236,-566.1954547980338,-582.877634768742,-598.7632195235699,-613.7278370243102,-627.6400762555279,-640.3612787852694,-651.7453276583165,-661.6384336219678,-669.8789186843517,-676.2969970052792,-680.7145531196218,-682.9449174932302,-682.7926394113804,-680.0532571997567,-674.5130657779675,-665.9488815455904,-654.1278046007592,-638.8069782912721,-619.7333460982445,-596.6434058522905,-569.2629612822338,-537.3068708963592,-500.47879419618766,-458.47093522280375,-410.96378343568585,-357.62585192409733,-298.11341295100465,-232.0702308295149,-159.12729213185867,-78.90253323090292,8.99943482578692],\"type\":\"scatter\"},{\"marker\":{\"color\":\"MediumPurple\",\"size\":10},\"mode\":\"markers\",\"name\":\"Puntos dados\",\"x\":[0.2,-0.2,-0.1,-0.6,-1.6,-18.9,-8.3,-4.2,-2.9,19.5,4.6,1.2,1.9,1.9,4.3],\"y\":[0,1,2,3,4,5,6,7,8,9,10,11,12,13,14],\"type\":\"scatter\"}],                        {\"template\":{\"data\":{\"bar\":[{\"error_x\":{\"color\":\"#2a3f5f\"},\"error_y\":{\"color\":\"#2a3f5f\"},\"marker\":{\"line\":{\"color\":\"#E5ECF6\",\"width\":0.5},\"pattern\":{\"fillmode\":\"overlay\",\"size\":10,\"solidity\":0.2}},\"type\":\"bar\"}],\"barpolar\":[{\"marker\":{\"line\":{\"color\":\"#E5ECF6\",\"width\":0.5},\"pattern\":{\"fillmode\":\"overlay\",\"size\":10,\"solidity\":0.2}},\"type\":\"barpolar\"}],\"carpet\":[{\"aaxis\":{\"endlinecolor\":\"#2a3f5f\",\"gridcolor\":\"white\",\"linecolor\":\"white\",\"minorgridcolor\":\"white\",\"startlinecolor\":\"#2a3f5f\"},\"baxis\":{\"endlinecolor\":\"#2a3f5f\",\"gridcolor\":\"white\",\"linecolor\":\"white\",\"minorgridcolor\":\"white\",\"startlinecolor\":\"#2a3f5f\"},\"type\":\"carpet\"}],\"choropleth\":[{\"colorbar\":{\"outlinewidth\":0,\"ticks\":\"\"},\"type\":\"choropleth\"}],\"contour\":[{\"colorbar\":{\"outlinewidth\":0,\"ticks\":\"\"},\"colorscale\":[[0.0,\"#0d0887\"],[0.1111111111111111,\"#46039f\"],[0.2222222222222222,\"#7201a8\"],[0.3333333333333333,\"#9c179e\"],[0.4444444444444444,\"#bd3786\"],[0.5555555555555556,\"#d8576b\"],[0.6666666666666666,\"#ed7953\"],[0.7777777777777778,\"#fb9f3a\"],[0.8888888888888888,\"#fdca26\"],[1.0,\"#f0f921\"]],\"type\":\"contour\"}],\"contourcarpet\":[{\"colorbar\":{\"outlinewidth\":0,\"ticks\":\"\"},\"type\":\"contourcarpet\"}],\"heatmap\":[{\"colorbar\":{\"outlinewidth\":0,\"ticks\":\"\"},\"colorscale\":[[0.0,\"#0d0887\"],[0.1111111111111111,\"#46039f\"],[0.2222222222222222,\"#7201a8\"],[0.3333333333333333,\"#9c179e\"],[0.4444444444444444,\"#bd3786\"],[0.5555555555555556,\"#d8576b\"],[0.6666666666666666,\"#ed7953\"],[0.7777777777777778,\"#fb9f3a\"],[0.8888888888888888,\"#fdca26\"],[1.0,\"#f0f921\"]],\"type\":\"heatmap\"}],\"heatmapgl\":[{\"colorbar\":{\"outlinewidth\":0,\"ticks\":\"\"},\"colorscale\":[[0.0,\"#0d0887\"],[0.1111111111111111,\"#46039f\"],[0.2222222222222222,\"#7201a8\"],[0.3333333333333333,\"#9c179e\"],[0.4444444444444444,\"#bd3786\"],[0.5555555555555556,\"#d8576b\"],[0.6666666666666666,\"#ed7953\"],[0.7777777777777778,\"#fb9f3a\"],[0.8888888888888888,\"#fdca26\"],[1.0,\"#f0f921\"]],\"type\":\"heatmapgl\"}],\"histogram\":[{\"marker\":{\"pattern\":{\"fillmode\":\"overlay\",\"size\":10,\"solidity\":0.2}},\"type\":\"histogram\"}],\"histogram2d\":[{\"colorbar\":{\"outlinewidth\":0,\"ticks\":\"\"},\"colorscale\":[[0.0,\"#0d0887\"],[0.1111111111111111,\"#46039f\"],[0.2222222222222222,\"#7201a8\"],[0.3333333333333333,\"#9c179e\"],[0.4444444444444444,\"#bd3786\"],[0.5555555555555556,\"#d8576b\"],[0.6666666666666666,\"#ed7953\"],[0.7777777777777778,\"#fb9f3a\"],[0.8888888888888888,\"#fdca26\"],[1.0,\"#f0f921\"]],\"type\":\"histogram2d\"}],\"histogram2dcontour\":[{\"colorbar\":{\"outlinewidth\":0,\"ticks\":\"\"},\"colorscale\":[[0.0,\"#0d0887\"],[0.1111111111111111,\"#46039f\"],[0.2222222222222222,\"#7201a8\"],[0.3333333333333333,\"#9c179e\"],[0.4444444444444444,\"#bd3786\"],[0.5555555555555556,\"#d8576b\"],[0.6666666666666666,\"#ed7953\"],[0.7777777777777778,\"#fb9f3a\"],[0.8888888888888888,\"#fdca26\"],[1.0,\"#f0f921\"]],\"type\":\"histogram2dcontour\"}],\"mesh3d\":[{\"colorbar\":{\"outlinewidth\":0,\"ticks\":\"\"},\"type\":\"mesh3d\"}],\"parcoords\":[{\"line\":{\"colorbar\":{\"outlinewidth\":0,\"ticks\":\"\"}},\"type\":\"parcoords\"}],\"pie\":[{\"automargin\":true,\"type\":\"pie\"}],\"scatter\":[{\"marker\":{\"colorbar\":{\"outlinewidth\":0,\"ticks\":\"\"}},\"type\":\"scatter\"}],\"scatter3d\":[{\"line\":{\"colorbar\":{\"outlinewidth\":0,\"ticks\":\"\"}},\"marker\":{\"colorbar\":{\"outlinewidth\":0,\"ticks\":\"\"}},\"type\":\"scatter3d\"}],\"scattercarpet\":[{\"marker\":{\"colorbar\":{\"outlinewidth\":0,\"ticks\":\"\"}},\"type\":\"scattercarpet\"}],\"scattergeo\":[{\"marker\":{\"colorbar\":{\"outlinewidth\":0,\"ticks\":\"\"}},\"type\":\"scattergeo\"}],\"scattergl\":[{\"marker\":{\"colorbar\":{\"outlinewidth\":0,\"ticks\":\"\"}},\"type\":\"scattergl\"}],\"scattermapbox\":[{\"marker\":{\"colorbar\":{\"outlinewidth\":0,\"ticks\":\"\"}},\"type\":\"scattermapbox\"}],\"scatterpolar\":[{\"marker\":{\"colorbar\":{\"outlinewidth\":0,\"ticks\":\"\"}},\"type\":\"scatterpolar\"}],\"scatterpolargl\":[{\"marker\":{\"colorbar\":{\"outlinewidth\":0,\"ticks\":\"\"}},\"type\":\"scatterpolargl\"}],\"scatterternary\":[{\"marker\":{\"colorbar\":{\"outlinewidth\":0,\"ticks\":\"\"}},\"type\":\"scatterternary\"}],\"surface\":[{\"colorbar\":{\"outlinewidth\":0,\"ticks\":\"\"},\"colorscale\":[[0.0,\"#0d0887\"],[0.1111111111111111,\"#46039f\"],[0.2222222222222222,\"#7201a8\"],[0.3333333333333333,\"#9c179e\"],[0.4444444444444444,\"#bd3786\"],[0.5555555555555556,\"#d8576b\"],[0.6666666666666666,\"#ed7953\"],[0.7777777777777778,\"#fb9f3a\"],[0.8888888888888888,\"#fdca26\"],[1.0,\"#f0f921\"]],\"type\":\"surface\"}],\"table\":[{\"cells\":{\"fill\":{\"color\":\"#EBF0F8\"},\"line\":{\"color\":\"white\"}},\"header\":{\"fill\":{\"color\":\"#C8D4E3\"},\"line\":{\"color\":\"white\"}},\"type\":\"table\"}]},\"layout\":{\"annotationdefaults\":{\"arrowcolor\":\"#2a3f5f\",\"arrowhead\":0,\"arrowwidth\":1},\"autotypenumbers\":\"strict\",\"coloraxis\":{\"colorbar\":{\"outlinewidth\":0,\"ticks\":\"\"}},\"colorscale\":{\"diverging\":[[0,\"#8e0152\"],[0.1,\"#c51b7d\"],[0.2,\"#de77ae\"],[0.3,\"#f1b6da\"],[0.4,\"#fde0ef\"],[0.5,\"#f7f7f7\"],[0.6,\"#e6f5d0\"],[0.7,\"#b8e186\"],[0.8,\"#7fbc41\"],[0.9,\"#4d9221\"],[1,\"#276419\"]],\"sequential\":[[0.0,\"#0d0887\"],[0.1111111111111111,\"#46039f\"],[0.2222222222222222,\"#7201a8\"],[0.3333333333333333,\"#9c179e\"],[0.4444444444444444,\"#bd3786\"],[0.5555555555555556,\"#d8576b\"],[0.6666666666666666,\"#ed7953\"],[0.7777777777777778,\"#fb9f3a\"],[0.8888888888888888,\"#fdca26\"],[1.0,\"#f0f921\"]],\"sequentialminus\":[[0.0,\"#0d0887\"],[0.1111111111111111,\"#46039f\"],[0.2222222222222222,\"#7201a8\"],[0.3333333333333333,\"#9c179e\"],[0.4444444444444444,\"#bd3786\"],[0.5555555555555556,\"#d8576b\"],[0.6666666666666666,\"#ed7953\"],[0.7777777777777778,\"#fb9f3a\"],[0.8888888888888888,\"#fdca26\"],[1.0,\"#f0f921\"]]},\"colorway\":[\"#636efa\",\"#EF553B\",\"#00cc96\",\"#ab63fa\",\"#FFA15A\",\"#19d3f3\",\"#FF6692\",\"#B6E880\",\"#FF97FF\",\"#FECB52\"],\"font\":{\"color\":\"#2a3f5f\"},\"geo\":{\"bgcolor\":\"white\",\"lakecolor\":\"white\",\"landcolor\":\"#E5ECF6\",\"showlakes\":true,\"showland\":true,\"subunitcolor\":\"white\"},\"hoverlabel\":{\"align\":\"left\"},\"hovermode\":\"closest\",\"mapbox\":{\"style\":\"light\"},\"paper_bgcolor\":\"white\",\"plot_bgcolor\":\"#E5ECF6\",\"polar\":{\"angularaxis\":{\"gridcolor\":\"white\",\"linecolor\":\"white\",\"ticks\":\"\"},\"bgcolor\":\"#E5ECF6\",\"radialaxis\":{\"gridcolor\":\"white\",\"linecolor\":\"white\",\"ticks\":\"\"}},\"scene\":{\"xaxis\":{\"backgroundcolor\":\"#E5ECF6\",\"gridcolor\":\"white\",\"gridwidth\":2,\"linecolor\":\"white\",\"showbackground\":true,\"ticks\":\"\",\"zerolinecolor\":\"white\"},\"yaxis\":{\"backgroundcolor\":\"#E5ECF6\",\"gridcolor\":\"white\",\"gridwidth\":2,\"linecolor\":\"white\",\"showbackground\":true,\"ticks\":\"\",\"zerolinecolor\":\"white\"},\"zaxis\":{\"backgroundcolor\":\"#E5ECF6\",\"gridcolor\":\"white\",\"gridwidth\":2,\"linecolor\":\"white\",\"showbackground\":true,\"ticks\":\"\",\"zerolinecolor\":\"white\"}},\"shapedefaults\":{\"line\":{\"color\":\"#2a3f5f\"}},\"ternary\":{\"aaxis\":{\"gridcolor\":\"white\",\"linecolor\":\"white\",\"ticks\":\"\"},\"baxis\":{\"gridcolor\":\"white\",\"linecolor\":\"white\",\"ticks\":\"\"},\"bgcolor\":\"#E5ECF6\",\"caxis\":{\"gridcolor\":\"white\",\"linecolor\":\"white\",\"ticks\":\"\"}},\"title\":{\"x\":0.05},\"xaxis\":{\"automargin\":true,\"gridcolor\":\"white\",\"linecolor\":\"white\",\"ticks\":\"\",\"title\":{\"standoff\":15},\"zerolinecolor\":\"white\",\"zerolinewidth\":2},\"yaxis\":{\"automargin\":true,\"gridcolor\":\"white\",\"linecolor\":\"white\",\"ticks\":\"\",\"title\":{\"standoff\":15},\"zerolinecolor\":\"white\",\"zerolinewidth\":2}}},\"title\":{\"font\":{\"size\":30},\"text\":\"Ajuste de minimos cuadrados\"}},                        {\"responsive\": true}                    ).then(function(){\n",
              "                            \n",
              "var gd = document.getElementById('b48d863e-be1d-4015-ae39-74fb7792d1c4');\n",
              "var x = new MutationObserver(function (mutations, observer) {{\n",
              "        var display = window.getComputedStyle(gd).display;\n",
              "        if (!display || display === 'none') {{\n",
              "            console.log([gd, 'removed!']);\n",
              "            Plotly.purge(gd);\n",
              "            observer.disconnect();\n",
              "        }}\n",
              "}});\n",
              "\n",
              "// Listen for the removal of the full notebook cells\n",
              "var notebookContainer = gd.closest('#notebook-container');\n",
              "if (notebookContainer) {{\n",
              "    x.observe(notebookContainer, {childList: true});\n",
              "}}\n",
              "\n",
              "// Listen for the clearing of the current output cell\n",
              "var outputEl = gd.closest('.output');\n",
              "if (outputEl) {{\n",
              "    x.observe(outputEl, {childList: true});\n",
              "}}\n",
              "\n",
              "                        })                };                            </script>        </div>\n",
              "</body>\n",
              "</html>"
            ]
          },
          "metadata": {}
        },
        {
          "output_type": "stream",
          "name": "stdout",
          "text": [
            "***Polinomio\n",
            "\n"
          ]
        },
        {
          "output_type": "display_data",
          "data": {
            "text/plain": [
              "<IPython.core.display.Latex object>"
            ],
            "text/latex": "$P(x) = 2.5024093893762 \\cdot 10^{-5} x^{7} + 0.00022571254628614 x^{6} - 0.00969861749205066 x^{5} - 0.0943035593034425 x^{4} + 0.120876832597699 x^{3} + 2.14675719376882 x^{2} + 1.86041049043168 x + 2.27879976381604$"
          },
          "metadata": {}
        },
        {
          "output_type": "display_data",
          "data": {
            "text/html": [
              "<html>\n",
              "<head><meta charset=\"utf-8\" /></head>\n",
              "<body>\n",
              "    <div>            <script src=\"https://cdnjs.cloudflare.com/ajax/libs/mathjax/2.7.5/MathJax.js?config=TeX-AMS-MML_SVG\"></script><script type=\"text/javascript\">if (window.MathJax) {MathJax.Hub.Config({SVG: {font: \"STIX-Web\"}});}</script>                <script type=\"text/javascript\">window.PlotlyConfig = {MathJaxConfig: 'local'};</script>\n",
              "        <script src=\"https://cdn.plot.ly/plotly-2.8.3.min.js\"></script>                <div id=\"de8a72a5-2ac3-40f8-8b2e-bd32a981d04e\" class=\"plotly-graph-div\" style=\"height:525px; width:100%;\"></div>            <script type=\"text/javascript\">                                    window.PLOTLYENV=window.PLOTLYENV || {};                                    if (document.getElementById(\"de8a72a5-2ac3-40f8-8b2e-bd32a981d04e\")) {                    Plotly.newPlot(                        \"de8a72a5-2ac3-40f8-8b2e-bd32a981d04e\",                        [{\"marker\":{\"color\":\"LightSeaGreen\"},\"mode\":\"lines\",\"name\":\"P(x)\",\"x\":[-18.9,-18.707035175879394,-18.514070351758793,-18.32110552763819,-18.128140703517587,-17.935175879396983,-17.742211055276382,-17.549246231155777,-17.356281407035176,-17.16331658291457,-16.970351758793967,-16.777386934673366,-16.58442211055276,-16.39145728643216,-16.198492462311556,-16.005527638190955,-15.81256281407035,-15.619597989949748,-15.426633165829145,-15.23366834170854,-15.04070351758794,-14.847738693467335,-14.654773869346732,-14.46180904522613,-14.268844221105526,-14.075879396984924,-13.88291457286432,-13.689949748743718,-13.496984924623113,-13.304020100502512,-13.111055276381908,-12.918090452261305,-12.725125628140702,-12.5321608040201,-12.339195979899497,-12.146231155778892,-11.953266331658291,-11.760301507537687,-11.567336683417084,-11.374371859296481,-11.181407035175878,-10.988442211055276,-10.795477386934673,-10.60251256281407,-10.409547738693465,-10.216582914572863,-10.02361809045226,-9.830653266331657,-9.637688442211054,-9.444723618090451,-9.251758793969849,-9.058793969849246,-8.865829145728643,-8.672864321608039,-8.479899497487436,-8.286934673366833,-8.09396984924623,-7.901005025125627,-7.708040201005025,-7.515075376884422,-7.322110552763817,-7.1291457286432145,-6.936180904522612,-6.743216080402009,-6.550251256281406,-6.357286432160803,-6.164321608040201,-5.971356783919598,-5.778391959798995,-5.58542713567839,-5.392462311557788,-5.199497487437185,-5.006532663316582,-4.813567839195979,-4.6206030150753765,-4.427638190954774,-4.234673366834169,-4.041708542713566,-3.8487437185929636,-3.655778894472361,-3.462814070351758,-3.2698492462311552,-3.0768844221105525,-2.883919597989948,-2.690954773869347,-2.4979899497487423,-2.3050251256281413,-2.1120603015075368,-1.9190954773869322,-1.7261306532663312,-1.5331658291457266,-1.3402010050251256,-1.147236180904521,-0.95427135678392,-0.7613065326633155,-0.5683417085427145,-0.3753768844221099,-0.18241206030150536,0.010552763819095645,0.2035175879397002,0.3964824120603012,0.5894472361809058,0.7824120603015068,0.9753768844221113,1.1683417085427124,1.361306532663317,1.5542713567839215,1.7472361809045225,1.940201005025127,2.133165829145728,2.3261306532663326,2.5190954773869336,2.712060301507538,2.9050251256281427,3.0979899497487438,3.2909547738693483,3.4839195979899493,3.676884422110554,3.869849246231155,4.0628140703517595,4.255778894472364,4.448743718592965,4.64170854271357,4.834673366834171,5.027638190954775,5.220603015075376,5.413567839195981,5.606532663316582,5.799497487437186,5.992462311557791,6.185427135678392,6.378391959798996,6.571356783919597,6.764321608040202,6.957286432160803,7.150251256281408,7.343216080402009,7.536180904522613,7.729145728643218,7.922110552763819,8.115075376884423,8.308040201005024,8.501005025125629,8.69396984924623,8.886934673366834,9.079899497487439,9.27286432160804,9.465829145728645,9.658793969849246,9.85175879396985,10.044723618090451,10.237688442211056,10.43065326633166,10.623618090452261,10.816582914572866,11.009547738693467,11.202512562814071,11.395477386934672,11.588442211055277,11.781407035175878,11.974371859296483,12.167336683417087,12.360301507537688,12.553266331658293,12.746231155778894,12.939195979899498,13.132160804020103,13.325125628140704,13.518090452261305,13.711055276381913,13.904020100502514,14.096984924623115,14.289949748743716,14.482914572864324,14.675879396984925,14.868844221105526,15.061809045226134,15.254773869346735,15.447738693467336,15.640703517587937,15.833668341708545,16.026633165829146,16.219597989949747,16.41256281407035,16.605527638190956,16.798492462311557,16.99145728643216,17.184422110552767,17.377386934673368,17.57035175879397,17.76331658291457,17.956281407035178,18.14924623115578,18.34221105527638,18.535175879396988,18.72814070351759,18.92110552763819,19.11407035175879,19.3070351758794,19.5],\"y\":[5.000068585612098,208.503069307053,385.40833552998083,537.8512124334611,667.8474293066356,777.297710546376,867.9922757532986,941.6152301826733,999.748846806564,1043.877741243633,1075.392940813109,1095.5958489692466,1105.7021063727598,1106.8453498556055,1100.0808705356103,1086.3891723373035,1066.6794321753805,1041.7928630572587,1012.5059813611333,979.5337795459154,943.532805549562,905.1041501321133,864.796343419971,823.1081619077431,780.4913471741452,737.353237568354,694.0593141232375,650.9356619518921,608.2713483838934,566.3207190977187,525.3056135057154,485.4175006480864,446.81953685227836,409.648546414222,374.016926557832,340.01447792919544,307.7101618818749,277.1537858097345,248.3776177837426,221.3979317491369,196.2164845394027,172.82192596347386,151.19114322258838,131.29054091321268,113.07725787246409,96.50032212245401,81.50174516996958,68.01755691792857,55.97878244501362,45.312361909928086,35.94201483667996,27.789050037329048,20.77312242861217,14.812937998876805,9.826908181738872,5.73375489289441,2.453067486504551,-0.09418711242204836,-1.9851998432268942,-3.294899255953794,-4.095574312436497,-4.456538985693697,-4.443837401213216,-4.119988263698161,-3.5437673128541576,-2.7700265517941887,-1.8495489916365955,-0.8289376558753787,0.24946241190284013,1.34761039337657,2.4317854503456147,3.472573245509423,4.444824485589777,5.3275867432215875,6.104010814034886,6.761232865351012,7.290233632916369,7.685675922096625,7.9457216699548,8.071829824636282,8.06853629848387,7.943217251306072,7.705836960221843,7.368681532504898,6.946079717850663,6.4541120764892055,5.910309759567179,5.333344158221896,4.742708677770926,4.158393893440045,3.6005573440529215,3.089189220105732,2.6437752026496146,2.282957709404436,2.0241968045267527,1.8834320284553476,1.8747464042573248,2.0100338768980572,2.2986714418580507,2.7471972195199625,3.3589957317488346,4.133991637088856,5.0683531809995745,6.154206617555059,7.3793628590287215,8.727057609787515,10.175706240918036,11.698674662008253,13.264067446507777,14.834534467089604,16.367097297437105,17.812996636878605,19.117562014293615,20.220105027712968,21.053837376036775,21.54581493929296,21.616909163859496,21.18180700907383,20.149040711652287,18.42104862434283,15.894268385234362,12.459263674145554,8.000885812516302,2.3984714632257536,-4.473922313241751,-12.747244389856782,-22.557136034911593,-34.04357624826589,-47.350484715553726,-62.625281123922406,-80.01839958288545,-99.68275689386472,-121.77317341199507,-146.44574524377643,-173.85716652413902,-204.16400051651163,-237.52189827945574,-274.0847636434568,-314.0038632414349,-357.4268803365636,-404.496911190971,-455.35140271888906,-510.12103016784926,-568.9285135714767,-631.887371717484,-699.1006123744186,-770.6593575207576,-846.6414023199246,-927.1097065847881,-1012.1108174752508,-1101.673222172466,-1195.8056292733038,-1294.4951776485939,-1397.705571508769,-1505.3751404204563,-1617.4148230175945,-1733.7060731506795,-1854.0986872176684,-1978.4085514201838,-2106.4153076885177,-2237.859937019093,-2372.4422589678807,-2509.8183460434147,-2649.597851742956,-2791.341250975347,-2934.5569916142194,-3078.698555925028,-3223.1614306095776,-3367.279984211568,-3510.3242506267497,-3651.4966174612387,-3789.92841798166,-3924.67642540056,-4054.719248240771,-4178.953625522248,-4296.190620515024,-4405.151711801741,-4504.464780393446,-4592.659991642204,-4668.165570694043,-4729.3034702258765,-4774.2849292099645,-4801.205921449472,-4808.042492628718,-4792.645984621652,-4752.738145802241,-4685.9061261002025,-4589.59735554574,-4461.114305046924,-4297.609128143073,-4096.078182478015,-3853.356429736512,-3566.111712787686,-3230.8389087787764,-2843.8539569229924,-2401.2877597250535,-1899.07995638769,-1332.9725671431133,-698.5035072527298,9.000030581168176],\"type\":\"scatter\"},{\"marker\":{\"color\":\"MediumPurple\",\"size\":10},\"mode\":\"markers\",\"name\":\"Puntos dados\",\"x\":[0.2,-0.2,-0.1,-0.6,-1.6,-18.9,-8.3,-4.2,-2.9,19.5,4.6,1.2,1.9,1.9,4.3],\"y\":[0,1,2,3,4,5,6,7,8,9,10,11,12,13,14],\"type\":\"scatter\"}],                        {\"template\":{\"data\":{\"bar\":[{\"error_x\":{\"color\":\"#2a3f5f\"},\"error_y\":{\"color\":\"#2a3f5f\"},\"marker\":{\"line\":{\"color\":\"#E5ECF6\",\"width\":0.5},\"pattern\":{\"fillmode\":\"overlay\",\"size\":10,\"solidity\":0.2}},\"type\":\"bar\"}],\"barpolar\":[{\"marker\":{\"line\":{\"color\":\"#E5ECF6\",\"width\":0.5},\"pattern\":{\"fillmode\":\"overlay\",\"size\":10,\"solidity\":0.2}},\"type\":\"barpolar\"}],\"carpet\":[{\"aaxis\":{\"endlinecolor\":\"#2a3f5f\",\"gridcolor\":\"white\",\"linecolor\":\"white\",\"minorgridcolor\":\"white\",\"startlinecolor\":\"#2a3f5f\"},\"baxis\":{\"endlinecolor\":\"#2a3f5f\",\"gridcolor\":\"white\",\"linecolor\":\"white\",\"minorgridcolor\":\"white\",\"startlinecolor\":\"#2a3f5f\"},\"type\":\"carpet\"}],\"choropleth\":[{\"colorbar\":{\"outlinewidth\":0,\"ticks\":\"\"},\"type\":\"choropleth\"}],\"contour\":[{\"colorbar\":{\"outlinewidth\":0,\"ticks\":\"\"},\"colorscale\":[[0.0,\"#0d0887\"],[0.1111111111111111,\"#46039f\"],[0.2222222222222222,\"#7201a8\"],[0.3333333333333333,\"#9c179e\"],[0.4444444444444444,\"#bd3786\"],[0.5555555555555556,\"#d8576b\"],[0.6666666666666666,\"#ed7953\"],[0.7777777777777778,\"#fb9f3a\"],[0.8888888888888888,\"#fdca26\"],[1.0,\"#f0f921\"]],\"type\":\"contour\"}],\"contourcarpet\":[{\"colorbar\":{\"outlinewidth\":0,\"ticks\":\"\"},\"type\":\"contourcarpet\"}],\"heatmap\":[{\"colorbar\":{\"outlinewidth\":0,\"ticks\":\"\"},\"colorscale\":[[0.0,\"#0d0887\"],[0.1111111111111111,\"#46039f\"],[0.2222222222222222,\"#7201a8\"],[0.3333333333333333,\"#9c179e\"],[0.4444444444444444,\"#bd3786\"],[0.5555555555555556,\"#d8576b\"],[0.6666666666666666,\"#ed7953\"],[0.7777777777777778,\"#fb9f3a\"],[0.8888888888888888,\"#fdca26\"],[1.0,\"#f0f921\"]],\"type\":\"heatmap\"}],\"heatmapgl\":[{\"colorbar\":{\"outlinewidth\":0,\"ticks\":\"\"},\"colorscale\":[[0.0,\"#0d0887\"],[0.1111111111111111,\"#46039f\"],[0.2222222222222222,\"#7201a8\"],[0.3333333333333333,\"#9c179e\"],[0.4444444444444444,\"#bd3786\"],[0.5555555555555556,\"#d8576b\"],[0.6666666666666666,\"#ed7953\"],[0.7777777777777778,\"#fb9f3a\"],[0.8888888888888888,\"#fdca26\"],[1.0,\"#f0f921\"]],\"type\":\"heatmapgl\"}],\"histogram\":[{\"marker\":{\"pattern\":{\"fillmode\":\"overlay\",\"size\":10,\"solidity\":0.2}},\"type\":\"histogram\"}],\"histogram2d\":[{\"colorbar\":{\"outlinewidth\":0,\"ticks\":\"\"},\"colorscale\":[[0.0,\"#0d0887\"],[0.1111111111111111,\"#46039f\"],[0.2222222222222222,\"#7201a8\"],[0.3333333333333333,\"#9c179e\"],[0.4444444444444444,\"#bd3786\"],[0.5555555555555556,\"#d8576b\"],[0.6666666666666666,\"#ed7953\"],[0.7777777777777778,\"#fb9f3a\"],[0.8888888888888888,\"#fdca26\"],[1.0,\"#f0f921\"]],\"type\":\"histogram2d\"}],\"histogram2dcontour\":[{\"colorbar\":{\"outlinewidth\":0,\"ticks\":\"\"},\"colorscale\":[[0.0,\"#0d0887\"],[0.1111111111111111,\"#46039f\"],[0.2222222222222222,\"#7201a8\"],[0.3333333333333333,\"#9c179e\"],[0.4444444444444444,\"#bd3786\"],[0.5555555555555556,\"#d8576b\"],[0.6666666666666666,\"#ed7953\"],[0.7777777777777778,\"#fb9f3a\"],[0.8888888888888888,\"#fdca26\"],[1.0,\"#f0f921\"]],\"type\":\"histogram2dcontour\"}],\"mesh3d\":[{\"colorbar\":{\"outlinewidth\":0,\"ticks\":\"\"},\"type\":\"mesh3d\"}],\"parcoords\":[{\"line\":{\"colorbar\":{\"outlinewidth\":0,\"ticks\":\"\"}},\"type\":\"parcoords\"}],\"pie\":[{\"automargin\":true,\"type\":\"pie\"}],\"scatter\":[{\"marker\":{\"colorbar\":{\"outlinewidth\":0,\"ticks\":\"\"}},\"type\":\"scatter\"}],\"scatter3d\":[{\"line\":{\"colorbar\":{\"outlinewidth\":0,\"ticks\":\"\"}},\"marker\":{\"colorbar\":{\"outlinewidth\":0,\"ticks\":\"\"}},\"type\":\"scatter3d\"}],\"scattercarpet\":[{\"marker\":{\"colorbar\":{\"outlinewidth\":0,\"ticks\":\"\"}},\"type\":\"scattercarpet\"}],\"scattergeo\":[{\"marker\":{\"colorbar\":{\"outlinewidth\":0,\"ticks\":\"\"}},\"type\":\"scattergeo\"}],\"scattergl\":[{\"marker\":{\"colorbar\":{\"outlinewidth\":0,\"ticks\":\"\"}},\"type\":\"scattergl\"}],\"scattermapbox\":[{\"marker\":{\"colorbar\":{\"outlinewidth\":0,\"ticks\":\"\"}},\"type\":\"scattermapbox\"}],\"scatterpolar\":[{\"marker\":{\"colorbar\":{\"outlinewidth\":0,\"ticks\":\"\"}},\"type\":\"scatterpolar\"}],\"scatterpolargl\":[{\"marker\":{\"colorbar\":{\"outlinewidth\":0,\"ticks\":\"\"}},\"type\":\"scatterpolargl\"}],\"scatterternary\":[{\"marker\":{\"colorbar\":{\"outlinewidth\":0,\"ticks\":\"\"}},\"type\":\"scatterternary\"}],\"surface\":[{\"colorbar\":{\"outlinewidth\":0,\"ticks\":\"\"},\"colorscale\":[[0.0,\"#0d0887\"],[0.1111111111111111,\"#46039f\"],[0.2222222222222222,\"#7201a8\"],[0.3333333333333333,\"#9c179e\"],[0.4444444444444444,\"#bd3786\"],[0.5555555555555556,\"#d8576b\"],[0.6666666666666666,\"#ed7953\"],[0.7777777777777778,\"#fb9f3a\"],[0.8888888888888888,\"#fdca26\"],[1.0,\"#f0f921\"]],\"type\":\"surface\"}],\"table\":[{\"cells\":{\"fill\":{\"color\":\"#EBF0F8\"},\"line\":{\"color\":\"white\"}},\"header\":{\"fill\":{\"color\":\"#C8D4E3\"},\"line\":{\"color\":\"white\"}},\"type\":\"table\"}]},\"layout\":{\"annotationdefaults\":{\"arrowcolor\":\"#2a3f5f\",\"arrowhead\":0,\"arrowwidth\":1},\"autotypenumbers\":\"strict\",\"coloraxis\":{\"colorbar\":{\"outlinewidth\":0,\"ticks\":\"\"}},\"colorscale\":{\"diverging\":[[0,\"#8e0152\"],[0.1,\"#c51b7d\"],[0.2,\"#de77ae\"],[0.3,\"#f1b6da\"],[0.4,\"#fde0ef\"],[0.5,\"#f7f7f7\"],[0.6,\"#e6f5d0\"],[0.7,\"#b8e186\"],[0.8,\"#7fbc41\"],[0.9,\"#4d9221\"],[1,\"#276419\"]],\"sequential\":[[0.0,\"#0d0887\"],[0.1111111111111111,\"#46039f\"],[0.2222222222222222,\"#7201a8\"],[0.3333333333333333,\"#9c179e\"],[0.4444444444444444,\"#bd3786\"],[0.5555555555555556,\"#d8576b\"],[0.6666666666666666,\"#ed7953\"],[0.7777777777777778,\"#fb9f3a\"],[0.8888888888888888,\"#fdca26\"],[1.0,\"#f0f921\"]],\"sequentialminus\":[[0.0,\"#0d0887\"],[0.1111111111111111,\"#46039f\"],[0.2222222222222222,\"#7201a8\"],[0.3333333333333333,\"#9c179e\"],[0.4444444444444444,\"#bd3786\"],[0.5555555555555556,\"#d8576b\"],[0.6666666666666666,\"#ed7953\"],[0.7777777777777778,\"#fb9f3a\"],[0.8888888888888888,\"#fdca26\"],[1.0,\"#f0f921\"]]},\"colorway\":[\"#636efa\",\"#EF553B\",\"#00cc96\",\"#ab63fa\",\"#FFA15A\",\"#19d3f3\",\"#FF6692\",\"#B6E880\",\"#FF97FF\",\"#FECB52\"],\"font\":{\"color\":\"#2a3f5f\"},\"geo\":{\"bgcolor\":\"white\",\"lakecolor\":\"white\",\"landcolor\":\"#E5ECF6\",\"showlakes\":true,\"showland\":true,\"subunitcolor\":\"white\"},\"hoverlabel\":{\"align\":\"left\"},\"hovermode\":\"closest\",\"mapbox\":{\"style\":\"light\"},\"paper_bgcolor\":\"white\",\"plot_bgcolor\":\"#E5ECF6\",\"polar\":{\"angularaxis\":{\"gridcolor\":\"white\",\"linecolor\":\"white\",\"ticks\":\"\"},\"bgcolor\":\"#E5ECF6\",\"radialaxis\":{\"gridcolor\":\"white\",\"linecolor\":\"white\",\"ticks\":\"\"}},\"scene\":{\"xaxis\":{\"backgroundcolor\":\"#E5ECF6\",\"gridcolor\":\"white\",\"gridwidth\":2,\"linecolor\":\"white\",\"showbackground\":true,\"ticks\":\"\",\"zerolinecolor\":\"white\"},\"yaxis\":{\"backgroundcolor\":\"#E5ECF6\",\"gridcolor\":\"white\",\"gridwidth\":2,\"linecolor\":\"white\",\"showbackground\":true,\"ticks\":\"\",\"zerolinecolor\":\"white\"},\"zaxis\":{\"backgroundcolor\":\"#E5ECF6\",\"gridcolor\":\"white\",\"gridwidth\":2,\"linecolor\":\"white\",\"showbackground\":true,\"ticks\":\"\",\"zerolinecolor\":\"white\"}},\"shapedefaults\":{\"line\":{\"color\":\"#2a3f5f\"}},\"ternary\":{\"aaxis\":{\"gridcolor\":\"white\",\"linecolor\":\"white\",\"ticks\":\"\"},\"baxis\":{\"gridcolor\":\"white\",\"linecolor\":\"white\",\"ticks\":\"\"},\"bgcolor\":\"#E5ECF6\",\"caxis\":{\"gridcolor\":\"white\",\"linecolor\":\"white\",\"ticks\":\"\"}},\"title\":{\"x\":0.05},\"xaxis\":{\"automargin\":true,\"gridcolor\":\"white\",\"linecolor\":\"white\",\"ticks\":\"\",\"title\":{\"standoff\":15},\"zerolinecolor\":\"white\",\"zerolinewidth\":2},\"yaxis\":{\"automargin\":true,\"gridcolor\":\"white\",\"linecolor\":\"white\",\"ticks\":\"\",\"title\":{\"standoff\":15},\"zerolinecolor\":\"white\",\"zerolinewidth\":2}}},\"title\":{\"font\":{\"size\":30},\"text\":\"Ajuste de minimos cuadrados\"}},                        {\"responsive\": true}                    ).then(function(){\n",
              "                            \n",
              "var gd = document.getElementById('de8a72a5-2ac3-40f8-8b2e-bd32a981d04e');\n",
              "var x = new MutationObserver(function (mutations, observer) {{\n",
              "        var display = window.getComputedStyle(gd).display;\n",
              "        if (!display || display === 'none') {{\n",
              "            console.log([gd, 'removed!']);\n",
              "            Plotly.purge(gd);\n",
              "            observer.disconnect();\n",
              "        }}\n",
              "}});\n",
              "\n",
              "// Listen for the removal of the full notebook cells\n",
              "var notebookContainer = gd.closest('#notebook-container');\n",
              "if (notebookContainer) {{\n",
              "    x.observe(notebookContainer, {childList: true});\n",
              "}}\n",
              "\n",
              "// Listen for the clearing of the current output cell\n",
              "var outputEl = gd.closest('.output');\n",
              "if (outputEl) {{\n",
              "    x.observe(outputEl, {childList: true});\n",
              "}}\n",
              "\n",
              "                        })                };                            </script>        </div>\n",
              "</body>\n",
              "</html>"
            ]
          },
          "metadata": {}
        },
        {
          "output_type": "stream",
          "name": "stdout",
          "text": [
            "***Polinomio\n",
            "\n"
          ]
        },
        {
          "output_type": "display_data",
          "data": {
            "text/plain": [
              "<IPython.core.display.Latex object>"
            ],
            "text/latex": "$P(x) = - 3.45797318520004 \\cdot 10^{-6} x^{8} + 1.92023494425675 \\cdot 10^{-6} x^{7} + 0.0016187701235603 x^{6} + 9.11940333196002 \\cdot 10^{-5} x^{5} - 0.133389546031348 x^{4} - 0.0915087092373759 x^{3} + 2.36664379890694 x^{2} + 2.52655147336144 x + 2.09985193995928$"
          },
          "metadata": {}
        },
        {
          "output_type": "display_data",
          "data": {
            "text/html": [
              "<html>\n",
              "<head><meta charset=\"utf-8\" /></head>\n",
              "<body>\n",
              "    <div>            <script src=\"https://cdnjs.cloudflare.com/ajax/libs/mathjax/2.7.5/MathJax.js?config=TeX-AMS-MML_SVG\"></script><script type=\"text/javascript\">if (window.MathJax) {MathJax.Hub.Config({SVG: {font: \"STIX-Web\"}});}</script>                <script type=\"text/javascript\">window.PlotlyConfig = {MathJaxConfig: 'local'};</script>\n",
              "        <script src=\"https://cdn.plot.ly/plotly-2.8.3.min.js\"></script>                <div id=\"676dcb4b-0b8c-4b23-8256-2a1315391828\" class=\"plotly-graph-div\" style=\"height:525px; width:100%;\"></div>            <script type=\"text/javascript\">                                    window.PLOTLYENV=window.PLOTLYENV || {};                                    if (document.getElementById(\"676dcb4b-0b8c-4b23-8256-2a1315391828\")) {                    Plotly.newPlot(                        \"676dcb4b-0b8c-4b23-8256-2a1315391828\",                        [{\"marker\":{\"color\":\"LightSeaGreen\"},\"mode\":\"lines\",\"name\":\"P(x)\",\"x\":[-18.9,-18.707035175879394,-18.514070351758793,-18.32110552763819,-18.128140703517587,-17.935175879396983,-17.742211055276382,-17.549246231155777,-17.356281407035176,-17.16331658291457,-16.970351758793967,-16.777386934673366,-16.58442211055276,-16.39145728643216,-16.198492462311556,-16.005527638190955,-15.81256281407035,-15.619597989949748,-15.426633165829145,-15.23366834170854,-15.04070351758794,-14.847738693467335,-14.654773869346732,-14.46180904522613,-14.268844221105526,-14.075879396984924,-13.88291457286432,-13.689949748743718,-13.496984924623113,-13.304020100502512,-13.111055276381908,-12.918090452261305,-12.725125628140702,-12.5321608040201,-12.339195979899497,-12.146231155778892,-11.953266331658291,-11.760301507537687,-11.567336683417084,-11.374371859296481,-11.181407035175878,-10.988442211055276,-10.795477386934673,-10.60251256281407,-10.409547738693465,-10.216582914572863,-10.02361809045226,-9.830653266331657,-9.637688442211054,-9.444723618090451,-9.251758793969849,-9.058793969849246,-8.865829145728643,-8.672864321608039,-8.479899497487436,-8.286934673366833,-8.09396984924623,-7.901005025125627,-7.708040201005025,-7.515075376884422,-7.322110552763817,-7.1291457286432145,-6.936180904522612,-6.743216080402009,-6.550251256281406,-6.357286432160803,-6.164321608040201,-5.971356783919598,-5.778391959798995,-5.58542713567839,-5.392462311557788,-5.199497487437185,-5.006532663316582,-4.813567839195979,-4.6206030150753765,-4.427638190954774,-4.234673366834169,-4.041708542713566,-3.8487437185929636,-3.655778894472361,-3.462814070351758,-3.2698492462311552,-3.0768844221105525,-2.883919597989948,-2.690954773869347,-2.4979899497487423,-2.3050251256281413,-2.1120603015075368,-1.9190954773869322,-1.7261306532663312,-1.5331658291457266,-1.3402010050251256,-1.147236180904521,-0.95427135678392,-0.7613065326633155,-0.5683417085427145,-0.3753768844221099,-0.18241206030150536,0.010552763819095645,0.2035175879397002,0.3964824120603012,0.5894472361809058,0.7824120603015068,0.9753768844221113,1.1683417085427124,1.361306532663317,1.5542713567839215,1.7472361809045225,1.940201005025127,2.133165829145728,2.3261306532663326,2.5190954773869336,2.712060301507538,2.9050251256281427,3.0979899497487438,3.2909547738693483,3.4839195979899493,3.676884422110554,3.869849246231155,4.0628140703517595,4.255778894472364,4.448743718592965,4.64170854271357,4.834673366834171,5.027638190954775,5.220603015075376,5.413567839195981,5.606532663316582,5.799497487437186,5.992462311557791,6.185427135678392,6.378391959798996,6.571356783919597,6.764321608040202,6.957286432160803,7.150251256281408,7.343216080402009,7.536180904522613,7.729145728643218,7.922110552763819,8.115075376884423,8.308040201005024,8.501005025125629,8.69396984924623,8.886934673366834,9.079899497487439,9.27286432160804,9.465829145728645,9.658793969849246,9.85175879396985,10.044723618090451,10.237688442211056,10.43065326633166,10.623618090452261,10.816582914572866,11.009547738693467,11.202512562814071,11.395477386934672,11.588442211055277,11.781407035175878,11.974371859296483,12.167336683417087,12.360301507537688,12.553266331658293,12.746231155778894,12.939195979899498,13.132160804020103,13.325125628140704,13.518090452261305,13.711055276381913,13.904020100502514,14.096984924623115,14.289949748743716,14.482914572864324,14.675879396984925,14.868844221105526,15.061809045226134,15.254773869346735,15.447738693467336,15.640703517587937,15.833668341708545,16.026633165829146,16.219597989949747,16.41256281407035,16.605527638190956,16.798492462311557,16.99145728643216,17.184422110552767,17.377386934673368,17.57035175879397,17.76331658291457,17.956281407035178,18.14924623115578,18.34221105527638,18.535175879396988,18.72814070351759,18.92110552763819,19.11407035175879,19.3070351758794,19.5],\"y\":[4.999998039704224,811.284532431986,1502.3121489546684,2088.5135818169656,2579.6310594891984,2984.751849157248,3312.340644078162,3570.270819247209,3765.854580517389,3905.8720320454886,3996.5991866699806,4043.8349435585333,4052.9270571945563,4028.797121504311,3975.96459265826,3898.5698738119063,3800.3964847837906,3684.892339400005,3555.190152966634,3414.127002063635,3264.263058585462,3107.8995196858095,2947.095755015883,2783.685692377443,2619.2934626440438,2455.348324535633,2293.09888956389,2133.6266671974963,1977.8589500285584,1826.5810584534483,1680.4479641132111,1539.9953110706929,1405.649853433611,1277.7393278646077,1156.5017791514654,1042.094356742541,934.6015998845,834.0432287313838,740.3814585260743,653.5278536871288,573.3497383659947,499.6761797715667,432.3035602910426,371.00075416800223,315.5139242306141,265.5709538948722,220.88552939971282,181.16088696288705,146.093239278388,115.37489550826584,88.69708865360349,65.75252392143557,46.23766143634387,29.854746377470207,16.31359935365211,5.33317956136473,-3.3570669978557746,-10.016062231863557,-14.89014186359912,-18.212281055422167,-20.20148854749364,-21.062358373638272,-20.98476848614075,-20.143715888946446,-18.69927814676008,-16.79669140555396,-14.566535328018187,-12.125015615506273,-9.57433505604723,-7.0031443060177505,-4.4870638810875985,-2.089269100069483,0.13887000667212956,2.1571015445811024,3.9355648103456486,5.454030739696601,6.701116663835547,7.673482022738729,8.375011415564101,8.815991100367555,9.012284787315258,8.984514301558184,8.75725042391546,8.358218949492585,7.817526736340911,7.166912248244292,6.439024827699226,5.666736667134054,4.88249117839358,4.117691192494491,3.402130153637524,2.7634692034421264,2.226762783348835,1.8140351151153284,1.5439096513111514,1.431293319696776,1.4871171173520545,1.7181343423993782,2.1267774831465687,2.711074516454642,3.464625099115223,4.376636868002759,5.432021796745979,6.611552288643759,7.892076417529515,9.246791460269321,10.645574596557546,12.055369383655028,13.440626345693873,14.763795749152912,15.985870368088571,17.066975774684543,17.967005422665007,18.646297523094745,19.06635044407042,19.190573097786636,18.9850665104405,18.419432502418452,17.46760513818871,16.108700337303056,14.327878769891191,12.11721689201114,9.476580708198599,6.41449658053926,2.9490131355657265,-0.8914519477359508,-5.067286753549471,-9.526888301235832,-14.205901094505391,-19.02649833654824,-23.896713367943732,-28.709829152184476,-33.34383390167189,-37.66095120506368,-41.507253284867396,-44.71236628220078,-47.08927673365416,-48.434248673216175,-48.52686106023621,-47.13017550242615,-43.991044510916524,-38.840570792407576,-31.394728351469723,-21.35515644407846,-8.410137691472698,7.764228068533242,27.502642347656547,51.14900687750924,79.05459040303003,111.57595074980532,149.07259924803787,191.90439432794602,240.4286508333147,294.9969513319296,355.9516454336069,423.6220228584592,498.32014573011827,580.3363253004867,669.9342280447129,767.3455957969093,872.7645643292788,986.3415645091327,1108.176789900385,1238.3132144080541,1376.7291432962024,1523.3302806419047,1677.9412960195768,1840.2968729422196,2010.032221317932,2186.6730359120975,2369.624882537636,2558.161993427715,2751.415452977175,2948.360754771067,3147.804710550554,3348.3716914984816,3548.489181958923,3746.372625436721,3940.009542455624,4127.142899584831,4305.253708676391,4471.542835087415,4622.911993393482,4755.943908831083,4866.881622439414,4951.606917603458,5005.617845432578,5024.005326140417,5001.42880332435,4932.090927774352,4809.711247173429,4627.498877783175,4378.124133940997,4053.6890909263166,3645.6970564860967,3145.020926041274,2541.870396328217,1825.7580119607883,985.4640191308426,9.000000397485564],\"type\":\"scatter\"},{\"marker\":{\"color\":\"MediumPurple\",\"size\":10},\"mode\":\"markers\",\"name\":\"Puntos dados\",\"x\":[0.2,-0.2,-0.1,-0.6,-1.6,-18.9,-8.3,-4.2,-2.9,19.5,4.6,1.2,1.9,1.9,4.3],\"y\":[0,1,2,3,4,5,6,7,8,9,10,11,12,13,14],\"type\":\"scatter\"}],                        {\"template\":{\"data\":{\"bar\":[{\"error_x\":{\"color\":\"#2a3f5f\"},\"error_y\":{\"color\":\"#2a3f5f\"},\"marker\":{\"line\":{\"color\":\"#E5ECF6\",\"width\":0.5},\"pattern\":{\"fillmode\":\"overlay\",\"size\":10,\"solidity\":0.2}},\"type\":\"bar\"}],\"barpolar\":[{\"marker\":{\"line\":{\"color\":\"#E5ECF6\",\"width\":0.5},\"pattern\":{\"fillmode\":\"overlay\",\"size\":10,\"solidity\":0.2}},\"type\":\"barpolar\"}],\"carpet\":[{\"aaxis\":{\"endlinecolor\":\"#2a3f5f\",\"gridcolor\":\"white\",\"linecolor\":\"white\",\"minorgridcolor\":\"white\",\"startlinecolor\":\"#2a3f5f\"},\"baxis\":{\"endlinecolor\":\"#2a3f5f\",\"gridcolor\":\"white\",\"linecolor\":\"white\",\"minorgridcolor\":\"white\",\"startlinecolor\":\"#2a3f5f\"},\"type\":\"carpet\"}],\"choropleth\":[{\"colorbar\":{\"outlinewidth\":0,\"ticks\":\"\"},\"type\":\"choropleth\"}],\"contour\":[{\"colorbar\":{\"outlinewidth\":0,\"ticks\":\"\"},\"colorscale\":[[0.0,\"#0d0887\"],[0.1111111111111111,\"#46039f\"],[0.2222222222222222,\"#7201a8\"],[0.3333333333333333,\"#9c179e\"],[0.4444444444444444,\"#bd3786\"],[0.5555555555555556,\"#d8576b\"],[0.6666666666666666,\"#ed7953\"],[0.7777777777777778,\"#fb9f3a\"],[0.8888888888888888,\"#fdca26\"],[1.0,\"#f0f921\"]],\"type\":\"contour\"}],\"contourcarpet\":[{\"colorbar\":{\"outlinewidth\":0,\"ticks\":\"\"},\"type\":\"contourcarpet\"}],\"heatmap\":[{\"colorbar\":{\"outlinewidth\":0,\"ticks\":\"\"},\"colorscale\":[[0.0,\"#0d0887\"],[0.1111111111111111,\"#46039f\"],[0.2222222222222222,\"#7201a8\"],[0.3333333333333333,\"#9c179e\"],[0.4444444444444444,\"#bd3786\"],[0.5555555555555556,\"#d8576b\"],[0.6666666666666666,\"#ed7953\"],[0.7777777777777778,\"#fb9f3a\"],[0.8888888888888888,\"#fdca26\"],[1.0,\"#f0f921\"]],\"type\":\"heatmap\"}],\"heatmapgl\":[{\"colorbar\":{\"outlinewidth\":0,\"ticks\":\"\"},\"colorscale\":[[0.0,\"#0d0887\"],[0.1111111111111111,\"#46039f\"],[0.2222222222222222,\"#7201a8\"],[0.3333333333333333,\"#9c179e\"],[0.4444444444444444,\"#bd3786\"],[0.5555555555555556,\"#d8576b\"],[0.6666666666666666,\"#ed7953\"],[0.7777777777777778,\"#fb9f3a\"],[0.8888888888888888,\"#fdca26\"],[1.0,\"#f0f921\"]],\"type\":\"heatmapgl\"}],\"histogram\":[{\"marker\":{\"pattern\":{\"fillmode\":\"overlay\",\"size\":10,\"solidity\":0.2}},\"type\":\"histogram\"}],\"histogram2d\":[{\"colorbar\":{\"outlinewidth\":0,\"ticks\":\"\"},\"colorscale\":[[0.0,\"#0d0887\"],[0.1111111111111111,\"#46039f\"],[0.2222222222222222,\"#7201a8\"],[0.3333333333333333,\"#9c179e\"],[0.4444444444444444,\"#bd3786\"],[0.5555555555555556,\"#d8576b\"],[0.6666666666666666,\"#ed7953\"],[0.7777777777777778,\"#fb9f3a\"],[0.8888888888888888,\"#fdca26\"],[1.0,\"#f0f921\"]],\"type\":\"histogram2d\"}],\"histogram2dcontour\":[{\"colorbar\":{\"outlinewidth\":0,\"ticks\":\"\"},\"colorscale\":[[0.0,\"#0d0887\"],[0.1111111111111111,\"#46039f\"],[0.2222222222222222,\"#7201a8\"],[0.3333333333333333,\"#9c179e\"],[0.4444444444444444,\"#bd3786\"],[0.5555555555555556,\"#d8576b\"],[0.6666666666666666,\"#ed7953\"],[0.7777777777777778,\"#fb9f3a\"],[0.8888888888888888,\"#fdca26\"],[1.0,\"#f0f921\"]],\"type\":\"histogram2dcontour\"}],\"mesh3d\":[{\"colorbar\":{\"outlinewidth\":0,\"ticks\":\"\"},\"type\":\"mesh3d\"}],\"parcoords\":[{\"line\":{\"colorbar\":{\"outlinewidth\":0,\"ticks\":\"\"}},\"type\":\"parcoords\"}],\"pie\":[{\"automargin\":true,\"type\":\"pie\"}],\"scatter\":[{\"marker\":{\"colorbar\":{\"outlinewidth\":0,\"ticks\":\"\"}},\"type\":\"scatter\"}],\"scatter3d\":[{\"line\":{\"colorbar\":{\"outlinewidth\":0,\"ticks\":\"\"}},\"marker\":{\"colorbar\":{\"outlinewidth\":0,\"ticks\":\"\"}},\"type\":\"scatter3d\"}],\"scattercarpet\":[{\"marker\":{\"colorbar\":{\"outlinewidth\":0,\"ticks\":\"\"}},\"type\":\"scattercarpet\"}],\"scattergeo\":[{\"marker\":{\"colorbar\":{\"outlinewidth\":0,\"ticks\":\"\"}},\"type\":\"scattergeo\"}],\"scattergl\":[{\"marker\":{\"colorbar\":{\"outlinewidth\":0,\"ticks\":\"\"}},\"type\":\"scattergl\"}],\"scattermapbox\":[{\"marker\":{\"colorbar\":{\"outlinewidth\":0,\"ticks\":\"\"}},\"type\":\"scattermapbox\"}],\"scatterpolar\":[{\"marker\":{\"colorbar\":{\"outlinewidth\":0,\"ticks\":\"\"}},\"type\":\"scatterpolar\"}],\"scatterpolargl\":[{\"marker\":{\"colorbar\":{\"outlinewidth\":0,\"ticks\":\"\"}},\"type\":\"scatterpolargl\"}],\"scatterternary\":[{\"marker\":{\"colorbar\":{\"outlinewidth\":0,\"ticks\":\"\"}},\"type\":\"scatterternary\"}],\"surface\":[{\"colorbar\":{\"outlinewidth\":0,\"ticks\":\"\"},\"colorscale\":[[0.0,\"#0d0887\"],[0.1111111111111111,\"#46039f\"],[0.2222222222222222,\"#7201a8\"],[0.3333333333333333,\"#9c179e\"],[0.4444444444444444,\"#bd3786\"],[0.5555555555555556,\"#d8576b\"],[0.6666666666666666,\"#ed7953\"],[0.7777777777777778,\"#fb9f3a\"],[0.8888888888888888,\"#fdca26\"],[1.0,\"#f0f921\"]],\"type\":\"surface\"}],\"table\":[{\"cells\":{\"fill\":{\"color\":\"#EBF0F8\"},\"line\":{\"color\":\"white\"}},\"header\":{\"fill\":{\"color\":\"#C8D4E3\"},\"line\":{\"color\":\"white\"}},\"type\":\"table\"}]},\"layout\":{\"annotationdefaults\":{\"arrowcolor\":\"#2a3f5f\",\"arrowhead\":0,\"arrowwidth\":1},\"autotypenumbers\":\"strict\",\"coloraxis\":{\"colorbar\":{\"outlinewidth\":0,\"ticks\":\"\"}},\"colorscale\":{\"diverging\":[[0,\"#8e0152\"],[0.1,\"#c51b7d\"],[0.2,\"#de77ae\"],[0.3,\"#f1b6da\"],[0.4,\"#fde0ef\"],[0.5,\"#f7f7f7\"],[0.6,\"#e6f5d0\"],[0.7,\"#b8e186\"],[0.8,\"#7fbc41\"],[0.9,\"#4d9221\"],[1,\"#276419\"]],\"sequential\":[[0.0,\"#0d0887\"],[0.1111111111111111,\"#46039f\"],[0.2222222222222222,\"#7201a8\"],[0.3333333333333333,\"#9c179e\"],[0.4444444444444444,\"#bd3786\"],[0.5555555555555556,\"#d8576b\"],[0.6666666666666666,\"#ed7953\"],[0.7777777777777778,\"#fb9f3a\"],[0.8888888888888888,\"#fdca26\"],[1.0,\"#f0f921\"]],\"sequentialminus\":[[0.0,\"#0d0887\"],[0.1111111111111111,\"#46039f\"],[0.2222222222222222,\"#7201a8\"],[0.3333333333333333,\"#9c179e\"],[0.4444444444444444,\"#bd3786\"],[0.5555555555555556,\"#d8576b\"],[0.6666666666666666,\"#ed7953\"],[0.7777777777777778,\"#fb9f3a\"],[0.8888888888888888,\"#fdca26\"],[1.0,\"#f0f921\"]]},\"colorway\":[\"#636efa\",\"#EF553B\",\"#00cc96\",\"#ab63fa\",\"#FFA15A\",\"#19d3f3\",\"#FF6692\",\"#B6E880\",\"#FF97FF\",\"#FECB52\"],\"font\":{\"color\":\"#2a3f5f\"},\"geo\":{\"bgcolor\":\"white\",\"lakecolor\":\"white\",\"landcolor\":\"#E5ECF6\",\"showlakes\":true,\"showland\":true,\"subunitcolor\":\"white\"},\"hoverlabel\":{\"align\":\"left\"},\"hovermode\":\"closest\",\"mapbox\":{\"style\":\"light\"},\"paper_bgcolor\":\"white\",\"plot_bgcolor\":\"#E5ECF6\",\"polar\":{\"angularaxis\":{\"gridcolor\":\"white\",\"linecolor\":\"white\",\"ticks\":\"\"},\"bgcolor\":\"#E5ECF6\",\"radialaxis\":{\"gridcolor\":\"white\",\"linecolor\":\"white\",\"ticks\":\"\"}},\"scene\":{\"xaxis\":{\"backgroundcolor\":\"#E5ECF6\",\"gridcolor\":\"white\",\"gridwidth\":2,\"linecolor\":\"white\",\"showbackground\":true,\"ticks\":\"\",\"zerolinecolor\":\"white\"},\"yaxis\":{\"backgroundcolor\":\"#E5ECF6\",\"gridcolor\":\"white\",\"gridwidth\":2,\"linecolor\":\"white\",\"showbackground\":true,\"ticks\":\"\",\"zerolinecolor\":\"white\"},\"zaxis\":{\"backgroundcolor\":\"#E5ECF6\",\"gridcolor\":\"white\",\"gridwidth\":2,\"linecolor\":\"white\",\"showbackground\":true,\"ticks\":\"\",\"zerolinecolor\":\"white\"}},\"shapedefaults\":{\"line\":{\"color\":\"#2a3f5f\"}},\"ternary\":{\"aaxis\":{\"gridcolor\":\"white\",\"linecolor\":\"white\",\"ticks\":\"\"},\"baxis\":{\"gridcolor\":\"white\",\"linecolor\":\"white\",\"ticks\":\"\"},\"bgcolor\":\"#E5ECF6\",\"caxis\":{\"gridcolor\":\"white\",\"linecolor\":\"white\",\"ticks\":\"\"}},\"title\":{\"x\":0.05},\"xaxis\":{\"automargin\":true,\"gridcolor\":\"white\",\"linecolor\":\"white\",\"ticks\":\"\",\"title\":{\"standoff\":15},\"zerolinecolor\":\"white\",\"zerolinewidth\":2},\"yaxis\":{\"automargin\":true,\"gridcolor\":\"white\",\"linecolor\":\"white\",\"ticks\":\"\",\"title\":{\"standoff\":15},\"zerolinecolor\":\"white\",\"zerolinewidth\":2}}},\"title\":{\"font\":{\"size\":30},\"text\":\"Ajuste de minimos cuadrados\"}},                        {\"responsive\": true}                    ).then(function(){\n",
              "                            \n",
              "var gd = document.getElementById('676dcb4b-0b8c-4b23-8256-2a1315391828');\n",
              "var x = new MutationObserver(function (mutations, observer) {{\n",
              "        var display = window.getComputedStyle(gd).display;\n",
              "        if (!display || display === 'none') {{\n",
              "            console.log([gd, 'removed!']);\n",
              "            Plotly.purge(gd);\n",
              "            observer.disconnect();\n",
              "        }}\n",
              "}});\n",
              "\n",
              "// Listen for the removal of the full notebook cells\n",
              "var notebookContainer = gd.closest('#notebook-container');\n",
              "if (notebookContainer) {{\n",
              "    x.observe(notebookContainer, {childList: true});\n",
              "}}\n",
              "\n",
              "// Listen for the clearing of the current output cell\n",
              "var outputEl = gd.closest('.output');\n",
              "if (outputEl) {{\n",
              "    x.observe(outputEl, {childList: true});\n",
              "}}\n",
              "\n",
              "                        })                };                            </script>        </div>\n",
              "</body>\n",
              "</html>"
            ]
          },
          "metadata": {}
        },
        {
          "output_type": "stream",
          "name": "stdout",
          "text": [
            "***Polinomio\n",
            "\n"
          ]
        },
        {
          "output_type": "display_data",
          "data": {
            "text/plain": [
              "<IPython.core.display.Latex object>"
            ],
            "text/latex": "$P(x) = - 3.13417588805209 \\cdot 10^{-7} x^{9} - 4.96651508137166 \\cdot 10^{-6} x^{8} + 0.000134094144730264 x^{7} + 0.0022825161366025 x^{6} - 0.00591482488299125 x^{5} - 0.151221723117794 x^{4} - 0.0129082571781425 x^{3} + 2.48517708346793 x^{2} + 2.29060750670334 x + 2.01544731681194$"
          },
          "metadata": {}
        },
        {
          "output_type": "display_data",
          "data": {
            "text/html": [
              "<html>\n",
              "<head><meta charset=\"utf-8\" /></head>\n",
              "<body>\n",
              "    <div>            <script src=\"https://cdnjs.cloudflare.com/ajax/libs/mathjax/2.7.5/MathJax.js?config=TeX-AMS-MML_SVG\"></script><script type=\"text/javascript\">if (window.MathJax) {MathJax.Hub.Config({SVG: {font: \"STIX-Web\"}});}</script>                <script type=\"text/javascript\">window.PlotlyConfig = {MathJaxConfig: 'local'};</script>\n",
              "        <script src=\"https://cdn.plot.ly/plotly-2.8.3.min.js\"></script>                <div id=\"1a82329f-504c-485b-b225-eab628ece6b5\" class=\"plotly-graph-div\" style=\"height:525px; width:100%;\"></div>            <script type=\"text/javascript\">                                    window.PLOTLYENV=window.PLOTLYENV || {};                                    if (document.getElementById(\"1a82329f-504c-485b-b225-eab628ece6b5\")) {                    Plotly.newPlot(                        \"1a82329f-504c-485b-b225-eab628ece6b5\",                        [{\"marker\":{\"color\":\"LightSeaGreen\"},\"mode\":\"lines\",\"name\":\"P(x)\",\"x\":[-18.9,-18.707035175879394,-18.514070351758793,-18.32110552763819,-18.128140703517587,-17.935175879396983,-17.742211055276382,-17.549246231155777,-17.356281407035176,-17.16331658291457,-16.970351758793967,-16.777386934673366,-16.58442211055276,-16.39145728643216,-16.198492462311556,-16.005527638190955,-15.81256281407035,-15.619597989949748,-15.426633165829145,-15.23366834170854,-15.04070351758794,-14.847738693467335,-14.654773869346732,-14.46180904522613,-14.268844221105526,-14.075879396984924,-13.88291457286432,-13.689949748743718,-13.496984924623113,-13.304020100502512,-13.111055276381908,-12.918090452261305,-12.725125628140702,-12.5321608040201,-12.339195979899497,-12.146231155778892,-11.953266331658291,-11.760301507537687,-11.567336683417084,-11.374371859296481,-11.181407035175878,-10.988442211055276,-10.795477386934673,-10.60251256281407,-10.409547738693465,-10.216582914572863,-10.02361809045226,-9.830653266331657,-9.637688442211054,-9.444723618090451,-9.251758793969849,-9.058793969849246,-8.865829145728643,-8.672864321608039,-8.479899497487436,-8.286934673366833,-8.09396984924623,-7.901005025125627,-7.708040201005025,-7.515075376884422,-7.322110552763817,-7.1291457286432145,-6.936180904522612,-6.743216080402009,-6.550251256281406,-6.357286432160803,-6.164321608040201,-5.971356783919598,-5.778391959798995,-5.58542713567839,-5.392462311557788,-5.199497487437185,-5.006532663316582,-4.813567839195979,-4.6206030150753765,-4.427638190954774,-4.234673366834169,-4.041708542713566,-3.8487437185929636,-3.655778894472361,-3.462814070351758,-3.2698492462311552,-3.0768844221105525,-2.883919597989948,-2.690954773869347,-2.4979899497487423,-2.3050251256281413,-2.1120603015075368,-1.9190954773869322,-1.7261306532663312,-1.5331658291457266,-1.3402010050251256,-1.147236180904521,-0.95427135678392,-0.7613065326633155,-0.5683417085427145,-0.3753768844221099,-0.18241206030150536,0.010552763819095645,0.2035175879397002,0.3964824120603012,0.5894472361809058,0.7824120603015068,0.9753768844221113,1.1683417085427124,1.361306532663317,1.5542713567839215,1.7472361809045225,1.940201005025127,2.133165829145728,2.3261306532663326,2.5190954773869336,2.712060301507538,2.9050251256281427,3.0979899497487438,3.2909547738693483,3.4839195979899493,3.676884422110554,3.869849246231155,4.0628140703517595,4.255778894472364,4.448743718592965,4.64170854271357,4.834673366834171,5.027638190954775,5.220603015075376,5.413567839195981,5.606532663316582,5.799497487437186,5.992462311557791,6.185427135678392,6.378391959798996,6.571356783919597,6.764321608040202,6.957286432160803,7.150251256281408,7.343216080402009,7.536180904522613,7.729145728643218,7.922110552763819,8.115075376884423,8.308040201005024,8.501005025125629,8.69396984924623,8.886934673366834,9.079899497487439,9.27286432160804,9.465829145728645,9.658793969849246,9.85175879396985,10.044723618090451,10.237688442211056,10.43065326633166,10.623618090452261,10.816582914572866,11.009547738693467,11.202512562814071,11.395477386934672,11.588442211055277,11.781407035175878,11.974371859296483,12.167336683417087,12.360301507537688,12.553266331658293,12.746231155778894,12.939195979899498,13.132160804020103,13.325125628140704,13.518090452261305,13.711055276381913,13.904020100502514,14.096984924623115,14.289949748743716,14.482914572864324,14.675879396984925,14.868844221105526,15.061809045226134,15.254773869346735,15.447738693467336,15.640703517587937,15.833668341708545,16.026633165829146,16.219597989949747,16.41256281407035,16.605527638190956,16.798492462311557,16.99145728643216,17.184422110552767,17.377386934673368,17.57035175879397,17.76331658291457,17.956281407035178,18.14924623115578,18.34221105527638,18.535175879396988,18.72814070351759,18.92110552763819,19.11407035175879,19.3070351758794,19.5],\"y\":[4.999999542391379,-293.43314698456743,-524.7097082614509,-698.0392209813963,-821.7187197110416,-903.2004852851005,-949.156063653154,-965.5367002594576,-957.6303314575216,-930.1152709258859,-887.110725556382,-832.2242718352018,-768.5964203269041,-698.9423925043529,-625.5912308418419,-550.5223598059893,-475.39971213789613,-401.60353162119645,-330.25996037414916,-262.26851558990074,-198.3275575761645,-138.9578479163747,-84.52429358593781,-35.25596991196062,8.735487638637096,47.439035719095955,80.92883510626507,109.350240919719,132.90709226358013,151.85022519043878,166.46713553700465,177.0727207893974,184.0010327017219,187.59797491542577,188.21488230840123,186.20292124216553,181.90825227263986,175.66789924497084,167.80627100568267,158.6322842359899,148.43703813855245,137.49199389615035,126.04761396481945,114.33241836577679,102.55241720020206,90.89088062834242,79.50840952971055,68.54327199427183,58.11197268535932,48.310023963832805,39.21288946948158,30.877072620045624,23.341324210353832,16.627944974064178,10.744160608260131,5.683548356735258,1.427495801223472,-2.053325978983281,-4.797491249546681,-6.851365409402689,-8.267681283936142,-9.104158139579056,-9.42217433614168,-9.285503275093319,-8.75912108612033,-7.908093320577166,-6.796546788926037,-5.486731589935225,-4.038177332253355,-2.5069465440289562,-0.9449873034745728,0.6004137973058441,2.087078121296649,3.4782814906319235,4.743002122027815,5.8560721417029615,6.798235537541917,7.556116073707583,8.122099318172356,8.494133516710985,8.675454587786016,8.674241011454205,8.503204841933494,8.179125487792177,7.722333275856165,7.156150144876569,6.5062951027580915,5.800262326718492,5.06667998913171,4.334658053000882,3.633133400013458,2.990220730948531,2.432577712835733,1.9847928397073158,1.6688044240378295,1.5033590440320062,1.5035176377981903,1.680217259134439,2.0398962911553427,2.584190653300965,3.309708234394146,4.207888439349771,5.264953349887982,6.461956570164862,7.774935356606047,9.17517111741436,10.629562811218106,12.101117176136249,13.549559080156529,14.932064601154691,16.204118720128488,17.320498744274662,18.236383767406974,18.908589623891913,19.29692789877192,19.365686621049026,19.08522928921815,18.433707858066786,17.39888425349779,15.980053877683057,14.190063420220172,12.057414102138896,9.628440248591826,6.969551812863873,4.169528158944029,1.3418490523295539,-1.3729525910360145,-3.8049330897391336,-5.75239389197958,-6.9795708832782495,-7.214378577849509,-6.146232275378402,-3.423972917839592,1.3460789239242104,8.601911766878146,18.827424689280733,32.55380979288799,50.36068202195318,72.87692080107539,100.781186005741,134.80206878900796,175.71783575518265,224.35572289659302,281.5907335925565,348.3438928105484,425.5799074481688,514.3041805110495,615.5591245360815,730.4197173414377,859.9882408148304,1005.3881410390815,1167.7569455997004,1348.2381714224377,1547.9721539499806,1768.0857258859505,2009.680671111037,2273.82087671085,2561.5181033473073,2873.716291455805,3211.2743179581284,3574.9471153473332,3965.3650621239913,4383.011550645103,4828.198635486013,5301.040662412631,5801.425775016662,6328.985192978549,6883.060152794069,7462.666398628308,8066.456107747175,8692.67713172049,9339.12943129258,10003.118579475578,10681.40620403841,11370.157237139309,12064.883836383164,12760.385838075237,13450.687599891862,14128.97108659527,14787.505048783512,15417.570140988868,16009.379821717892,16551.996874264318,17033.245383320565,17439.617998568316,17756.178312538508,17966.458176100845,18052.349770969355,17993.992254595003,17769.65278875934,17355.601759082234,16725.981988516163,15852.671743714376,14705.141328933696,13250.303057865307,11452.354389475497,9272.614009584016,6669.35063551633,3597.604316723089,8.99999978791675],\"type\":\"scatter\"},{\"marker\":{\"color\":\"MediumPurple\",\"size\":10},\"mode\":\"markers\",\"name\":\"Puntos dados\",\"x\":[0.2,-0.2,-0.1,-0.6,-1.6,-18.9,-8.3,-4.2,-2.9,19.5,4.6,1.2,1.9,1.9,4.3],\"y\":[0,1,2,3,4,5,6,7,8,9,10,11,12,13,14],\"type\":\"scatter\"}],                        {\"template\":{\"data\":{\"bar\":[{\"error_x\":{\"color\":\"#2a3f5f\"},\"error_y\":{\"color\":\"#2a3f5f\"},\"marker\":{\"line\":{\"color\":\"#E5ECF6\",\"width\":0.5},\"pattern\":{\"fillmode\":\"overlay\",\"size\":10,\"solidity\":0.2}},\"type\":\"bar\"}],\"barpolar\":[{\"marker\":{\"line\":{\"color\":\"#E5ECF6\",\"width\":0.5},\"pattern\":{\"fillmode\":\"overlay\",\"size\":10,\"solidity\":0.2}},\"type\":\"barpolar\"}],\"carpet\":[{\"aaxis\":{\"endlinecolor\":\"#2a3f5f\",\"gridcolor\":\"white\",\"linecolor\":\"white\",\"minorgridcolor\":\"white\",\"startlinecolor\":\"#2a3f5f\"},\"baxis\":{\"endlinecolor\":\"#2a3f5f\",\"gridcolor\":\"white\",\"linecolor\":\"white\",\"minorgridcolor\":\"white\",\"startlinecolor\":\"#2a3f5f\"},\"type\":\"carpet\"}],\"choropleth\":[{\"colorbar\":{\"outlinewidth\":0,\"ticks\":\"\"},\"type\":\"choropleth\"}],\"contour\":[{\"colorbar\":{\"outlinewidth\":0,\"ticks\":\"\"},\"colorscale\":[[0.0,\"#0d0887\"],[0.1111111111111111,\"#46039f\"],[0.2222222222222222,\"#7201a8\"],[0.3333333333333333,\"#9c179e\"],[0.4444444444444444,\"#bd3786\"],[0.5555555555555556,\"#d8576b\"],[0.6666666666666666,\"#ed7953\"],[0.7777777777777778,\"#fb9f3a\"],[0.8888888888888888,\"#fdca26\"],[1.0,\"#f0f921\"]],\"type\":\"contour\"}],\"contourcarpet\":[{\"colorbar\":{\"outlinewidth\":0,\"ticks\":\"\"},\"type\":\"contourcarpet\"}],\"heatmap\":[{\"colorbar\":{\"outlinewidth\":0,\"ticks\":\"\"},\"colorscale\":[[0.0,\"#0d0887\"],[0.1111111111111111,\"#46039f\"],[0.2222222222222222,\"#7201a8\"],[0.3333333333333333,\"#9c179e\"],[0.4444444444444444,\"#bd3786\"],[0.5555555555555556,\"#d8576b\"],[0.6666666666666666,\"#ed7953\"],[0.7777777777777778,\"#fb9f3a\"],[0.8888888888888888,\"#fdca26\"],[1.0,\"#f0f921\"]],\"type\":\"heatmap\"}],\"heatmapgl\":[{\"colorbar\":{\"outlinewidth\":0,\"ticks\":\"\"},\"colorscale\":[[0.0,\"#0d0887\"],[0.1111111111111111,\"#46039f\"],[0.2222222222222222,\"#7201a8\"],[0.3333333333333333,\"#9c179e\"],[0.4444444444444444,\"#bd3786\"],[0.5555555555555556,\"#d8576b\"],[0.6666666666666666,\"#ed7953\"],[0.7777777777777778,\"#fb9f3a\"],[0.8888888888888888,\"#fdca26\"],[1.0,\"#f0f921\"]],\"type\":\"heatmapgl\"}],\"histogram\":[{\"marker\":{\"pattern\":{\"fillmode\":\"overlay\",\"size\":10,\"solidity\":0.2}},\"type\":\"histogram\"}],\"histogram2d\":[{\"colorbar\":{\"outlinewidth\":0,\"ticks\":\"\"},\"colorscale\":[[0.0,\"#0d0887\"],[0.1111111111111111,\"#46039f\"],[0.2222222222222222,\"#7201a8\"],[0.3333333333333333,\"#9c179e\"],[0.4444444444444444,\"#bd3786\"],[0.5555555555555556,\"#d8576b\"],[0.6666666666666666,\"#ed7953\"],[0.7777777777777778,\"#fb9f3a\"],[0.8888888888888888,\"#fdca26\"],[1.0,\"#f0f921\"]],\"type\":\"histogram2d\"}],\"histogram2dcontour\":[{\"colorbar\":{\"outlinewidth\":0,\"ticks\":\"\"},\"colorscale\":[[0.0,\"#0d0887\"],[0.1111111111111111,\"#46039f\"],[0.2222222222222222,\"#7201a8\"],[0.3333333333333333,\"#9c179e\"],[0.4444444444444444,\"#bd3786\"],[0.5555555555555556,\"#d8576b\"],[0.6666666666666666,\"#ed7953\"],[0.7777777777777778,\"#fb9f3a\"],[0.8888888888888888,\"#fdca26\"],[1.0,\"#f0f921\"]],\"type\":\"histogram2dcontour\"}],\"mesh3d\":[{\"colorbar\":{\"outlinewidth\":0,\"ticks\":\"\"},\"type\":\"mesh3d\"}],\"parcoords\":[{\"line\":{\"colorbar\":{\"outlinewidth\":0,\"ticks\":\"\"}},\"type\":\"parcoords\"}],\"pie\":[{\"automargin\":true,\"type\":\"pie\"}],\"scatter\":[{\"marker\":{\"colorbar\":{\"outlinewidth\":0,\"ticks\":\"\"}},\"type\":\"scatter\"}],\"scatter3d\":[{\"line\":{\"colorbar\":{\"outlinewidth\":0,\"ticks\":\"\"}},\"marker\":{\"colorbar\":{\"outlinewidth\":0,\"ticks\":\"\"}},\"type\":\"scatter3d\"}],\"scattercarpet\":[{\"marker\":{\"colorbar\":{\"outlinewidth\":0,\"ticks\":\"\"}},\"type\":\"scattercarpet\"}],\"scattergeo\":[{\"marker\":{\"colorbar\":{\"outlinewidth\":0,\"ticks\":\"\"}},\"type\":\"scattergeo\"}],\"scattergl\":[{\"marker\":{\"colorbar\":{\"outlinewidth\":0,\"ticks\":\"\"}},\"type\":\"scattergl\"}],\"scattermapbox\":[{\"marker\":{\"colorbar\":{\"outlinewidth\":0,\"ticks\":\"\"}},\"type\":\"scattermapbox\"}],\"scatterpolar\":[{\"marker\":{\"colorbar\":{\"outlinewidth\":0,\"ticks\":\"\"}},\"type\":\"scatterpolar\"}],\"scatterpolargl\":[{\"marker\":{\"colorbar\":{\"outlinewidth\":0,\"ticks\":\"\"}},\"type\":\"scatterpolargl\"}],\"scatterternary\":[{\"marker\":{\"colorbar\":{\"outlinewidth\":0,\"ticks\":\"\"}},\"type\":\"scatterternary\"}],\"surface\":[{\"colorbar\":{\"outlinewidth\":0,\"ticks\":\"\"},\"colorscale\":[[0.0,\"#0d0887\"],[0.1111111111111111,\"#46039f\"],[0.2222222222222222,\"#7201a8\"],[0.3333333333333333,\"#9c179e\"],[0.4444444444444444,\"#bd3786\"],[0.5555555555555556,\"#d8576b\"],[0.6666666666666666,\"#ed7953\"],[0.7777777777777778,\"#fb9f3a\"],[0.8888888888888888,\"#fdca26\"],[1.0,\"#f0f921\"]],\"type\":\"surface\"}],\"table\":[{\"cells\":{\"fill\":{\"color\":\"#EBF0F8\"},\"line\":{\"color\":\"white\"}},\"header\":{\"fill\":{\"color\":\"#C8D4E3\"},\"line\":{\"color\":\"white\"}},\"type\":\"table\"}]},\"layout\":{\"annotationdefaults\":{\"arrowcolor\":\"#2a3f5f\",\"arrowhead\":0,\"arrowwidth\":1},\"autotypenumbers\":\"strict\",\"coloraxis\":{\"colorbar\":{\"outlinewidth\":0,\"ticks\":\"\"}},\"colorscale\":{\"diverging\":[[0,\"#8e0152\"],[0.1,\"#c51b7d\"],[0.2,\"#de77ae\"],[0.3,\"#f1b6da\"],[0.4,\"#fde0ef\"],[0.5,\"#f7f7f7\"],[0.6,\"#e6f5d0\"],[0.7,\"#b8e186\"],[0.8,\"#7fbc41\"],[0.9,\"#4d9221\"],[1,\"#276419\"]],\"sequential\":[[0.0,\"#0d0887\"],[0.1111111111111111,\"#46039f\"],[0.2222222222222222,\"#7201a8\"],[0.3333333333333333,\"#9c179e\"],[0.4444444444444444,\"#bd3786\"],[0.5555555555555556,\"#d8576b\"],[0.6666666666666666,\"#ed7953\"],[0.7777777777777778,\"#fb9f3a\"],[0.8888888888888888,\"#fdca26\"],[1.0,\"#f0f921\"]],\"sequentialminus\":[[0.0,\"#0d0887\"],[0.1111111111111111,\"#46039f\"],[0.2222222222222222,\"#7201a8\"],[0.3333333333333333,\"#9c179e\"],[0.4444444444444444,\"#bd3786\"],[0.5555555555555556,\"#d8576b\"],[0.6666666666666666,\"#ed7953\"],[0.7777777777777778,\"#fb9f3a\"],[0.8888888888888888,\"#fdca26\"],[1.0,\"#f0f921\"]]},\"colorway\":[\"#636efa\",\"#EF553B\",\"#00cc96\",\"#ab63fa\",\"#FFA15A\",\"#19d3f3\",\"#FF6692\",\"#B6E880\",\"#FF97FF\",\"#FECB52\"],\"font\":{\"color\":\"#2a3f5f\"},\"geo\":{\"bgcolor\":\"white\",\"lakecolor\":\"white\",\"landcolor\":\"#E5ECF6\",\"showlakes\":true,\"showland\":true,\"subunitcolor\":\"white\"},\"hoverlabel\":{\"align\":\"left\"},\"hovermode\":\"closest\",\"mapbox\":{\"style\":\"light\"},\"paper_bgcolor\":\"white\",\"plot_bgcolor\":\"#E5ECF6\",\"polar\":{\"angularaxis\":{\"gridcolor\":\"white\",\"linecolor\":\"white\",\"ticks\":\"\"},\"bgcolor\":\"#E5ECF6\",\"radialaxis\":{\"gridcolor\":\"white\",\"linecolor\":\"white\",\"ticks\":\"\"}},\"scene\":{\"xaxis\":{\"backgroundcolor\":\"#E5ECF6\",\"gridcolor\":\"white\",\"gridwidth\":2,\"linecolor\":\"white\",\"showbackground\":true,\"ticks\":\"\",\"zerolinecolor\":\"white\"},\"yaxis\":{\"backgroundcolor\":\"#E5ECF6\",\"gridcolor\":\"white\",\"gridwidth\":2,\"linecolor\":\"white\",\"showbackground\":true,\"ticks\":\"\",\"zerolinecolor\":\"white\"},\"zaxis\":{\"backgroundcolor\":\"#E5ECF6\",\"gridcolor\":\"white\",\"gridwidth\":2,\"linecolor\":\"white\",\"showbackground\":true,\"ticks\":\"\",\"zerolinecolor\":\"white\"}},\"shapedefaults\":{\"line\":{\"color\":\"#2a3f5f\"}},\"ternary\":{\"aaxis\":{\"gridcolor\":\"white\",\"linecolor\":\"white\",\"ticks\":\"\"},\"baxis\":{\"gridcolor\":\"white\",\"linecolor\":\"white\",\"ticks\":\"\"},\"bgcolor\":\"#E5ECF6\",\"caxis\":{\"gridcolor\":\"white\",\"linecolor\":\"white\",\"ticks\":\"\"}},\"title\":{\"x\":0.05},\"xaxis\":{\"automargin\":true,\"gridcolor\":\"white\",\"linecolor\":\"white\",\"ticks\":\"\",\"title\":{\"standoff\":15},\"zerolinecolor\":\"white\",\"zerolinewidth\":2},\"yaxis\":{\"automargin\":true,\"gridcolor\":\"white\",\"linecolor\":\"white\",\"ticks\":\"\",\"title\":{\"standoff\":15},\"zerolinecolor\":\"white\",\"zerolinewidth\":2}}},\"title\":{\"font\":{\"size\":30},\"text\":\"Ajuste de minimos cuadrados\"}},                        {\"responsive\": true}                    ).then(function(){\n",
              "                            \n",
              "var gd = document.getElementById('1a82329f-504c-485b-b225-eab628ece6b5');\n",
              "var x = new MutationObserver(function (mutations, observer) {{\n",
              "        var display = window.getComputedStyle(gd).display;\n",
              "        if (!display || display === 'none') {{\n",
              "            console.log([gd, 'removed!']);\n",
              "            Plotly.purge(gd);\n",
              "            observer.disconnect();\n",
              "        }}\n",
              "}});\n",
              "\n",
              "// Listen for the removal of the full notebook cells\n",
              "var notebookContainer = gd.closest('#notebook-container');\n",
              "if (notebookContainer) {{\n",
              "    x.observe(notebookContainer, {childList: true});\n",
              "}}\n",
              "\n",
              "// Listen for the clearing of the current output cell\n",
              "var outputEl = gd.closest('.output');\n",
              "if (outputEl) {{\n",
              "    x.observe(outputEl, {childList: true});\n",
              "}}\n",
              "\n",
              "                        })                };                            </script>        </div>\n",
              "</body>\n",
              "</html>"
            ]
          },
          "metadata": {}
        },
        {
          "output_type": "stream",
          "name": "stdout",
          "text": [
            "***Polinomio\n",
            "\n"
          ]
        },
        {
          "output_type": "display_data",
          "data": {
            "text/plain": [
              "<IPython.core.display.Latex object>"
            ],
            "text/latex": "$P(x) = 1.17849400404282 \\cdot 10^{-6} x^{10} + 5.60470573268444 \\cdot 10^{-6} x^{9} - 0.000505929064027484 x^{8} - 0.0024997702036142 x^{7} + 0.0264214398730822 x^{6} + 0.0804360100670306 x^{5} - 0.491032961828456 x^{4} - 0.836757802195634 x^{3} + 3.60708053457439 x^{2} + 3.78573141662769 x + 1.81497043040337$"
          },
          "metadata": {}
        },
        {
          "output_type": "display_data",
          "data": {
            "text/html": [
              "<html>\n",
              "<head><meta charset=\"utf-8\" /></head>\n",
              "<body>\n",
              "    <div>            <script src=\"https://cdnjs.cloudflare.com/ajax/libs/mathjax/2.7.5/MathJax.js?config=TeX-AMS-MML_SVG\"></script><script type=\"text/javascript\">if (window.MathJax) {MathJax.Hub.Config({SVG: {font: \"STIX-Web\"}});}</script>                <script type=\"text/javascript\">window.PlotlyConfig = {MathJaxConfig: 'local'};</script>\n",
              "        <script src=\"https://cdn.plot.ly/plotly-2.8.3.min.js\"></script>                <div id=\"75549b1f-1ba0-45b8-a985-2eaf9e05b5f1\" class=\"plotly-graph-div\" style=\"height:525px; width:100%;\"></div>            <script type=\"text/javascript\">                                    window.PLOTLYENV=window.PLOTLYENV || {};                                    if (document.getElementById(\"75549b1f-1ba0-45b8-a985-2eaf9e05b5f1\")) {                    Plotly.newPlot(                        \"75549b1f-1ba0-45b8-a985-2eaf9e05b5f1\",                        [{\"marker\":{\"color\":\"LightSeaGreen\"},\"mode\":\"lines\",\"name\":\"P(x)\",\"x\":[-18.9,-18.707035175879394,-18.514070351758793,-18.32110552763819,-18.128140703517587,-17.935175879396983,-17.742211055276382,-17.549246231155777,-17.356281407035176,-17.16331658291457,-16.970351758793967,-16.777386934673366,-16.58442211055276,-16.39145728643216,-16.198492462311556,-16.005527638190955,-15.81256281407035,-15.619597989949748,-15.426633165829145,-15.23366834170854,-15.04070351758794,-14.847738693467335,-14.654773869346732,-14.46180904522613,-14.268844221105526,-14.075879396984924,-13.88291457286432,-13.689949748743718,-13.496984924623113,-13.304020100502512,-13.111055276381908,-12.918090452261305,-12.725125628140702,-12.5321608040201,-12.339195979899497,-12.146231155778892,-11.953266331658291,-11.760301507537687,-11.567336683417084,-11.374371859296481,-11.181407035175878,-10.988442211055276,-10.795477386934673,-10.60251256281407,-10.409547738693465,-10.216582914572863,-10.02361809045226,-9.830653266331657,-9.637688442211054,-9.444723618090451,-9.251758793969849,-9.058793969849246,-8.865829145728643,-8.672864321608039,-8.479899497487436,-8.286934673366833,-8.09396984924623,-7.901005025125627,-7.708040201005025,-7.515075376884422,-7.322110552763817,-7.1291457286432145,-6.936180904522612,-6.743216080402009,-6.550251256281406,-6.357286432160803,-6.164321608040201,-5.971356783919598,-5.778391959798995,-5.58542713567839,-5.392462311557788,-5.199497487437185,-5.006532663316582,-4.813567839195979,-4.6206030150753765,-4.427638190954774,-4.234673366834169,-4.041708542713566,-3.8487437185929636,-3.655778894472361,-3.462814070351758,-3.2698492462311552,-3.0768844221105525,-2.883919597989948,-2.690954773869347,-2.4979899497487423,-2.3050251256281413,-2.1120603015075368,-1.9190954773869322,-1.7261306532663312,-1.5331658291457266,-1.3402010050251256,-1.147236180904521,-0.95427135678392,-0.7613065326633155,-0.5683417085427145,-0.3753768844221099,-0.18241206030150536,0.010552763819095645,0.2035175879397002,0.3964824120603012,0.5894472361809058,0.7824120603015068,0.9753768844221113,1.1683417085427124,1.361306532663317,1.5542713567839215,1.7472361809045225,1.940201005025127,2.133165829145728,2.3261306532663326,2.5190954773869336,2.712060301507538,2.9050251256281427,3.0979899497487438,3.2909547738693483,3.4839195979899493,3.676884422110554,3.869849246231155,4.0628140703517595,4.255778894472364,4.448743718592965,4.64170854271357,4.834673366834171,5.027638190954775,5.220603015075376,5.413567839195981,5.606532663316582,5.799497487437186,5.992462311557791,6.185427135678392,6.378391959798996,6.571356783919597,6.764321608040202,6.957286432160803,7.150251256281408,7.343216080402009,7.536180904522613,7.729145728643218,7.922110552763819,8.115075376884423,8.308040201005024,8.501005025125629,8.69396984924623,8.886934673366834,9.079899497487439,9.27286432160804,9.465829145728645,9.658793969849246,9.85175879396985,10.044723618090451,10.237688442211056,10.43065326633166,10.623618090452261,10.816582914572866,11.009547738693467,11.202512562814071,11.395477386934672,11.588442211055277,11.781407035175878,11.974371859296483,12.167336683417087,12.360301507537688,12.553266331658293,12.746231155778894,12.939195979899498,13.132160804020103,13.325125628140704,13.518090452261305,13.711055276381913,13.904020100502514,14.096984924623115,14.289949748743716,14.482914572864324,14.675879396984925,14.868844221105526,15.061809045226134,15.254773869346735,15.447738693467336,15.640703517587937,15.833668341708545,16.026633165829146,16.219597989949747,16.41256281407035,16.605527638190956,16.798492462311557,16.99145728643216,17.184422110552767,17.377386934673368,17.57035175879397,17.76331658291457,17.956281407035178,18.14924623115578,18.34221105527638,18.535175879396988,18.72814070351759,18.92110552763819,19.11407035175879,19.3070351758794,19.5],\"y\":[5.000000034466211,-76235.80610747622,-138382.71787166694,-188167.2606485617,-227156.01705459613,-256763.2114790685,-278262.5292814291,-292798.206718432,-301395.4264053508,-304970.05190248054,-304337.7338327407,-300222.4187779953,-293264.2910704621,-284027.17649094557,-273005.4358073273,-260630.3750344421,-247276.19826987712,-233265.52795906158,-218874.5164668917,-204337.57188184978,-189851.72005175706,-175580.6239476265,-161658.28057334668,-148192.41478367607,-135267.58854110137,-122948.04333309784,-111280.29268498174,-100295.48093952225,-90011.52373250443,-80435.04487317729,-71563.12363968833,-63384.86582189063,-55882.81118699608,-49034.189407148806,-42812.03587178116,-37186.17821129923,-32124.10378191306,-27591.717803971755,-23554.00130768727,-19975.577520310937,-16821.19482737888,-14056.133957239475,-11646.546572426927,-9559.732003235516,-7764.358427777208,-6230.634388561295,-4930.43613791682,-3837.3959230766177,-2926.955956152576,-2176.392464247174,-1564.8138802619076,-1073.1369152714942,-684.0439483287018,-381.9248789412077,-152.80631091381065,15.729326530106391,134.6323637506398,213.48006137954735,260.57446956664967,283.04228942156624,286.9352488144,277.3296912934968,258.4242518466333,233.6346568802653,205.68483842581952,176.69369450856118,148.2569591393733,121.52376681910619,97.2676080848529,75.95147478391993,57.78708674037239,42.78817558694533,30.81787707801368,21.630350483210577,14.90680299235595,10.28614874667312,7.3905764549562605,5.846336862490716,5.300091921253667,5.431191668317837,5.960262861564345,6.6545056538844705,7.330101315121432,7.852135541176118,8.132438528083611,8.125735041564806,7.824485485676012,7.252782773825015,6.459649937700761,5.5120601806817495,4.487974798150871,3.469665353959317,2.5375550261525195,1.7647804221068926,1.212639719528973,0.9270560214488658,0.9361466264995437,1.2489498165223685,1.8553210579800445,2.7269705078995323,3.819573715213381,5.07584772052645,6.4294456876095945,7.809485054422039,9.145487276291501,10.37247185514698,11.435913812503507,12.296242376353405,12.932529719325137,13.344992413538247,13.555905162616474,13.608506639425674,13.563461205385988,13.492428219774858,13.46828287139391,13.551529286425776,13.772448391361038,14.108529944638931,14.456750601223163,14.600278146827833,14.169206439037083,12.594956427211315,9.058016197972762,2.4287376142946755,-8.799040910087342,-26.58171632698378,-53.40709078991358,-92.38301677157233,-147.333460379524,-222.90183245948384,-324.6613345589607,-459.2319548122191,-634.4036269943695,-859.2649340719854,-1144.3365952434708,-1501.7088224089457,-1945.181467929836,-2490.4057101274575,-3155.0258359203544,-3958.819481007422,-4923.834476760302,-6074.520229188735,-7437.851318681386,-9043.440759393146,-10923.640093846287,-13113.62322122574,-15651.450566677726,-18578.10989335493,-21937.52973868659,-25776.561121084276,-30144.922812710865,-35095.1051077455,-40682.2266334521,-46963.83835301234,-53999.6684941946,-61851.3017062016,-70581.78529816802,-80255.15494644178,-90935.87177370163,-102688.1622007975,-115575.25145168255,-129658.48105258652,-144996.3001084015,-161643.1195617604,-179648.0180432085,-199053.2873039006,-219892.8045850441,-242190.2186206256,-265956.93529141677,-291189.8882486054,-317869.07910431124,-345954.87104343,-375385.01894634904,-406071.41832489066,-437896.5545639218,-470709.633128263,-504322.3705383713,-538504.4250386094,-572978.4449783437,-607414.7119983197,-641425.3551625467,-674558.1111988324,-706289.6050089786,-736018.1235820424,-763055.8553907865,-786620.566272124,-805826.6816867205,-819675.7441205973,-827046.213232381,-826682.5751633629,-817183.7262134622,-796990.5948443306,-764372.964700744,-717415.460042913,-654002.6536549719,-571803.2559386083,-468253.34251483076,-340538.5762415696,-185575.37810915045,8.999999986583134],\"type\":\"scatter\"},{\"marker\":{\"color\":\"MediumPurple\",\"size\":10},\"mode\":\"markers\",\"name\":\"Puntos dados\",\"x\":[0.2,-0.2,-0.1,-0.6,-1.6,-18.9,-8.3,-4.2,-2.9,19.5,4.6,1.2,1.9,1.9,4.3],\"y\":[0,1,2,3,4,5,6,7,8,9,10,11,12,13,14],\"type\":\"scatter\"}],                        {\"template\":{\"data\":{\"bar\":[{\"error_x\":{\"color\":\"#2a3f5f\"},\"error_y\":{\"color\":\"#2a3f5f\"},\"marker\":{\"line\":{\"color\":\"#E5ECF6\",\"width\":0.5},\"pattern\":{\"fillmode\":\"overlay\",\"size\":10,\"solidity\":0.2}},\"type\":\"bar\"}],\"barpolar\":[{\"marker\":{\"line\":{\"color\":\"#E5ECF6\",\"width\":0.5},\"pattern\":{\"fillmode\":\"overlay\",\"size\":10,\"solidity\":0.2}},\"type\":\"barpolar\"}],\"carpet\":[{\"aaxis\":{\"endlinecolor\":\"#2a3f5f\",\"gridcolor\":\"white\",\"linecolor\":\"white\",\"minorgridcolor\":\"white\",\"startlinecolor\":\"#2a3f5f\"},\"baxis\":{\"endlinecolor\":\"#2a3f5f\",\"gridcolor\":\"white\",\"linecolor\":\"white\",\"minorgridcolor\":\"white\",\"startlinecolor\":\"#2a3f5f\"},\"type\":\"carpet\"}],\"choropleth\":[{\"colorbar\":{\"outlinewidth\":0,\"ticks\":\"\"},\"type\":\"choropleth\"}],\"contour\":[{\"colorbar\":{\"outlinewidth\":0,\"ticks\":\"\"},\"colorscale\":[[0.0,\"#0d0887\"],[0.1111111111111111,\"#46039f\"],[0.2222222222222222,\"#7201a8\"],[0.3333333333333333,\"#9c179e\"],[0.4444444444444444,\"#bd3786\"],[0.5555555555555556,\"#d8576b\"],[0.6666666666666666,\"#ed7953\"],[0.7777777777777778,\"#fb9f3a\"],[0.8888888888888888,\"#fdca26\"],[1.0,\"#f0f921\"]],\"type\":\"contour\"}],\"contourcarpet\":[{\"colorbar\":{\"outlinewidth\":0,\"ticks\":\"\"},\"type\":\"contourcarpet\"}],\"heatmap\":[{\"colorbar\":{\"outlinewidth\":0,\"ticks\":\"\"},\"colorscale\":[[0.0,\"#0d0887\"],[0.1111111111111111,\"#46039f\"],[0.2222222222222222,\"#7201a8\"],[0.3333333333333333,\"#9c179e\"],[0.4444444444444444,\"#bd3786\"],[0.5555555555555556,\"#d8576b\"],[0.6666666666666666,\"#ed7953\"],[0.7777777777777778,\"#fb9f3a\"],[0.8888888888888888,\"#fdca26\"],[1.0,\"#f0f921\"]],\"type\":\"heatmap\"}],\"heatmapgl\":[{\"colorbar\":{\"outlinewidth\":0,\"ticks\":\"\"},\"colorscale\":[[0.0,\"#0d0887\"],[0.1111111111111111,\"#46039f\"],[0.2222222222222222,\"#7201a8\"],[0.3333333333333333,\"#9c179e\"],[0.4444444444444444,\"#bd3786\"],[0.5555555555555556,\"#d8576b\"],[0.6666666666666666,\"#ed7953\"],[0.7777777777777778,\"#fb9f3a\"],[0.8888888888888888,\"#fdca26\"],[1.0,\"#f0f921\"]],\"type\":\"heatmapgl\"}],\"histogram\":[{\"marker\":{\"pattern\":{\"fillmode\":\"overlay\",\"size\":10,\"solidity\":0.2}},\"type\":\"histogram\"}],\"histogram2d\":[{\"colorbar\":{\"outlinewidth\":0,\"ticks\":\"\"},\"colorscale\":[[0.0,\"#0d0887\"],[0.1111111111111111,\"#46039f\"],[0.2222222222222222,\"#7201a8\"],[0.3333333333333333,\"#9c179e\"],[0.4444444444444444,\"#bd3786\"],[0.5555555555555556,\"#d8576b\"],[0.6666666666666666,\"#ed7953\"],[0.7777777777777778,\"#fb9f3a\"],[0.8888888888888888,\"#fdca26\"],[1.0,\"#f0f921\"]],\"type\":\"histogram2d\"}],\"histogram2dcontour\":[{\"colorbar\":{\"outlinewidth\":0,\"ticks\":\"\"},\"colorscale\":[[0.0,\"#0d0887\"],[0.1111111111111111,\"#46039f\"],[0.2222222222222222,\"#7201a8\"],[0.3333333333333333,\"#9c179e\"],[0.4444444444444444,\"#bd3786\"],[0.5555555555555556,\"#d8576b\"],[0.6666666666666666,\"#ed7953\"],[0.7777777777777778,\"#fb9f3a\"],[0.8888888888888888,\"#fdca26\"],[1.0,\"#f0f921\"]],\"type\":\"histogram2dcontour\"}],\"mesh3d\":[{\"colorbar\":{\"outlinewidth\":0,\"ticks\":\"\"},\"type\":\"mesh3d\"}],\"parcoords\":[{\"line\":{\"colorbar\":{\"outlinewidth\":0,\"ticks\":\"\"}},\"type\":\"parcoords\"}],\"pie\":[{\"automargin\":true,\"type\":\"pie\"}],\"scatter\":[{\"marker\":{\"colorbar\":{\"outlinewidth\":0,\"ticks\":\"\"}},\"type\":\"scatter\"}],\"scatter3d\":[{\"line\":{\"colorbar\":{\"outlinewidth\":0,\"ticks\":\"\"}},\"marker\":{\"colorbar\":{\"outlinewidth\":0,\"ticks\":\"\"}},\"type\":\"scatter3d\"}],\"scattercarpet\":[{\"marker\":{\"colorbar\":{\"outlinewidth\":0,\"ticks\":\"\"}},\"type\":\"scattercarpet\"}],\"scattergeo\":[{\"marker\":{\"colorbar\":{\"outlinewidth\":0,\"ticks\":\"\"}},\"type\":\"scattergeo\"}],\"scattergl\":[{\"marker\":{\"colorbar\":{\"outlinewidth\":0,\"ticks\":\"\"}},\"type\":\"scattergl\"}],\"scattermapbox\":[{\"marker\":{\"colorbar\":{\"outlinewidth\":0,\"ticks\":\"\"}},\"type\":\"scattermapbox\"}],\"scatterpolar\":[{\"marker\":{\"colorbar\":{\"outlinewidth\":0,\"ticks\":\"\"}},\"type\":\"scatterpolar\"}],\"scatterpolargl\":[{\"marker\":{\"colorbar\":{\"outlinewidth\":0,\"ticks\":\"\"}},\"type\":\"scatterpolargl\"}],\"scatterternary\":[{\"marker\":{\"colorbar\":{\"outlinewidth\":0,\"ticks\":\"\"}},\"type\":\"scatterternary\"}],\"surface\":[{\"colorbar\":{\"outlinewidth\":0,\"ticks\":\"\"},\"colorscale\":[[0.0,\"#0d0887\"],[0.1111111111111111,\"#46039f\"],[0.2222222222222222,\"#7201a8\"],[0.3333333333333333,\"#9c179e\"],[0.4444444444444444,\"#bd3786\"],[0.5555555555555556,\"#d8576b\"],[0.6666666666666666,\"#ed7953\"],[0.7777777777777778,\"#fb9f3a\"],[0.8888888888888888,\"#fdca26\"],[1.0,\"#f0f921\"]],\"type\":\"surface\"}],\"table\":[{\"cells\":{\"fill\":{\"color\":\"#EBF0F8\"},\"line\":{\"color\":\"white\"}},\"header\":{\"fill\":{\"color\":\"#C8D4E3\"},\"line\":{\"color\":\"white\"}},\"type\":\"table\"}]},\"layout\":{\"annotationdefaults\":{\"arrowcolor\":\"#2a3f5f\",\"arrowhead\":0,\"arrowwidth\":1},\"autotypenumbers\":\"strict\",\"coloraxis\":{\"colorbar\":{\"outlinewidth\":0,\"ticks\":\"\"}},\"colorscale\":{\"diverging\":[[0,\"#8e0152\"],[0.1,\"#c51b7d\"],[0.2,\"#de77ae\"],[0.3,\"#f1b6da\"],[0.4,\"#fde0ef\"],[0.5,\"#f7f7f7\"],[0.6,\"#e6f5d0\"],[0.7,\"#b8e186\"],[0.8,\"#7fbc41\"],[0.9,\"#4d9221\"],[1,\"#276419\"]],\"sequential\":[[0.0,\"#0d0887\"],[0.1111111111111111,\"#46039f\"],[0.2222222222222222,\"#7201a8\"],[0.3333333333333333,\"#9c179e\"],[0.4444444444444444,\"#bd3786\"],[0.5555555555555556,\"#d8576b\"],[0.6666666666666666,\"#ed7953\"],[0.7777777777777778,\"#fb9f3a\"],[0.8888888888888888,\"#fdca26\"],[1.0,\"#f0f921\"]],\"sequentialminus\":[[0.0,\"#0d0887\"],[0.1111111111111111,\"#46039f\"],[0.2222222222222222,\"#7201a8\"],[0.3333333333333333,\"#9c179e\"],[0.4444444444444444,\"#bd3786\"],[0.5555555555555556,\"#d8576b\"],[0.6666666666666666,\"#ed7953\"],[0.7777777777777778,\"#fb9f3a\"],[0.8888888888888888,\"#fdca26\"],[1.0,\"#f0f921\"]]},\"colorway\":[\"#636efa\",\"#EF553B\",\"#00cc96\",\"#ab63fa\",\"#FFA15A\",\"#19d3f3\",\"#FF6692\",\"#B6E880\",\"#FF97FF\",\"#FECB52\"],\"font\":{\"color\":\"#2a3f5f\"},\"geo\":{\"bgcolor\":\"white\",\"lakecolor\":\"white\",\"landcolor\":\"#E5ECF6\",\"showlakes\":true,\"showland\":true,\"subunitcolor\":\"white\"},\"hoverlabel\":{\"align\":\"left\"},\"hovermode\":\"closest\",\"mapbox\":{\"style\":\"light\"},\"paper_bgcolor\":\"white\",\"plot_bgcolor\":\"#E5ECF6\",\"polar\":{\"angularaxis\":{\"gridcolor\":\"white\",\"linecolor\":\"white\",\"ticks\":\"\"},\"bgcolor\":\"#E5ECF6\",\"radialaxis\":{\"gridcolor\":\"white\",\"linecolor\":\"white\",\"ticks\":\"\"}},\"scene\":{\"xaxis\":{\"backgroundcolor\":\"#E5ECF6\",\"gridcolor\":\"white\",\"gridwidth\":2,\"linecolor\":\"white\",\"showbackground\":true,\"ticks\":\"\",\"zerolinecolor\":\"white\"},\"yaxis\":{\"backgroundcolor\":\"#E5ECF6\",\"gridcolor\":\"white\",\"gridwidth\":2,\"linecolor\":\"white\",\"showbackground\":true,\"ticks\":\"\",\"zerolinecolor\":\"white\"},\"zaxis\":{\"backgroundcolor\":\"#E5ECF6\",\"gridcolor\":\"white\",\"gridwidth\":2,\"linecolor\":\"white\",\"showbackground\":true,\"ticks\":\"\",\"zerolinecolor\":\"white\"}},\"shapedefaults\":{\"line\":{\"color\":\"#2a3f5f\"}},\"ternary\":{\"aaxis\":{\"gridcolor\":\"white\",\"linecolor\":\"white\",\"ticks\":\"\"},\"baxis\":{\"gridcolor\":\"white\",\"linecolor\":\"white\",\"ticks\":\"\"},\"bgcolor\":\"#E5ECF6\",\"caxis\":{\"gridcolor\":\"white\",\"linecolor\":\"white\",\"ticks\":\"\"}},\"title\":{\"x\":0.05},\"xaxis\":{\"automargin\":true,\"gridcolor\":\"white\",\"linecolor\":\"white\",\"ticks\":\"\",\"title\":{\"standoff\":15},\"zerolinecolor\":\"white\",\"zerolinewidth\":2},\"yaxis\":{\"automargin\":true,\"gridcolor\":\"white\",\"linecolor\":\"white\",\"ticks\":\"\",\"title\":{\"standoff\":15},\"zerolinecolor\":\"white\",\"zerolinewidth\":2}}},\"title\":{\"font\":{\"size\":30},\"text\":\"Ajuste de minimos cuadrados\"}},                        {\"responsive\": true}                    ).then(function(){\n",
              "                            \n",
              "var gd = document.getElementById('75549b1f-1ba0-45b8-a985-2eaf9e05b5f1');\n",
              "var x = new MutationObserver(function (mutations, observer) {{\n",
              "        var display = window.getComputedStyle(gd).display;\n",
              "        if (!display || display === 'none') {{\n",
              "            console.log([gd, 'removed!']);\n",
              "            Plotly.purge(gd);\n",
              "            observer.disconnect();\n",
              "        }}\n",
              "}});\n",
              "\n",
              "// Listen for the removal of the full notebook cells\n",
              "var notebookContainer = gd.closest('#notebook-container');\n",
              "if (notebookContainer) {{\n",
              "    x.observe(notebookContainer, {childList: true});\n",
              "}}\n",
              "\n",
              "// Listen for the clearing of the current output cell\n",
              "var outputEl = gd.closest('.output');\n",
              "if (outputEl) {{\n",
              "    x.observe(outputEl, {childList: true});\n",
              "}}\n",
              "\n",
              "                        })                };                            </script>        </div>\n",
              "</body>\n",
              "</html>"
            ]
          },
          "metadata": {}
        }
      ]
    },
    {
      "cell_type": "code",
      "source": [
        "residuos"
      ],
      "metadata": {
        "colab": {
          "base_uri": "https://localhost:8080/"
        },
        "id": "pGdni-Q8F2ic",
        "outputId": "e7014e4c-c421-47e3-c42f-277d43204f16"
      },
      "execution_count": null,
      "outputs": [
        {
          "output_type": "execute_result",
          "data": {
            "text/plain": [
              "[280.0,\n",
              " 251.2622682619685,\n",
              " 251.1658771858157,\n",
              " 218.80585021650288,\n",
              " 163.17633458280739,\n",
              " 162.1637425912652,\n",
              " 64.39676542025462,\n",
              " 25.04639805151987,\n",
              " 20.250278536382435,\n",
              " 20.078040403833946,\n",
              " 16.006785179077394]"
            ]
          },
          "metadata": {},
          "execution_count": 7
        }
      ]
    },
    {
      "cell_type": "markdown",
      "source": [
        "c) ¿Qué polinomio ajusta mejor los datos?\n",
        "\n",
        "Vemos que conforme vamos aumentando el grado del polinomio, los residuos van haciendo más y más chicos, por lo que el polinomio que mejor ajusta es el de grado 10"
      ],
      "metadata": {
        "id": "j2ktG4u_0hc9"
      }
    },
    {
      "cell_type": "markdown",
      "source": [
        "**Ejercicio 3.** El archivo “poblacion-mexico.csv” contiene los datos de la cantidad de personas que han vivido en México en distintos años. Realiza lo siguiente:\n",
        "\n",
        "a) Elabora un programa que genere polinomios $P(x)$ de grado $n$, con $n = 1, 3, 7, 10$, que ajusten los datos de la cantidad de población como función de los años de registro; es decir $x ∈ [1910, 2020]$\n",
        "\n",
        "b) Muestra la gráfica de cada polinomio y los datos ajustados."
      ],
      "metadata": {
        "id": "7XmNINwtcjwc"
      }
    },
    {
      "cell_type": "code",
      "source": [
        "poblacion_ruta = 'https://raw.githubusercontent.com/Alberto0410/Proyecto-Final-An-lisis-Num-rico/main/poblacion-mexico.csv'\n",
        "pobmex = pd.read_csv(poblacion_ruta,  thousands=',')\n",
        "\n",
        "pobmex.head()"
      ],
      "metadata": {
        "colab": {
          "base_uri": "https://localhost:8080/",
          "height": 206
        },
        "id": "FkIP0LgEMFC9",
        "outputId": "5c2eca73-d0d8-4313-df8d-9c27c68f7d74"
      },
      "execution_count": null,
      "outputs": [
        {
          "output_type": "execute_result",
          "data": {
            "text/plain": [
              "   Periodo  Número de personas\n",
              "0     1910            15160369\n",
              "1     1921            14334780\n",
              "2     1930            16552722\n",
              "3     1940            19653552\n",
              "4     1950            25791017"
            ],
            "text/html": [
              "\n",
              "  <div id=\"df-6d1c932f-2a08-4dfa-acbd-b32dbd94ee3a\">\n",
              "    <div class=\"colab-df-container\">\n",
              "      <div>\n",
              "<style scoped>\n",
              "    .dataframe tbody tr th:only-of-type {\n",
              "        vertical-align: middle;\n",
              "    }\n",
              "\n",
              "    .dataframe tbody tr th {\n",
              "        vertical-align: top;\n",
              "    }\n",
              "\n",
              "    .dataframe thead th {\n",
              "        text-align: right;\n",
              "    }\n",
              "</style>\n",
              "<table border=\"1\" class=\"dataframe\">\n",
              "  <thead>\n",
              "    <tr style=\"text-align: right;\">\n",
              "      <th></th>\n",
              "      <th>Periodo</th>\n",
              "      <th>Número de personas</th>\n",
              "    </tr>\n",
              "  </thead>\n",
              "  <tbody>\n",
              "    <tr>\n",
              "      <th>0</th>\n",
              "      <td>1910</td>\n",
              "      <td>15160369</td>\n",
              "    </tr>\n",
              "    <tr>\n",
              "      <th>1</th>\n",
              "      <td>1921</td>\n",
              "      <td>14334780</td>\n",
              "    </tr>\n",
              "    <tr>\n",
              "      <th>2</th>\n",
              "      <td>1930</td>\n",
              "      <td>16552722</td>\n",
              "    </tr>\n",
              "    <tr>\n",
              "      <th>3</th>\n",
              "      <td>1940</td>\n",
              "      <td>19653552</td>\n",
              "    </tr>\n",
              "    <tr>\n",
              "      <th>4</th>\n",
              "      <td>1950</td>\n",
              "      <td>25791017</td>\n",
              "    </tr>\n",
              "  </tbody>\n",
              "</table>\n",
              "</div>\n",
              "      <button class=\"colab-df-convert\" onclick=\"convertToInteractive('df-6d1c932f-2a08-4dfa-acbd-b32dbd94ee3a')\"\n",
              "              title=\"Convert this dataframe to an interactive table.\"\n",
              "              style=\"display:none;\">\n",
              "        \n",
              "  <svg xmlns=\"http://www.w3.org/2000/svg\" height=\"24px\"viewBox=\"0 0 24 24\"\n",
              "       width=\"24px\">\n",
              "    <path d=\"M0 0h24v24H0V0z\" fill=\"none\"/>\n",
              "    <path d=\"M18.56 5.44l.94 2.06.94-2.06 2.06-.94-2.06-.94-.94-2.06-.94 2.06-2.06.94zm-11 1L8.5 8.5l.94-2.06 2.06-.94-2.06-.94L8.5 2.5l-.94 2.06-2.06.94zm10 10l.94 2.06.94-2.06 2.06-.94-2.06-.94-.94-2.06-.94 2.06-2.06.94z\"/><path d=\"M17.41 7.96l-1.37-1.37c-.4-.4-.92-.59-1.43-.59-.52 0-1.04.2-1.43.59L10.3 9.45l-7.72 7.72c-.78.78-.78 2.05 0 2.83L4 21.41c.39.39.9.59 1.41.59.51 0 1.02-.2 1.41-.59l7.78-7.78 2.81-2.81c.8-.78.8-2.07 0-2.86zM5.41 20L4 18.59l7.72-7.72 1.47 1.35L5.41 20z\"/>\n",
              "  </svg>\n",
              "      </button>\n",
              "      \n",
              "  <style>\n",
              "    .colab-df-container {\n",
              "      display:flex;\n",
              "      flex-wrap:wrap;\n",
              "      gap: 12px;\n",
              "    }\n",
              "\n",
              "    .colab-df-convert {\n",
              "      background-color: #E8F0FE;\n",
              "      border: none;\n",
              "      border-radius: 50%;\n",
              "      cursor: pointer;\n",
              "      display: none;\n",
              "      fill: #1967D2;\n",
              "      height: 32px;\n",
              "      padding: 0 0 0 0;\n",
              "      width: 32px;\n",
              "    }\n",
              "\n",
              "    .colab-df-convert:hover {\n",
              "      background-color: #E2EBFA;\n",
              "      box-shadow: 0px 1px 2px rgba(60, 64, 67, 0.3), 0px 1px 3px 1px rgba(60, 64, 67, 0.15);\n",
              "      fill: #174EA6;\n",
              "    }\n",
              "\n",
              "    [theme=dark] .colab-df-convert {\n",
              "      background-color: #3B4455;\n",
              "      fill: #D2E3FC;\n",
              "    }\n",
              "\n",
              "    [theme=dark] .colab-df-convert:hover {\n",
              "      background-color: #434B5C;\n",
              "      box-shadow: 0px 1px 3px 1px rgba(0, 0, 0, 0.15);\n",
              "      filter: drop-shadow(0px 1px 2px rgba(0, 0, 0, 0.3));\n",
              "      fill: #FFFFFF;\n",
              "    }\n",
              "  </style>\n",
              "\n",
              "      <script>\n",
              "        const buttonEl =\n",
              "          document.querySelector('#df-6d1c932f-2a08-4dfa-acbd-b32dbd94ee3a button.colab-df-convert');\n",
              "        buttonEl.style.display =\n",
              "          google.colab.kernel.accessAllowed ? 'block' : 'none';\n",
              "\n",
              "        async function convertToInteractive(key) {\n",
              "          const element = document.querySelector('#df-6d1c932f-2a08-4dfa-acbd-b32dbd94ee3a');\n",
              "          const dataTable =\n",
              "            await google.colab.kernel.invokeFunction('convertToInteractive',\n",
              "                                                     [key], {});\n",
              "          if (!dataTable) return;\n",
              "\n",
              "          const docLinkHtml = 'Like what you see? Visit the ' +\n",
              "            '<a target=\"_blank\" href=https://colab.research.google.com/notebooks/data_table.ipynb>data table notebook</a>'\n",
              "            + ' to learn more about interactive tables.';\n",
              "          element.innerHTML = '';\n",
              "          dataTable['output_type'] = 'display_data';\n",
              "          await google.colab.output.renderOutput(dataTable, element);\n",
              "          const docLink = document.createElement('div');\n",
              "          docLink.innerHTML = docLinkHtml;\n",
              "          element.appendChild(docLink);\n",
              "        }\n",
              "      </script>\n",
              "    </div>\n",
              "  </div>\n",
              "  "
            ]
          },
          "metadata": {},
          "execution_count": 8
        }
      ]
    },
    {
      "cell_type": "code",
      "source": [
        "X = pobmex['Periodo'] # x ∈ [1910, 2020]\n",
        "y = pobmex['Número de personas']\n",
        "\n",
        "n = [1,3,7,10]\n",
        "for i in n:\n",
        "  ec_norma_grad(X, y, i)"
      ],
      "metadata": {
        "colab": {
          "base_uri": "https://localhost:8080/",
          "height": 1000
        },
        "outputId": "a95dc512-0807-4680-9cee-c8bfab7cb7dc",
        "id": "DHpJDPBoMGzk"
      },
      "execution_count": null,
      "outputs": [
        {
          "output_type": "stream",
          "name": "stdout",
          "text": [
            "***Polinomio\n",
            "\n"
          ]
        },
        {
          "output_type": "display_data",
          "data": {
            "text/plain": [
              "<IPython.core.display.Latex object>"
            ],
            "text/latex": "$P(x) = 1129155.96095659 x - 2163037894.03141$"
          },
          "metadata": {}
        },
        {
          "output_type": "display_data",
          "data": {
            "text/html": [
              "<html>\n",
              "<head><meta charset=\"utf-8\" /></head>\n",
              "<body>\n",
              "    <div>            <script src=\"https://cdnjs.cloudflare.com/ajax/libs/mathjax/2.7.5/MathJax.js?config=TeX-AMS-MML_SVG\"></script><script type=\"text/javascript\">if (window.MathJax) {MathJax.Hub.Config({SVG: {font: \"STIX-Web\"}});}</script>                <script type=\"text/javascript\">window.PlotlyConfig = {MathJaxConfig: 'local'};</script>\n",
              "        <script src=\"https://cdn.plot.ly/plotly-2.8.3.min.js\"></script>                <div id=\"162c521f-fc02-4162-8083-727a1460c2e4\" class=\"plotly-graph-div\" style=\"height:525px; width:100%;\"></div>            <script type=\"text/javascript\">                                    window.PLOTLYENV=window.PLOTLYENV || {};                                    if (document.getElementById(\"162c521f-fc02-4162-8083-727a1460c2e4\")) {                    Plotly.newPlot(                        \"162c521f-fc02-4162-8083-727a1460c2e4\",                        [{\"marker\":{\"color\":\"LightSeaGreen\"},\"mode\":\"lines\",\"name\":\"P(x)\",\"x\":[1910.0,1910.5527638190954,1911.105527638191,1911.6582914572864,1912.211055276382,1912.7638190954774,1913.3165829145728,1913.8693467336684,1914.4221105527638,1914.9748743718592,1915.5276381909548,1916.0804020100502,1916.6331658291458,1917.1859296482412,1917.7386934673366,1918.2914572864322,1918.8442211055276,1919.3969849246232,1919.9497487437186,1920.502512562814,1921.0552763819096,1921.608040201005,1922.1608040201006,1922.713567839196,1923.2663316582914,1923.819095477387,1924.3718592964824,1924.9246231155778,1925.4773869346734,1926.0301507537688,1926.5829145728644,1927.1356783919598,1927.6884422110552,1928.2412060301508,1928.7939698492462,1929.3467336683418,1929.8994974874372,1930.4522613065326,1931.0050251256282,1931.5577889447236,1932.110552763819,1932.6633165829146,1933.21608040201,1933.7688442211056,1934.321608040201,1934.8743718592964,1935.427135678392,1935.9798994974874,1936.532663316583,1937.0854271356784,1937.6381909547738,1938.1909547738694,1938.7437185929648,1939.2964824120604,1939.8492462311558,1940.4020100502512,1940.9547738693468,1941.5075376884422,1942.0603015075376,1942.6130653266332,1943.1658291457286,1943.7185929648242,1944.2713567839196,1944.824120603015,1945.3768844221106,1945.929648241206,1946.4824120603016,1947.035175879397,1947.5879396984924,1948.140703517588,1948.6934673366834,1949.2462311557788,1949.7989949748744,1950.3517587939698,1950.9045226130654,1951.4572864321608,1952.0100502512562,1952.5628140703518,1953.1155778894472,1953.6683417085428,1954.2211055276382,1954.7738693467336,1955.3266331658292,1955.8793969849246,1956.43216080402,1956.9849246231156,1957.537688442211,1958.0904522613066,1958.643216080402,1959.1959798994974,1959.748743718593,1960.3015075376884,1960.854271356784,1961.4070351758794,1961.9597989949748,1962.5125628140704,1963.0653266331658,1963.6180904522612,1964.1708542713568,1964.7236180904522,1965.2763819095478,1965.8291457286432,1966.3819095477386,1966.9346733668342,1967.4874371859296,1968.0402010050252,1968.5929648241206,1969.145728643216,1969.6984924623116,1970.251256281407,1970.8040201005026,1971.356783919598,1971.9095477386934,1972.462311557789,1973.0150753768844,1973.5678391959798,1974.1206030150754,1974.6733668341708,1975.2261306532664,1975.7788944723618,1976.3316582914572,1976.8844221105528,1977.4371859296482,1977.9899497487438,1978.5427135678392,1979.0954773869346,1979.6482412060302,1980.2010050251256,1980.7537688442212,1981.3065326633166,1981.859296482412,1982.4120603015076,1982.964824120603,1983.5175879396984,1984.070351758794,1984.6231155778894,1985.175879396985,1985.7286432160804,1986.2814070351758,1986.8341708542714,1987.3869346733668,1987.9396984924624,1988.4924623115578,1989.0452261306532,1989.5979899497488,1990.1507537688442,1990.7035175879396,1991.2562814070352,1991.8090452261306,1992.3618090452262,1992.9145728643216,1993.467336683417,1994.0201005025126,1994.572864321608,1995.1256281407036,1995.678391959799,1996.2311557788944,1996.78391959799,1997.3366834170854,1997.8894472361808,1998.4422110552764,1998.9949748743718,1999.5477386934674,2000.1005025125628,2000.6532663316582,2001.2060301507538,2001.7587939698492,2002.3115577889448,2002.8643216080402,2003.4170854271356,2003.9698492462312,2004.5226130653266,2005.075376884422,2005.6281407035176,2006.180904522613,2006.7336683417086,2007.286432160804,2007.8391959798994,2008.391959798995,2008.9447236180904,2009.497487437186,2010.0502512562814,2010.6030150753768,2011.1557788944724,2011.7085427135678,2012.2613065326634,2012.8140703517588,2013.3668341708542,2013.9195979899498,2014.4723618090452,2015.0251256281408,2015.5778894472362,2016.1306532663316,2016.6834170854272,2017.2361809045226,2017.788944723618,2018.3417085427136,2018.894472361809,2019.4472361809046,2020.0],\"y\":[-6350008.6043281555,-5725852.042995453,-5101695.48166275,-4477538.920330048,-3853382.358996868,-3229225.7976646423,-2605069.2363319397,-1980912.6749987602,-1356756.1136660576,-732599.552333355,-108442.99100065231,515713.5703320503,1139870.1316652298,1764026.6929979324,2388183.254330635,3012339.8156633377,3636496.3769960403,4260652.93832922,4884809.499661922,5508966.060994625,6133122.622327328,6757279.18366003,7381435.74499321,8005592.3063259125,8629748.867658615,9253905.428991318,9878061.99032402,10502218.551656723,11126375.112989902,11750531.674322605,12374688.235655308,12998844.79698801,13623001.358320713,14247157.919653416,14871314.480986118,15495471.042319298,16119627.603652,16743784.164984703,17367940.726317406,17992097.28765011,18616253.84898281,19240410.41031599,19864566.971648693,20488723.532981396,21112880.0943141,21737036.6556468,22361193.21697998,22985349.778312683,23609506.339645386,24233662.90097809,24857819.46231079,25481976.02364397,26106132.584976673,26730289.146309376,27354445.70764208,27978602.26897478,28602758.83030796,29226915.391640186,29851071.95297289,30475228.51430607,31099385.07563877,31723541.636971474,32347698.198304176,32971854.75963688,33596011.32097006,34220167.88230276,34844324.44363546,35468481.00496817,36092637.56630087,36716794.12763405,37340950.68896675,37965107.250299454,38589263.81163216,39213420.37296486,39837576.93429804,40461733.49563074,41085890.056963444,41710046.61829615,42334203.17962885,42958359.74096203,43582516.30229473,44206672.863627434,44830829.42496014,45454985.98629284,46079142.54762554,46703299.108958244,47327455.67029095,47951612.23162413,48575768.79295683,49199925.35428953,49824081.915622234,50448238.47695494,51072395.03828812,51696551.59962082,52320708.16095352,52944864.722286224,53569021.28361893,54193177.84495163,54817334.40628481,55441490.96761751,56065647.528950214,56689804.09028292,57313960.65161562,57938117.2129488,58562273.7742815,59186430.335614204,59810586.89694691,60434743.45827961,61058900.01961279,61683056.580945015,62307213.142278194,62931369.7036109,63555526.2649436,64179682.8262763,64803839.387609005,65427995.94894171,66052152.51027489,66676309.07160759,67300465.63294029,67924622.194273,68548778.7556057,69172935.31693888,69797091.87827158,70421248.43960428,71045405.00093699,71669561.56226969,72293718.12360287,72917874.68493557,73542031.24626827,74166187.80760098,74790344.36893368,75414500.93026686,76038657.49159956,76662814.05293226,77286970.61426497,77911127.17559767,78535283.73693085,79159440.29826307,79783596.85959578,80407753.42092896,81031909.98226166,81656066.54359436,82280223.10492706,82904379.66625977,83528536.22759295,84152692.78892565,84776849.35025835,85401005.91159105,86025162.47292376,86649319.03425694,87273475.59558964,87897632.15692234,88521788.71825504,89145945.27958775,89770101.84092093,90394258.40225363,91018414.96358633,91642571.52491903,92266728.08625174,92890884.64758444,93515041.20891762,94139197.77025032,94763354.33158302,95387510.89291573,96011667.45424843,96635824.01558113,97259980.57691383,97884137.13824701,98508293.69957972,99132450.26091242,99756606.82224512,100380763.38357782,101004919.94491053,101629076.5062437,102253233.06757641,102877389.62890911,103501546.19024181,104125702.75157452,104749859.3129077,105374015.8742404,105998172.4355731,106622328.9969058,107246485.5582385,107870642.11957169,108494798.68090439,109118955.24223709,109743111.8035698,110367268.3649025,110991424.92623568,111615581.4875679,112239738.04890108,112863894.61023378,113488051.17156649,114112207.73289919,114736364.29423189,115360520.8555646,115984677.41689777,116608833.97823048,117232990.53956318,117857147.10089588],\"type\":\"scatter\"},{\"marker\":{\"color\":\"MediumPurple\",\"size\":10},\"mode\":\"markers\",\"name\":\"Puntos dados\",\"x\":[1910,1921,1930,1940,1950,1960,1970,1980,1990,1995,2000,2005,2010,2015,2020],\"y\":[15160369,14334780,16552722,19653552,25791017,34923129,48225238,66846833,81249645,91158290,97483412,103263388,112336538,119938473,126014024],\"type\":\"scatter\"}],                        {\"template\":{\"data\":{\"bar\":[{\"error_x\":{\"color\":\"#2a3f5f\"},\"error_y\":{\"color\":\"#2a3f5f\"},\"marker\":{\"line\":{\"color\":\"#E5ECF6\",\"width\":0.5},\"pattern\":{\"fillmode\":\"overlay\",\"size\":10,\"solidity\":0.2}},\"type\":\"bar\"}],\"barpolar\":[{\"marker\":{\"line\":{\"color\":\"#E5ECF6\",\"width\":0.5},\"pattern\":{\"fillmode\":\"overlay\",\"size\":10,\"solidity\":0.2}},\"type\":\"barpolar\"}],\"carpet\":[{\"aaxis\":{\"endlinecolor\":\"#2a3f5f\",\"gridcolor\":\"white\",\"linecolor\":\"white\",\"minorgridcolor\":\"white\",\"startlinecolor\":\"#2a3f5f\"},\"baxis\":{\"endlinecolor\":\"#2a3f5f\",\"gridcolor\":\"white\",\"linecolor\":\"white\",\"minorgridcolor\":\"white\",\"startlinecolor\":\"#2a3f5f\"},\"type\":\"carpet\"}],\"choropleth\":[{\"colorbar\":{\"outlinewidth\":0,\"ticks\":\"\"},\"type\":\"choropleth\"}],\"contour\":[{\"colorbar\":{\"outlinewidth\":0,\"ticks\":\"\"},\"colorscale\":[[0.0,\"#0d0887\"],[0.1111111111111111,\"#46039f\"],[0.2222222222222222,\"#7201a8\"],[0.3333333333333333,\"#9c179e\"],[0.4444444444444444,\"#bd3786\"],[0.5555555555555556,\"#d8576b\"],[0.6666666666666666,\"#ed7953\"],[0.7777777777777778,\"#fb9f3a\"],[0.8888888888888888,\"#fdca26\"],[1.0,\"#f0f921\"]],\"type\":\"contour\"}],\"contourcarpet\":[{\"colorbar\":{\"outlinewidth\":0,\"ticks\":\"\"},\"type\":\"contourcarpet\"}],\"heatmap\":[{\"colorbar\":{\"outlinewidth\":0,\"ticks\":\"\"},\"colorscale\":[[0.0,\"#0d0887\"],[0.1111111111111111,\"#46039f\"],[0.2222222222222222,\"#7201a8\"],[0.3333333333333333,\"#9c179e\"],[0.4444444444444444,\"#bd3786\"],[0.5555555555555556,\"#d8576b\"],[0.6666666666666666,\"#ed7953\"],[0.7777777777777778,\"#fb9f3a\"],[0.8888888888888888,\"#fdca26\"],[1.0,\"#f0f921\"]],\"type\":\"heatmap\"}],\"heatmapgl\":[{\"colorbar\":{\"outlinewidth\":0,\"ticks\":\"\"},\"colorscale\":[[0.0,\"#0d0887\"],[0.1111111111111111,\"#46039f\"],[0.2222222222222222,\"#7201a8\"],[0.3333333333333333,\"#9c179e\"],[0.4444444444444444,\"#bd3786\"],[0.5555555555555556,\"#d8576b\"],[0.6666666666666666,\"#ed7953\"],[0.7777777777777778,\"#fb9f3a\"],[0.8888888888888888,\"#fdca26\"],[1.0,\"#f0f921\"]],\"type\":\"heatmapgl\"}],\"histogram\":[{\"marker\":{\"pattern\":{\"fillmode\":\"overlay\",\"size\":10,\"solidity\":0.2}},\"type\":\"histogram\"}],\"histogram2d\":[{\"colorbar\":{\"outlinewidth\":0,\"ticks\":\"\"},\"colorscale\":[[0.0,\"#0d0887\"],[0.1111111111111111,\"#46039f\"],[0.2222222222222222,\"#7201a8\"],[0.3333333333333333,\"#9c179e\"],[0.4444444444444444,\"#bd3786\"],[0.5555555555555556,\"#d8576b\"],[0.6666666666666666,\"#ed7953\"],[0.7777777777777778,\"#fb9f3a\"],[0.8888888888888888,\"#fdca26\"],[1.0,\"#f0f921\"]],\"type\":\"histogram2d\"}],\"histogram2dcontour\":[{\"colorbar\":{\"outlinewidth\":0,\"ticks\":\"\"},\"colorscale\":[[0.0,\"#0d0887\"],[0.1111111111111111,\"#46039f\"],[0.2222222222222222,\"#7201a8\"],[0.3333333333333333,\"#9c179e\"],[0.4444444444444444,\"#bd3786\"],[0.5555555555555556,\"#d8576b\"],[0.6666666666666666,\"#ed7953\"],[0.7777777777777778,\"#fb9f3a\"],[0.8888888888888888,\"#fdca26\"],[1.0,\"#f0f921\"]],\"type\":\"histogram2dcontour\"}],\"mesh3d\":[{\"colorbar\":{\"outlinewidth\":0,\"ticks\":\"\"},\"type\":\"mesh3d\"}],\"parcoords\":[{\"line\":{\"colorbar\":{\"outlinewidth\":0,\"ticks\":\"\"}},\"type\":\"parcoords\"}],\"pie\":[{\"automargin\":true,\"type\":\"pie\"}],\"scatter\":[{\"marker\":{\"colorbar\":{\"outlinewidth\":0,\"ticks\":\"\"}},\"type\":\"scatter\"}],\"scatter3d\":[{\"line\":{\"colorbar\":{\"outlinewidth\":0,\"ticks\":\"\"}},\"marker\":{\"colorbar\":{\"outlinewidth\":0,\"ticks\":\"\"}},\"type\":\"scatter3d\"}],\"scattercarpet\":[{\"marker\":{\"colorbar\":{\"outlinewidth\":0,\"ticks\":\"\"}},\"type\":\"scattercarpet\"}],\"scattergeo\":[{\"marker\":{\"colorbar\":{\"outlinewidth\":0,\"ticks\":\"\"}},\"type\":\"scattergeo\"}],\"scattergl\":[{\"marker\":{\"colorbar\":{\"outlinewidth\":0,\"ticks\":\"\"}},\"type\":\"scattergl\"}],\"scattermapbox\":[{\"marker\":{\"colorbar\":{\"outlinewidth\":0,\"ticks\":\"\"}},\"type\":\"scattermapbox\"}],\"scatterpolar\":[{\"marker\":{\"colorbar\":{\"outlinewidth\":0,\"ticks\":\"\"}},\"type\":\"scatterpolar\"}],\"scatterpolargl\":[{\"marker\":{\"colorbar\":{\"outlinewidth\":0,\"ticks\":\"\"}},\"type\":\"scatterpolargl\"}],\"scatterternary\":[{\"marker\":{\"colorbar\":{\"outlinewidth\":0,\"ticks\":\"\"}},\"type\":\"scatterternary\"}],\"surface\":[{\"colorbar\":{\"outlinewidth\":0,\"ticks\":\"\"},\"colorscale\":[[0.0,\"#0d0887\"],[0.1111111111111111,\"#46039f\"],[0.2222222222222222,\"#7201a8\"],[0.3333333333333333,\"#9c179e\"],[0.4444444444444444,\"#bd3786\"],[0.5555555555555556,\"#d8576b\"],[0.6666666666666666,\"#ed7953\"],[0.7777777777777778,\"#fb9f3a\"],[0.8888888888888888,\"#fdca26\"],[1.0,\"#f0f921\"]],\"type\":\"surface\"}],\"table\":[{\"cells\":{\"fill\":{\"color\":\"#EBF0F8\"},\"line\":{\"color\":\"white\"}},\"header\":{\"fill\":{\"color\":\"#C8D4E3\"},\"line\":{\"color\":\"white\"}},\"type\":\"table\"}]},\"layout\":{\"annotationdefaults\":{\"arrowcolor\":\"#2a3f5f\",\"arrowhead\":0,\"arrowwidth\":1},\"autotypenumbers\":\"strict\",\"coloraxis\":{\"colorbar\":{\"outlinewidth\":0,\"ticks\":\"\"}},\"colorscale\":{\"diverging\":[[0,\"#8e0152\"],[0.1,\"#c51b7d\"],[0.2,\"#de77ae\"],[0.3,\"#f1b6da\"],[0.4,\"#fde0ef\"],[0.5,\"#f7f7f7\"],[0.6,\"#e6f5d0\"],[0.7,\"#b8e186\"],[0.8,\"#7fbc41\"],[0.9,\"#4d9221\"],[1,\"#276419\"]],\"sequential\":[[0.0,\"#0d0887\"],[0.1111111111111111,\"#46039f\"],[0.2222222222222222,\"#7201a8\"],[0.3333333333333333,\"#9c179e\"],[0.4444444444444444,\"#bd3786\"],[0.5555555555555556,\"#d8576b\"],[0.6666666666666666,\"#ed7953\"],[0.7777777777777778,\"#fb9f3a\"],[0.8888888888888888,\"#fdca26\"],[1.0,\"#f0f921\"]],\"sequentialminus\":[[0.0,\"#0d0887\"],[0.1111111111111111,\"#46039f\"],[0.2222222222222222,\"#7201a8\"],[0.3333333333333333,\"#9c179e\"],[0.4444444444444444,\"#bd3786\"],[0.5555555555555556,\"#d8576b\"],[0.6666666666666666,\"#ed7953\"],[0.7777777777777778,\"#fb9f3a\"],[0.8888888888888888,\"#fdca26\"],[1.0,\"#f0f921\"]]},\"colorway\":[\"#636efa\",\"#EF553B\",\"#00cc96\",\"#ab63fa\",\"#FFA15A\",\"#19d3f3\",\"#FF6692\",\"#B6E880\",\"#FF97FF\",\"#FECB52\"],\"font\":{\"color\":\"#2a3f5f\"},\"geo\":{\"bgcolor\":\"white\",\"lakecolor\":\"white\",\"landcolor\":\"#E5ECF6\",\"showlakes\":true,\"showland\":true,\"subunitcolor\":\"white\"},\"hoverlabel\":{\"align\":\"left\"},\"hovermode\":\"closest\",\"mapbox\":{\"style\":\"light\"},\"paper_bgcolor\":\"white\",\"plot_bgcolor\":\"#E5ECF6\",\"polar\":{\"angularaxis\":{\"gridcolor\":\"white\",\"linecolor\":\"white\",\"ticks\":\"\"},\"bgcolor\":\"#E5ECF6\",\"radialaxis\":{\"gridcolor\":\"white\",\"linecolor\":\"white\",\"ticks\":\"\"}},\"scene\":{\"xaxis\":{\"backgroundcolor\":\"#E5ECF6\",\"gridcolor\":\"white\",\"gridwidth\":2,\"linecolor\":\"white\",\"showbackground\":true,\"ticks\":\"\",\"zerolinecolor\":\"white\"},\"yaxis\":{\"backgroundcolor\":\"#E5ECF6\",\"gridcolor\":\"white\",\"gridwidth\":2,\"linecolor\":\"white\",\"showbackground\":true,\"ticks\":\"\",\"zerolinecolor\":\"white\"},\"zaxis\":{\"backgroundcolor\":\"#E5ECF6\",\"gridcolor\":\"white\",\"gridwidth\":2,\"linecolor\":\"white\",\"showbackground\":true,\"ticks\":\"\",\"zerolinecolor\":\"white\"}},\"shapedefaults\":{\"line\":{\"color\":\"#2a3f5f\"}},\"ternary\":{\"aaxis\":{\"gridcolor\":\"white\",\"linecolor\":\"white\",\"ticks\":\"\"},\"baxis\":{\"gridcolor\":\"white\",\"linecolor\":\"white\",\"ticks\":\"\"},\"bgcolor\":\"#E5ECF6\",\"caxis\":{\"gridcolor\":\"white\",\"linecolor\":\"white\",\"ticks\":\"\"}},\"title\":{\"x\":0.05},\"xaxis\":{\"automargin\":true,\"gridcolor\":\"white\",\"linecolor\":\"white\",\"ticks\":\"\",\"title\":{\"standoff\":15},\"zerolinecolor\":\"white\",\"zerolinewidth\":2},\"yaxis\":{\"automargin\":true,\"gridcolor\":\"white\",\"linecolor\":\"white\",\"ticks\":\"\",\"title\":{\"standoff\":15},\"zerolinecolor\":\"white\",\"zerolinewidth\":2}}},\"title\":{\"font\":{\"size\":30},\"text\":\"Ajuste de minimos cuadrados\"}},                        {\"responsive\": true}                    ).then(function(){\n",
              "                            \n",
              "var gd = document.getElementById('162c521f-fc02-4162-8083-727a1460c2e4');\n",
              "var x = new MutationObserver(function (mutations, observer) {{\n",
              "        var display = window.getComputedStyle(gd).display;\n",
              "        if (!display || display === 'none') {{\n",
              "            console.log([gd, 'removed!']);\n",
              "            Plotly.purge(gd);\n",
              "            observer.disconnect();\n",
              "        }}\n",
              "}});\n",
              "\n",
              "// Listen for the removal of the full notebook cells\n",
              "var notebookContainer = gd.closest('#notebook-container');\n",
              "if (notebookContainer) {{\n",
              "    x.observe(notebookContainer, {childList: true});\n",
              "}}\n",
              "\n",
              "// Listen for the clearing of the current output cell\n",
              "var outputEl = gd.closest('.output');\n",
              "if (outputEl) {{\n",
              "    x.observe(outputEl, {childList: true});\n",
              "}}\n",
              "\n",
              "                        })                };                            </script>        </div>\n",
              "</body>\n",
              "</html>"
            ]
          },
          "metadata": {}
        },
        {
          "output_type": "stream",
          "name": "stdout",
          "text": [
            "***Polinomio\n",
            "\n"
          ]
        },
        {
          "output_type": "display_data",
          "data": {
            "text/plain": [
              "<IPython.core.display.Latex object>"
            ],
            "text/latex": "$P(x) = - 101.476768859614 x^{3} + 607458.716188572 x^{2} - 1210532957.21238 x + 803141869459.168$"
          },
          "metadata": {}
        },
        {
          "output_type": "display_data",
          "data": {
            "text/html": [
              "<html>\n",
              "<head><meta charset=\"utf-8\" /></head>\n",
              "<body>\n",
              "    <div>            <script src=\"https://cdnjs.cloudflare.com/ajax/libs/mathjax/2.7.5/MathJax.js?config=TeX-AMS-MML_SVG\"></script><script type=\"text/javascript\">if (window.MathJax) {MathJax.Hub.Config({SVG: {font: \"STIX-Web\"}});}</script>                <script type=\"text/javascript\">window.PlotlyConfig = {MathJaxConfig: 'local'};</script>\n",
              "        <script src=\"https://cdn.plot.ly/plotly-2.8.3.min.js\"></script>                <div id=\"666f036a-268b-4593-8427-3cc6a0d7c2f1\" class=\"plotly-graph-div\" style=\"height:525px; width:100%;\"></div>            <script type=\"text/javascript\">                                    window.PLOTLYENV=window.PLOTLYENV || {};                                    if (document.getElementById(\"666f036a-268b-4593-8427-3cc6a0d7c2f1\")) {                    Plotly.newPlot(                        \"666f036a-268b-4593-8427-3cc6a0d7c2f1\",                        [{\"marker\":{\"color\":\"LightSeaGreen\"},\"mode\":\"lines\",\"name\":\"P(x)\",\"x\":[1910.0,1910.5527638190954,1911.105527638191,1911.6582914572864,1912.211055276382,1912.7638190954774,1913.3165829145728,1913.8693467336684,1914.4221105527638,1914.9748743718592,1915.5276381909548,1916.0804020100502,1916.6331658291458,1917.1859296482412,1917.7386934673366,1918.2914572864322,1918.8442211055276,1919.3969849246232,1919.9497487437186,1920.502512562814,1921.0552763819096,1921.608040201005,1922.1608040201006,1922.713567839196,1923.2663316582914,1923.819095477387,1924.3718592964824,1924.9246231155778,1925.4773869346734,1926.0301507537688,1926.5829145728644,1927.1356783919598,1927.6884422110552,1928.2412060301508,1928.7939698492462,1929.3467336683418,1929.8994974874372,1930.4522613065326,1931.0050251256282,1931.5577889447236,1932.110552763819,1932.6633165829146,1933.21608040201,1933.7688442211056,1934.321608040201,1934.8743718592964,1935.427135678392,1935.9798994974874,1936.532663316583,1937.0854271356784,1937.6381909547738,1938.1909547738694,1938.7437185929648,1939.2964824120604,1939.8492462311558,1940.4020100502512,1940.9547738693468,1941.5075376884422,1942.0603015075376,1942.6130653266332,1943.1658291457286,1943.7185929648242,1944.2713567839196,1944.824120603015,1945.3768844221106,1945.929648241206,1946.4824120603016,1947.035175879397,1947.5879396984924,1948.140703517588,1948.6934673366834,1949.2462311557788,1949.7989949748744,1950.3517587939698,1950.9045226130654,1951.4572864321608,1952.0100502512562,1952.5628140703518,1953.1155778894472,1953.6683417085428,1954.2211055276382,1954.7738693467336,1955.3266331658292,1955.8793969849246,1956.43216080402,1956.9849246231156,1957.537688442211,1958.0904522613066,1958.643216080402,1959.1959798994974,1959.748743718593,1960.3015075376884,1960.854271356784,1961.4070351758794,1961.9597989949748,1962.5125628140704,1963.0653266331658,1963.6180904522612,1964.1708542713568,1964.7236180904522,1965.2763819095478,1965.8291457286432,1966.3819095477386,1966.9346733668342,1967.4874371859296,1968.0402010050252,1968.5929648241206,1969.145728643216,1969.6984924623116,1970.251256281407,1970.8040201005026,1971.356783919598,1971.9095477386934,1972.462311557789,1973.0150753768844,1973.5678391959798,1974.1206030150754,1974.6733668341708,1975.2261306532664,1975.7788944723618,1976.3316582914572,1976.8844221105528,1977.4371859296482,1977.9899497487438,1978.5427135678392,1979.0954773869346,1979.6482412060302,1980.2010050251256,1980.7537688442212,1981.3065326633166,1981.859296482412,1982.4120603015076,1982.964824120603,1983.5175879396984,1984.070351758794,1984.6231155778894,1985.175879396985,1985.7286432160804,1986.2814070351758,1986.8341708542714,1987.3869346733668,1987.9396984924624,1988.4924623115578,1989.0452261306532,1989.5979899497488,1990.1507537688442,1990.7035175879396,1991.2562814070352,1991.8090452261306,1992.3618090452262,1992.9145728643216,1993.467336683417,1994.0201005025126,1994.572864321608,1995.1256281407036,1995.678391959799,1996.2311557788944,1996.78391959799,1997.3366834170854,1997.8894472361808,1998.4422110552764,1998.9949748743718,1999.5477386934674,2000.1005025125628,2000.6532663316582,2001.2060301507538,2001.7587939698492,2002.3115577889448,2002.8643216080402,2003.4170854271356,2003.9698492462312,2004.5226130653266,2005.075376884422,2005.6281407035176,2006.180904522613,2006.7336683417086,2007.286432160804,2007.8391959798994,2008.391959798995,2008.9447236180904,2009.497487437186,2010.0502512562814,2010.6030150753768,2011.1557788944724,2011.7085427135678,2012.2613065326634,2012.8140703517588,2013.3668341708542,2013.9195979899498,2014.4723618090452,2015.0251256281408,2015.5778894472362,2016.1306532663316,2016.6834170854272,2017.2361809045226,2017.788944723618,2018.3417085427136,2018.894472361809,2019.4472361809046,2020.0],\"y\":[17028800.444213867,16686902.920776367,16360789.115234375,16050356.19116211,15755501.31652832,15476121.657104492,15212114.37915039,14963376.646850586,14729805.628417969,14511298.48803711,14307752.393310547,14119064.508422852,13945132.001831055,13785852.037475586,13641121.782104492,13510838.401123047,13394899.06237793,13293200.92956543,13205641.169433594,13132116.94946289,13072525.434204102,13026763.78930664,12994729.182128906,12976318.776977539,12971429.741821289,12979959.241577148,13001804.441040039,13036862.508789062,13085030.60925293,13146205.908691406,13220285.572387695,13307166.768432617,13406746.661254883,13518922.416992188,13643591.201538086,13780650.180419922,13929996.521850586,14091527.389282227,14265139.950195312,14450731.370605469,14648198.815063477,14857439.450927734,15078350.444335938,15310828.96069336,15554772.165893555,15810077.22631836,16076641.307739258,16354361.576660156,16643135.198486328,16942859.33935547,17253431.165283203,17574747.842407227,17906706.536376953,18249204.41381836,18602138.64086914,18965406.382080078,19338904.80493164,19722531.075195312,20116182.35876465,20519755.82080078,20933148.6282959,21356257.947021484,21788980.943115234,22231214.782592773,22682856.630615234,23143803.655151367,23613953.01977539,24093201.891479492,24581447.436523438,25078586.821655273,25584517.21081543,26099135.772216797,26622339.669921875,27154026.072021484,27694092.142456055,28242435.047851562,28798951.955566406,29363540.030517578,29936096.4375,30516518.345214844,31104702.91748047,31700547.321166992,32303948.72241211,32914804.286376953,33533011.1796875,34158466.568847656,34791067.619506836,35430711.49633789,36077295.36791992,36730716.39782715,37390871.75256348,38057658.599853516,38730974.10437012,39410715.431274414,40096779.748413086,40789064.220825195,41487466.01452637,42191882.2956543,42902210.22998047,43618346.98364258,44340189.72290039,45067635.61401367,45800581.822021484,46538925.513305664,47282563.853881836,48031394.010253906,48785313.14831543,49544218.4329834,50308007.03149414,51076576.10974121,51849822.83325195,52627644.36804199,53409937.880371094,54196600.53601074,54987529.501464844,55782621.94262695,56581775.02441406,57384885.9140625,58191851.77709961,59002569.779541016,59816937.08850098,60634850.86779785,61456208.2845459,62280906.50500488,63108842.69543457,63939914.021484375,64774017.6484375,65611050.74316406,66450910.47229004,67293494.00036621,68138698.49316406,68986421.11865234,69836559.04125977,70689009.42749023,71543669.44250488,72400436.2545166,73259207.02697754,74119878.92687988,74982349.12145996,75846514.7755127,76712273.05395508,77579521.12536621,78448156.1538086,79318075.30639648,80189175.74743652,81061354.64489746,81934509.16430664,82808536.47009277,83683333.73034668,84558798.11047363,85434826.77575684,86311316.89282227,87188165.62780762,88065270.14697266,88942527.61450195,89819835.19909668,90697090.0645752,91574189.37792969,92451030.30432129,93327510.01171875,94203525.66394043,95078974.42834473,95953753.46923828,96827759.95483398,97700891.0501709,98573043.92211914,99444115.73364258,100314003.6541748,101182604.84887695,102049816.48303223,102915535.72363281,103779659.73486328,104642085.68408203,105502710.7368164,106361432.05932617,107218146.8178711,108072752.17944336,108925145.30700684,109775223.36877441,110622883.53063965,111468022.95910645,112310538.81835938,113150328.2755127,113987288.49633789,114821316.64733887,115652309.89489746,116480165.40332031,117304780.33959961,118126051.8704834,118943877.16027832,119758153.3762207,120568777.68432617,121375647.24951172,122178659.23986816,122977710.81945801,123772699.15551758,124563521.41223145,125350074.75793457,126132256.35668945,126909963.37573242],\"type\":\"scatter\"},{\"marker\":{\"color\":\"MediumPurple\",\"size\":10},\"mode\":\"markers\",\"name\":\"Puntos dados\",\"x\":[1910,1921,1930,1940,1950,1960,1970,1980,1990,1995,2000,2005,2010,2015,2020],\"y\":[15160369,14334780,16552722,19653552,25791017,34923129,48225238,66846833,81249645,91158290,97483412,103263388,112336538,119938473,126014024],\"type\":\"scatter\"}],                        {\"template\":{\"data\":{\"bar\":[{\"error_x\":{\"color\":\"#2a3f5f\"},\"error_y\":{\"color\":\"#2a3f5f\"},\"marker\":{\"line\":{\"color\":\"#E5ECF6\",\"width\":0.5},\"pattern\":{\"fillmode\":\"overlay\",\"size\":10,\"solidity\":0.2}},\"type\":\"bar\"}],\"barpolar\":[{\"marker\":{\"line\":{\"color\":\"#E5ECF6\",\"width\":0.5},\"pattern\":{\"fillmode\":\"overlay\",\"size\":10,\"solidity\":0.2}},\"type\":\"barpolar\"}],\"carpet\":[{\"aaxis\":{\"endlinecolor\":\"#2a3f5f\",\"gridcolor\":\"white\",\"linecolor\":\"white\",\"minorgridcolor\":\"white\",\"startlinecolor\":\"#2a3f5f\"},\"baxis\":{\"endlinecolor\":\"#2a3f5f\",\"gridcolor\":\"white\",\"linecolor\":\"white\",\"minorgridcolor\":\"white\",\"startlinecolor\":\"#2a3f5f\"},\"type\":\"carpet\"}],\"choropleth\":[{\"colorbar\":{\"outlinewidth\":0,\"ticks\":\"\"},\"type\":\"choropleth\"}],\"contour\":[{\"colorbar\":{\"outlinewidth\":0,\"ticks\":\"\"},\"colorscale\":[[0.0,\"#0d0887\"],[0.1111111111111111,\"#46039f\"],[0.2222222222222222,\"#7201a8\"],[0.3333333333333333,\"#9c179e\"],[0.4444444444444444,\"#bd3786\"],[0.5555555555555556,\"#d8576b\"],[0.6666666666666666,\"#ed7953\"],[0.7777777777777778,\"#fb9f3a\"],[0.8888888888888888,\"#fdca26\"],[1.0,\"#f0f921\"]],\"type\":\"contour\"}],\"contourcarpet\":[{\"colorbar\":{\"outlinewidth\":0,\"ticks\":\"\"},\"type\":\"contourcarpet\"}],\"heatmap\":[{\"colorbar\":{\"outlinewidth\":0,\"ticks\":\"\"},\"colorscale\":[[0.0,\"#0d0887\"],[0.1111111111111111,\"#46039f\"],[0.2222222222222222,\"#7201a8\"],[0.3333333333333333,\"#9c179e\"],[0.4444444444444444,\"#bd3786\"],[0.5555555555555556,\"#d8576b\"],[0.6666666666666666,\"#ed7953\"],[0.7777777777777778,\"#fb9f3a\"],[0.8888888888888888,\"#fdca26\"],[1.0,\"#f0f921\"]],\"type\":\"heatmap\"}],\"heatmapgl\":[{\"colorbar\":{\"outlinewidth\":0,\"ticks\":\"\"},\"colorscale\":[[0.0,\"#0d0887\"],[0.1111111111111111,\"#46039f\"],[0.2222222222222222,\"#7201a8\"],[0.3333333333333333,\"#9c179e\"],[0.4444444444444444,\"#bd3786\"],[0.5555555555555556,\"#d8576b\"],[0.6666666666666666,\"#ed7953\"],[0.7777777777777778,\"#fb9f3a\"],[0.8888888888888888,\"#fdca26\"],[1.0,\"#f0f921\"]],\"type\":\"heatmapgl\"}],\"histogram\":[{\"marker\":{\"pattern\":{\"fillmode\":\"overlay\",\"size\":10,\"solidity\":0.2}},\"type\":\"histogram\"}],\"histogram2d\":[{\"colorbar\":{\"outlinewidth\":0,\"ticks\":\"\"},\"colorscale\":[[0.0,\"#0d0887\"],[0.1111111111111111,\"#46039f\"],[0.2222222222222222,\"#7201a8\"],[0.3333333333333333,\"#9c179e\"],[0.4444444444444444,\"#bd3786\"],[0.5555555555555556,\"#d8576b\"],[0.6666666666666666,\"#ed7953\"],[0.7777777777777778,\"#fb9f3a\"],[0.8888888888888888,\"#fdca26\"],[1.0,\"#f0f921\"]],\"type\":\"histogram2d\"}],\"histogram2dcontour\":[{\"colorbar\":{\"outlinewidth\":0,\"ticks\":\"\"},\"colorscale\":[[0.0,\"#0d0887\"],[0.1111111111111111,\"#46039f\"],[0.2222222222222222,\"#7201a8\"],[0.3333333333333333,\"#9c179e\"],[0.4444444444444444,\"#bd3786\"],[0.5555555555555556,\"#d8576b\"],[0.6666666666666666,\"#ed7953\"],[0.7777777777777778,\"#fb9f3a\"],[0.8888888888888888,\"#fdca26\"],[1.0,\"#f0f921\"]],\"type\":\"histogram2dcontour\"}],\"mesh3d\":[{\"colorbar\":{\"outlinewidth\":0,\"ticks\":\"\"},\"type\":\"mesh3d\"}],\"parcoords\":[{\"line\":{\"colorbar\":{\"outlinewidth\":0,\"ticks\":\"\"}},\"type\":\"parcoords\"}],\"pie\":[{\"automargin\":true,\"type\":\"pie\"}],\"scatter\":[{\"marker\":{\"colorbar\":{\"outlinewidth\":0,\"ticks\":\"\"}},\"type\":\"scatter\"}],\"scatter3d\":[{\"line\":{\"colorbar\":{\"outlinewidth\":0,\"ticks\":\"\"}},\"marker\":{\"colorbar\":{\"outlinewidth\":0,\"ticks\":\"\"}},\"type\":\"scatter3d\"}],\"scattercarpet\":[{\"marker\":{\"colorbar\":{\"outlinewidth\":0,\"ticks\":\"\"}},\"type\":\"scattercarpet\"}],\"scattergeo\":[{\"marker\":{\"colorbar\":{\"outlinewidth\":0,\"ticks\":\"\"}},\"type\":\"scattergeo\"}],\"scattergl\":[{\"marker\":{\"colorbar\":{\"outlinewidth\":0,\"ticks\":\"\"}},\"type\":\"scattergl\"}],\"scattermapbox\":[{\"marker\":{\"colorbar\":{\"outlinewidth\":0,\"ticks\":\"\"}},\"type\":\"scattermapbox\"}],\"scatterpolar\":[{\"marker\":{\"colorbar\":{\"outlinewidth\":0,\"ticks\":\"\"}},\"type\":\"scatterpolar\"}],\"scatterpolargl\":[{\"marker\":{\"colorbar\":{\"outlinewidth\":0,\"ticks\":\"\"}},\"type\":\"scatterpolargl\"}],\"scatterternary\":[{\"marker\":{\"colorbar\":{\"outlinewidth\":0,\"ticks\":\"\"}},\"type\":\"scatterternary\"}],\"surface\":[{\"colorbar\":{\"outlinewidth\":0,\"ticks\":\"\"},\"colorscale\":[[0.0,\"#0d0887\"],[0.1111111111111111,\"#46039f\"],[0.2222222222222222,\"#7201a8\"],[0.3333333333333333,\"#9c179e\"],[0.4444444444444444,\"#bd3786\"],[0.5555555555555556,\"#d8576b\"],[0.6666666666666666,\"#ed7953\"],[0.7777777777777778,\"#fb9f3a\"],[0.8888888888888888,\"#fdca26\"],[1.0,\"#f0f921\"]],\"type\":\"surface\"}],\"table\":[{\"cells\":{\"fill\":{\"color\":\"#EBF0F8\"},\"line\":{\"color\":\"white\"}},\"header\":{\"fill\":{\"color\":\"#C8D4E3\"},\"line\":{\"color\":\"white\"}},\"type\":\"table\"}]},\"layout\":{\"annotationdefaults\":{\"arrowcolor\":\"#2a3f5f\",\"arrowhead\":0,\"arrowwidth\":1},\"autotypenumbers\":\"strict\",\"coloraxis\":{\"colorbar\":{\"outlinewidth\":0,\"ticks\":\"\"}},\"colorscale\":{\"diverging\":[[0,\"#8e0152\"],[0.1,\"#c51b7d\"],[0.2,\"#de77ae\"],[0.3,\"#f1b6da\"],[0.4,\"#fde0ef\"],[0.5,\"#f7f7f7\"],[0.6,\"#e6f5d0\"],[0.7,\"#b8e186\"],[0.8,\"#7fbc41\"],[0.9,\"#4d9221\"],[1,\"#276419\"]],\"sequential\":[[0.0,\"#0d0887\"],[0.1111111111111111,\"#46039f\"],[0.2222222222222222,\"#7201a8\"],[0.3333333333333333,\"#9c179e\"],[0.4444444444444444,\"#bd3786\"],[0.5555555555555556,\"#d8576b\"],[0.6666666666666666,\"#ed7953\"],[0.7777777777777778,\"#fb9f3a\"],[0.8888888888888888,\"#fdca26\"],[1.0,\"#f0f921\"]],\"sequentialminus\":[[0.0,\"#0d0887\"],[0.1111111111111111,\"#46039f\"],[0.2222222222222222,\"#7201a8\"],[0.3333333333333333,\"#9c179e\"],[0.4444444444444444,\"#bd3786\"],[0.5555555555555556,\"#d8576b\"],[0.6666666666666666,\"#ed7953\"],[0.7777777777777778,\"#fb9f3a\"],[0.8888888888888888,\"#fdca26\"],[1.0,\"#f0f921\"]]},\"colorway\":[\"#636efa\",\"#EF553B\",\"#00cc96\",\"#ab63fa\",\"#FFA15A\",\"#19d3f3\",\"#FF6692\",\"#B6E880\",\"#FF97FF\",\"#FECB52\"],\"font\":{\"color\":\"#2a3f5f\"},\"geo\":{\"bgcolor\":\"white\",\"lakecolor\":\"white\",\"landcolor\":\"#E5ECF6\",\"showlakes\":true,\"showland\":true,\"subunitcolor\":\"white\"},\"hoverlabel\":{\"align\":\"left\"},\"hovermode\":\"closest\",\"mapbox\":{\"style\":\"light\"},\"paper_bgcolor\":\"white\",\"plot_bgcolor\":\"#E5ECF6\",\"polar\":{\"angularaxis\":{\"gridcolor\":\"white\",\"linecolor\":\"white\",\"ticks\":\"\"},\"bgcolor\":\"#E5ECF6\",\"radialaxis\":{\"gridcolor\":\"white\",\"linecolor\":\"white\",\"ticks\":\"\"}},\"scene\":{\"xaxis\":{\"backgroundcolor\":\"#E5ECF6\",\"gridcolor\":\"white\",\"gridwidth\":2,\"linecolor\":\"white\",\"showbackground\":true,\"ticks\":\"\",\"zerolinecolor\":\"white\"},\"yaxis\":{\"backgroundcolor\":\"#E5ECF6\",\"gridcolor\":\"white\",\"gridwidth\":2,\"linecolor\":\"white\",\"showbackground\":true,\"ticks\":\"\",\"zerolinecolor\":\"white\"},\"zaxis\":{\"backgroundcolor\":\"#E5ECF6\",\"gridcolor\":\"white\",\"gridwidth\":2,\"linecolor\":\"white\",\"showbackground\":true,\"ticks\":\"\",\"zerolinecolor\":\"white\"}},\"shapedefaults\":{\"line\":{\"color\":\"#2a3f5f\"}},\"ternary\":{\"aaxis\":{\"gridcolor\":\"white\",\"linecolor\":\"white\",\"ticks\":\"\"},\"baxis\":{\"gridcolor\":\"white\",\"linecolor\":\"white\",\"ticks\":\"\"},\"bgcolor\":\"#E5ECF6\",\"caxis\":{\"gridcolor\":\"white\",\"linecolor\":\"white\",\"ticks\":\"\"}},\"title\":{\"x\":0.05},\"xaxis\":{\"automargin\":true,\"gridcolor\":\"white\",\"linecolor\":\"white\",\"ticks\":\"\",\"title\":{\"standoff\":15},\"zerolinecolor\":\"white\",\"zerolinewidth\":2},\"yaxis\":{\"automargin\":true,\"gridcolor\":\"white\",\"linecolor\":\"white\",\"ticks\":\"\",\"title\":{\"standoff\":15},\"zerolinecolor\":\"white\",\"zerolinewidth\":2}}},\"title\":{\"font\":{\"size\":30},\"text\":\"Ajuste de minimos cuadrados\"}},                        {\"responsive\": true}                    ).then(function(){\n",
              "                            \n",
              "var gd = document.getElementById('666f036a-268b-4593-8427-3cc6a0d7c2f1');\n",
              "var x = new MutationObserver(function (mutations, observer) {{\n",
              "        var display = window.getComputedStyle(gd).display;\n",
              "        if (!display || display === 'none') {{\n",
              "            console.log([gd, 'removed!']);\n",
              "            Plotly.purge(gd);\n",
              "            observer.disconnect();\n",
              "        }}\n",
              "}});\n",
              "\n",
              "// Listen for the removal of the full notebook cells\n",
              "var notebookContainer = gd.closest('#notebook-container');\n",
              "if (notebookContainer) {{\n",
              "    x.observe(notebookContainer, {childList: true});\n",
              "}}\n",
              "\n",
              "// Listen for the clearing of the current output cell\n",
              "var outputEl = gd.closest('.output');\n",
              "if (outputEl) {{\n",
              "    x.observe(outputEl, {childList: true});\n",
              "}}\n",
              "\n",
              "                        })                };                            </script>        </div>\n",
              "</body>\n",
              "</html>"
            ]
          },
          "metadata": {}
        },
        {
          "output_type": "stream",
          "name": "stdout",
          "text": [
            "***Polinomio\n",
            "\n"
          ]
        },
        {
          "output_type": "display_data",
          "data": {
            "text/plain": [
              "<IPython.core.display.Latex object>"
            ],
            "text/latex": "$P(x) = - 4.64656745957924 \\cdot 10^{-14} x^{7} + 2.02062155058194 \\cdot 10^{-13} x^{6} - 0.000463687050976076 x^{5} + 2.3809991753119 x^{4} - 888.07973484712 x^{3} - 14728173.9818144 x^{2} + 30474395935.1183 x - 18189361167215.7$"
          },
          "metadata": {}
        },
        {
          "output_type": "display_data",
          "data": {
            "text/html": [
              "<html>\n",
              "<head><meta charset=\"utf-8\" /></head>\n",
              "<body>\n",
              "    <div>            <script src=\"https://cdnjs.cloudflare.com/ajax/libs/mathjax/2.7.5/MathJax.js?config=TeX-AMS-MML_SVG\"></script><script type=\"text/javascript\">if (window.MathJax) {MathJax.Hub.Config({SVG: {font: \"STIX-Web\"}});}</script>                <script type=\"text/javascript\">window.PlotlyConfig = {MathJaxConfig: 'local'};</script>\n",
              "        <script src=\"https://cdn.plot.ly/plotly-2.8.3.min.js\"></script>                <div id=\"fb495366-4374-47e3-b659-37b570625f45\" class=\"plotly-graph-div\" style=\"height:525px; width:100%;\"></div>            <script type=\"text/javascript\">                                    window.PLOTLYENV=window.PLOTLYENV || {};                                    if (document.getElementById(\"fb495366-4374-47e3-b659-37b570625f45\")) {                    Plotly.newPlot(                        \"fb495366-4374-47e3-b659-37b570625f45\",                        [{\"marker\":{\"color\":\"LightSeaGreen\"},\"mode\":\"lines\",\"name\":\"P(x)\",\"x\":[1910.0,1910.5527638190954,1911.105527638191,1911.6582914572864,1912.211055276382,1912.7638190954774,1913.3165829145728,1913.8693467336684,1914.4221105527638,1914.9748743718592,1915.5276381909548,1916.0804020100502,1916.6331658291458,1917.1859296482412,1917.7386934673366,1918.2914572864322,1918.8442211055276,1919.3969849246232,1919.9497487437186,1920.502512562814,1921.0552763819096,1921.608040201005,1922.1608040201006,1922.713567839196,1923.2663316582914,1923.819095477387,1924.3718592964824,1924.9246231155778,1925.4773869346734,1926.0301507537688,1926.5829145728644,1927.1356783919598,1927.6884422110552,1928.2412060301508,1928.7939698492462,1929.3467336683418,1929.8994974874372,1930.4522613065326,1931.0050251256282,1931.5577889447236,1932.110552763819,1932.6633165829146,1933.21608040201,1933.7688442211056,1934.321608040201,1934.8743718592964,1935.427135678392,1935.9798994974874,1936.532663316583,1937.0854271356784,1937.6381909547738,1938.1909547738694,1938.7437185929648,1939.2964824120604,1939.8492462311558,1940.4020100502512,1940.9547738693468,1941.5075376884422,1942.0603015075376,1942.6130653266332,1943.1658291457286,1943.7185929648242,1944.2713567839196,1944.824120603015,1945.3768844221106,1945.929648241206,1946.4824120603016,1947.035175879397,1947.5879396984924,1948.140703517588,1948.6934673366834,1949.2462311557788,1949.7989949748744,1950.3517587939698,1950.9045226130654,1951.4572864321608,1952.0100502512562,1952.5628140703518,1953.1155778894472,1953.6683417085428,1954.2211055276382,1954.7738693467336,1955.3266331658292,1955.8793969849246,1956.43216080402,1956.9849246231156,1957.537688442211,1958.0904522613066,1958.643216080402,1959.1959798994974,1959.748743718593,1960.3015075376884,1960.854271356784,1961.4070351758794,1961.9597989949748,1962.5125628140704,1963.0653266331658,1963.6180904522612,1964.1708542713568,1964.7236180904522,1965.2763819095478,1965.8291457286432,1966.3819095477386,1966.9346733668342,1967.4874371859296,1968.0402010050252,1968.5929648241206,1969.145728643216,1969.6984924623116,1970.251256281407,1970.8040201005026,1971.356783919598,1971.9095477386934,1972.462311557789,1973.0150753768844,1973.5678391959798,1974.1206030150754,1974.6733668341708,1975.2261306532664,1975.7788944723618,1976.3316582914572,1976.8844221105528,1977.4371859296482,1977.9899497487438,1978.5427135678392,1979.0954773869346,1979.6482412060302,1980.2010050251256,1980.7537688442212,1981.3065326633166,1981.859296482412,1982.4120603015076,1982.964824120603,1983.5175879396984,1984.070351758794,1984.6231155778894,1985.175879396985,1985.7286432160804,1986.2814070351758,1986.8341708542714,1987.3869346733668,1987.9396984924624,1988.4924623115578,1989.0452261306532,1989.5979899497488,1990.1507537688442,1990.7035175879396,1991.2562814070352,1991.8090452261306,1992.3618090452262,1992.9145728643216,1993.467336683417,1994.0201005025126,1994.572864321608,1995.1256281407036,1995.678391959799,1996.2311557788944,1996.78391959799,1997.3366834170854,1997.8894472361808,1998.4422110552764,1998.9949748743718,1999.5477386934674,2000.1005025125628,2000.6532663316582,2001.2060301507538,2001.7587939698492,2002.3115577889448,2002.8643216080402,2003.4170854271356,2003.9698492462312,2004.5226130653266,2005.075376884422,2005.6281407035176,2006.180904522613,2006.7336683417086,2007.286432160804,2007.8391959798994,2008.391959798995,2008.9447236180904,2009.497487437186,2010.0502512562814,2010.6030150753768,2011.1557788944724,2011.7085427135678,2012.2613065326634,2012.8140703517588,2013.3668341708542,2013.9195979899498,2014.4723618090452,2015.0251256281408,2015.5778894472362,2016.1306532663316,2016.6834170854272,2017.2361809045226,2017.788944723618,2018.3417085427136,2018.894472361809,2019.4472361809046,2020.0],\"y\":[-4283343972.564453,-4291991566.6796875,-4300659577.412109,-4309347641.4453125,-4318055400.009766,-4326782499.080078,-4335528589.111328,-4344293325.3203125,-4353076367.443359,-4361877379.927734,-4370696031.8125,-4379531996.779297,-4388384953.1875,-4397254584.027344,-4406140576.8515625,-4415042624.001953,-4423960422.3515625,-4432893673.550781,-4441842083.779297,-4450805363.9765625,-4459783229.675781,-4468775401.166016,-4477781603.279297,-4486801565.660156,-4495835022.496094,-4504881712.800781,-4513941380.136719,-4523013772.8203125,-4532098643.816406,-4541195750.822266,-4550304856.224609,-4559425727.066406,-4568558135.107422,-4577701856.855469,-4586856673.4375,-4596022370.763672,-4605198739.425781,-4614385574.722656,-4623582676.685547,-4632789850.044922,-4642006904.255859,-4651233653.542969,-4660469916.800781,-4669715517.6875,-4678970284.5703125,-4688234050.609375,-4697506653.603516,-4706787936.205078,-4716077745.748047,-4725375934.300781,-4734682358.763672,-4743996880.703125,-4753319366.4921875,-4762649687.212891,-4771987718.808594,-4781333341.8984375,-4790686441.888672,-4800046908.9453125,-4809414638.089844,-4818789529.048828,-4828171486.291016,-4837560419.144531,-4846956241.730469,-4856358872.931641,-4865768236.332031,-4875184260.498047,-4884606878.636719,-4894036028.8125,-4903471653.919922,-4912913701.59375,-4922362124.34375,-4931816879.458984,-4941277929.041016,-4950745240.011719,-4960218784.138672,-4969698537.9609375,-4979184482.912109,-4988676605.173828,-4998174895.861328,-5007679350.8359375,-5017189970.847656,-5026706761.419922,-5036229733.064453,-5045758900.9453125,-5055294285.246094,-5064835910.910156,-5074383807.746094,-5083938010.455078,-5093498558.560547,-5103065496.498047,-5112638873.494141,-5122218743.7578125,-5131805166.240234,-5141398204.871094,-5150997928.404297,-5160604410.511719,-5170217729.724609,-5179837969.431641,-5189465217.988281,-5199099568.5859375,-5208741119.3359375,-5218389973.236328,-5228046238.171875,-5237710026.988281,-5247381457.386719,-5257060651.986328,-5266747738.306641,-5276442848.853516,-5286146120.9609375,-5295857696.980469,-5305577724.044922,-5315306354.400391,-5325043745.091797,-5334790058.115234,-5344545460.392578,-5354310123.919922,-5364084225.4609375,-5373867946.78125,-5383661474.652344,-5393465000.71875,-5403278721.6171875,-5413102838.955078,-5422937559.253906,-5432783094.029297,-5442639659.800781,-5452507477.966797,-5462386774.953125,-5472277782.142578,-5482180735.927734,-5492095877.662109,-5502023453.603516,-5511963715.146484,-5521916918.583984,-5531883325.191406,-5541863201.285156,-5551856818.095703,-5561864451.96875,-5571886384.177734,-5581922901.025391,-5591974293.8125,-5602040858.876953,-5612122897.496094,-5622220716.078125,-5632334625.964844,-5642464943.580078,-5652611990.316406,-5662776092.6328125,-5672957582.011719,-5683156794.953125,-5693374073.056641,-5703609762.873047,-5713864216.0703125,-5724137789.316406,-5734430844.365234,-5744743747.984375,-5755076872.048828,-5765430593.402344,-5775805294.074219,-5786201361.064453,-5796619186.4375,-5807059167.378906,-5817521706.146484,-5828007210.041016,-5838516091.412109,-5849048767.783203,-5859605661.693359,-5870187200.75,-5880793817.748047,-5891425950.458984,-5902084041.8515625,-5912768539.894531,-5923479897.734375,-5934218573.59375,-5944985030.832031,-5955779737.845703,-5966603168.224609,-5977455800.6328125,-5988338118.8515625,-5999250611.816406,-6010193773.529297,-6021168103.220703,-6032174105.119141,-6043212288.667969,-6054283168.490234,-6065387264.208984,-6076525100.728516,-6087697208.015625,-6098904121.2109375,-6110146380.640625,-6121424531.693359,-6132739125.044922,-6144090716.380859,-6155479866.65625,-6166907141.984375,-6178373113.578125,-6189878357.912109,-6201423456.542969,-6213008996.261719,-6224635569.0390625,-6236303772.035156],\"type\":\"scatter\"},{\"marker\":{\"color\":\"MediumPurple\",\"size\":10},\"mode\":\"markers\",\"name\":\"Puntos dados\",\"x\":[1910,1921,1930,1940,1950,1960,1970,1980,1990,1995,2000,2005,2010,2015,2020],\"y\":[15160369,14334780,16552722,19653552,25791017,34923129,48225238,66846833,81249645,91158290,97483412,103263388,112336538,119938473,126014024],\"type\":\"scatter\"}],                        {\"template\":{\"data\":{\"bar\":[{\"error_x\":{\"color\":\"#2a3f5f\"},\"error_y\":{\"color\":\"#2a3f5f\"},\"marker\":{\"line\":{\"color\":\"#E5ECF6\",\"width\":0.5},\"pattern\":{\"fillmode\":\"overlay\",\"size\":10,\"solidity\":0.2}},\"type\":\"bar\"}],\"barpolar\":[{\"marker\":{\"line\":{\"color\":\"#E5ECF6\",\"width\":0.5},\"pattern\":{\"fillmode\":\"overlay\",\"size\":10,\"solidity\":0.2}},\"type\":\"barpolar\"}],\"carpet\":[{\"aaxis\":{\"endlinecolor\":\"#2a3f5f\",\"gridcolor\":\"white\",\"linecolor\":\"white\",\"minorgridcolor\":\"white\",\"startlinecolor\":\"#2a3f5f\"},\"baxis\":{\"endlinecolor\":\"#2a3f5f\",\"gridcolor\":\"white\",\"linecolor\":\"white\",\"minorgridcolor\":\"white\",\"startlinecolor\":\"#2a3f5f\"},\"type\":\"carpet\"}],\"choropleth\":[{\"colorbar\":{\"outlinewidth\":0,\"ticks\":\"\"},\"type\":\"choropleth\"}],\"contour\":[{\"colorbar\":{\"outlinewidth\":0,\"ticks\":\"\"},\"colorscale\":[[0.0,\"#0d0887\"],[0.1111111111111111,\"#46039f\"],[0.2222222222222222,\"#7201a8\"],[0.3333333333333333,\"#9c179e\"],[0.4444444444444444,\"#bd3786\"],[0.5555555555555556,\"#d8576b\"],[0.6666666666666666,\"#ed7953\"],[0.7777777777777778,\"#fb9f3a\"],[0.8888888888888888,\"#fdca26\"],[1.0,\"#f0f921\"]],\"type\":\"contour\"}],\"contourcarpet\":[{\"colorbar\":{\"outlinewidth\":0,\"ticks\":\"\"},\"type\":\"contourcarpet\"}],\"heatmap\":[{\"colorbar\":{\"outlinewidth\":0,\"ticks\":\"\"},\"colorscale\":[[0.0,\"#0d0887\"],[0.1111111111111111,\"#46039f\"],[0.2222222222222222,\"#7201a8\"],[0.3333333333333333,\"#9c179e\"],[0.4444444444444444,\"#bd3786\"],[0.5555555555555556,\"#d8576b\"],[0.6666666666666666,\"#ed7953\"],[0.7777777777777778,\"#fb9f3a\"],[0.8888888888888888,\"#fdca26\"],[1.0,\"#f0f921\"]],\"type\":\"heatmap\"}],\"heatmapgl\":[{\"colorbar\":{\"outlinewidth\":0,\"ticks\":\"\"},\"colorscale\":[[0.0,\"#0d0887\"],[0.1111111111111111,\"#46039f\"],[0.2222222222222222,\"#7201a8\"],[0.3333333333333333,\"#9c179e\"],[0.4444444444444444,\"#bd3786\"],[0.5555555555555556,\"#d8576b\"],[0.6666666666666666,\"#ed7953\"],[0.7777777777777778,\"#fb9f3a\"],[0.8888888888888888,\"#fdca26\"],[1.0,\"#f0f921\"]],\"type\":\"heatmapgl\"}],\"histogram\":[{\"marker\":{\"pattern\":{\"fillmode\":\"overlay\",\"size\":10,\"solidity\":0.2}},\"type\":\"histogram\"}],\"histogram2d\":[{\"colorbar\":{\"outlinewidth\":0,\"ticks\":\"\"},\"colorscale\":[[0.0,\"#0d0887\"],[0.1111111111111111,\"#46039f\"],[0.2222222222222222,\"#7201a8\"],[0.3333333333333333,\"#9c179e\"],[0.4444444444444444,\"#bd3786\"],[0.5555555555555556,\"#d8576b\"],[0.6666666666666666,\"#ed7953\"],[0.7777777777777778,\"#fb9f3a\"],[0.8888888888888888,\"#fdca26\"],[1.0,\"#f0f921\"]],\"type\":\"histogram2d\"}],\"histogram2dcontour\":[{\"colorbar\":{\"outlinewidth\":0,\"ticks\":\"\"},\"colorscale\":[[0.0,\"#0d0887\"],[0.1111111111111111,\"#46039f\"],[0.2222222222222222,\"#7201a8\"],[0.3333333333333333,\"#9c179e\"],[0.4444444444444444,\"#bd3786\"],[0.5555555555555556,\"#d8576b\"],[0.6666666666666666,\"#ed7953\"],[0.7777777777777778,\"#fb9f3a\"],[0.8888888888888888,\"#fdca26\"],[1.0,\"#f0f921\"]],\"type\":\"histogram2dcontour\"}],\"mesh3d\":[{\"colorbar\":{\"outlinewidth\":0,\"ticks\":\"\"},\"type\":\"mesh3d\"}],\"parcoords\":[{\"line\":{\"colorbar\":{\"outlinewidth\":0,\"ticks\":\"\"}},\"type\":\"parcoords\"}],\"pie\":[{\"automargin\":true,\"type\":\"pie\"}],\"scatter\":[{\"marker\":{\"colorbar\":{\"outlinewidth\":0,\"ticks\":\"\"}},\"type\":\"scatter\"}],\"scatter3d\":[{\"line\":{\"colorbar\":{\"outlinewidth\":0,\"ticks\":\"\"}},\"marker\":{\"colorbar\":{\"outlinewidth\":0,\"ticks\":\"\"}},\"type\":\"scatter3d\"}],\"scattercarpet\":[{\"marker\":{\"colorbar\":{\"outlinewidth\":0,\"ticks\":\"\"}},\"type\":\"scattercarpet\"}],\"scattergeo\":[{\"marker\":{\"colorbar\":{\"outlinewidth\":0,\"ticks\":\"\"}},\"type\":\"scattergeo\"}],\"scattergl\":[{\"marker\":{\"colorbar\":{\"outlinewidth\":0,\"ticks\":\"\"}},\"type\":\"scattergl\"}],\"scattermapbox\":[{\"marker\":{\"colorbar\":{\"outlinewidth\":0,\"ticks\":\"\"}},\"type\":\"scattermapbox\"}],\"scatterpolar\":[{\"marker\":{\"colorbar\":{\"outlinewidth\":0,\"ticks\":\"\"}},\"type\":\"scatterpolar\"}],\"scatterpolargl\":[{\"marker\":{\"colorbar\":{\"outlinewidth\":0,\"ticks\":\"\"}},\"type\":\"scatterpolargl\"}],\"scatterternary\":[{\"marker\":{\"colorbar\":{\"outlinewidth\":0,\"ticks\":\"\"}},\"type\":\"scatterternary\"}],\"surface\":[{\"colorbar\":{\"outlinewidth\":0,\"ticks\":\"\"},\"colorscale\":[[0.0,\"#0d0887\"],[0.1111111111111111,\"#46039f\"],[0.2222222222222222,\"#7201a8\"],[0.3333333333333333,\"#9c179e\"],[0.4444444444444444,\"#bd3786\"],[0.5555555555555556,\"#d8576b\"],[0.6666666666666666,\"#ed7953\"],[0.7777777777777778,\"#fb9f3a\"],[0.8888888888888888,\"#fdca26\"],[1.0,\"#f0f921\"]],\"type\":\"surface\"}],\"table\":[{\"cells\":{\"fill\":{\"color\":\"#EBF0F8\"},\"line\":{\"color\":\"white\"}},\"header\":{\"fill\":{\"color\":\"#C8D4E3\"},\"line\":{\"color\":\"white\"}},\"type\":\"table\"}]},\"layout\":{\"annotationdefaults\":{\"arrowcolor\":\"#2a3f5f\",\"arrowhead\":0,\"arrowwidth\":1},\"autotypenumbers\":\"strict\",\"coloraxis\":{\"colorbar\":{\"outlinewidth\":0,\"ticks\":\"\"}},\"colorscale\":{\"diverging\":[[0,\"#8e0152\"],[0.1,\"#c51b7d\"],[0.2,\"#de77ae\"],[0.3,\"#f1b6da\"],[0.4,\"#fde0ef\"],[0.5,\"#f7f7f7\"],[0.6,\"#e6f5d0\"],[0.7,\"#b8e186\"],[0.8,\"#7fbc41\"],[0.9,\"#4d9221\"],[1,\"#276419\"]],\"sequential\":[[0.0,\"#0d0887\"],[0.1111111111111111,\"#46039f\"],[0.2222222222222222,\"#7201a8\"],[0.3333333333333333,\"#9c179e\"],[0.4444444444444444,\"#bd3786\"],[0.5555555555555556,\"#d8576b\"],[0.6666666666666666,\"#ed7953\"],[0.7777777777777778,\"#fb9f3a\"],[0.8888888888888888,\"#fdca26\"],[1.0,\"#f0f921\"]],\"sequentialminus\":[[0.0,\"#0d0887\"],[0.1111111111111111,\"#46039f\"],[0.2222222222222222,\"#7201a8\"],[0.3333333333333333,\"#9c179e\"],[0.4444444444444444,\"#bd3786\"],[0.5555555555555556,\"#d8576b\"],[0.6666666666666666,\"#ed7953\"],[0.7777777777777778,\"#fb9f3a\"],[0.8888888888888888,\"#fdca26\"],[1.0,\"#f0f921\"]]},\"colorway\":[\"#636efa\",\"#EF553B\",\"#00cc96\",\"#ab63fa\",\"#FFA15A\",\"#19d3f3\",\"#FF6692\",\"#B6E880\",\"#FF97FF\",\"#FECB52\"],\"font\":{\"color\":\"#2a3f5f\"},\"geo\":{\"bgcolor\":\"white\",\"lakecolor\":\"white\",\"landcolor\":\"#E5ECF6\",\"showlakes\":true,\"showland\":true,\"subunitcolor\":\"white\"},\"hoverlabel\":{\"align\":\"left\"},\"hovermode\":\"closest\",\"mapbox\":{\"style\":\"light\"},\"paper_bgcolor\":\"white\",\"plot_bgcolor\":\"#E5ECF6\",\"polar\":{\"angularaxis\":{\"gridcolor\":\"white\",\"linecolor\":\"white\",\"ticks\":\"\"},\"bgcolor\":\"#E5ECF6\",\"radialaxis\":{\"gridcolor\":\"white\",\"linecolor\":\"white\",\"ticks\":\"\"}},\"scene\":{\"xaxis\":{\"backgroundcolor\":\"#E5ECF6\",\"gridcolor\":\"white\",\"gridwidth\":2,\"linecolor\":\"white\",\"showbackground\":true,\"ticks\":\"\",\"zerolinecolor\":\"white\"},\"yaxis\":{\"backgroundcolor\":\"#E5ECF6\",\"gridcolor\":\"white\",\"gridwidth\":2,\"linecolor\":\"white\",\"showbackground\":true,\"ticks\":\"\",\"zerolinecolor\":\"white\"},\"zaxis\":{\"backgroundcolor\":\"#E5ECF6\",\"gridcolor\":\"white\",\"gridwidth\":2,\"linecolor\":\"white\",\"showbackground\":true,\"ticks\":\"\",\"zerolinecolor\":\"white\"}},\"shapedefaults\":{\"line\":{\"color\":\"#2a3f5f\"}},\"ternary\":{\"aaxis\":{\"gridcolor\":\"white\",\"linecolor\":\"white\",\"ticks\":\"\"},\"baxis\":{\"gridcolor\":\"white\",\"linecolor\":\"white\",\"ticks\":\"\"},\"bgcolor\":\"#E5ECF6\",\"caxis\":{\"gridcolor\":\"white\",\"linecolor\":\"white\",\"ticks\":\"\"}},\"title\":{\"x\":0.05},\"xaxis\":{\"automargin\":true,\"gridcolor\":\"white\",\"linecolor\":\"white\",\"ticks\":\"\",\"title\":{\"standoff\":15},\"zerolinecolor\":\"white\",\"zerolinewidth\":2},\"yaxis\":{\"automargin\":true,\"gridcolor\":\"white\",\"linecolor\":\"white\",\"ticks\":\"\",\"title\":{\"standoff\":15},\"zerolinecolor\":\"white\",\"zerolinewidth\":2}}},\"title\":{\"font\":{\"size\":30},\"text\":\"Ajuste de minimos cuadrados\"}},                        {\"responsive\": true}                    ).then(function(){\n",
              "                            \n",
              "var gd = document.getElementById('fb495366-4374-47e3-b659-37b570625f45');\n",
              "var x = new MutationObserver(function (mutations, observer) {{\n",
              "        var display = window.getComputedStyle(gd).display;\n",
              "        if (!display || display === 'none') {{\n",
              "            console.log([gd, 'removed!']);\n",
              "            Plotly.purge(gd);\n",
              "            observer.disconnect();\n",
              "        }}\n",
              "}});\n",
              "\n",
              "// Listen for the removal of the full notebook cells\n",
              "var notebookContainer = gd.closest('#notebook-container');\n",
              "if (notebookContainer) {{\n",
              "    x.observe(notebookContainer, {childList: true});\n",
              "}}\n",
              "\n",
              "// Listen for the clearing of the current output cell\n",
              "var outputEl = gd.closest('.output');\n",
              "if (outputEl) {{\n",
              "    x.observe(outputEl, {childList: true});\n",
              "}}\n",
              "\n",
              "                        })                };                            </script>        </div>\n",
              "</body>\n",
              "</html>"
            ]
          },
          "metadata": {}
        },
        {
          "output_type": "stream",
          "name": "stdout",
          "text": [
            "***Polinomio\n",
            "\n"
          ]
        },
        {
          "output_type": "display_data",
          "data": {
            "text/plain": [
              "<IPython.core.display.Latex object>"
            ],
            "text/latex": "$P(x) = - 9.447222401754 \\cdot 10^{-14} x^{10} + 1.02721740722742 \\cdot 10^{-14} x^{9} - 6.07843590628998 \\cdot 10^{-14} x^{8} + 1.37023554454122 \\cdot 10^{-14} x^{7} + 1.58712634430699 \\cdot 10^{-13} x^{6} - 0.000470605972580413 x^{5} + 2.3803434749543 x^{4} - 622.192920304256 x^{3} - 15755760.509764 x^{2} + 31968548826.8608 x - 18962518757368.2$"
          },
          "metadata": {}
        },
        {
          "output_type": "display_data",
          "data": {
            "text/html": [
              "<html>\n",
              "<head><meta charset=\"utf-8\" /></head>\n",
              "<body>\n",
              "    <div>            <script src=\"https://cdnjs.cloudflare.com/ajax/libs/mathjax/2.7.5/MathJax.js?config=TeX-AMS-MML_SVG\"></script><script type=\"text/javascript\">if (window.MathJax) {MathJax.Hub.Config({SVG: {font: \"STIX-Web\"}});}</script>                <script type=\"text/javascript\">window.PlotlyConfig = {MathJaxConfig: 'local'};</script>\n",
              "        <script src=\"https://cdn.plot.ly/plotly-2.8.3.min.js\"></script>                <div id=\"5e6d86bb-9da7-4068-a178-c22e5ec09025\" class=\"plotly-graph-div\" style=\"height:525px; width:100%;\"></div>            <script type=\"text/javascript\">                                    window.PLOTLYENV=window.PLOTLYENV || {};                                    if (document.getElementById(\"5e6d86bb-9da7-4068-a178-c22e5ec09025\")) {                    Plotly.newPlot(                        \"5e6d86bb-9da7-4068-a178-c22e5ec09025\",                        [{\"marker\":{\"color\":\"LightSeaGreen\"},\"mode\":\"lines\",\"name\":\"P(x)\",\"x\":[1910.0,1910.5527638190954,1911.105527638191,1911.6582914572864,1912.211055276382,1912.7638190954774,1913.3165829145728,1913.8693467336684,1914.4221105527638,1914.9748743718592,1915.5276381909548,1916.0804020100502,1916.6331658291458,1917.1859296482412,1917.7386934673366,1918.2914572864322,1918.8442211055276,1919.3969849246232,1919.9497487437186,1920.502512562814,1921.0552763819096,1921.608040201005,1922.1608040201006,1922.713567839196,1923.2663316582914,1923.819095477387,1924.3718592964824,1924.9246231155778,1925.4773869346734,1926.0301507537688,1926.5829145728644,1927.1356783919598,1927.6884422110552,1928.2412060301508,1928.7939698492462,1929.3467336683418,1929.8994974874372,1930.4522613065326,1931.0050251256282,1931.5577889447236,1932.110552763819,1932.6633165829146,1933.21608040201,1933.7688442211056,1934.321608040201,1934.8743718592964,1935.427135678392,1935.9798994974874,1936.532663316583,1937.0854271356784,1937.6381909547738,1938.1909547738694,1938.7437185929648,1939.2964824120604,1939.8492462311558,1940.4020100502512,1940.9547738693468,1941.5075376884422,1942.0603015075376,1942.6130653266332,1943.1658291457286,1943.7185929648242,1944.2713567839196,1944.824120603015,1945.3768844221106,1945.929648241206,1946.4824120603016,1947.035175879397,1947.5879396984924,1948.140703517588,1948.6934673366834,1949.2462311557788,1949.7989949748744,1950.3517587939698,1950.9045226130654,1951.4572864321608,1952.0100502512562,1952.5628140703518,1953.1155778894472,1953.6683417085428,1954.2211055276382,1954.7738693467336,1955.3266331658292,1955.8793969849246,1956.43216080402,1956.9849246231156,1957.537688442211,1958.0904522613066,1958.643216080402,1959.1959798994974,1959.748743718593,1960.3015075376884,1960.854271356784,1961.4070351758794,1961.9597989949748,1962.5125628140704,1963.0653266331658,1963.6180904522612,1964.1708542713568,1964.7236180904522,1965.2763819095478,1965.8291457286432,1966.3819095477386,1966.9346733668342,1967.4874371859296,1968.0402010050252,1968.5929648241206,1969.145728643216,1969.6984924623116,1970.251256281407,1970.8040201005026,1971.356783919598,1971.9095477386934,1972.462311557789,1973.0150753768844,1973.5678391959798,1974.1206030150754,1974.6733668341708,1975.2261306532664,1975.7788944723618,1976.3316582914572,1976.8844221105528,1977.4371859296482,1977.9899497487438,1978.5427135678392,1979.0954773869346,1979.6482412060302,1980.2010050251256,1980.7537688442212,1981.3065326633166,1981.859296482412,1982.4120603015076,1982.964824120603,1983.5175879396984,1984.070351758794,1984.6231155778894,1985.175879396985,1985.7286432160804,1986.2814070351758,1986.8341708542714,1987.3869346733668,1987.9396984924624,1988.4924623115578,1989.0452261306532,1989.5979899497488,1990.1507537688442,1990.7035175879396,1991.2562814070352,1991.8090452261306,1992.3618090452262,1992.9145728643216,1993.467336683417,1994.0201005025126,1994.572864321608,1995.1256281407036,1995.678391959799,1996.2311557788944,1996.78391959799,1997.3366834170854,1997.8894472361808,1998.4422110552764,1998.9949748743718,1999.5477386934674,2000.1005025125628,2000.6532663316582,2001.2060301507538,2001.7587939698492,2002.3115577889448,2002.8643216080402,2003.4170854271356,2003.9698492462312,2004.5226130653266,2005.075376884422,2005.6281407035176,2006.180904522613,2006.7336683417086,2007.286432160804,2007.8391959798994,2008.391959798995,2008.9447236180904,2009.497487437186,2010.0502512562814,2010.6030150753768,2011.1557788944724,2011.7085427135678,2012.2613065326634,2012.8140703517588,2013.3668341708542,2013.9195979899498,2014.4723618090452,2015.0251256281408,2015.5778894472362,2016.1306532663316,2016.6834170854272,2017.2361809045226,2017.788944723618,2018.3417085427136,2018.894472361809,2019.4472361809046,2020.0],\"y\":[-6.1039808765517365e+19,-6.121669234822241e+19,-6.139403711956529e+19,-6.157184414808735e+19,-6.175011450449586e+19,-6.19288492616672e+19,-6.210804949465113e+19,-6.228771628067439e+19,-6.246785069914414e+19,-6.264845383165236e+19,-6.282952676197925e+19,-6.301107057609689e+19,-6.319308636217354e+19,-6.337557521057685e+19,-6.355853821387816e+19,-6.3741976466856215e+19,-6.3925891066500555e+19,-6.411028311201605e+19,-6.429515370482607e+19,-6.448050394857678e+19,-6.46663349491409e+19,-6.485264781462115e+19,-6.503944365535484e+19,-6.522672358391694e+19,-6.541448871512458e+19,-6.560274016604063e+19,-6.579147905597742e+19,-6.598070650650104e+19,-6.6170423641435e+19,-6.636063158686385e+19,-6.655133147113774e+19,-6.674252442487556e+19,-6.693421158096948e+19,-6.712639407458866e+19,-6.7319073043182805e+19,-6.751224962648682e+19,-6.770592496652392e+19,-6.790010020761032e+19,-6.809477649635878e+19,-6.8289954981682405e+19,-6.848563681479903e+19,-6.8681823149234995e+19,-6.887851514082879e+19,-6.907571394773569e+19,-6.927342073043102e+19,-6.947163665171472e+19,-6.967036287671507e+19,-6.986960057289251e+19,-7.006935091004414e+19,-7.026961506030711e+19,-7.047039419816315e+19,-7.067168950044245e+19,-7.087350214632735e+19,-7.107583331735693e+19,-7.127868419743047e+19,-7.1482055972812055e+19,-7.168594983213424e+19,-7.189036696640202e+19,-7.209530856899734e+19,-7.230077583568284e+19,-7.250676996460577e+19,-7.27132921563026e+19,-7.2920343613702414e+19,-7.312792554213161e+19,-7.3336039149317775e+19,-7.354468564539346e+19,-7.375386624290094e+19,-7.396358215679556e+19,-7.417383460445063e+19,-7.438462480566102e+19,-7.459595398264724e+19,-7.480782336006008e+19,-7.502023416498438e+19,-7.523318762694294e+19,-7.544668497790139e+19,-7.566072745227151e+19,-7.587531628691613e+19,-7.609045272115297e+19,-7.630613799675847e+19,-7.652237335797282e+19,-7.67391600515031e+19,-7.695649932652852e+19,-7.717439243470394e+19,-7.739284063016406e+19,-7.761184516952808e+19,-7.783140731190369e+19,-7.805152831889098e+19,-7.82722094545873e+19,-7.849345198559078e+19,-7.871525718100527e+19,-7.893762631244418e+19,-7.91605606540346e+19,-7.93840614824221e+19,-7.96081300767743e+19,-7.98327677187858e+19,-8.005797569268208e+19,-8.028375528522372e+19,-8.051010778571103e+19,-8.07370344859881e+19,-8.096453668044695e+19,-8.119261566603238e+19,-8.142127274224556e+19,-8.1650509211149e+19,-8.188032637737062e+19,-8.211072554810771e+19,-8.234170803313215e+19,-8.257327514479365e+19,-8.28054281980251e+19,-8.303816851034644e+19,-8.327149740186883e+19,-8.350541619529956e+19,-8.373992621594585e+19,-8.397502879171979e+19,-8.421072525314238e+19,-8.444701693334774e+19,-8.468390516808802e+19,-8.492139129573766e+19,-8.51594766572972e+19,-8.539816259639873e+19,-8.563745045930928e+19,-8.587734159493612e+19,-8.611783735483071e+19,-8.6358939093193e+19,-8.66006481668765e+19,-8.6842965935392e+19,-8.708589376091256e+19,-8.7329433008278e+19,-8.757358504499867e+19,-8.781835124126096e+19,-8.806373296993078e+19,-8.830973160655898e+19,-8.855634852938518e+19,-8.880358511934238e+19,-8.905144276006176e+19,-8.929992283787711e+19,-8.954902674182894e+19,-8.979875586366967e+19,-9.004911159786753e+19,-9.030009534161158e+19,-9.055170849481623e+19,-9.080395246012524e+19,-9.105682864291707e+19,-9.131033845130879e+19,-9.156448329616107e+19,-9.181926459108273e+19,-9.207468375243491e+19,-9.233074219933616e+19,-9.258744135366697e+19,-9.28447826400739e+19,-9.310276748597495e+19,-9.336139732156339e+19,-9.362067357981301e+19,-9.388059769648259e+19,-9.414117111012013e+19,-9.44023952620682e+19,-9.466427159646781e+19,-9.49268015602638e+19,-9.518998660320915e+19,-9.545382817786942e+19,-9.571832773962791e+19,-9.598348674669016e+19,-9.624930666008827e+19,-9.651578894368637e+19,-9.678293506418436e+19,-9.705074649112356e+19,-9.731922469689095e+19,-9.758837115672358e+19,-9.785818734871413e+19,-9.812867475381476e+19,-9.83998348558425e+19,-9.867166914148388e+19,-9.894417910029913e+19,-9.921736622472777e+19,-9.9491232010093e+19,-9.976577795460607e+19,-1.0004100555937192e+20,-1.003169163283931e+20,-1.005935117685752e+20,-1.0087079338973151e+20,-1.0114876270458733e+20,-1.0142742122878568e+20,-1.0170677048089115e+20,-1.0198681198239559e+20,-1.0226754725772245e+20,-1.0254897783423151e+20,-1.0283110524222431e+20,-1.0311393101494826e+20,-1.0339745668860215e+20,-1.0368168380234079e+20,-1.0396661389827949e+20,-1.0425224852149974e+20,-1.0453858922005324e+20,-1.0482563754496749e+20,-1.0511339505025042e+20,-1.0540186329289495e+20,-1.0569104383288456e+20,-1.0598093823319795e+20,-1.0627154805981346e+20,-1.06562874881715e+20,-1.0685492027089594e+20],\"type\":\"scatter\"},{\"marker\":{\"color\":\"MediumPurple\",\"size\":10},\"mode\":\"markers\",\"name\":\"Puntos dados\",\"x\":[1910,1921,1930,1940,1950,1960,1970,1980,1990,1995,2000,2005,2010,2015,2020],\"y\":[15160369,14334780,16552722,19653552,25791017,34923129,48225238,66846833,81249645,91158290,97483412,103263388,112336538,119938473,126014024],\"type\":\"scatter\"}],                        {\"template\":{\"data\":{\"bar\":[{\"error_x\":{\"color\":\"#2a3f5f\"},\"error_y\":{\"color\":\"#2a3f5f\"},\"marker\":{\"line\":{\"color\":\"#E5ECF6\",\"width\":0.5},\"pattern\":{\"fillmode\":\"overlay\",\"size\":10,\"solidity\":0.2}},\"type\":\"bar\"}],\"barpolar\":[{\"marker\":{\"line\":{\"color\":\"#E5ECF6\",\"width\":0.5},\"pattern\":{\"fillmode\":\"overlay\",\"size\":10,\"solidity\":0.2}},\"type\":\"barpolar\"}],\"carpet\":[{\"aaxis\":{\"endlinecolor\":\"#2a3f5f\",\"gridcolor\":\"white\",\"linecolor\":\"white\",\"minorgridcolor\":\"white\",\"startlinecolor\":\"#2a3f5f\"},\"baxis\":{\"endlinecolor\":\"#2a3f5f\",\"gridcolor\":\"white\",\"linecolor\":\"white\",\"minorgridcolor\":\"white\",\"startlinecolor\":\"#2a3f5f\"},\"type\":\"carpet\"}],\"choropleth\":[{\"colorbar\":{\"outlinewidth\":0,\"ticks\":\"\"},\"type\":\"choropleth\"}],\"contour\":[{\"colorbar\":{\"outlinewidth\":0,\"ticks\":\"\"},\"colorscale\":[[0.0,\"#0d0887\"],[0.1111111111111111,\"#46039f\"],[0.2222222222222222,\"#7201a8\"],[0.3333333333333333,\"#9c179e\"],[0.4444444444444444,\"#bd3786\"],[0.5555555555555556,\"#d8576b\"],[0.6666666666666666,\"#ed7953\"],[0.7777777777777778,\"#fb9f3a\"],[0.8888888888888888,\"#fdca26\"],[1.0,\"#f0f921\"]],\"type\":\"contour\"}],\"contourcarpet\":[{\"colorbar\":{\"outlinewidth\":0,\"ticks\":\"\"},\"type\":\"contourcarpet\"}],\"heatmap\":[{\"colorbar\":{\"outlinewidth\":0,\"ticks\":\"\"},\"colorscale\":[[0.0,\"#0d0887\"],[0.1111111111111111,\"#46039f\"],[0.2222222222222222,\"#7201a8\"],[0.3333333333333333,\"#9c179e\"],[0.4444444444444444,\"#bd3786\"],[0.5555555555555556,\"#d8576b\"],[0.6666666666666666,\"#ed7953\"],[0.7777777777777778,\"#fb9f3a\"],[0.8888888888888888,\"#fdca26\"],[1.0,\"#f0f921\"]],\"type\":\"heatmap\"}],\"heatmapgl\":[{\"colorbar\":{\"outlinewidth\":0,\"ticks\":\"\"},\"colorscale\":[[0.0,\"#0d0887\"],[0.1111111111111111,\"#46039f\"],[0.2222222222222222,\"#7201a8\"],[0.3333333333333333,\"#9c179e\"],[0.4444444444444444,\"#bd3786\"],[0.5555555555555556,\"#d8576b\"],[0.6666666666666666,\"#ed7953\"],[0.7777777777777778,\"#fb9f3a\"],[0.8888888888888888,\"#fdca26\"],[1.0,\"#f0f921\"]],\"type\":\"heatmapgl\"}],\"histogram\":[{\"marker\":{\"pattern\":{\"fillmode\":\"overlay\",\"size\":10,\"solidity\":0.2}},\"type\":\"histogram\"}],\"histogram2d\":[{\"colorbar\":{\"outlinewidth\":0,\"ticks\":\"\"},\"colorscale\":[[0.0,\"#0d0887\"],[0.1111111111111111,\"#46039f\"],[0.2222222222222222,\"#7201a8\"],[0.3333333333333333,\"#9c179e\"],[0.4444444444444444,\"#bd3786\"],[0.5555555555555556,\"#d8576b\"],[0.6666666666666666,\"#ed7953\"],[0.7777777777777778,\"#fb9f3a\"],[0.8888888888888888,\"#fdca26\"],[1.0,\"#f0f921\"]],\"type\":\"histogram2d\"}],\"histogram2dcontour\":[{\"colorbar\":{\"outlinewidth\":0,\"ticks\":\"\"},\"colorscale\":[[0.0,\"#0d0887\"],[0.1111111111111111,\"#46039f\"],[0.2222222222222222,\"#7201a8\"],[0.3333333333333333,\"#9c179e\"],[0.4444444444444444,\"#bd3786\"],[0.5555555555555556,\"#d8576b\"],[0.6666666666666666,\"#ed7953\"],[0.7777777777777778,\"#fb9f3a\"],[0.8888888888888888,\"#fdca26\"],[1.0,\"#f0f921\"]],\"type\":\"histogram2dcontour\"}],\"mesh3d\":[{\"colorbar\":{\"outlinewidth\":0,\"ticks\":\"\"},\"type\":\"mesh3d\"}],\"parcoords\":[{\"line\":{\"colorbar\":{\"outlinewidth\":0,\"ticks\":\"\"}},\"type\":\"parcoords\"}],\"pie\":[{\"automargin\":true,\"type\":\"pie\"}],\"scatter\":[{\"marker\":{\"colorbar\":{\"outlinewidth\":0,\"ticks\":\"\"}},\"type\":\"scatter\"}],\"scatter3d\":[{\"line\":{\"colorbar\":{\"outlinewidth\":0,\"ticks\":\"\"}},\"marker\":{\"colorbar\":{\"outlinewidth\":0,\"ticks\":\"\"}},\"type\":\"scatter3d\"}],\"scattercarpet\":[{\"marker\":{\"colorbar\":{\"outlinewidth\":0,\"ticks\":\"\"}},\"type\":\"scattercarpet\"}],\"scattergeo\":[{\"marker\":{\"colorbar\":{\"outlinewidth\":0,\"ticks\":\"\"}},\"type\":\"scattergeo\"}],\"scattergl\":[{\"marker\":{\"colorbar\":{\"outlinewidth\":0,\"ticks\":\"\"}},\"type\":\"scattergl\"}],\"scattermapbox\":[{\"marker\":{\"colorbar\":{\"outlinewidth\":0,\"ticks\":\"\"}},\"type\":\"scattermapbox\"}],\"scatterpolar\":[{\"marker\":{\"colorbar\":{\"outlinewidth\":0,\"ticks\":\"\"}},\"type\":\"scatterpolar\"}],\"scatterpolargl\":[{\"marker\":{\"colorbar\":{\"outlinewidth\":0,\"ticks\":\"\"}},\"type\":\"scatterpolargl\"}],\"scatterternary\":[{\"marker\":{\"colorbar\":{\"outlinewidth\":0,\"ticks\":\"\"}},\"type\":\"scatterternary\"}],\"surface\":[{\"colorbar\":{\"outlinewidth\":0,\"ticks\":\"\"},\"colorscale\":[[0.0,\"#0d0887\"],[0.1111111111111111,\"#46039f\"],[0.2222222222222222,\"#7201a8\"],[0.3333333333333333,\"#9c179e\"],[0.4444444444444444,\"#bd3786\"],[0.5555555555555556,\"#d8576b\"],[0.6666666666666666,\"#ed7953\"],[0.7777777777777778,\"#fb9f3a\"],[0.8888888888888888,\"#fdca26\"],[1.0,\"#f0f921\"]],\"type\":\"surface\"}],\"table\":[{\"cells\":{\"fill\":{\"color\":\"#EBF0F8\"},\"line\":{\"color\":\"white\"}},\"header\":{\"fill\":{\"color\":\"#C8D4E3\"},\"line\":{\"color\":\"white\"}},\"type\":\"table\"}]},\"layout\":{\"annotationdefaults\":{\"arrowcolor\":\"#2a3f5f\",\"arrowhead\":0,\"arrowwidth\":1},\"autotypenumbers\":\"strict\",\"coloraxis\":{\"colorbar\":{\"outlinewidth\":0,\"ticks\":\"\"}},\"colorscale\":{\"diverging\":[[0,\"#8e0152\"],[0.1,\"#c51b7d\"],[0.2,\"#de77ae\"],[0.3,\"#f1b6da\"],[0.4,\"#fde0ef\"],[0.5,\"#f7f7f7\"],[0.6,\"#e6f5d0\"],[0.7,\"#b8e186\"],[0.8,\"#7fbc41\"],[0.9,\"#4d9221\"],[1,\"#276419\"]],\"sequential\":[[0.0,\"#0d0887\"],[0.1111111111111111,\"#46039f\"],[0.2222222222222222,\"#7201a8\"],[0.3333333333333333,\"#9c179e\"],[0.4444444444444444,\"#bd3786\"],[0.5555555555555556,\"#d8576b\"],[0.6666666666666666,\"#ed7953\"],[0.7777777777777778,\"#fb9f3a\"],[0.8888888888888888,\"#fdca26\"],[1.0,\"#f0f921\"]],\"sequentialminus\":[[0.0,\"#0d0887\"],[0.1111111111111111,\"#46039f\"],[0.2222222222222222,\"#7201a8\"],[0.3333333333333333,\"#9c179e\"],[0.4444444444444444,\"#bd3786\"],[0.5555555555555556,\"#d8576b\"],[0.6666666666666666,\"#ed7953\"],[0.7777777777777778,\"#fb9f3a\"],[0.8888888888888888,\"#fdca26\"],[1.0,\"#f0f921\"]]},\"colorway\":[\"#636efa\",\"#EF553B\",\"#00cc96\",\"#ab63fa\",\"#FFA15A\",\"#19d3f3\",\"#FF6692\",\"#B6E880\",\"#FF97FF\",\"#FECB52\"],\"font\":{\"color\":\"#2a3f5f\"},\"geo\":{\"bgcolor\":\"white\",\"lakecolor\":\"white\",\"landcolor\":\"#E5ECF6\",\"showlakes\":true,\"showland\":true,\"subunitcolor\":\"white\"},\"hoverlabel\":{\"align\":\"left\"},\"hovermode\":\"closest\",\"mapbox\":{\"style\":\"light\"},\"paper_bgcolor\":\"white\",\"plot_bgcolor\":\"#E5ECF6\",\"polar\":{\"angularaxis\":{\"gridcolor\":\"white\",\"linecolor\":\"white\",\"ticks\":\"\"},\"bgcolor\":\"#E5ECF6\",\"radialaxis\":{\"gridcolor\":\"white\",\"linecolor\":\"white\",\"ticks\":\"\"}},\"scene\":{\"xaxis\":{\"backgroundcolor\":\"#E5ECF6\",\"gridcolor\":\"white\",\"gridwidth\":2,\"linecolor\":\"white\",\"showbackground\":true,\"ticks\":\"\",\"zerolinecolor\":\"white\"},\"yaxis\":{\"backgroundcolor\":\"#E5ECF6\",\"gridcolor\":\"white\",\"gridwidth\":2,\"linecolor\":\"white\",\"showbackground\":true,\"ticks\":\"\",\"zerolinecolor\":\"white\"},\"zaxis\":{\"backgroundcolor\":\"#E5ECF6\",\"gridcolor\":\"white\",\"gridwidth\":2,\"linecolor\":\"white\",\"showbackground\":true,\"ticks\":\"\",\"zerolinecolor\":\"white\"}},\"shapedefaults\":{\"line\":{\"color\":\"#2a3f5f\"}},\"ternary\":{\"aaxis\":{\"gridcolor\":\"white\",\"linecolor\":\"white\",\"ticks\":\"\"},\"baxis\":{\"gridcolor\":\"white\",\"linecolor\":\"white\",\"ticks\":\"\"},\"bgcolor\":\"#E5ECF6\",\"caxis\":{\"gridcolor\":\"white\",\"linecolor\":\"white\",\"ticks\":\"\"}},\"title\":{\"x\":0.05},\"xaxis\":{\"automargin\":true,\"gridcolor\":\"white\",\"linecolor\":\"white\",\"ticks\":\"\",\"title\":{\"standoff\":15},\"zerolinecolor\":\"white\",\"zerolinewidth\":2},\"yaxis\":{\"automargin\":true,\"gridcolor\":\"white\",\"linecolor\":\"white\",\"ticks\":\"\",\"title\":{\"standoff\":15},\"zerolinecolor\":\"white\",\"zerolinewidth\":2}}},\"title\":{\"font\":{\"size\":30},\"text\":\"Ajuste de minimos cuadrados\"}},                        {\"responsive\": true}                    ).then(function(){\n",
              "                            \n",
              "var gd = document.getElementById('5e6d86bb-9da7-4068-a178-c22e5ec09025');\n",
              "var x = new MutationObserver(function (mutations, observer) {{\n",
              "        var display = window.getComputedStyle(gd).display;\n",
              "        if (!display || display === 'none') {{\n",
              "            console.log([gd, 'removed!']);\n",
              "            Plotly.purge(gd);\n",
              "            observer.disconnect();\n",
              "        }}\n",
              "}});\n",
              "\n",
              "// Listen for the removal of the full notebook cells\n",
              "var notebookContainer = gd.closest('#notebook-container');\n",
              "if (notebookContainer) {{\n",
              "    x.observe(notebookContainer, {childList: true});\n",
              "}}\n",
              "\n",
              "// Listen for the clearing of the current output cell\n",
              "var outputEl = gd.closest('.output');\n",
              "if (outputEl) {{\n",
              "    x.observe(outputEl, {childList: true});\n",
              "}}\n",
              "\n",
              "                        })                };                            </script>        </div>\n",
              "</body>\n",
              "</html>"
            ]
          },
          "metadata": {}
        }
      ]
    },
    {
      "cell_type": "markdown",
      "source": [
        "c) ¿Qué polinomio es mejor para ajustar los datos?\n",
        "\n",
        "El polonimio que ajusta mejor los datos será el de grado 3:\n",
        "$P(x) = −101.476768859614x^3 +607458.716188572x^2−1210532957.21238x+803141869459.168$\n",
        "Dado que la matriz de Vandermonde está mal condicionada, entonces los polinomios de grado 6 para delante ya no ajustan correctamente.\n",
        "\n",
        "d) ¿Cuál es la tendencia del crecimiento de la población mexicana?\n",
        "\n",
        "La población mexicana ha aumentado, es decir su tendencia de crecimiento va a la alta."
      ],
      "metadata": {
        "id": "vK5-pZwYMEWB"
      }
    },
    {
      "cell_type": "markdown",
      "source": [
        "### <font color=greenn> **Integración Numérica**\n",
        "**Ejercicio 4.** El archivo “industria-construccion.cvs” contiene los datos del valor de la producción (en miles de pesos) de la industria de la construcción del país, de enero de 2006 a marzo de 2022. Para obtener el valor total acumulado de la producción debida a la construcción de manera aproximadamente continua podemos calcular una integral numérica. Entonces, realiza lo siguiente:\n",
        "\n",
        "a) Elabora un programa que calcule la integral numérica por medio de una regla de integración compuesta. Utiliza la regla de integración compuesta de tu preferencia; asigna el nodo $x = 0$ al mes de enero de 2006, el nodo $x = 1$ al mes de febrero de 2006, y así sucesivamente."
      ],
      "metadata": {
        "id": "M0O8GpqTczTU"
      }
    },
    {
      "cell_type": "code",
      "source": [
        "construccion_ruta = 'https://raw.githubusercontent.com/Alberto0410/Proyecto-Final-An-lisis-Num-rico/main/industria_construccion.csv'\n",
        "construccion = pd.read_csv(construccion_ruta, encoding = 'latin-1')\n",
        "\n",
        "#Eliminamos los NaN\n",
        "construccion = construccion[:-5]\n",
        "\n",
        "#Asociamos a cada mes un numero\n",
        "construccion['Periodos_num'] = [i for i in range(len(construccion))]\n",
        "\n",
        "#Usando la regla del trapecio con h = 1, pues entre cada mes hay un natural\n",
        "valores = np.array(construccion['Indicadores económicos'])\n",
        "valores[0] = (1/2)*valores[0]\n",
        "valores[-1] = (1/2)*valores[-1]\n",
        "\n",
        "integral = sum(valores)\n",
        "print(integral)"
      ],
      "metadata": {
        "colab": {
          "base_uri": "https://localhost:8080/"
        },
        "id": "eY4kQPTJ5i4Y",
        "outputId": "035ba99b-e57c-4dfc-8f7b-4307c06c300f"
      },
      "execution_count": null,
      "outputs": [
        {
          "output_type": "stream",
          "name": "stdout",
          "text": [
            "6353482838.514997\n"
          ]
        }
      ]
    },
    {
      "cell_type": "markdown",
      "source": [
        "La integral mediante la regla del trapecio compuesta da un resultado de $6353482838.514997$"
      ],
      "metadata": {
        "id": "nJDOyC5z_sXv"
      }
    },
    {
      "cell_type": "markdown",
      "source": [
        "b) Calcula el valor total de la producción por construcción simplemente sumando los valores mensuales desde enero de 2006 a marzo de 2022."
      ],
      "metadata": {
        "id": "Ez0Ydmtu5jiv"
      }
    },
    {
      "cell_type": "code",
      "source": [
        "valor_total = sum(construccion['Indicadores económicos'])\n",
        "print(valor_total)"
      ],
      "metadata": {
        "colab": {
          "base_uri": "https://localhost:8080/"
        },
        "id": "w7Nf66jU5n2j",
        "outputId": "62b97bfa-3691-4e13-fc41-345ac995d168"
      },
      "execution_count": null,
      "outputs": [
        {
          "output_type": "stream",
          "name": "stdout",
          "text": [
            "6383374345.769996\n"
          ]
        }
      ]
    },
    {
      "cell_type": "markdown",
      "source": [
        "c) Compara los resultados de a) y b).\n",
        "\n",
        "El valor total de la producción por construcción es claramente mayor al valor de la integral por el método de la regla compuesta del trapecio. Lo anterior se debe a que, por construcción de la regla, multiplicamos el primer y último valor de la función por $1/2$, lo cual hace que al sumar todo nos de un valor más chico a comparación de si sumamos todo sin multiplicar por $1/2$ el primer y último valor"
      ],
      "metadata": {
        "id": "RCaGg68C5oRT"
      }
    }
  ]
}